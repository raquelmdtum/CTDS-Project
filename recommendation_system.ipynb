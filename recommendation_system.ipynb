{
  "cells": [
    {
      "cell_type": "markdown",
      "metadata": {
        "id": "bnyS_WOkpIv_"
      },
      "source": [
        "# 02807 Computational Tools for Data Science - Final Project"
      ]
    },
    {
      "cell_type": "markdown",
      "metadata": {
        "id": "5DRiM5VspIwD"
      },
      "source": [
        "Group members:\n",
        " - Ana Marija Pavičić (s232468)\n",
        " - Anna Sky Kastl Jensen (s194824)\n",
        " - Raquel Moleiro Marques (s243636)\n",
        " - Sree Keerthi Desu (s243933)"
      ]
    },
    {
      "cell_type": "markdown",
      "metadata": {
        "id": "a0KvnpcaiPK_"
      },
      "source": [
        "#### Imports"
      ]
    },
    {
      "cell_type": "code",
      "execution_count": 2,
      "metadata": {
        "colab": {
          "base_uri": "https://localhost:8080/"
        },
        "id": "LYmzlkJRiRdr",
        "outputId": "ce3ea3b2-5202-4298-d756-c55ca91b5ee1"
      },
      "outputs": [
        {
          "output_type": "stream",
          "name": "stderr",
          "text": [
            "[nltk_data] Downloading package vader_lexicon to /root/nltk_data...\n"
          ]
        }
      ],
      "source": [
        "%%capture\n",
        "!pip install nbimporter\n",
        "from imports import *"
      ]
    },
    {
      "cell_type": "markdown",
      "metadata": {
        "id": "D7ezOvUCpIwG"
      },
      "source": [
        "# 1. Data pre-processing"
      ]
    },
    {
      "cell_type": "code",
      "execution_count": 3,
      "metadata": {
        "colab": {
          "base_uri": "https://localhost:8080/"
        },
        "id": "Nod0l_DZpIwH",
        "outputId": "2a2d1cf2-44c6-410e-f56c-e6c39d54edfd"
      },
      "outputs": [
        {
          "output_type": "stream",
          "name": "stderr",
          "text": [
            "/usr/local/lib/python3.10/dist-packages/ipykernel/ipkernel.py:283: DeprecationWarning:\n",
            "\n",
            "`should_run_async` will not call `transform_cell` automatically in the future. Please pass the result to `transformed_cell` argument and any exception that happen during thetransform in `preprocessing_exc_tuple` in IPython 7.17 and above.\n",
            "\n"
          ]
        }
      ],
      "source": [
        "# Data paths\n",
        "raw_data_directory = 'data'\n",
        "raw_data_path = 'data/product_info.csv'\n",
        "processed_data_directory = 'processed_data'\n",
        "processed_data_path = processed_data_directory + '/skincare.csv'"
      ]
    },
    {
      "cell_type": "markdown",
      "metadata": {
        "id": "0fOtGje1pIwH"
      },
      "source": [
        "## Data Cleaning"
      ]
    },
    {
      "cell_type": "code",
      "execution_count": 4,
      "metadata": {
        "colab": {
          "base_uri": "https://localhost:8080/"
        },
        "id": "vAFzGz0ApIwI",
        "outputId": "c9a724a3-2b94-4850-cd7c-f2cbb1b6f2ab"
      },
      "outputs": [
        {
          "output_type": "stream",
          "name": "stderr",
          "text": [
            "/usr/local/lib/python3.10/dist-packages/ipykernel/ipkernel.py:283: DeprecationWarning:\n",
            "\n",
            "`should_run_async` will not call `transform_cell` automatically in the future. Please pass the result to `transformed_cell` argument and any exception that happen during thetransform in `preprocessing_exc_tuple` in IPython 7.17 and above.\n",
            "\n"
          ]
        },
        {
          "output_type": "stream",
          "name": "stdout",
          "text": [
            "Skin care data size: 2420\n",
            "Skin care data size after removing empty highlights: 2003\n",
            "Skin care data size after removing empty ingredients: 1927\n",
            "Size of skincare data after removing 'mini' from product names (case-insensitive): 1743\n",
            "Size of skincare data after removing 'limited edition' from product names (case-insensitive): 1741\n",
            "Skin care data size after removing 'Value & Gift Sets' secondary_category: 1583\n"
          ]
        }
      ],
      "source": [
        "# Read all products info\n",
        "df = pd.read_csv(raw_data_path)\n",
        "\n",
        "# Filter df for rows where 'primary_category' is 'Skincare'\n",
        "skincare_df = df[df['primary_category'] == 'Skincare']\n",
        "print(\"Skin care data size:\", len(skincare_df))\n",
        "\n",
        "# Remove rows where highlight are non existent\n",
        "skincare_df = skincare_df[skincare_df['highlights'].notna() & (skincare_df['highlights'] != '')]\n",
        "print(\"Skin care data size after removing empty highlights:\",len(skincare_df))\n",
        "\n",
        "# Remove rows where ingredients are non existent\n",
        "skincare_df = skincare_df[skincare_df['ingredients'].notna() & (skincare_df['ingredients'] != '')]\n",
        "print(\"Skin care data size after removing empty ingredients:\",len(skincare_df))\n",
        "\n",
        "# Remove 'Mini' size products from data as it could be seen as a duplicate\n",
        "skincare_df = skincare_df[~skincare_df['product_name'].str.contains('mini', case=False, na=False)]\n",
        "# Also removing additional products with 'Mini Size' as their secondary category\n",
        "skincare_df = skincare_df[skincare_df['secondary_category'] != 'Mini Size']\n",
        "print(f\"Size of skincare data after removing 'mini' from product names (case-insensitive): {len(skincare_df)}\")\n",
        "\n",
        "# Remove 'Limited edition' from data\n",
        "skincare_df = skincare_df[~skincare_df['product_name'].str.contains('limited edition', case=False, na=False)]\n",
        "print(f\"Size of skincare data after removing 'limited edition' from product names (case-insensitive): {len(skincare_df)}\")\n",
        "\n",
        "# Remove 'Value & Gift Sets' from data to focus on individual products\n",
        "skincare_df = skincare_df[skincare_df['secondary_category'] != 'Value & Gift Sets']\n",
        "print(\"Skin care data size after removing 'Value & Gift Sets' secondary_category:\",len(skincare_df))\n",
        "\n",
        "# Clean highlight column\n",
        "highlights = skincare_df['highlights']\n",
        "highlights = [h.replace(\"[\", \"\").replace(\"]\", \"\").replace(\"'\", \"\").replace(\"Best for \", \"\").replace(\"Good for: \", \"\").replace(\" Skin\", \"\").replace(\"/\", \", \") for h in highlights]\n",
        "skincare_df['highlights'] = highlights\n",
        "\n",
        "# Function to clean each ingredient row\n",
        "def clean_ingredients(row):\n",
        "   # Replace unwanted characters\n",
        "   row = row.replace(\"[\", \"\").replace(\"]\", \"\").replace(\"'\", \"\").replace(\" (Vegan)*\", \"\").replace(\".\", \"\")\n",
        "\n",
        "   # Remove text inside parentheses\n",
        "   row = re.sub(r'\\([^)]*\\)', '', row)\n",
        "\n",
        "   # Replace \" , \" with a single comma (in case extra spaces after commas)\n",
        "   row = row.replace(\" ,\", \",\")\n",
        "   row = row.replace(\"  \", \" \")\n",
        "\n",
        "   # Check for \"water\", \"aqua\", or \"eau\" and replace first occurrence\n",
        "   if \"water\" in row.lower() or \"aqua\" in row.lower() or \"eau\" in row.lower():\n",
        "      row_list = row.split(\", \")\n",
        "      # Find the first occurrence of \"water\", \"aqua\", or \"eau\"\n",
        "      index = next((i for i, s in enumerate(row_list) if 'water' in s.lower() or \"aqua\" in s.lower() or \"eau\" in s.lower()), -1)\n",
        "      if index != -1:\n",
        "         # Replace the identified word with \"Water\"\n",
        "         row_list[index] = \"Water\"\n",
        "      row = \", \".join(row_list)\n",
        "\n",
        "   return row\n",
        "\n",
        "# Apply the clean_ingredients function\n",
        "skincare_df['ingredients'] = skincare_df['ingredients'].apply(clean_ingredients)\n",
        "\n",
        "# Ensure the directory exists\n",
        "output_dir = os.path.dirname(processed_data_path)\n",
        "if not os.path.exists(output_dir):\n",
        "   os.makedirs(output_dir)\n",
        "\n",
        "# Save cleaned file\n",
        "skincare_df.to_csv(processed_data_path, index=False)"
      ]
    },
    {
      "cell_type": "markdown",
      "metadata": {
        "id": "C6Ved-mFpIwI"
      },
      "source": [
        "## Clean and Filter Product Reviews"
      ]
    },
    {
      "cell_type": "code",
      "execution_count": 5,
      "metadata": {
        "colab": {
          "base_uri": "https://localhost:8080/"
        },
        "id": "k4Yse-QNpIwJ",
        "outputId": "e064af48-7a5c-4182-8d16-85948b4d404a"
      },
      "outputs": [
        {
          "output_type": "stream",
          "name": "stderr",
          "text": [
            "/usr/local/lib/python3.10/dist-packages/ipykernel/ipkernel.py:283: DeprecationWarning:\n",
            "\n",
            "`should_run_async` will not call `transform_cell` automatically in the future. Please pass the result to `transformed_cell` argument and any exception that happen during thetransform in `preprocessing_exc_tuple` in IPython 7.17 and above.\n",
            "\n",
            "<ipython-input-5-07f3132be6bf>:12: DtypeWarning:\n",
            "\n",
            "Columns (1) have mixed types. Specify dtype option on import or set low_memory=False.\n",
            "\n"
          ]
        },
        {
          "output_type": "stream",
          "name": "stdout",
          "text": [
            "Processed and saved: processed_data/reviews_0-250.csv\n",
            "Processed and saved: processed_data/reviews_250-500.csv\n",
            "Processed and saved: processed_data/reviews_500-750.csv\n"
          ]
        },
        {
          "output_type": "stream",
          "name": "stderr",
          "text": [
            "<ipython-input-5-07f3132be6bf>:12: DtypeWarning:\n",
            "\n",
            "Columns (1) have mixed types. Specify dtype option on import or set low_memory=False.\n",
            "\n"
          ]
        },
        {
          "output_type": "stream",
          "name": "stdout",
          "text": [
            "Processed and saved: processed_data/reviews_750-1250.csv\n"
          ]
        },
        {
          "output_type": "stream",
          "name": "stderr",
          "text": [
            "<ipython-input-5-07f3132be6bf>:12: DtypeWarning:\n",
            "\n",
            "Columns (1) have mixed types. Specify dtype option on import or set low_memory=False.\n",
            "\n"
          ]
        },
        {
          "output_type": "stream",
          "name": "stdout",
          "text": [
            "Processed and saved: processed_data/reviews_1250-end.csv\n",
            "All files have been processed and saved.\n"
          ]
        }
      ],
      "source": [
        "# Convert product_id column to a set for efficient filtering\n",
        "product_ids = set(skincare_df['product_id'])\n",
        "\n",
        "def clean_reviews(raw_data_path, processed_data_path):\n",
        "    \"\"\"\n",
        "    Clean the reviews in the given CSV file by filtering based on the conditions.\n",
        "    - Filters rows where 'product_id' is in the skincare dataset.\n",
        "    - Keeps reviews with rating 5, 4, and only 3-star reviews if they have review text.\n",
        "    \"\"\"\n",
        "    try:\n",
        "        # Read the data\n",
        "        df = pd.read_csv(raw_data_path)\n",
        "\n",
        "        # Keep only the filtered skincare data\n",
        "        df = df[df['product_id'].isin(product_ids)]\n",
        "\n",
        "        # # Check for 3-star reviews with no text or empty text\n",
        "        # three_star_reviews = df[df['rating'] == 3]\n",
        "        # no_text_reviews = three_star_reviews[three_star_reviews['review_text'].isna() | (three_star_reviews['review_text'].str.strip() == '')]\n",
        "\n",
        "        # Keep reviews with rating 5, 4, or 3 (only keep 3-star reviews if they have review text)\n",
        "        df = df[\n",
        "            (df['rating'].isin((5, 4))) |\n",
        "            ((df['rating'] == 3) & df['review_text'].notna() & (df['review_text'].str.strip() != \"\"))  # Include 3-star reviews only if they have text\n",
        "        ]\n",
        "\n",
        "        # Ensure the output directory exists\n",
        "        output_dir = os.path.dirname(processed_data_path)\n",
        "        if not os.path.exists(output_dir):\n",
        "            os.makedirs(output_dir)\n",
        "\n",
        "        # Save the cleaned file\n",
        "        df.to_csv(processed_data_path, index=False)\n",
        "        print(f\"Processed and saved: {processed_data_path}\")\n",
        "\n",
        "    except Exception as e:\n",
        "        print(f\"Error processing {raw_data_path}: {e}\")\n",
        "\n",
        "# Apply the function to each review data file\n",
        "clean_reviews('data/reviews_0-250.csv', 'processed_data/reviews_0-250.csv')\n",
        "clean_reviews('data/reviews_250-500.csv', 'processed_data/reviews_250-500.csv')\n",
        "clean_reviews('data/reviews_500-750.csv', 'processed_data/reviews_500-750.csv')\n",
        "clean_reviews('data/reviews_750-1250.csv', 'processed_data/reviews_750-1250.csv')\n",
        "clean_reviews('data/reviews_1250-end.csv', 'processed_data/reviews_1250-end.csv')\n",
        "\n",
        "print(\"All files have been processed and saved.\")"
      ]
    },
    {
      "cell_type": "markdown",
      "metadata": {
        "id": "W2zOQXf2pIwK"
      },
      "source": [
        "## Combining All Reviews Files Into a Single Dataframe"
      ]
    },
    {
      "cell_type": "code",
      "execution_count": 6,
      "metadata": {
        "colab": {
          "base_uri": "https://localhost:8080/"
        },
        "id": "emsBoffWpIwK",
        "outputId": "fc3cb88b-6205-4c09-cff9-94c980e4419f"
      },
      "outputs": [
        {
          "output_type": "stream",
          "name": "stderr",
          "text": [
            "/usr/local/lib/python3.10/dist-packages/ipykernel/ipkernel.py:283: DeprecationWarning:\n",
            "\n",
            "`should_run_async` will not call `transform_cell` automatically in the future. Please pass the result to `transformed_cell` argument and any exception that happen during thetransform in `preprocessing_exc_tuple` in IPython 7.17 and above.\n",
            "\n"
          ]
        },
        {
          "output_type": "stream",
          "name": "stdout",
          "text": [
            "Successfully added processed_data/reviews_0-250.csv\n",
            "Successfully added processed_data/reviews_250-500.csv\n",
            "Successfully added processed_data/reviews_500-750.csv\n",
            "Successfully added processed_data/reviews_750-1250.csv\n",
            "Successfully added processed_data/reviews_1250-end.csv\n",
            "All files have been combined and saved to: processed_data/combined_reviews.csv\n"
          ]
        }
      ],
      "source": [
        "# List of file paths for the processed reviews\n",
        "file_paths = [\n",
        "    'processed_data/reviews_0-250.csv',\n",
        "    'processed_data/reviews_250-500.csv',\n",
        "    'processed_data/reviews_500-750.csv',\n",
        "    'processed_data/reviews_750-1250.csv',\n",
        "    'processed_data/reviews_1250-end.csv'\n",
        "]\n",
        "\n",
        "# Combine all files into one DataFrame\n",
        "combined_reviews_df = pd.DataFrame()\n",
        "\n",
        "for file_path in file_paths:\n",
        "    try:\n",
        "        # Read each processed file with updated argument for handling bad lines\n",
        "        df = pd.read_csv(file_path,\n",
        "                         on_bad_lines='skip',  # Skip bad lines instead of using deprecated arguments\n",
        "                         encoding='utf-8',  # Ensure proper encoding\n",
        "                         engine='python')  # Use Python engine for more robust handling\n",
        "\n",
        "        # Append it to the combined DataFrame\n",
        "        combined_reviews_df = pd.concat([combined_reviews_df, df], ignore_index=True)\n",
        "        print(f\"Successfully added {file_path}\")\n",
        "    except Exception as e:\n",
        "        print(f\"Error reading {file_path}: {e}\")\n",
        "\n",
        "# Save the combined DataFrame to a single CSV file\n",
        "output_combined_path = 'processed_data/combined_reviews.csv'\n",
        "combined_reviews_df.to_csv(output_combined_path, index=False)\n",
        "print(f\"All files have been combined and saved to: {output_combined_path}\")"
      ]
    },
    {
      "cell_type": "markdown",
      "metadata": {
        "id": "wHt9smuopIwK"
      },
      "source": [
        "# 2. Exploratory Data Analysis (EDA)"
      ]
    },
    {
      "cell_type": "markdown",
      "metadata": {
        "id": "zuz6X8wOpIwK"
      },
      "source": [
        "### Skincare data"
      ]
    },
    {
      "cell_type": "code",
      "execution_count": 7,
      "metadata": {
        "colab": {
          "base_uri": "https://localhost:8080/"
        },
        "id": "GvFrlTnppIwK",
        "outputId": "97722070-2a24-4de1-b475-38c87e1f6fb6"
      },
      "outputs": [
        {
          "output_type": "stream",
          "name": "stdout",
          "text": [
            "Skincare Data Overview:\n",
            "   product_id                                       product_name  brand_id  \\\n",
            "89    P439055               GENIUS Sleeping Collagen Moisturizer      6018   \n",
            "90    P421277                       GENIUS Liquid Collagen Serum      6018   \n",
            "92    P432045               GENIUS Liquid Collagen Lip Treatment      6018   \n",
            "93    P311143  SUBLIME DEFENSE Ultra Lightweight UV Defense F...      6018   \n",
            "94    P384537                   GENIUS Ultimate Anti-Aging Cream      6018   \n",
            "\n",
            "   brand_name  loves_count  rating  reviews           size variation_type  \\\n",
            "89   Algenist        33910  4.5413   1321.0    2 oz/ 60 mL           Size   \n",
            "90   Algenist        67870  4.0259   1159.0  1 oz  / 30 mL           Size   \n",
            "92   Algenist        44448  3.8721    649.0  .5 oz / 15 mL           Size   \n",
            "93   Algenist        27278  4.4134    508.0           1 oz           Size   \n",
            "94   Algenist        19733  4.2525    503.0    2 oz/ 60 mL           Size   \n",
            "\n",
            "   variation_value  ... online_only out_of_stock  sephora_exclusive  \\\n",
            "89     2 oz/ 60 mL  ...           0            0                  1   \n",
            "90   1 oz  / 30 mL  ...           0            0                  1   \n",
            "92   .5 oz / 15 mL  ...           0            0                  1   \n",
            "93            1 oz  ...           0            0                  0   \n",
            "94     2 oz/ 60 mL  ...           0            0                  0   \n",
            "\n",
            "                                           highlights  primary_category  \\\n",
            "89  Vegan, Loss of firmness, Collagen, Hypoallerge...          Skincare   \n",
            "90  Vegan, Loss of firmness, Collagen, Hypoallerge...          Skincare   \n",
            "92  Vegan, Loss of firmness, Plumping, Collagen, H...          Skincare   \n",
            "93  Vegan, Hypoallergenic, UV Protection, SPF, Dry...          Skincare   \n",
            "94  Vegan, Collagen, Hypoallergenic, Loss of firmn...          Skincare   \n",
            "\n",
            "        secondary_category  tertiary_category  child_count  child_max_price  \\\n",
            "89            Moisturizers       Moisturizers            0              NaN   \n",
            "90              Treatments        Face Serums            1             25.0   \n",
            "92  Lip Balms & Treatments                NaN            0              NaN   \n",
            "93               Sunscreen     Face Sunscreen            0              NaN   \n",
            "94            Moisturizers       Moisturizers            1             75.0   \n",
            "\n",
            "    child_min_price  \n",
            "89              NaN  \n",
            "90             25.0  \n",
            "92              NaN  \n",
            "93              NaN  \n",
            "94             75.0  \n",
            "\n",
            "[5 rows x 27 columns]\n"
          ]
        },
        {
          "output_type": "stream",
          "name": "stderr",
          "text": [
            "/usr/local/lib/python3.10/dist-packages/ipykernel/ipkernel.py:283: DeprecationWarning:\n",
            "\n",
            "`should_run_async` will not call `transform_cell` automatically in the future. Please pass the result to `transformed_cell` argument and any exception that happen during thetransform in `preprocessing_exc_tuple` in IPython 7.17 and above.\n",
            "\n"
          ]
        }
      ],
      "source": [
        "# Display the first few rows to get a sense of the data\n",
        "print(\"Skincare Data Overview:\")\n",
        "print(skincare_df.head())"
      ]
    },
    {
      "cell_type": "code",
      "execution_count": 8,
      "metadata": {
        "colab": {
          "base_uri": "https://localhost:8080/"
        },
        "id": "2qTHAd5lpIwK",
        "outputId": "c58d6f10-d073-4b4b-e2af-9dfb0553094c"
      },
      "outputs": [
        {
          "output_type": "stream",
          "name": "stdout",
          "text": [
            "\n",
            "Skincare Data Info:\n",
            "<class 'pandas.core.frame.DataFrame'>\n",
            "Index: 1583 entries, 89 to 8423\n",
            "Data columns (total 27 columns):\n",
            " #   Column              Non-Null Count  Dtype  \n",
            "---  ------              --------------  -----  \n",
            " 0   product_id          1583 non-null   object \n",
            " 1   product_name        1583 non-null   object \n",
            " 2   brand_id            1583 non-null   int64  \n",
            " 3   brand_name          1583 non-null   object \n",
            " 4   loves_count         1583 non-null   int64  \n",
            " 5   rating              1550 non-null   float64\n",
            " 6   reviews             1550 non-null   float64\n",
            " 7   size                1525 non-null   object \n",
            " 8   variation_type      1506 non-null   object \n",
            " 9   variation_value     1478 non-null   object \n",
            " 10  variation_desc      7 non-null      object \n",
            " 11  ingredients         1583 non-null   object \n",
            " 12  price_usd           1583 non-null   float64\n",
            " 13  value_price_usd     17 non-null     float64\n",
            " 14  sale_price_usd      17 non-null     float64\n",
            " 15  limited_edition     1583 non-null   int64  \n",
            " 16  new                 1583 non-null   int64  \n",
            " 17  online_only         1583 non-null   int64  \n",
            " 18  out_of_stock        1583 non-null   int64  \n",
            " 19  sephora_exclusive   1583 non-null   int64  \n",
            " 20  highlights          1583 non-null   object \n",
            " 21  primary_category    1583 non-null   object \n",
            " 22  secondary_category  1583 non-null   object \n",
            " 23  tertiary_category   1529 non-null   object \n",
            " 24  child_count         1583 non-null   int64  \n",
            " 25  child_max_price     340 non-null    float64\n",
            " 26  child_min_price     340 non-null    float64\n",
            "dtypes: float64(7), int64(8), object(12)\n",
            "memory usage: 346.3+ KB\n",
            "None\n"
          ]
        },
        {
          "output_type": "stream",
          "name": "stderr",
          "text": [
            "/usr/local/lib/python3.10/dist-packages/ipykernel/ipkernel.py:283: DeprecationWarning:\n",
            "\n",
            "`should_run_async` will not call `transform_cell` automatically in the future. Please pass the result to `transformed_cell` argument and any exception that happen during thetransform in `preprocessing_exc_tuple` in IPython 7.17 and above.\n",
            "\n"
          ]
        }
      ],
      "source": [
        "# Get general info\n",
        "print(\"\\nSkincare Data Info:\")\n",
        "print(skincare_df.info())"
      ]
    },
    {
      "cell_type": "code",
      "execution_count": 9,
      "metadata": {
        "colab": {
          "base_uri": "https://localhost:8080/"
        },
        "id": "LiKw8K-DpIwK",
        "outputId": "ba227e7a-6b87-449d-c4d6-af82ae1a2fcf"
      },
      "outputs": [
        {
          "output_type": "stream",
          "name": "stdout",
          "text": [
            "\n",
            "Skincare Data Statistics:\n",
            "          brand_id   loves_count       rating       reviews    price_usd  \\\n",
            "count  1583.000000  1.583000e+03  1550.000000   1550.000000  1583.000000   \n",
            "mean   5676.037903  3.286060e+04     4.291681    529.062581    61.408149   \n",
            "std    1421.601813  6.625197e+04     0.418085    936.350434    58.640613   \n",
            "min    1063.000000  0.000000e+00     1.000000      1.000000     3.000000   \n",
            "25%    5668.000000  4.284000e+03     4.095425     65.000000    30.000000   \n",
            "50%    6195.000000  1.191200e+04     4.363600    227.500000    46.000000   \n",
            "75%    6327.000000  3.440700e+04     4.569575    562.000000    71.000000   \n",
            "max    8017.000000  1.081315e+06     5.000000  16118.000000   495.000000   \n",
            "\n",
            "       value_price_usd  sale_price_usd  limited_edition          new  \\\n",
            "count        17.000000       17.000000      1583.000000  1583.000000   \n",
            "mean        199.176471       18.205882         0.007581     0.078964   \n",
            "std         184.000080       20.898609         0.086763     0.269768   \n",
            "min          35.000000        3.000000         0.000000     0.000000   \n",
            "25%          88.000000        7.000000         0.000000     0.000000   \n",
            "50%         120.000000       11.000000         0.000000     0.000000   \n",
            "75%         210.000000       19.000000         0.000000     0.000000   \n",
            "max         617.000000       85.000000         1.000000     1.000000   \n",
            "\n",
            "       online_only  out_of_stock  sephora_exclusive  child_count  \\\n",
            "count  1583.000000   1583.000000        1583.000000  1583.000000   \n",
            "mean      0.199621      0.034112           0.317751     0.365130   \n",
            "std       0.399842      0.181575           0.465749     0.993963   \n",
            "min       0.000000      0.000000           0.000000     0.000000   \n",
            "25%       0.000000      0.000000           0.000000     0.000000   \n",
            "50%       0.000000      0.000000           0.000000     0.000000   \n",
            "75%       0.000000      0.000000           1.000000     0.000000   \n",
            "max       1.000000      1.000000           1.000000    13.000000   \n",
            "\n",
            "       child_max_price  child_min_price  \n",
            "count       340.000000       340.000000  \n",
            "mean         60.255529        41.136412  \n",
            "std          72.324865        46.092970  \n",
            "min           3.000000         3.000000  \n",
            "25%          19.800000        17.875000  \n",
            "50%          35.000000        25.000000  \n",
            "75%          68.000000        46.000000  \n",
            "max         570.000000       365.000000  \n"
          ]
        },
        {
          "output_type": "stream",
          "name": "stderr",
          "text": [
            "/usr/local/lib/python3.10/dist-packages/ipykernel/ipkernel.py:283: DeprecationWarning:\n",
            "\n",
            "`should_run_async` will not call `transform_cell` automatically in the future. Please pass the result to `transformed_cell` argument and any exception that happen during thetransform in `preprocessing_exc_tuple` in IPython 7.17 and above.\n",
            "\n"
          ]
        }
      ],
      "source": [
        "# Describe numerical columns for basic statistics\n",
        "print(\"\\nSkincare Data Statistics:\")\n",
        "print(skincare_df.describe())"
      ]
    },
    {
      "cell_type": "markdown",
      "metadata": {
        "id": "QEeGEB1spIwL"
      },
      "source": [
        "### Product Reviews Data"
      ]
    },
    {
      "cell_type": "code",
      "execution_count": 10,
      "metadata": {
        "colab": {
          "base_uri": "https://localhost:8080/"
        },
        "id": "DnXB8lQypIwL",
        "outputId": "4cf6650b-074d-4017-881b-375540cd13e9"
      },
      "outputs": [
        {
          "output_type": "stream",
          "name": "stdout",
          "text": [
            "\n",
            "Review Data Overview:\n",
            "  Unnamed: 0    author_id  rating  is_recommended helpfulness  \\\n",
            "0          0   1741593524     5.0             1.0         1.0   \n",
            "1          2   5061282401     5.0             1.0         NaN   \n",
            "2          3   6083038851     5.0             1.0         NaN   \n",
            "3          4  47056667835     5.0             1.0         NaN   \n",
            "4          5  42802569154     4.0             1.0         1.0   \n",
            "\n",
            "   total_feedback_count total_neg_feedback_count total_pos_feedback_count  \\\n",
            "0                   2.0                        0                        2   \n",
            "1                   0.0                        0                        0   \n",
            "2                   0.0                        0                        0   \n",
            "3                   0.0                        0                        0   \n",
            "4                   1.0                        0                        1   \n",
            "\n",
            "  submission_time                                        review_text  \\\n",
            "0      2023-02-01  I use this with the Nudestix “Citrus Clean Bal...   \n",
            "1      2023-03-21  My review title says it all! I get so excited ...   \n",
            "2      2023-03-20  I’ve always loved this formula for a long time...   \n",
            "3      2023-03-20  If you have dry cracked lips, this is a must h...   \n",
            "4      2023-03-19  The scent isn’t my favourite but it works grea...   \n",
            "\n",
            "                       review_title    skin_tone eye_color    skin_type  \\\n",
            "0  Taught me how to double cleanse!          NaN     brown          dry   \n",
            "1              New Favorite Routine        light     brown          dry   \n",
            "2   Can't go wrong with any of them          NaN     brown  combination   \n",
            "3                   A must have !!!        light     hazel  combination   \n",
            "4                            Great!  lightMedium     brown       normal   \n",
            "\n",
            "  hair_color product_id                                       product_name  \\\n",
            "0      black    P504322                     Gentle Hydra-Gel Face Cleanser   \n",
            "1     blonde    P420652  Lip Sleeping Mask Intense Hydration with Vitam...   \n",
            "2      black    P420652  Lip Sleeping Mask Intense Hydration with Vitam...   \n",
            "3        NaN    P420652  Lip Sleeping Mask Intense Hydration with Vitam...   \n",
            "4      brown    P420652  Lip Sleeping Mask Intense Hydration with Vitam...   \n",
            "\n",
            "  brand_name  price_usd  \n",
            "0   NUDESTIX       19.0  \n",
            "1    LANEIGE       24.0  \n",
            "2    LANEIGE       24.0  \n",
            "3    LANEIGE       24.0  \n",
            "4    LANEIGE       24.0  \n"
          ]
        },
        {
          "output_type": "stream",
          "name": "stderr",
          "text": [
            "/usr/local/lib/python3.10/dist-packages/ipykernel/ipkernel.py:283: DeprecationWarning:\n",
            "\n",
            "`should_run_async` will not call `transform_cell` automatically in the future. Please pass the result to `transformed_cell` argument and any exception that happen during thetransform in `preprocessing_exc_tuple` in IPython 7.17 and above.\n",
            "\n"
          ]
        }
      ],
      "source": [
        "# Display the first few rows to get a sense of the data\n",
        "print(\"\\nReview Data Overview:\")\n",
        "print(combined_reviews_df.head())"
      ]
    },
    {
      "cell_type": "code",
      "execution_count": 11,
      "metadata": {
        "colab": {
          "base_uri": "https://localhost:8080/"
        },
        "id": "FefvlqEYpIwL",
        "outputId": "54475096-6d33-422d-dd10-aff4d0c4b3bf"
      },
      "outputs": [
        {
          "output_type": "stream",
          "name": "stderr",
          "text": [
            "/usr/local/lib/python3.10/dist-packages/ipykernel/ipkernel.py:283: DeprecationWarning:\n",
            "\n",
            "`should_run_async` will not call `transform_cell` automatically in the future. Please pass the result to `transformed_cell` argument and any exception that happen during thetransform in `preprocessing_exc_tuple` in IPython 7.17 and above.\n",
            "\n"
          ]
        },
        {
          "output_type": "stream",
          "name": "stdout",
          "text": [
            "\n",
            "Review Data Info:\n",
            "<class 'pandas.core.frame.DataFrame'>\n",
            "RangeIndex: 740390 entries, 0 to 740389\n",
            "Data columns (total 19 columns):\n",
            " #   Column                    Non-Null Count   Dtype  \n",
            "---  ------                    --------------   -----  \n",
            " 0   Unnamed: 0                740390 non-null  object \n",
            " 1   author_id                 740203 non-null  object \n",
            " 2   rating                    739955 non-null  float64\n",
            " 3   is_recommended            633266 non-null  float64\n",
            " 4   helpfulness               331220 non-null  object \n",
            " 5   total_feedback_count      739955 non-null  float64\n",
            " 6   total_neg_feedback_count  740226 non-null  object \n",
            " 7   total_pos_feedback_count  740226 non-null  object \n",
            " 8   submission_time           740226 non-null  object \n",
            " 9   review_text               739298 non-null  object \n",
            " 10  review_title              526191 non-null  object \n",
            " 11  skin_tone                 627748 non-null  object \n",
            " 12  eye_color                 606040 non-null  object \n",
            " 13  skin_type                 667676 non-null  object \n",
            " 14  hair_color                591269 non-null  object \n",
            " 15  product_id                739684 non-null  object \n",
            " 16  product_name              739684 non-null  object \n",
            " 17  brand_name                739684 non-null  object \n",
            " 18  price_usd                 739684 non-null  float64\n",
            "dtypes: float64(4), object(15)\n",
            "memory usage: 107.3+ MB\n",
            "None\n"
          ]
        }
      ],
      "source": [
        "# Get general info\n",
        "print(\"\\nReview Data Info:\")\n",
        "print(combined_reviews_df.info())"
      ]
    },
    {
      "cell_type": "code",
      "execution_count": 12,
      "metadata": {
        "colab": {
          "base_uri": "https://localhost:8080/"
        },
        "id": "v8ib-kQUpIwL",
        "outputId": "aca0b9c0-ee0c-405c-fca9-a2ca64b535f1"
      },
      "outputs": [
        {
          "output_type": "stream",
          "name": "stdout",
          "text": [
            "\n",
            "Review Data Statistics:\n",
            "              rating  is_recommended  total_feedback_count      price_usd\n",
            "count  739955.000000   633266.000000         739955.000000  739684.000000\n",
            "mean        4.631782        0.938369              3.436651      52.430729\n",
            "std         0.629846        0.240485             21.561642      41.600266\n",
            "min         3.000000        0.000000              0.000000       3.000000\n",
            "25%         4.000000        1.000000              0.000000      30.000000\n",
            "50%         5.000000        1.000000              0.000000      44.000000\n",
            "75%         5.000000        1.000000              3.000000      65.000000\n",
            "max         5.000000        1.000000           5464.000000     449.000000\n"
          ]
        },
        {
          "output_type": "stream",
          "name": "stderr",
          "text": [
            "/usr/local/lib/python3.10/dist-packages/ipykernel/ipkernel.py:283: DeprecationWarning:\n",
            "\n",
            "`should_run_async` will not call `transform_cell` automatically in the future. Please pass the result to `transformed_cell` argument and any exception that happen during thetransform in `preprocessing_exc_tuple` in IPython 7.17 and above.\n",
            "\n"
          ]
        }
      ],
      "source": [
        "# Describe numerical columns for basic statistics\n",
        "print(\"\\nReview Data Statistics:\")\n",
        "print(combined_reviews_df.describe())"
      ]
    },
    {
      "cell_type": "markdown",
      "metadata": {
        "id": "Sz5I5BL3pIwL"
      },
      "source": [
        "### Distribution of categorical and numerical features"
      ]
    },
    {
      "cell_type": "markdown",
      "metadata": {
        "id": "bOjrBICKpIwL"
      },
      "source": [
        "#### Skincare data"
      ]
    },
    {
      "cell_type": "code",
      "execution_count": 13,
      "metadata": {
        "colab": {
          "base_uri": "https://localhost:8080/",
          "height": 896
        },
        "id": "OIDv5QU7pIwL",
        "outputId": "66b8bf04-0fb3-41a4-d106-0c58a909d6d0"
      },
      "outputs": [
        {
          "output_type": "stream",
          "name": "stderr",
          "text": [
            "/usr/local/lib/python3.10/dist-packages/ipykernel/ipkernel.py:283: DeprecationWarning:\n",
            "\n",
            "`should_run_async` will not call `transform_cell` automatically in the future. Please pass the result to `transformed_cell` argument and any exception that happen during thetransform in `preprocessing_exc_tuple` in IPython 7.17 and above.\n",
            "\n"
          ]
        },
        {
          "output_type": "stream",
          "name": "stdout",
          "text": [
            "\n",
            "Skincare Secondary Categories Distribution:\n",
            "secondary_category\n",
            "Moisturizers              432\n",
            "Treatments                395\n",
            "Cleansers                 270\n",
            "Eye Care                  146\n",
            "Masks                     117\n",
            "Sunscreen                  80\n",
            "Lip Balms & Treatments     46\n",
            "Self Tanners               42\n",
            "Wellness                   34\n",
            "High Tech Tools            21\n",
            "Name: count, dtype: int64\n"
          ]
        },
        {
          "output_type": "display_data",
          "data": {
            "text/plain": [
              "<Figure size 1000x600 with 1 Axes>"
            ],
            "image/png": "[encoded data removed]"
          },
          "metadata": {}
        }
      ],
      "source": [
        "# Check distribution of secondary categories\n",
        "print(\"\\nSkincare Secondary Categories Distribution:\")\n",
        "secondary_category_counts = skincare_df['secondary_category'].value_counts().sort_values(ascending=False)\n",
        "print(secondary_category_counts)\n",
        "\n",
        "# Plot the distribution of secondary categories\n",
        "plt.figure(figsize=(10,6))\n",
        "sns.countplot(\n",
        "    y='secondary_category',\n",
        "    data=skincare_df,\n",
        "    order=secondary_category_counts.index  # Sort the plot by frequency\n",
        ")\n",
        "plt.title('Distribution of Secondary Categories')\n",
        "plt.show()"
      ]
    },
    {
      "cell_type": "code",
      "execution_count": 14,
      "metadata": {
        "colab": {
          "base_uri": "https://localhost:8080/",
          "height": 844
        },
        "id": "1-M9YrDTpIwL",
        "outputId": "1705b241-f826-4f2c-aca6-5745435c3d20"
      },
      "outputs": [
        {
          "output_type": "stream",
          "name": "stderr",
          "text": [
            "/usr/local/lib/python3.10/dist-packages/ipykernel/ipkernel.py:283: DeprecationWarning:\n",
            "\n",
            "`should_run_async` will not call `transform_cell` automatically in the future. Please pass the result to `transformed_cell` argument and any exception that happen during thetransform in `preprocessing_exc_tuple` in IPython 7.17 and above.\n",
            "\n"
          ]
        },
        {
          "output_type": "stream",
          "name": "stdout",
          "text": [
            "                Brand  Counts  Percent\n",
            "0  SEPHORA COLLECTION      56     3.54\n",
            "1        The Ordinary      39     2.46\n",
            "2      The INKEY List      37     2.34\n",
            "3      Paula's Choice      34     2.15\n",
            "4               fresh      32     2.02\n",
            "5   Peter Thomas Roth      31     1.96\n",
            "6   Dr. Barbara Sturm      31     1.96\n",
            "7            Caudalie      30     1.90\n",
            "8            Shiseido      30     1.90\n",
            "9  Kiehl's Since 1851      30     1.90\n"
          ]
        },
        {
          "output_type": "display_data",
          "data": {
            "text/plain": [
              "<Figure size 800x600 with 1 Axes>"
            ],
            "image/png": "[encoded data removed]"
          },
          "metadata": {}
        }
      ],
      "source": [
        "# Get the count and percentage of top brands\n",
        "brand_count = skincare_df['brand_name'].value_counts()\n",
        "brand_percentage = skincare_df['brand_name'].value_counts(normalize=True) * 100\n",
        "\n",
        "# Create a DataFrame for the top brands\n",
        "brand_df = pd.DataFrame({'Brand': brand_count.index, 'Counts': brand_count.values, 'Percent': np.round(brand_percentage.values, 2)})\n",
        "\n",
        "# Display the top 10 brands\n",
        "print(brand_df.head(10))\n",
        "\n",
        "# Plot the top 10 brands horizontally\n",
        "plt.figure(figsize=(8, 6))\n",
        "sns.barplot(x='Counts', y='Brand', data=brand_df.head(10))\n",
        "plt.xlabel('Count')\n",
        "plt.title('Top 10 Occurring Brands')\n",
        "plt.show()"
      ]
    },
    {
      "cell_type": "markdown",
      "metadata": {
        "id": "r0pFrNODpIwL"
      },
      "source": [
        "#### Product Reviews Data"
      ]
    },
    {
      "cell_type": "code",
      "execution_count": 15,
      "metadata": {
        "colab": {
          "base_uri": "https://localhost:8080/",
          "height": 775
        },
        "id": "O-8GuNyPpIwL",
        "outputId": "bd105ebc-c2c2-4578-c0df-e841dccbaaac"
      },
      "outputs": [
        {
          "output_type": "stream",
          "name": "stderr",
          "text": [
            "/usr/local/lib/python3.10/dist-packages/ipykernel/ipkernel.py:283: DeprecationWarning:\n",
            "\n",
            "`should_run_async` will not call `transform_cell` automatically in the future. Please pass the result to `transformed_cell` argument and any exception that happen during thetransform in `preprocessing_exc_tuple` in IPython 7.17 and above.\n",
            "\n"
          ]
        },
        {
          "output_type": "stream",
          "name": "stdout",
          "text": [
            "\n",
            "Review Ratings Distribution:\n",
            "rating\n",
            "5.0    528193\n",
            "4.0    151059\n",
            "3.0     60703\n",
            "Name: count, dtype: int64\n"
          ]
        },
        {
          "output_type": "display_data",
          "data": {
            "text/plain": [
              "<Figure size 800x600 with 1 Axes>"
            ],
            "image/png": "[encoded data removed]"
          },
          "metadata": {}
        }
      ],
      "source": [
        "# Review rating distribution\n",
        "print(\"\\nReview Ratings Distribution:\")\n",
        "print(combined_reviews_df['rating'].value_counts())\n",
        "\n",
        "# Plot the rating distribution\n",
        "plt.figure(figsize=(8,6))\n",
        "sns.countplot(x='rating', data=combined_reviews_df)\n",
        "plt.title('Distribution of Review Ratings')\n",
        "plt.show()"
      ]
    },
    {
      "cell_type": "code",
      "execution_count": 16,
      "metadata": {
        "colab": {
          "base_uri": "https://localhost:8080/",
          "height": 653
        },
        "id": "M1z8LU-_pIwL",
        "outputId": "e0498cd2-64f4-4dad-f5e9-6192930f6f30"
      },
      "outputs": [
        {
          "output_type": "stream",
          "name": "stderr",
          "text": [
            "/usr/local/lib/python3.10/dist-packages/ipykernel/ipkernel.py:283: DeprecationWarning:\n",
            "\n",
            "`should_run_async` will not call `transform_cell` automatically in the future. Please pass the result to `transformed_cell` argument and any exception that happen during thetransform in `preprocessing_exc_tuple` in IPython 7.17 and above.\n",
            "\n"
          ]
        },
        {
          "output_type": "display_data",
          "data": {
            "text/plain": [
              "<Figure size 1000x600 with 1 Axes>"
            ],
            "image/png": "[encoded data removed]"
          },
          "metadata": {}
        }
      ],
      "source": [
        "# Review length (characters in review text)\n",
        "combined_reviews_df['review_length'] = combined_reviews_df['review_text'].apply(lambda x: len(str(x)))\n",
        "\n",
        "# Plot distribution of review lengths\n",
        "plt.figure(figsize=(10,6))\n",
        "sns.histplot(combined_reviews_df['review_length'], bins=50, kde=True)\n",
        "plt.title('Distribution of Review Lengths')\n",
        "plt.show()"
      ]
    },
    {
      "cell_type": "markdown",
      "metadata": {
        "id": "mud2MBMYpIwM"
      },
      "source": [
        "___"
      ]
    },
    {
      "cell_type": "markdown",
      "metadata": {
        "id": "Uy0d5Pz0jCGU"
      },
      "source": [
        "## Filtering 3-Star Reviews"
      ]
    },
    {
      "cell_type": "code",
      "execution_count": 17,
      "metadata": {
        "colab": {
          "base_uri": "https://localhost:8080/"
        },
        "id": "_znrstpgelOn",
        "outputId": "f83da538-da5d-4952-9f3b-400a19219d58"
      },
      "outputs": [
        {
          "output_type": "stream",
          "name": "stderr",
          "text": [
            "/usr/local/lib/python3.10/dist-packages/ipykernel/ipkernel.py:283: DeprecationWarning:\n",
            "\n",
            "`should_run_async` will not call `transform_cell` automatically in the future. Please pass the result to `transformed_cell` argument and any exception that happen during thetransform in `preprocessing_exc_tuple` in IPython 7.17 and above.\n",
            "\n"
          ]
        },
        {
          "output_type": "stream",
          "name": "stdout",
          "text": [
            "Total reviews with rating of 3: 60703\n"
          ]
        }
      ],
      "source": [
        "# Load the combined reviews data from the saved file\n",
        "combined_reviews_df = pd.read_csv('processed_data/combined_reviews.csv', encoding='utf-8', engine='python')\n",
        "\n",
        "# Filter for reviews with rating = 3 to perform sentiment analysis on the same\n",
        "three_stars = combined_reviews_df[combined_reviews_df['rating'] == 3]\n",
        "\n",
        "print(f\"Total reviews with rating of 3: {len(three_stars)}\")"
      ]
    },
    {
      "cell_type": "markdown",
      "metadata": {
        "id": "-VUeOqXyxX9z"
      },
      "source": [
        "## *is_recommended* column in the dataset"
      ]
    },
    {
      "cell_type": "markdown",
      "metadata": {
        "id": "U21xO2BfBVYN"
      },
      "source": [
        "To ensure we would recommend products well-regarded by users, we explored the *is_recommended*  column in our reviews dataset and performed a series of checks to evaluate its reliability. As per the following:"
      ]
    },
    {
      "cell_type": "code",
      "execution_count": null,
      "metadata": {
        "colab": {
          "base_uri": "https://localhost:8080/",
          "height": 209
        },
        "id": "9ZLeR7-bC_uq",
        "outputId": "ac9f1f20-4424-452e-add0-2577d829730d"
      },
      "outputs": [
        {
          "data": {
            "text/html": [
              "<div>\n",
              "<style scoped>\n",
              "    .dataframe tbody tr th:only-of-type {\n",
              "        vertical-align: middle;\n",
              "    }\n",
              "\n",
              "    .dataframe tbody tr th {\n",
              "        vertical-align: top;\n",
              "    }\n",
              "\n",
              "    .dataframe thead th {\n",
              "        text-align: right;\n",
              "    }\n",
              "</style>\n",
              "<table border=\"1\" class=\"dataframe\">\n",
              "  <thead>\n",
              "    <tr style=\"text-align: right;\">\n",
              "      <th></th>\n",
              "      <th>count</th>\n",
              "    </tr>\n",
              "    <tr>\n",
              "      <th>is_recommended</th>\n",
              "      <th></th>\n",
              "    </tr>\n",
              "  </thead>\n",
              "  <tbody>\n",
              "    <tr>\n",
              "      <th>1.0</th>\n",
              "      <td>594237</td>\n",
              "    </tr>\n",
              "    <tr>\n",
              "      <th>NaN</th>\n",
              "      <td>107124</td>\n",
              "    </tr>\n",
              "    <tr>\n",
              "      <th>0.0</th>\n",
              "      <td>39029</td>\n",
              "    </tr>\n",
              "  </tbody>\n",
              "</table>\n",
              "</div><br><label><b>dtype:</b> int64</label>"
            ],
            "text/plain": [
              "is_recommended\n",
              "1.0    594237\n",
              "NaN    107124\n",
              "0.0     39029\n",
              "Name: count, dtype: int64"
            ]
          },
          "execution_count": 12,
          "metadata": {},
          "output_type": "execute_result"
        }
      ],
      "source": [
        "# Count the number of 1s, 0s, and NAs in the 'is_recommended' column for 3-5 stars reviews\n",
        "is_recommended_counts = combined_reviews_df['is_recommended'].value_counts(dropna=False)\n",
        "is_recommended_counts"
      ]
    },
    {
      "cell_type": "markdown",
      "metadata": {
        "id": "1cl0oXRoD8Tv"
      },
      "source": [
        "We can already tell that there are a lot of missing values in the *is_recommended* column. Either way, before proceeding, we’ll check if any 5-star reviews are incorrectly marked as not recommended, as we would expect these to generally be recommended. This will help ensure data quality."
      ]
    },
    {
      "cell_type": "code",
      "execution_count": null,
      "metadata": {
        "colab": {
          "base_uri": "https://localhost:8080/"
        },
        "id": "Z8sC-F6lEbIL",
        "outputId": "fb7be6ed-4abe-4a0e-cae1-8cd8c3f3270b"
      },
      "outputs": [
        {
          "name": "stdout",
          "output_type": "stream",
          "text": [
            "Number of 5-star reviews marked as not recommended: 610\n",
            "\n",
            "Random example of 5-star review marked as not recommended:\n",
            "This stuff is sooo good. Literally makes your lips feel so soft\n"
          ]
        }
      ],
      "source": [
        "# Filter 5-star reviews\n",
        "five_star_reviews = combined_reviews_df[combined_reviews_df['rating'] == 5]\n",
        "\n",
        "# Check how many of the 5-star reviews are not recommended\n",
        "not_recommended_5_stars = five_star_reviews[five_star_reviews['is_recommended'] == 0]\n",
        "\n",
        "# Count the number of 5-star reviews that are not recommended\n",
        "not_recommended_count = not_recommended_5_stars.shape[0]\n",
        "\n",
        "print(f\"Number of 5-star reviews marked as not recommended: {not_recommended_count}\")\n",
        "\n",
        "# Show a random review_text from the not recommended 5-star reviews, random seed set for reproducibility\n",
        "random_example = not_recommended_5_stars['review_text'].sample(1, random_state=42).iloc[0]\n",
        "\n",
        "print(\"\\nRandom example of 5-star review marked as not recommended:\")\n",
        "print(random_example)"
      ]
    },
    {
      "cell_type": "markdown",
      "metadata": {
        "id": "h12WAVGYFaoF"
      },
      "source": [
        "Since there are 610 5-star reviews marked as \"not recommended,\" and the random review test shows a very positive review from a happy user, this *is_recommended* column can't be trusted. Therefore, we'll rely on sentiment analysis to accurately identify products users truly recommend and feel good about."
      ]
    },
    {
      "cell_type": "markdown",
      "metadata": {
        "id": "OFBMvvzfg2_H"
      },
      "source": [
        "# 3. Sentiment Analysis on Product Reviews"
      ]
    },
    {
      "cell_type": "markdown",
      "metadata": {
        "id": "XyzD0EKYjTJv"
      },
      "source": [
        "## xlnet-base-cased-product-review-sentiment-analysis"
      ]
    },
    {
      "cell_type": "markdown",
      "metadata": {
        "id": "Z20tyUiygnwo"
      },
      "source": [
        "Below we use [xlnet-base-cased-product-review-sentiment-analysis](https://huggingface.co/dipawidia/xlnet-base-cased-product-review-sentiment-analysis)  model from Hugging face to perform sentiment analysis."
      ]
    },
    {
      "cell_type": "code",
      "execution_count": null,
      "metadata": {
        "colab": {
          "base_uri": "https://localhost:8080/",
          "height": 1000,
          "referenced_widgets": [
            "713d35162940490ca2efc436b60947b3",
            "4fc9dc64a72c48a0a6f09359286070cc",
            "2530ad5e51954ba89a0a8f2444c4b4a1",
            "bd654cd92beb4d9498fc12698d17546a",
            "4c105c0c34094815beb24ce22ebe0c13",
            "8f793ac20f3749bdb45e720ddb2ce2ec",
            "a25c1d6b69394267a81cb899d04e9334",
            "f588d6dba673473d9a6a9b8bdc497229",
            "1acc647dc00a4e40b124f7c7dd5601c3",
            "02eada3f1277458493317b451e4db113",
            "fe481732e38d468b9d9a6b2b5cddb3e8",
            "c4b751ca28f6430bb6837276a822d7ce",
            "3da5c46e6fc74ae3ab63b5b15328db7a",
            "93ec8d2709234ed8a547554aa72b4eaa",
            "9ccecbcd8a46432c9329d8f9dad98afc",
            "4b41ec15226c44ef84de679bb305a605",
            "55e708448d7340189f04760e3ac4bfdf",
            "843590c4500f494b9832db13deb11d85",
            "86a8f2cb2b2e45a9ad99393a6fd645e4",
            "277c0224f7c243b58dccb319cb4a1650",
            "4b36efb6c1904aa4bbdd62254014d2b7",
            "da33efaffbe34ac7a2beea1073f9f9e0",
            "2a23a6c2210c4086b06c25c76f7bc133",
            "a3fed1c8c0584186a23dca7b8a4d8f8c",
            "dafbec6438fc4402beadd7e1ed324884",
            "61e2d4e883e04072a939de9adb8f658c",
            "b29e32768dff4675ada5e72ffa1717b7",
            "a89e9cd56f7f4cbcac2eba4f47eb88f2",
            "01cbf63a33f24c73971b7b53d1b9b365",
            "a16e91f26a244ca289783b5f5f71357a",
            "59901663a76740d69802822600cf58b2",
            "90b92d48b97446eea8481a5011b68304",
            "6a6f4666e5c945b7a8d4e1e31686bedd",
            "8753951bfe0b4cf2afc4756c18c7544e",
            "eb2970dedb6944b39aafcc7292cd9854",
            "fd5c9e500f2341ec97a534f66f505af9",
            "04165a343278495da4b5e8c9724c71d4",
            "947706a57835457285f53dd3d65d6d6e",
            "4a927e2ed61a46668457ef3d6fd729a9",
            "f74b5e15fc444dd9bbb1742a9ab9bfc1",
            "7a852f5efe1a498f9256654ccc790d0e",
            "a14be4e90cf344da8046e54b630d2994",
            "0cb6cf092a684c81a854f8c0f5513b5f",
            "234ea676633c406e82259afff4478f7b",
            "3ce010f399864dafaf136fc1c04f50a5",
            "0d874b593bee457aa956c21599a0d821",
            "e2ca9d984883414fa8915ceea1ba58ef",
            "506c569f12b34b83be6ad879af5098a2",
            "5a11dfa54d8c4c198bdd4f11b12c4a65",
            "163f32aa19cf420cb7cc99f94e9202f9",
            "6cd18d4b9ed14078b5b8ae666e36bfb9",
            "8cc1c836a43846b792a21efe6c045204",
            "41b42d348c114d479b85b4601e5759a0",
            "564a4f0db510429bbdcf858949c1369f",
            "46ff89995439432bb6eca3662c623968"
          ]
        },
        "id": "eVcwGWTzpr1c",
        "outputId": "1ebb9c85-97f8-489f-b7ab-df40c4843451"
      },
      "outputs": [
        {
          "name": "stderr",
          "output_type": "stream",
          "text": [
            "/usr/local/lib/python3.10/dist-packages/huggingface_hub/utils/_auth.py:94: UserWarning: \n",
            "The secret `HF_TOKEN` does not exist in your Colab secrets.\n",
            "To authenticate with the Hugging Face Hub, create a token in your settings tab (https://huggingface.co/settings/tokens), set it as secret in your Google Colab and restart your session.\n",
            "You will be able to reuse this secret in all of your notebooks.\n",
            "Please note that authentication is recommended but still optional to access public models or datasets.\n",
            "  warnings.warn(\n"
          ]
        },
        {
          "data": {
            "application/vnd.jupyter.widget-view+json": {
              "model_id": "713d35162940490ca2efc436b60947b3",
              "version_major": 2,
              "version_minor": 0
            },
            "text/plain": [
              "tokenizer_config.json:   0%|          | 0.00/2.00k [00:00<?, ?B/s]"
            ]
          },
          "metadata": {},
          "output_type": "display_data"
        },
        {
          "data": {
            "application/vnd.jupyter.widget-view+json": {
              "model_id": "c4b751ca28f6430bb6837276a822d7ce",
              "version_major": 2,
              "version_minor": 0
            },
            "text/plain": [
              "spiece.model:   0%|          | 0.00/798k [00:00<?, ?B/s]"
            ]
          },
          "metadata": {},
          "output_type": "display_data"
        },
        {
          "data": {
            "application/vnd.jupyter.widget-view+json": {
              "model_id": "2a23a6c2210c4086b06c25c76f7bc133",
              "version_major": 2,
              "version_minor": 0
            },
            "text/plain": [
              "special_tokens_map.json:   0%|          | 0.00/346 [00:00<?, ?B/s]"
            ]
          },
          "metadata": {},
          "output_type": "display_data"
        },
        {
          "data": {
            "application/vnd.jupyter.widget-view+json": {
              "model_id": "8753951bfe0b4cf2afc4756c18c7544e",
              "version_major": 2,
              "version_minor": 0
            },
            "text/plain": [
              "config.json:   0%|          | 0.00/1.09k [00:00<?, ?B/s]"
            ]
          },
          "metadata": {},
          "output_type": "display_data"
        },
        {
          "data": {
            "application/vnd.jupyter.widget-view+json": {
              "model_id": "3ce010f399864dafaf136fc1c04f50a5",
              "version_major": 2,
              "version_minor": 0
            },
            "text/plain": [
              "model.safetensors:   0%|          | 0.00/469M [00:00<?, ?B/s]"
            ]
          },
          "metadata": {},
          "output_type": "display_data"
        },
        {
          "name": "stderr",
          "output_type": "stream",
          "text": [
            "/usr/local/lib/python3.10/dist-packages/tf_keras/src/initializers/initializers.py:121: UserWarning: The initializer TruncatedNormal is unseeded and being called multiple times, which will return identical values each time (even if the initializer is unseeded). Please update your code to provide a seed to the initializer, or avoid using the same initializer instance more than once.\n",
            "  warnings.warn(\n",
            "All PyTorch model weights were used when initializing TFXLNetForSequenceClassification.\n",
            "\n",
            "All the weights of TFXLNetForSequenceClassification were initialized from the PyTorch model.\n",
            "If your task is similar to the task the model of the checkpoint was trained on, you can already use TFXLNetForSequenceClassification for predictions without further training.\n",
            "Processing reviews:   0%|          | 0/949 [00:00<?, ?batch/s]"
          ]
        },
        {
          "name": "stdout",
          "output_type": "stream",
          "text": [
            "2/2 [==============================] - 9s 63ms/step\n"
          ]
        },
        {
          "name": "stderr",
          "output_type": "stream",
          "text": [
            "\rProcessing reviews:   0%|          | 1/949 [00:10<2:44:59, 10.44s/batch]"
          ]
        },
        {
          "name": "stdout",
          "output_type": "stream",
          "text": [
            "2/2 [==============================] - 5s 529ms/step\n"
          ]
        },
        {
          "name": "stderr",
          "output_type": "stream",
          "text": [
            "\rProcessing reviews:   0%|          | 2/949 [00:16<2:03:11,  7.80s/batch]"
          ]
        },
        {
          "name": "stdout",
          "output_type": "stream",
          "text": [
            "2/2 [==============================] - 4s 2s/step\n"
          ]
        },
        {
          "name": "stderr",
          "output_type": "stream",
          "text": [
            "\rProcessing reviews:   0%|          | 3/949 [00:21<1:43:13,  6.55s/batch]"
          ]
        },
        {
          "name": "stdout",
          "output_type": "stream",
          "text": [
            "2/2 [==============================] - 1s 522ms/step\n"
          ]
        },
        {
          "name": "stderr",
          "output_type": "stream",
          "text": [
            "\rProcessing reviews:   0%|          | 4/949 [00:24<1:19:01,  5.02s/batch]"
          ]
        },
        {
          "name": "stdout",
          "output_type": "stream",
          "text": [
            "2/2 [==============================] - 2s 774ms/step\n"
          ]
        },
        {
          "name": "stderr",
          "output_type": "stream",
          "text": [
            "\rProcessing reviews:   1%|          | 5/949 [00:26<1:04:25,  4.09s/batch]"
          ]
        },
        {
          "name": "stdout",
          "output_type": "stream",
          "text": [
            "2/2 [==============================] - 2s 933ms/step\n"
          ]
        },
        {
          "name": "stderr",
          "output_type": "stream",
          "text": [
            "\rProcessing reviews:   1%|          | 6/949 [00:29<58:14,  3.71s/batch]  "
          ]
        },
        {
          "name": "stdout",
          "output_type": "stream",
          "text": [
            "2/2 [==============================] - 2s 878ms/step\n"
          ]
        },
        {
          "name": "stderr",
          "output_type": "stream",
          "text": [
            "\rProcessing reviews:   1%|          | 7/949 [00:32<53:20,  3.40s/batch]"
          ]
        },
        {
          "name": "stdout",
          "output_type": "stream",
          "text": [
            "2/2 [==============================] - 2s 1s/step\n"
          ]
        },
        {
          "name": "stderr",
          "output_type": "stream",
          "text": [
            "\rProcessing reviews:   1%|          | 8/949 [00:37<1:02:41,  4.00s/batch]"
          ]
        },
        {
          "name": "stdout",
          "output_type": "stream",
          "text": [
            "2/2 [==============================] - 3s 2s/step\n"
          ]
        },
        {
          "name": "stderr",
          "output_type": "stream",
          "text": [
            "\rProcessing reviews:   1%|          | 9/949 [00:42<1:09:09,  4.41s/batch]"
          ]
        },
        {
          "name": "stdout",
          "output_type": "stream",
          "text": [
            "2/2 [==============================] - 3s 1s/step\n"
          ]
        },
        {
          "name": "stderr",
          "output_type": "stream",
          "text": [
            "\rProcessing reviews:   1%|          | 10/949 [00:46<1:06:30,  4.25s/batch]"
          ]
        },
        {
          "name": "stdout",
          "output_type": "stream",
          "text": [
            "2/2 [==============================] - 6s 3s/step\n"
          ]
        },
        {
          "name": "stderr",
          "output_type": "stream",
          "text": [
            "\rProcessing reviews:   1%|          | 11/949 [00:57<1:35:57,  6.14s/batch]"
          ]
        },
        {
          "name": "stdout",
          "output_type": "stream",
          "text": [
            "2/2 [==============================] - 3s 1s/step\n"
          ]
        },
        {
          "name": "stderr",
          "output_type": "stream",
          "text": [
            "\rProcessing reviews:   1%|▏         | 12/949 [01:01<1:25:02,  5.45s/batch]"
          ]
        },
        {
          "name": "stdout",
          "output_type": "stream",
          "text": [
            "2/2 [==============================] - 2s 1s/step\n"
          ]
        },
        {
          "name": "stderr",
          "output_type": "stream",
          "text": [
            "\rProcessing reviews:   1%|▏         | 13/949 [01:04<1:14:56,  4.80s/batch]"
          ]
        },
        {
          "name": "stdout",
          "output_type": "stream",
          "text": [
            "2/2 [==============================] - 2s 777ms/step\n"
          ]
        },
        {
          "name": "stderr",
          "output_type": "stream",
          "text": [
            "\rProcessing reviews:   1%|▏         | 14/949 [01:06<1:02:58,  4.04s/batch]"
          ]
        },
        {
          "name": "stdout",
          "output_type": "stream",
          "text": [
            "2/2 [==============================] - 3s 1s/step\n"
          ]
        },
        {
          "name": "stderr",
          "output_type": "stream",
          "text": [
            "\rProcessing reviews:   2%|▏         | 15/949 [01:11<1:08:36,  4.41s/batch]"
          ]
        },
        {
          "name": "stdout",
          "output_type": "stream",
          "text": [
            "2/2 [==============================] - 1s 472ms/step\n"
          ]
        },
        {
          "name": "stderr",
          "output_type": "stream",
          "text": [
            "\rProcessing reviews:   2%|▏         | 16/949 [01:13<55:26,  3.56s/batch]  "
          ]
        },
        {
          "name": "stdout",
          "output_type": "stream",
          "text": [
            "2/2 [==============================] - 2s 795ms/step\n"
          ]
        },
        {
          "name": "stderr",
          "output_type": "stream",
          "text": [
            "\rProcessing reviews:   2%|▏         | 17/949 [01:16<51:20,  3.31s/batch]"
          ]
        },
        {
          "name": "stdout",
          "output_type": "stream",
          "text": [
            "2/2 [==============================] - 2s 1s/step\n"
          ]
        },
        {
          "name": "stderr",
          "output_type": "stream",
          "text": [
            "\rProcessing reviews:   2%|▏         | 18/949 [01:19<51:25,  3.31s/batch]"
          ]
        },
        {
          "name": "stdout",
          "output_type": "stream",
          "text": [
            "2/2 [==============================] - 2s 817ms/step\n"
          ]
        },
        {
          "name": "stderr",
          "output_type": "stream",
          "text": [
            "\rProcessing reviews:   2%|▏         | 19/949 [01:22<48:34,  3.13s/batch]"
          ]
        },
        {
          "name": "stdout",
          "output_type": "stream",
          "text": [
            "2/2 [==============================] - 2s 1s/step\n"
          ]
        },
        {
          "name": "stderr",
          "output_type": "stream",
          "text": [
            "\rProcessing reviews:   2%|▏         | 20/949 [01:25<49:45,  3.21s/batch]"
          ]
        },
        {
          "name": "stdout",
          "output_type": "stream",
          "text": [
            "2/2 [==============================] - 1s 594ms/step\n"
          ]
        },
        {
          "name": "stderr",
          "output_type": "stream",
          "text": [
            "\rProcessing reviews:   2%|▏         | 21/949 [01:28<47:14,  3.05s/batch]"
          ]
        },
        {
          "name": "stdout",
          "output_type": "stream",
          "text": [
            "2/2 [==============================] - 4s 2s/step\n"
          ]
        },
        {
          "name": "stderr",
          "output_type": "stream",
          "text": [
            "\rProcessing reviews:   2%|▏         | 22/949 [01:33<58:44,  3.80s/batch]"
          ]
        },
        {
          "name": "stdout",
          "output_type": "stream",
          "text": [
            "2/2 [==============================] - 1s 723ms/step\n"
          ]
        },
        {
          "name": "stderr",
          "output_type": "stream",
          "text": [
            "\rProcessing reviews:   2%|▏         | 23/949 [01:36<53:36,  3.47s/batch]"
          ]
        },
        {
          "name": "stdout",
          "output_type": "stream",
          "text": [
            "2/2 [==============================] - 1s 617ms/step\n"
          ]
        },
        {
          "name": "stderr",
          "output_type": "stream",
          "text": [
            "\rProcessing reviews:   3%|▎         | 24/949 [01:39<50:05,  3.25s/batch]"
          ]
        },
        {
          "name": "stdout",
          "output_type": "stream",
          "text": [
            "2/2 [==============================] - 2s 793ms/step\n"
          ]
        },
        {
          "name": "stderr",
          "output_type": "stream",
          "text": [
            "\rProcessing reviews:   3%|▎         | 25/949 [01:41<45:38,  2.96s/batch]"
          ]
        },
        {
          "name": "stdout",
          "output_type": "stream",
          "text": [
            "2/2 [==============================] - 2s 1s/step\n"
          ]
        },
        {
          "name": "stderr",
          "output_type": "stream",
          "text": [
            "\rProcessing reviews:   3%|▎         | 26/949 [01:44<45:46,  2.98s/batch]"
          ]
        },
        {
          "name": "stdout",
          "output_type": "stream",
          "text": [
            "2/2 [==============================] - 3s 1s/step\n"
          ]
        },
        {
          "name": "stderr",
          "output_type": "stream",
          "text": [
            "\rProcessing reviews:   3%|▎         | 27/949 [01:48<50:03,  3.26s/batch]"
          ]
        },
        {
          "name": "stdout",
          "output_type": "stream",
          "text": [
            "2/2 [==============================] - 2s 1s/step\n"
          ]
        },
        {
          "name": "stderr",
          "output_type": "stream",
          "text": [
            "\rProcessing reviews:   3%|▎         | 28/949 [01:51<48:59,  3.19s/batch]"
          ]
        },
        {
          "name": "stdout",
          "output_type": "stream",
          "text": [
            "2/2 [==============================] - 2s 906ms/step\n"
          ]
        },
        {
          "name": "stderr",
          "output_type": "stream",
          "text": [
            "\rProcessing reviews:   3%|▎         | 29/949 [01:54<47:01,  3.07s/batch]"
          ]
        },
        {
          "name": "stdout",
          "output_type": "stream",
          "text": [
            "2/2 [==============================] - 2s 1s/step\n"
          ]
        },
        {
          "name": "stderr",
          "output_type": "stream",
          "text": [
            "\rProcessing reviews:   3%|▎         | 30/949 [01:57<47:36,  3.11s/batch]"
          ]
        },
        {
          "name": "stdout",
          "output_type": "stream",
          "text": [
            "2/2 [==============================] - 3s 2s/step\n"
          ]
        },
        {
          "name": "stderr",
          "output_type": "stream",
          "text": [
            "\rProcessing reviews:   3%|▎         | 31/949 [02:01<52:50,  3.45s/batch]"
          ]
        },
        {
          "name": "stdout",
          "output_type": "stream",
          "text": [
            "2/2 [==============================] - 2s 931ms/step\n"
          ]
        },
        {
          "name": "stderr",
          "output_type": "stream",
          "text": [
            "\rProcessing reviews:   3%|▎         | 32/949 [02:07<1:01:01,  3.99s/batch]"
          ]
        },
        {
          "name": "stdout",
          "output_type": "stream",
          "text": [
            "2/2 [==============================] - 3s 2s/step\n"
          ]
        },
        {
          "name": "stderr",
          "output_type": "stream",
          "text": [
            "\rProcessing reviews:   3%|▎         | 33/949 [02:12<1:06:51,  4.38s/batch]"
          ]
        },
        {
          "name": "stdout",
          "output_type": "stream",
          "text": [
            "2/2 [==============================] - 3s 1s/step\n"
          ]
        },
        {
          "name": "stderr",
          "output_type": "stream",
          "text": [
            "\rProcessing reviews:   4%|▎         | 34/949 [02:17<1:10:56,  4.65s/batch]"
          ]
        },
        {
          "name": "stdout",
          "output_type": "stream",
          "text": [
            "2/2 [==============================] - 2s 1s/step\n"
          ]
        },
        {
          "name": "stderr",
          "output_type": "stream",
          "text": [
            "\rProcessing reviews:   4%|▎         | 35/949 [02:22<1:13:51,  4.85s/batch]"
          ]
        },
        {
          "name": "stdout",
          "output_type": "stream",
          "text": [
            "2/2 [==============================] - 3s 2s/step\n"
          ]
        },
        {
          "name": "stderr",
          "output_type": "stream",
          "text": [
            "\rProcessing reviews:   4%|▍         | 36/949 [02:27<1:11:37,  4.71s/batch]"
          ]
        },
        {
          "name": "stdout",
          "output_type": "stream",
          "text": [
            "2/2 [==============================] - 1s 407ms/step\n"
          ]
        },
        {
          "name": "stderr",
          "output_type": "stream",
          "text": [
            "\rProcessing reviews:   4%|▍         | 37/949 [02:28<56:22,  3.71s/batch]  "
          ]
        },
        {
          "name": "stdout",
          "output_type": "stream",
          "text": [
            "2/2 [==============================] - 6s 3s/step\n"
          ]
        },
        {
          "name": "stderr",
          "output_type": "stream",
          "text": [
            "\rProcessing reviews:   4%|▍         | 38/949 [02:36<1:13:42,  4.86s/batch]"
          ]
        },
        {
          "name": "stdout",
          "output_type": "stream",
          "text": [
            "2/2 [==============================] - 4s 2s/step\n"
          ]
        },
        {
          "name": "stderr",
          "output_type": "stream",
          "text": [
            "\rProcessing reviews:   4%|▍         | 39/949 [02:41<1:16:16,  5.03s/batch]"
          ]
        },
        {
          "name": "stdout",
          "output_type": "stream",
          "text": [
            "2/2 [==============================] - 3s 1s/step\n"
          ]
        },
        {
          "name": "stderr",
          "output_type": "stream",
          "text": [
            "\rProcessing reviews:   4%|▍         | 40/949 [02:46<1:17:25,  5.11s/batch]"
          ]
        },
        {
          "name": "stdout",
          "output_type": "stream",
          "text": [
            "2/2 [==============================] - 3s 1s/step\n"
          ]
        },
        {
          "name": "stderr",
          "output_type": "stream",
          "text": [
            "\rProcessing reviews:   4%|▍         | 41/949 [02:52<1:18:19,  5.18s/batch]"
          ]
        },
        {
          "name": "stdout",
          "output_type": "stream",
          "text": [
            "2/2 [==============================] - 2s 1s/step\n"
          ]
        },
        {
          "name": "stderr",
          "output_type": "stream",
          "text": [
            "\rProcessing reviews:   4%|▍         | 42/949 [02:55<1:09:24,  4.59s/batch]"
          ]
        },
        {
          "name": "stdout",
          "output_type": "stream",
          "text": [
            "2/2 [==============================] - 2s 863ms/step\n"
          ]
        },
        {
          "name": "stderr",
          "output_type": "stream",
          "text": [
            "\rProcessing reviews:   5%|▍         | 43/949 [02:58<1:00:40,  4.02s/batch]"
          ]
        },
        {
          "name": "stdout",
          "output_type": "stream",
          "text": [
            "2/2 [==============================] - 4s 2s/step\n"
          ]
        },
        {
          "name": "stderr",
          "output_type": "stream",
          "text": [
            "\rProcessing reviews:   5%|▍         | 44/949 [03:03<1:06:15,  4.39s/batch]"
          ]
        },
        {
          "name": "stdout",
          "output_type": "stream",
          "text": [
            "2/2 [==============================] - 3s 1s/step\n"
          ]
        },
        {
          "name": "stderr",
          "output_type": "stream",
          "text": [
            "\rProcessing reviews:   5%|▍         | 45/949 [03:08<1:10:11,  4.66s/batch]"
          ]
        },
        {
          "name": "stdout",
          "output_type": "stream",
          "text": [
            "2/2 [==============================] - 6s 3s/step\n"
          ]
        },
        {
          "name": "stderr",
          "output_type": "stream",
          "text": [
            "\rProcessing reviews:   5%|▍         | 46/949 [03:19<1:36:05,  6.38s/batch]"
          ]
        },
        {
          "name": "stdout",
          "output_type": "stream",
          "text": [
            "2/2 [==============================] - 2s 751ms/step\n"
          ]
        },
        {
          "name": "stderr",
          "output_type": "stream",
          "text": [
            "\rProcessing reviews:   5%|▍         | 47/949 [03:21<1:17:16,  5.14s/batch]"
          ]
        },
        {
          "name": "stdout",
          "output_type": "stream",
          "text": [
            "2/2 [==============================] - 2s 956ms/step\n"
          ]
        },
        {
          "name": "stderr",
          "output_type": "stream",
          "text": [
            "\rProcessing reviews:   5%|▌         | 48/949 [03:24<1:06:24,  4.42s/batch]"
          ]
        },
        {
          "name": "stdout",
          "output_type": "stream",
          "text": [
            "2/2 [==============================] - 2s 1s/step\n"
          ]
        },
        {
          "name": "stderr",
          "output_type": "stream",
          "text": [
            "\rProcessing reviews:   5%|▌         | 49/949 [03:29<1:10:11,  4.68s/batch]"
          ]
        },
        {
          "name": "stdout",
          "output_type": "stream",
          "text": [
            "2/2 [==============================] - 3s 2s/step\n"
          ]
        },
        {
          "name": "stderr",
          "output_type": "stream",
          "text": [
            "\rProcessing reviews:   5%|▌         | 50/949 [03:33<1:08:18,  4.56s/batch]"
          ]
        },
        {
          "name": "stdout",
          "output_type": "stream",
          "text": [
            "2/2 [==============================] - 2s 964ms/step\n"
          ]
        },
        {
          "name": "stderr",
          "output_type": "stream",
          "text": [
            "\rProcessing reviews:   5%|▌         | 51/949 [03:38<1:11:20,  4.77s/batch]"
          ]
        },
        {
          "name": "stdout",
          "output_type": "stream",
          "text": [
            "2/2 [==============================] - 2s 1s/step\n"
          ]
        },
        {
          "name": "stderr",
          "output_type": "stream",
          "text": [
            "\rProcessing reviews:   5%|▌         | 52/949 [03:44<1:13:27,  4.91s/batch]"
          ]
        },
        {
          "name": "stdout",
          "output_type": "stream",
          "text": [
            "2/2 [==============================] - 3s 1s/step\n"
          ]
        },
        {
          "name": "stderr",
          "output_type": "stream",
          "text": [
            "\rProcessing reviews:   6%|▌         | 53/949 [03:49<1:14:57,  5.02s/batch]"
          ]
        },
        {
          "name": "stdout",
          "output_type": "stream",
          "text": [
            "2/2 [==============================] - 2s 1s/step\n"
          ]
        },
        {
          "name": "stderr",
          "output_type": "stream",
          "text": [
            "\rProcessing reviews:   6%|▌         | 54/949 [03:52<1:05:35,  4.40s/batch]"
          ]
        },
        {
          "name": "stdout",
          "output_type": "stream",
          "text": [
            "2/2 [==============================] - 2s 1s/step\n"
          ]
        },
        {
          "name": "stderr",
          "output_type": "stream",
          "text": [
            "\rProcessing reviews:   6%|▌         | 55/949 [03:57<1:09:31,  4.67s/batch]"
          ]
        },
        {
          "name": "stdout",
          "output_type": "stream",
          "text": [
            "2/2 [==============================] - 3s 2s/step\n"
          ]
        },
        {
          "name": "stderr",
          "output_type": "stream",
          "text": [
            "\rProcessing reviews:   6%|▌         | 56/949 [04:03<1:12:21,  4.86s/batch]"
          ]
        },
        {
          "name": "stdout",
          "output_type": "stream",
          "text": [
            "2/2 [==============================] - 2s 1s/step\n"
          ]
        },
        {
          "name": "stderr",
          "output_type": "stream",
          "text": [
            "\rProcessing reviews:   6%|▌         | 57/949 [04:08<1:14:13,  4.99s/batch]"
          ]
        },
        {
          "name": "stdout",
          "output_type": "stream",
          "text": [
            "2/2 [==============================] - 1s 699ms/step\n"
          ]
        },
        {
          "name": "stderr",
          "output_type": "stream",
          "text": [
            "\rProcessing reviews:   6%|▌         | 58/949 [04:11<1:04:11,  4.32s/batch]"
          ]
        },
        {
          "name": "stdout",
          "output_type": "stream",
          "text": [
            "2/2 [==============================] - 3s 1s/step\n"
          ]
        },
        {
          "name": "stderr",
          "output_type": "stream",
          "text": [
            "\rProcessing reviews:   6%|▌         | 59/949 [04:14<1:01:25,  4.14s/batch]"
          ]
        },
        {
          "name": "stdout",
          "output_type": "stream",
          "text": [
            "2/2 [==============================] - 1s 711ms/step\n"
          ]
        },
        {
          "name": "stderr",
          "output_type": "stream",
          "text": [
            "\rProcessing reviews:   6%|▋         | 60/949 [04:17<54:57,  3.71s/batch]  "
          ]
        },
        {
          "name": "stdout",
          "output_type": "stream",
          "text": [
            "2/2 [==============================] - 2s 1s/step\n"
          ]
        },
        {
          "name": "stderr",
          "output_type": "stream",
          "text": [
            "\rProcessing reviews:   6%|▋         | 61/949 [04:22<1:01:57,  4.19s/batch]"
          ]
        },
        {
          "name": "stdout",
          "output_type": "stream",
          "text": [
            "2/2 [==============================] - 6s 3s/step\n"
          ]
        },
        {
          "name": "stderr",
          "output_type": "stream",
          "text": [
            "\rProcessing reviews:   7%|▋         | 62/949 [04:30<1:17:45,  5.26s/batch]"
          ]
        },
        {
          "name": "stdout",
          "output_type": "stream",
          "text": [
            "2/2 [==============================] - 4s 2s/step\n"
          ]
        },
        {
          "name": "stderr",
          "output_type": "stream",
          "text": [
            "\rProcessing reviews:   7%|▋         | 63/949 [04:35<1:17:56,  5.28s/batch]"
          ]
        },
        {
          "name": "stdout",
          "output_type": "stream",
          "text": [
            "2/2 [==============================] - 1s 696ms/step\n"
          ]
        },
        {
          "name": "stderr",
          "output_type": "stream",
          "text": [
            "\rProcessing reviews:   7%|▋         | 64/949 [04:38<1:06:47,  4.53s/batch]"
          ]
        },
        {
          "name": "stdout",
          "output_type": "stream",
          "text": [
            "2/2 [==============================] - 4s 2s/step\n"
          ]
        },
        {
          "name": "stderr",
          "output_type": "stream",
          "text": [
            "\rProcessing reviews:   7%|▋         | 65/949 [04:43<1:07:52,  4.61s/batch]"
          ]
        },
        {
          "name": "stdout",
          "output_type": "stream",
          "text": [
            "2/2 [==============================] - 5s 2s/step\n"
          ]
        },
        {
          "name": "stderr",
          "output_type": "stream",
          "text": [
            "\rProcessing reviews:   7%|▋         | 66/949 [04:53<1:33:20,  6.34s/batch]"
          ]
        },
        {
          "name": "stdout",
          "output_type": "stream",
          "text": [
            "2/2 [==============================] - 1s 670ms/step\n"
          ]
        },
        {
          "name": "stderr",
          "output_type": "stream",
          "text": [
            "\rProcessing reviews:   7%|▋         | 67/949 [04:56<1:17:03,  5.24s/batch]"
          ]
        },
        {
          "name": "stdout",
          "output_type": "stream",
          "text": [
            "2/2 [==============================] - 3s 1s/step\n"
          ]
        },
        {
          "name": "stderr",
          "output_type": "stream",
          "text": [
            "\rProcessing reviews:   7%|▋         | 68/949 [05:01<1:17:03,  5.25s/batch]"
          ]
        },
        {
          "name": "stdout",
          "output_type": "stream",
          "text": [
            "2/2 [==============================] - 3s 1s/step\n"
          ]
        },
        {
          "name": "stderr",
          "output_type": "stream",
          "text": [
            "\rProcessing reviews:   7%|▋         | 69/949 [05:07<1:17:03,  5.25s/batch]"
          ]
        },
        {
          "name": "stdout",
          "output_type": "stream",
          "text": [
            "2/2 [==============================] - 4s 2s/step\n"
          ]
        },
        {
          "name": "stderr",
          "output_type": "stream",
          "text": [
            "\rProcessing reviews:   7%|▋         | 70/949 [05:11<1:15:15,  5.14s/batch]"
          ]
        },
        {
          "name": "stdout",
          "output_type": "stream",
          "text": [
            "2/2 [==============================] - 2s 1s/step\n"
          ]
        },
        {
          "name": "stderr",
          "output_type": "stream",
          "text": [
            "\rProcessing reviews:   7%|▋         | 71/949 [05:17<1:15:56,  5.19s/batch]"
          ]
        },
        {
          "name": "stdout",
          "output_type": "stream",
          "text": [
            "2/2 [==============================] - 4s 2s/step\n"
          ]
        },
        {
          "name": "stderr",
          "output_type": "stream",
          "text": [
            "\rProcessing reviews:   8%|▊         | 72/949 [05:22<1:18:07,  5.35s/batch]"
          ]
        },
        {
          "name": "stdout",
          "output_type": "stream",
          "text": [
            "2/2 [==============================] - 6s 3s/step\n"
          ]
        },
        {
          "name": "stderr",
          "output_type": "stream",
          "text": [
            "\rProcessing reviews:   8%|▊         | 73/949 [05:30<1:29:18,  6.12s/batch]"
          ]
        },
        {
          "name": "stdout",
          "output_type": "stream",
          "text": [
            "2/2 [==============================] - 3s 2s/step\n"
          ]
        },
        {
          "name": "stderr",
          "output_type": "stream",
          "text": [
            "\rProcessing reviews:   8%|▊         | 74/949 [05:36<1:25:44,  5.88s/batch]"
          ]
        },
        {
          "name": "stdout",
          "output_type": "stream",
          "text": [
            "2/2 [==============================] - 5s 2s/step\n"
          ]
        },
        {
          "name": "stderr",
          "output_type": "stream",
          "text": [
            "\rProcessing reviews:   8%|▊         | 75/949 [05:46<1:45:37,  7.25s/batch]"
          ]
        },
        {
          "name": "stdout",
          "output_type": "stream",
          "text": [
            "2/2 [==============================] - 3s 1s/step\n"
          ]
        },
        {
          "name": "stderr",
          "output_type": "stream",
          "text": [
            "\rProcessing reviews:   8%|▊         | 76/949 [05:50<1:29:09,  6.13s/batch]"
          ]
        },
        {
          "name": "stdout",
          "output_type": "stream",
          "text": [
            "2/2 [==============================] - 2s 971ms/step\n"
          ]
        },
        {
          "name": "stderr",
          "output_type": "stream",
          "text": [
            "\rProcessing reviews:   8%|▊         | 77/949 [05:52<1:14:25,  5.12s/batch]"
          ]
        },
        {
          "name": "stdout",
          "output_type": "stream",
          "text": [
            "2/2 [==============================] - 4s 2s/step\n"
          ]
        },
        {
          "name": "stderr",
          "output_type": "stream",
          "text": [
            "\rProcessing reviews:   8%|▊         | 78/949 [06:03<1:37:24,  6.71s/batch]"
          ]
        },
        {
          "name": "stdout",
          "output_type": "stream",
          "text": [
            "2/2 [==============================] - 4s 2s/step\n"
          ]
        },
        {
          "name": "stderr",
          "output_type": "stream",
          "text": [
            "\rProcessing reviews:   8%|▊         | 79/949 [06:08<1:28:21,  6.09s/batch]"
          ]
        },
        {
          "name": "stdout",
          "output_type": "stream",
          "text": [
            "2/2 [==============================] - 5s 2s/step\n"
          ]
        },
        {
          "name": "stderr",
          "output_type": "stream",
          "text": [
            "\rProcessing reviews:   8%|▊         | 80/949 [06:18<1:47:01,  7.39s/batch]"
          ]
        },
        {
          "name": "stdout",
          "output_type": "stream",
          "text": [
            "2/2 [==============================] - 4s 2s/step\n"
          ]
        },
        {
          "name": "stderr",
          "output_type": "stream",
          "text": [
            "\rProcessing reviews:   9%|▊         | 81/949 [06:28<1:59:54,  8.29s/batch]"
          ]
        },
        {
          "name": "stdout",
          "output_type": "stream",
          "text": [
            "2/2 [==============================] - 2s 973ms/step\n"
          ]
        },
        {
          "name": "stderr",
          "output_type": "stream",
          "text": [
            "\rProcessing reviews:   9%|▊         | 82/949 [06:34<1:46:39,  7.38s/batch]"
          ]
        },
        {
          "name": "stdout",
          "output_type": "stream",
          "text": [
            "2/2 [==============================] - 5s 3s/step\n"
          ]
        },
        {
          "name": "stderr",
          "output_type": "stream",
          "text": [
            "\rProcessing reviews:   9%|▊         | 83/949 [06:41<1:45:21,  7.30s/batch]"
          ]
        },
        {
          "name": "stdout",
          "output_type": "stream",
          "text": [
            "2/2 [==============================] - 5s 2s/step\n"
          ]
        },
        {
          "name": "stderr",
          "output_type": "stream",
          "text": [
            "\rProcessing reviews:   9%|▉         | 84/949 [06:47<1:40:10,  6.95s/batch]"
          ]
        },
        {
          "name": "stdout",
          "output_type": "stream",
          "text": [
            "2/2 [==============================] - 4s 2s/step\n"
          ]
        },
        {
          "name": "stderr",
          "output_type": "stream",
          "text": [
            "\rProcessing reviews:   9%|▉         | 85/949 [06:53<1:34:49,  6.59s/batch]"
          ]
        },
        {
          "name": "stdout",
          "output_type": "stream",
          "text": [
            "2/2 [==============================] - 2s 823ms/step\n"
          ]
        },
        {
          "name": "stderr",
          "output_type": "stream",
          "text": [
            "\rProcessing reviews:   9%|▉         | 86/949 [06:55<1:18:17,  5.44s/batch]"
          ]
        },
        {
          "name": "stdout",
          "output_type": "stream",
          "text": [
            "2/2 [==============================] - 2s 977ms/step\n"
          ]
        },
        {
          "name": "stderr",
          "output_type": "stream",
          "text": [
            "\rProcessing reviews:   9%|▉         | 87/949 [07:01<1:17:37,  5.40s/batch]"
          ]
        },
        {
          "name": "stdout",
          "output_type": "stream",
          "text": [
            "2/2 [==============================] - 1s 794ms/step\n"
          ]
        },
        {
          "name": "stderr",
          "output_type": "stream",
          "text": [
            "\rProcessing reviews:   9%|▉         | 88/949 [07:03<1:04:18,  4.48s/batch]"
          ]
        },
        {
          "name": "stdout",
          "output_type": "stream",
          "text": [
            "2/2 [==============================] - 4s 2s/step\n"
          ]
        },
        {
          "name": "stderr",
          "output_type": "stream",
          "text": [
            "\rProcessing reviews:   9%|▉         | 89/949 [07:13<1:29:42,  6.26s/batch]"
          ]
        },
        {
          "name": "stdout",
          "output_type": "stream",
          "text": [
            "2/2 [==============================] - 3s 1s/step\n"
          ]
        },
        {
          "name": "stderr",
          "output_type": "stream",
          "text": [
            "\rProcessing reviews:   9%|▉         | 90/949 [07:19<1:25:16,  5.96s/batch]"
          ]
        },
        {
          "name": "stdout",
          "output_type": "stream",
          "text": [
            "2/2 [==============================] - 2s 1s/step\n"
          ]
        },
        {
          "name": "stderr",
          "output_type": "stream",
          "text": [
            "\rProcessing reviews:  10%|▉         | 91/949 [07:22<1:13:09,  5.12s/batch]"
          ]
        },
        {
          "name": "stdout",
          "output_type": "stream",
          "text": [
            "2/2 [==============================] - 3s 2s/step\n"
          ]
        },
        {
          "name": "stderr",
          "output_type": "stream",
          "text": [
            "\rProcessing reviews:  10%|▉         | 92/949 [07:26<1:09:13,  4.85s/batch]"
          ]
        },
        {
          "name": "stdout",
          "output_type": "stream",
          "text": [
            "2/2 [==============================] - 6s 3s/step\n"
          ]
        },
        {
          "name": "stderr",
          "output_type": "stream",
          "text": [
            "\rProcessing reviews:  10%|▉         | 93/949 [07:37<1:33:21,  6.54s/batch]"
          ]
        },
        {
          "name": "stdout",
          "output_type": "stream",
          "text": [
            "2/2 [==============================] - 2s 938ms/step\n"
          ]
        },
        {
          "name": "stderr",
          "output_type": "stream",
          "text": [
            "\rProcessing reviews:  10%|▉         | 94/949 [07:39<1:17:10,  5.42s/batch]"
          ]
        },
        {
          "name": "stdout",
          "output_type": "stream",
          "text": [
            "2/2 [==============================] - 1s 624ms/step\n"
          ]
        },
        {
          "name": "stderr",
          "output_type": "stream",
          "text": [
            "\rProcessing reviews:  10%|█         | 95/949 [07:42<1:05:24,  4.60s/batch]"
          ]
        },
        {
          "name": "stdout",
          "output_type": "stream",
          "text": [
            "2/2 [==============================] - 2s 853ms/step\n"
          ]
        },
        {
          "name": "stderr",
          "output_type": "stream",
          "text": [
            "\rProcessing reviews:  10%|█         | 96/949 [07:45<57:09,  4.02s/batch]  "
          ]
        },
        {
          "name": "stdout",
          "output_type": "stream",
          "text": [
            "2/2 [==============================] - 2s 854ms/step\n"
          ]
        },
        {
          "name": "stderr",
          "output_type": "stream",
          "text": [
            "\rProcessing reviews:  10%|█         | 97/949 [07:47<50:18,  3.54s/batch]"
          ]
        },
        {
          "name": "stdout",
          "output_type": "stream",
          "text": [
            "2/2 [==============================] - 2s 1s/step\n"
          ]
        },
        {
          "name": "stderr",
          "output_type": "stream",
          "text": [
            "\rProcessing reviews:  10%|█         | 98/949 [07:50<49:36,  3.50s/batch]"
          ]
        },
        {
          "name": "stdout",
          "output_type": "stream",
          "text": [
            "2/2 [==============================] - 5s 2s/step\n"
          ]
        },
        {
          "name": "stderr",
          "output_type": "stream",
          "text": [
            "\rProcessing reviews:  10%|█         | 99/949 [08:01<1:19:10,  5.59s/batch]"
          ]
        },
        {
          "name": "stdout",
          "output_type": "stream",
          "text": [
            "2/2 [==============================] - 1s 594ms/step\n"
          ]
        },
        {
          "name": "stderr",
          "output_type": "stream",
          "text": [
            "\rProcessing reviews:  11%|█         | 100/949 [08:04<1:06:47,  4.72s/batch]"
          ]
        },
        {
          "name": "stdout",
          "output_type": "stream",
          "text": [
            "2/2 [==============================] - 2s 925ms/step\n"
          ]
        },
        {
          "name": "stderr",
          "output_type": "stream",
          "text": [
            "\rProcessing reviews:  11%|█         | 101/949 [08:06<58:46,  4.16s/batch]  "
          ]
        },
        {
          "name": "stdout",
          "output_type": "stream",
          "text": [
            "2/2 [==============================] - 5s 3s/step\n"
          ]
        },
        {
          "name": "stderr",
          "output_type": "stream",
          "text": [
            "\rProcessing reviews:  11%|█         | 102/949 [08:17<1:25:23,  6.05s/batch]"
          ]
        },
        {
          "name": "stdout",
          "output_type": "stream",
          "text": [
            "2/2 [==============================] - 2s 839ms/step\n"
          ]
        },
        {
          "name": "stderr",
          "output_type": "stream",
          "text": [
            "\rProcessing reviews:  11%|█         | 103/949 [08:20<1:11:17,  5.06s/batch]"
          ]
        },
        {
          "name": "stdout",
          "output_type": "stream",
          "text": [
            "2/2 [==============================] - 2s 1s/step\n"
          ]
        },
        {
          "name": "stderr",
          "output_type": "stream",
          "text": [
            "\rProcessing reviews:  11%|█         | 104/949 [08:25<1:12:22,  5.14s/batch]"
          ]
        },
        {
          "name": "stdout",
          "output_type": "stream",
          "text": [
            "2/2 [==============================] - 3s 1s/step\n"
          ]
        },
        {
          "name": "stderr",
          "output_type": "stream",
          "text": [
            "\rProcessing reviews:  11%|█         | 105/949 [08:29<1:05:21,  4.65s/batch]"
          ]
        },
        {
          "name": "stdout",
          "output_type": "stream",
          "text": [
            "2/2 [==============================] - 3s 2s/step\n"
          ]
        },
        {
          "name": "stderr",
          "output_type": "stream",
          "text": [
            "\rProcessing reviews:  11%|█         | 106/949 [08:34<1:08:02,  4.84s/batch]"
          ]
        },
        {
          "name": "stdout",
          "output_type": "stream",
          "text": [
            "2/2 [==============================] - 2s 850ms/step\n"
          ]
        },
        {
          "name": "stderr",
          "output_type": "stream",
          "text": [
            "\rProcessing reviews:  11%|█▏        | 107/949 [08:37<59:08,  4.21s/batch]  "
          ]
        },
        {
          "name": "stdout",
          "output_type": "stream",
          "text": [
            "2/2 [==============================] - 6s 3s/step\n"
          ]
        },
        {
          "name": "stderr",
          "output_type": "stream",
          "text": [
            "\rProcessing reviews:  11%|█▏        | 108/949 [08:47<1:25:25,  6.09s/batch]"
          ]
        },
        {
          "name": "stdout",
          "output_type": "stream",
          "text": [
            "2/2 [==============================] - 3s 1s/step\n"
          ]
        },
        {
          "name": "stderr",
          "output_type": "stream",
          "text": [
            "\rProcessing reviews:  11%|█▏        | 109/949 [08:52<1:22:11,  5.87s/batch]"
          ]
        },
        {
          "name": "stdout",
          "output_type": "stream",
          "text": [
            "2/2 [==============================] - 1s 485ms/step\n"
          ]
        },
        {
          "name": "stderr",
          "output_type": "stream",
          "text": [
            "\rProcessing reviews:  12%|█▏        | 110/949 [08:54<1:04:10,  4.59s/batch]"
          ]
        },
        {
          "name": "stdout",
          "output_type": "stream",
          "text": [
            "2/2 [==============================] - 2s 1s/step\n"
          ]
        },
        {
          "name": "stderr",
          "output_type": "stream",
          "text": [
            "\rProcessing reviews:  12%|█▏        | 111/949 [08:59<1:07:06,  4.80s/batch]"
          ]
        },
        {
          "name": "stdout",
          "output_type": "stream",
          "text": [
            "2/2 [==============================] - 2s 816ms/step\n"
          ]
        },
        {
          "name": "stderr",
          "output_type": "stream",
          "text": [
            "\rProcessing reviews:  12%|█▏        | 112/949 [09:02<58:22,  4.18s/batch]  "
          ]
        },
        {
          "name": "stdout",
          "output_type": "stream",
          "text": [
            "2/2 [==============================] - 2s 1s/step\n"
          ]
        },
        {
          "name": "stderr",
          "output_type": "stream",
          "text": [
            "\rProcessing reviews:  12%|█▏        | 113/949 [09:07<1:02:46,  4.51s/batch]"
          ]
        },
        {
          "name": "stdout",
          "output_type": "stream",
          "text": [
            "2/2 [==============================] - 6s 3s/step\n"
          ]
        },
        {
          "name": "stderr",
          "output_type": "stream",
          "text": [
            "\rProcessing reviews:  12%|█▏        | 114/949 [09:18<1:27:21,  6.28s/batch]"
          ]
        },
        {
          "name": "stdout",
          "output_type": "stream",
          "text": [
            "2/2 [==============================] - 1s 689ms/step\n"
          ]
        },
        {
          "name": "stderr",
          "output_type": "stream",
          "text": [
            "\rProcessing reviews:  12%|█▏        | 115/949 [09:20<1:12:13,  5.20s/batch]"
          ]
        },
        {
          "name": "stdout",
          "output_type": "stream",
          "text": [
            "2/2 [==============================] - 1s 620ms/step\n"
          ]
        },
        {
          "name": "stderr",
          "output_type": "stream",
          "text": [
            "\rProcessing reviews:  12%|█▏        | 116/949 [09:23<1:01:38,  4.44s/batch]"
          ]
        },
        {
          "name": "stdout",
          "output_type": "stream",
          "text": [
            "2/2 [==============================] - 1s 307ms/step\n"
          ]
        },
        {
          "name": "stderr",
          "output_type": "stream",
          "text": [
            "\rProcessing reviews:  12%|█▏        | 117/949 [09:24<47:22,  3.42s/batch]  "
          ]
        },
        {
          "name": "stdout",
          "output_type": "stream",
          "text": [
            "2/2 [==============================] - 1s 744ms/step\n"
          ]
        },
        {
          "name": "stderr",
          "output_type": "stream",
          "text": [
            "\rProcessing reviews:  12%|█▏        | 118/949 [09:27<44:22,  3.20s/batch]"
          ]
        },
        {
          "name": "stdout",
          "output_type": "stream",
          "text": [
            "2/2 [==============================] - 3s 2s/step\n"
          ]
        },
        {
          "name": "stderr",
          "output_type": "stream",
          "text": [
            "\rProcessing reviews:  13%|█▎        | 119/949 [09:32<53:04,  3.84s/batch]"
          ]
        },
        {
          "name": "stdout",
          "output_type": "stream",
          "text": [
            "2/2 [==============================] - 2s 895ms/step\n"
          ]
        },
        {
          "name": "stderr",
          "output_type": "stream",
          "text": [
            "\rProcessing reviews:  13%|█▎        | 120/949 [09:35<47:54,  3.47s/batch]"
          ]
        },
        {
          "name": "stdout",
          "output_type": "stream",
          "text": [
            "2/2 [==============================] - 4s 2s/step\n"
          ]
        },
        {
          "name": "stderr",
          "output_type": "stream",
          "text": [
            "\rProcessing reviews:  13%|█▎        | 121/949 [09:40<55:26,  4.02s/batch]"
          ]
        },
        {
          "name": "stdout",
          "output_type": "stream",
          "text": [
            "2/2 [==============================] - 3s 2s/step\n"
          ]
        },
        {
          "name": "stderr",
          "output_type": "stream",
          "text": [
            "\rProcessing reviews:  13%|█▎        | 122/949 [09:45<1:00:44,  4.41s/batch]"
          ]
        },
        {
          "name": "stdout",
          "output_type": "stream",
          "text": [
            "2/2 [==============================] - 2s 1s/step\n"
          ]
        },
        {
          "name": "stderr",
          "output_type": "stream",
          "text": [
            "\rProcessing reviews:  13%|█▎        | 123/949 [09:48<55:29,  4.03s/batch]  "
          ]
        },
        {
          "name": "stdout",
          "output_type": "stream",
          "text": [
            "2/2 [==============================] - 1s 709ms/step\n"
          ]
        },
        {
          "name": "stderr",
          "output_type": "stream",
          "text": [
            "\rProcessing reviews:  13%|█▎        | 124/949 [09:51<47:14,  3.44s/batch]"
          ]
        },
        {
          "name": "stdout",
          "output_type": "stream",
          "text": [
            "2/2 [==============================] - 2s 1s/step\n"
          ]
        },
        {
          "name": "stderr",
          "output_type": "stream",
          "text": [
            "\rProcessing reviews:  13%|█▎        | 125/949 [09:56<54:51,  3.99s/batch]"
          ]
        },
        {
          "name": "stdout",
          "output_type": "stream",
          "text": [
            "2/2 [==============================] - 2s 827ms/step\n"
          ]
        },
        {
          "name": "stderr",
          "output_type": "stream",
          "text": [
            "\rProcessing reviews:  13%|█▎        | 126/949 [09:58<48:35,  3.54s/batch]"
          ]
        },
        {
          "name": "stdout",
          "output_type": "stream",
          "text": [
            "2/2 [==============================] - 1s 739ms/step\n"
          ]
        },
        {
          "name": "stderr",
          "output_type": "stream",
          "text": [
            "\rProcessing reviews:  13%|█▎        | 127/949 [10:01<45:00,  3.29s/batch]"
          ]
        },
        {
          "name": "stdout",
          "output_type": "stream",
          "text": [
            "2/2 [==============================] - 3s 2s/step\n"
          ]
        },
        {
          "name": "stderr",
          "output_type": "stream",
          "text": [
            "\rProcessing reviews:  13%|█▎        | 128/949 [10:05<48:39,  3.56s/batch]"
          ]
        },
        {
          "name": "stdout",
          "output_type": "stream",
          "text": [
            "2/2 [==============================] - 1s 714ms/step\n"
          ]
        },
        {
          "name": "stderr",
          "output_type": "stream",
          "text": [
            "\rProcessing reviews:  14%|█▎        | 129/949 [10:08<45:07,  3.30s/batch]"
          ]
        },
        {
          "name": "stdout",
          "output_type": "stream",
          "text": [
            "2/2 [==============================] - 3s 1s/step\n"
          ]
        },
        {
          "name": "stderr",
          "output_type": "stream",
          "text": [
            "\rProcessing reviews:  14%|█▎        | 130/949 [10:12<46:54,  3.44s/batch]"
          ]
        },
        {
          "name": "stdout",
          "output_type": "stream",
          "text": [
            "2/2 [==============================] - 3s 2s/step\n"
          ]
        },
        {
          "name": "stderr",
          "output_type": "stream",
          "text": [
            "\rProcessing reviews:  14%|█▍        | 131/949 [10:17<54:17,  3.98s/batch]"
          ]
        },
        {
          "name": "stdout",
          "output_type": "stream",
          "text": [
            "2/2 [==============================] - 6s 3s/step\n"
          ]
        },
        {
          "name": "stderr",
          "output_type": "stream",
          "text": [
            "\rProcessing reviews:  14%|█▍        | 132/949 [10:27<1:20:25,  5.91s/batch]"
          ]
        },
        {
          "name": "stdout",
          "output_type": "stream",
          "text": [
            "2/2 [==============================] - 3s 1s/step\n"
          ]
        },
        {
          "name": "stderr",
          "output_type": "stream",
          "text": [
            "\rProcessing reviews:  14%|█▍        | 133/949 [10:33<1:17:41,  5.71s/batch]"
          ]
        },
        {
          "name": "stdout",
          "output_type": "stream",
          "text": [
            "2/2 [==============================] - 2s 977ms/step\n"
          ]
        },
        {
          "name": "stderr",
          "output_type": "stream",
          "text": [
            "\rProcessing reviews:  14%|█▍        | 134/949 [10:38<1:15:48,  5.58s/batch]"
          ]
        },
        {
          "name": "stdout",
          "output_type": "stream",
          "text": [
            "2/2 [==============================] - 1s 652ms/step\n"
          ]
        },
        {
          "name": "stderr",
          "output_type": "stream",
          "text": [
            "\rProcessing reviews:  14%|█▍        | 135/949 [10:40<1:01:25,  4.53s/batch]"
          ]
        },
        {
          "name": "stdout",
          "output_type": "stream",
          "text": [
            "2/2 [==============================] - 4s 2s/step\n"
          ]
        },
        {
          "name": "stderr",
          "output_type": "stream",
          "text": [
            "\rProcessing reviews:  14%|█▍        | 136/949 [10:45<1:04:24,  4.75s/batch]"
          ]
        },
        {
          "name": "stdout",
          "output_type": "stream",
          "text": [
            "2/2 [==============================] - 2s 1s/step\n"
          ]
        },
        {
          "name": "stderr",
          "output_type": "stream",
          "text": [
            "\rProcessing reviews:  14%|█▍        | 137/949 [10:50<1:06:33,  4.92s/batch]"
          ]
        },
        {
          "name": "stdout",
          "output_type": "stream",
          "text": [
            "2/2 [==============================] - 3s 1s/step\n"
          ]
        },
        {
          "name": "stderr",
          "output_type": "stream",
          "text": [
            "\rProcessing reviews:  15%|█▍        | 138/949 [10:56<1:08:09,  5.04s/batch]"
          ]
        },
        {
          "name": "stdout",
          "output_type": "stream",
          "text": [
            "2/2 [==============================] - 6s 3s/step\n"
          ]
        },
        {
          "name": "stderr",
          "output_type": "stream",
          "text": [
            "\rProcessing reviews:  15%|█▍        | 139/949 [11:06<1:29:48,  6.65s/batch]"
          ]
        },
        {
          "name": "stdout",
          "output_type": "stream",
          "text": [
            "2/2 [==============================] - 2s 864ms/step\n"
          ]
        },
        {
          "name": "stderr",
          "output_type": "stream",
          "text": [
            "\rProcessing reviews:  15%|█▍        | 140/949 [11:09<1:13:42,  5.47s/batch]"
          ]
        },
        {
          "name": "stdout",
          "output_type": "stream",
          "text": [
            "2/2 [==============================] - 1s 677ms/step\n"
          ]
        },
        {
          "name": "stderr",
          "output_type": "stream",
          "text": [
            "\rProcessing reviews:  15%|█▍        | 141/949 [11:12<1:02:26,  4.64s/batch]"
          ]
        },
        {
          "name": "stdout",
          "output_type": "stream",
          "text": [
            "2/2 [==============================] - 5s 2s/step\n"
          ]
        },
        {
          "name": "stderr",
          "output_type": "stream",
          "text": [
            "\rProcessing reviews:  15%|█▍        | 142/949 [11:22<1:25:36,  6.37s/batch]"
          ]
        },
        {
          "name": "stdout",
          "output_type": "stream",
          "text": [
            "2/2 [==============================] - 2s 1s/step\n"
          ]
        },
        {
          "name": "stderr",
          "output_type": "stream",
          "text": [
            "\rProcessing reviews:  15%|█▌        | 143/949 [11:27<1:21:00,  6.03s/batch]"
          ]
        },
        {
          "name": "stdout",
          "output_type": "stream",
          "text": [
            "2/2 [==============================] - 3s 1s/step\n"
          ]
        },
        {
          "name": "stderr",
          "output_type": "stream",
          "text": [
            "\rProcessing reviews:  15%|█▌        | 144/949 [11:33<1:18:03,  5.82s/batch]"
          ]
        },
        {
          "name": "stdout",
          "output_type": "stream",
          "text": [
            "2/2 [==============================] - 2s 1s/step\n"
          ]
        },
        {
          "name": "stderr",
          "output_type": "stream",
          "text": [
            "\rProcessing reviews:  15%|█▌        | 145/949 [11:36<1:06:37,  4.97s/batch]"
          ]
        },
        {
          "name": "stdout",
          "output_type": "stream",
          "text": [
            "2/2 [==============================] - 4s 2s/step\n"
          ]
        },
        {
          "name": "stderr",
          "output_type": "stream",
          "text": [
            "\rProcessing reviews:  15%|█▌        | 146/949 [11:41<1:07:45,  5.06s/batch]"
          ]
        },
        {
          "name": "stdout",
          "output_type": "stream",
          "text": [
            "2/2 [==============================] - 2s 974ms/step\n"
          ]
        },
        {
          "name": "stderr",
          "output_type": "stream",
          "text": [
            "\rProcessing reviews:  15%|█▌        | 147/949 [11:46<1:08:32,  5.13s/batch]"
          ]
        },
        {
          "name": "stdout",
          "output_type": "stream",
          "text": [
            "2/2 [==============================] - 2s 890ms/step\n"
          ]
        },
        {
          "name": "stderr",
          "output_type": "stream",
          "text": [
            "\rProcessing reviews:  16%|█▌        | 148/949 [11:49<58:54,  4.41s/batch]  "
          ]
        },
        {
          "name": "stdout",
          "output_type": "stream",
          "text": [
            "2/2 [==============================] - 2s 1s/step\n"
          ]
        },
        {
          "name": "stderr",
          "output_type": "stream",
          "text": [
            "\rProcessing reviews:  16%|█▌        | 149/949 [11:52<53:51,  4.04s/batch]"
          ]
        },
        {
          "name": "stdout",
          "output_type": "stream",
          "text": [
            "2/2 [==============================] - 3s 2s/step\n"
          ]
        },
        {
          "name": "stderr",
          "output_type": "stream",
          "text": [
            "\rProcessing reviews:  16%|█▌        | 150/949 [11:57<58:55,  4.42s/batch]"
          ]
        },
        {
          "name": "stdout",
          "output_type": "stream",
          "text": [
            "2/2 [==============================] - 2s 815ms/step\n"
          ]
        },
        {
          "name": "stderr",
          "output_type": "stream",
          "text": [
            "\rProcessing reviews:  16%|█▌        | 151/949 [12:00<51:37,  3.88s/batch]"
          ]
        },
        {
          "name": "stdout",
          "output_type": "stream",
          "text": [
            "2/2 [==============================] - 2s 842ms/step\n"
          ]
        },
        {
          "name": "stderr",
          "output_type": "stream",
          "text": [
            "\rProcessing reviews:  16%|█▌        | 152/949 [12:03<47:01,  3.54s/batch]"
          ]
        },
        {
          "name": "stdout",
          "output_type": "stream",
          "text": [
            "2/2 [==============================] - 3s 1s/step\n"
          ]
        },
        {
          "name": "stderr",
          "output_type": "stream",
          "text": [
            "\rProcessing reviews:  16%|█▌        | 153/949 [12:06<47:37,  3.59s/batch]"
          ]
        },
        {
          "name": "stdout",
          "output_type": "stream",
          "text": [
            "2/2 [==============================] - 6s 3s/step\n"
          ]
        },
        {
          "name": "stderr",
          "output_type": "stream",
          "text": [
            "\rProcessing reviews:  16%|█▌        | 154/949 [12:17<1:14:41,  5.64s/batch]"
          ]
        },
        {
          "name": "stdout",
          "output_type": "stream",
          "text": [
            "2/2 [==============================] - 2s 764ms/step\n"
          ]
        },
        {
          "name": "stderr",
          "output_type": "stream",
          "text": [
            "\rProcessing reviews:  16%|█▋        | 155/949 [12:19<1:01:10,  4.62s/batch]"
          ]
        },
        {
          "name": "stdout",
          "output_type": "stream",
          "text": [
            "2/2 [==============================] - 2s 1s/step\n"
          ]
        },
        {
          "name": "stderr",
          "output_type": "stream",
          "text": [
            "\rProcessing reviews:  16%|█▋        | 156/949 [12:24<1:03:36,  4.81s/batch]"
          ]
        },
        {
          "name": "stdout",
          "output_type": "stream",
          "text": [
            "2/2 [==============================] - 2s 1s/step\n"
          ]
        },
        {
          "name": "stderr",
          "output_type": "stream",
          "text": [
            "\rProcessing reviews:  17%|█▋        | 157/949 [12:28<57:35,  4.36s/batch]  "
          ]
        },
        {
          "name": "stdout",
          "output_type": "stream",
          "text": [
            "2/2 [==============================] - 2s 817ms/step\n"
          ]
        },
        {
          "name": "stderr",
          "output_type": "stream",
          "text": [
            "\rProcessing reviews:  17%|█▋        | 158/949 [12:30<51:07,  3.88s/batch]"
          ]
        },
        {
          "name": "stdout",
          "output_type": "stream",
          "text": [
            "2/2 [==============================] - 2s 1s/step\n"
          ]
        },
        {
          "name": "stderr",
          "output_type": "stream",
          "text": [
            "\rProcessing reviews:  17%|█▋        | 159/949 [12:36<56:26,  4.29s/batch]"
          ]
        },
        {
          "name": "stdout",
          "output_type": "stream",
          "text": [
            "2/2 [==============================] - 5s 3s/step\n"
          ]
        },
        {
          "name": "stderr",
          "output_type": "stream",
          "text": [
            "\rProcessing reviews:  17%|█▋        | 160/949 [12:46<1:20:27,  6.12s/batch]"
          ]
        },
        {
          "name": "stdout",
          "output_type": "stream",
          "text": [
            "2/2 [==============================] - 2s 871ms/step\n"
          ]
        },
        {
          "name": "stderr",
          "output_type": "stream",
          "text": [
            "\rProcessing reviews:  17%|█▋        | 161/949 [12:49<1:06:24,  5.06s/batch]"
          ]
        },
        {
          "name": "stdout",
          "output_type": "stream",
          "text": [
            "2/2 [==============================] - 2s 1s/step\n"
          ]
        },
        {
          "name": "stderr",
          "output_type": "stream",
          "text": [
            "\rProcessing reviews:  17%|█▋        | 162/949 [12:52<58:44,  4.48s/batch]  "
          ]
        },
        {
          "name": "stdout",
          "output_type": "stream",
          "text": [
            "2/2 [==============================] - 3s 1s/step\n"
          ]
        },
        {
          "name": "stderr",
          "output_type": "stream",
          "text": [
            "\rProcessing reviews:  17%|█▋        | 163/949 [12:57<1:01:52,  4.72s/batch]"
          ]
        },
        {
          "name": "stdout",
          "output_type": "stream",
          "text": [
            "2/2 [==============================] - 2s 945ms/step\n"
          ]
        },
        {
          "name": "stderr",
          "output_type": "stream",
          "text": [
            "\rProcessing reviews:  17%|█▋        | 164/949 [13:00<54:06,  4.14s/batch]  "
          ]
        },
        {
          "name": "stdout",
          "output_type": "stream",
          "text": [
            "2/2 [==============================] - 3s 1s/step\n"
          ]
        },
        {
          "name": "stderr",
          "output_type": "stream",
          "text": [
            "\rProcessing reviews:  17%|█▋        | 165/949 [13:05<58:30,  4.48s/batch]"
          ]
        },
        {
          "name": "stdout",
          "output_type": "stream",
          "text": [
            "2/2 [==============================] - 3s 1s/step\n"
          ]
        },
        {
          "name": "stderr",
          "output_type": "stream",
          "text": [
            "\rProcessing reviews:  17%|█▋        | 166/949 [13:10<1:01:38,  4.72s/batch]"
          ]
        },
        {
          "name": "stdout",
          "output_type": "stream",
          "text": [
            "2/2 [==============================] - 3s 1s/step\n"
          ]
        },
        {
          "name": "stderr",
          "output_type": "stream",
          "text": [
            "\rProcessing reviews:  18%|█▊        | 167/949 [13:16<1:03:56,  4.91s/batch]"
          ]
        },
        {
          "name": "stdout",
          "output_type": "stream",
          "text": [
            "2/2 [==============================] - 2s 1s/step\n"
          ]
        },
        {
          "name": "stderr",
          "output_type": "stream",
          "text": [
            "\rProcessing reviews:  18%|█▊        | 168/949 [13:19<56:10,  4.32s/batch]  "
          ]
        },
        {
          "name": "stdout",
          "output_type": "stream",
          "text": [
            "2/2 [==============================] - 3s 1s/step\n"
          ]
        },
        {
          "name": "stderr",
          "output_type": "stream",
          "text": [
            "\rProcessing reviews:  18%|█▊        | 169/949 [13:24<59:57,  4.61s/batch]"
          ]
        },
        {
          "name": "stdout",
          "output_type": "stream",
          "text": [
            "2/2 [==============================] - 3s 1s/step\n"
          ]
        },
        {
          "name": "stderr",
          "output_type": "stream",
          "text": [
            "\rProcessing reviews:  18%|█▊        | 170/949 [13:28<56:02,  4.32s/batch]"
          ]
        },
        {
          "name": "stdout",
          "output_type": "stream",
          "text": [
            "2/2 [==============================] - 2s 918ms/step\n"
          ]
        },
        {
          "name": "stderr",
          "output_type": "stream",
          "text": [
            "\rProcessing reviews:  18%|█▊        | 171/949 [13:30<49:38,  3.83s/batch]"
          ]
        },
        {
          "name": "stdout",
          "output_type": "stream",
          "text": [
            "2/2 [==============================] - 5s 3s/step\n"
          ]
        },
        {
          "name": "stderr",
          "output_type": "stream",
          "text": [
            "\rProcessing reviews:  18%|█▊        | 172/949 [13:37<1:01:53,  4.78s/batch]"
          ]
        },
        {
          "name": "stdout",
          "output_type": "stream",
          "text": [
            "2/2 [==============================] - 4s 2s/step\n"
          ]
        },
        {
          "name": "stderr",
          "output_type": "stream",
          "text": [
            "\rProcessing reviews:  18%|█▊        | 173/949 [13:43<1:04:33,  4.99s/batch]"
          ]
        },
        {
          "name": "stdout",
          "output_type": "stream",
          "text": [
            "2/2 [==============================] - 2s 803ms/step\n"
          ]
        },
        {
          "name": "stderr",
          "output_type": "stream",
          "text": [
            "\rProcessing reviews:  18%|█▊        | 174/949 [13:45<55:31,  4.30s/batch]  "
          ]
        },
        {
          "name": "stdout",
          "output_type": "stream",
          "text": [
            "2/2 [==============================] - 3s 1s/step\n"
          ]
        },
        {
          "name": "stderr",
          "output_type": "stream",
          "text": [
            "\rProcessing reviews:  18%|█▊        | 175/949 [13:51<59:19,  4.60s/batch]"
          ]
        },
        {
          "name": "stdout",
          "output_type": "stream",
          "text": [
            "2/2 [==============================] - 2s 855ms/step\n"
          ]
        },
        {
          "name": "stderr",
          "output_type": "stream",
          "text": [
            "\rProcessing reviews:  19%|█▊        | 176/949 [13:53<51:36,  4.01s/batch]"
          ]
        },
        {
          "name": "stdout",
          "output_type": "stream",
          "text": [
            "2/2 [==============================] - 2s 833ms/step\n"
          ]
        },
        {
          "name": "stderr",
          "output_type": "stream",
          "text": [
            "\rProcessing reviews:  19%|█▊        | 177/949 [13:56<46:26,  3.61s/batch]"
          ]
        },
        {
          "name": "stdout",
          "output_type": "stream",
          "text": [
            "2/2 [==============================] - 3s 2s/step\n"
          ]
        },
        {
          "name": "stderr",
          "output_type": "stream",
          "text": [
            "\rProcessing reviews:  19%|█▉        | 178/949 [14:01<52:44,  4.10s/batch]"
          ]
        },
        {
          "name": "stdout",
          "output_type": "stream",
          "text": [
            "2/2 [==============================] - 2s 1s/step\n"
          ]
        },
        {
          "name": "stderr",
          "output_type": "stream",
          "text": [
            "\rProcessing reviews:  19%|█▉        | 179/949 [14:04<48:49,  3.80s/batch]"
          ]
        },
        {
          "name": "stdout",
          "output_type": "stream",
          "text": [
            "2/2 [==============================] - 3s 1s/step\n"
          ]
        },
        {
          "name": "stderr",
          "output_type": "stream",
          "text": [
            "\rProcessing reviews:  19%|█▉        | 180/949 [14:08<48:13,  3.76s/batch]"
          ]
        },
        {
          "name": "stdout",
          "output_type": "stream",
          "text": [
            "2/2 [==============================] - 2s 1s/step\n"
          ]
        },
        {
          "name": "stderr",
          "output_type": "stream",
          "text": [
            "\rProcessing reviews:  19%|█▉        | 181/949 [14:13<53:52,  4.21s/batch]"
          ]
        },
        {
          "name": "stdout",
          "output_type": "stream",
          "text": [
            "2/2 [==============================] - 3s 1s/step\n"
          ]
        },
        {
          "name": "stderr",
          "output_type": "stream",
          "text": [
            "\rProcessing reviews:  19%|█▉        | 182/949 [14:19<57:57,  4.53s/batch]"
          ]
        },
        {
          "name": "stdout",
          "output_type": "stream",
          "text": [
            "2/2 [==============================] - 3s 1s/step\n"
          ]
        },
        {
          "name": "stderr",
          "output_type": "stream",
          "text": [
            "\rProcessing reviews:  19%|█▉        | 183/949 [14:22<54:53,  4.30s/batch]"
          ]
        },
        {
          "name": "stdout",
          "output_type": "stream",
          "text": [
            "2/2 [==============================] - 3s 2s/step\n"
          ]
        },
        {
          "name": "stderr",
          "output_type": "stream",
          "text": [
            "\rProcessing reviews:  19%|█▉        | 184/949 [14:28<58:31,  4.59s/batch]"
          ]
        },
        {
          "name": "stdout",
          "output_type": "stream",
          "text": [
            "2/2 [==============================] - 2s 806ms/step\n"
          ]
        },
        {
          "name": "stderr",
          "output_type": "stream",
          "text": [
            "\rProcessing reviews:  19%|█▉        | 185/949 [14:30<51:15,  4.03s/batch]"
          ]
        },
        {
          "name": "stdout",
          "output_type": "stream",
          "text": [
            "2/2 [==============================] - 4s 2s/step\n"
          ]
        },
        {
          "name": "stderr",
          "output_type": "stream",
          "text": [
            "\rProcessing reviews:  20%|█▉        | 186/949 [14:36<56:08,  4.42s/batch]"
          ]
        },
        {
          "name": "stdout",
          "output_type": "stream",
          "text": [
            "2/2 [==============================] - 2s 783ms/step\n"
          ]
        },
        {
          "name": "stderr",
          "output_type": "stream",
          "text": [
            "\rProcessing reviews:  20%|█▉        | 187/949 [14:38<47:40,  3.75s/batch]"
          ]
        },
        {
          "name": "stdout",
          "output_type": "stream",
          "text": [
            "2/2 [==============================] - 2s 1s/step\n"
          ]
        },
        {
          "name": "stderr",
          "output_type": "stream",
          "text": [
            "\rProcessing reviews:  20%|█▉        | 188/949 [14:43<53:19,  4.20s/batch]"
          ]
        },
        {
          "name": "stdout",
          "output_type": "stream",
          "text": [
            "2/2 [==============================] - 4s 2s/step\n"
          ]
        },
        {
          "name": "stderr",
          "output_type": "stream",
          "text": [
            "\rProcessing reviews:  20%|█▉        | 189/949 [14:49<58:11,  4.59s/batch]"
          ]
        },
        {
          "name": "stdout",
          "output_type": "stream",
          "text": [
            "2/2 [==============================] - 6s 3s/step\n"
          ]
        },
        {
          "name": "stderr",
          "output_type": "stream",
          "text": [
            "\rProcessing reviews:  20%|██        | 190/949 [14:59<1:20:31,  6.37s/batch]"
          ]
        },
        {
          "name": "stdout",
          "output_type": "stream",
          "text": [
            "2/2 [==============================] - 3s 1s/step\n"
          ]
        },
        {
          "name": "stderr",
          "output_type": "stream",
          "text": [
            "\rProcessing reviews:  20%|██        | 191/949 [15:04<1:16:28,  6.05s/batch]"
          ]
        },
        {
          "name": "stdout",
          "output_type": "stream",
          "text": [
            "2/2 [==============================] - 3s 2s/step\n"
          ]
        },
        {
          "name": "stderr",
          "output_type": "stream",
          "text": [
            "\rProcessing reviews:  20%|██        | 192/949 [15:10<1:13:22,  5.82s/batch]"
          ]
        },
        {
          "name": "stdout",
          "output_type": "stream",
          "text": [
            "2/2 [==============================] - 1s 557ms/step\n"
          ]
        },
        {
          "name": "stderr",
          "output_type": "stream",
          "text": [
            "\rProcessing reviews:  20%|██        | 193/949 [15:12<1:01:28,  4.88s/batch]"
          ]
        },
        {
          "name": "stdout",
          "output_type": "stream",
          "text": [
            "2/2 [==============================] - 3s 1s/step\n"
          ]
        },
        {
          "name": "stderr",
          "output_type": "stream",
          "text": [
            "\rProcessing reviews:  20%|██        | 194/949 [15:16<57:25,  4.56s/batch]  "
          ]
        },
        {
          "name": "stdout",
          "output_type": "stream",
          "text": [
            "2/2 [==============================] - 6s 3s/step\n"
          ]
        },
        {
          "name": "stderr",
          "output_type": "stream",
          "text": [
            "\rProcessing reviews:  21%|██        | 195/949 [15:24<1:08:58,  5.49s/batch]"
          ]
        },
        {
          "name": "stdout",
          "output_type": "stream",
          "text": [
            "2/2 [==============================] - 6s 3s/step\n"
          ]
        },
        {
          "name": "stderr",
          "output_type": "stream",
          "text": [
            "\rProcessing reviews:  21%|██        | 196/949 [15:31<1:14:33,  5.94s/batch]"
          ]
        },
        {
          "name": "stdout",
          "output_type": "stream",
          "text": [
            "2/2 [==============================] - 3s 1s/step\n"
          ]
        },
        {
          "name": "stderr",
          "output_type": "stream",
          "text": [
            "\rProcessing reviews:  21%|██        | 197/949 [15:36<1:11:56,  5.74s/batch]"
          ]
        },
        {
          "name": "stdout",
          "output_type": "stream",
          "text": [
            "2/2 [==============================] - 2s 815ms/step\n"
          ]
        },
        {
          "name": "stderr",
          "output_type": "stream",
          "text": [
            "\rProcessing reviews:  21%|██        | 198/949 [15:39<59:13,  4.73s/batch]  "
          ]
        },
        {
          "name": "stdout",
          "output_type": "stream",
          "text": [
            "2/2 [==============================] - 1s 652ms/step\n"
          ]
        },
        {
          "name": "stderr",
          "output_type": "stream",
          "text": [
            "\rProcessing reviews:  21%|██        | 199/949 [15:41<51:32,  4.12s/batch]"
          ]
        },
        {
          "name": "stdout",
          "output_type": "stream",
          "text": [
            "2/2 [==============================] - 3s 2s/step\n"
          ]
        },
        {
          "name": "stderr",
          "output_type": "stream",
          "text": [
            "\rProcessing reviews:  21%|██        | 200/949 [15:46<53:36,  4.29s/batch]"
          ]
        },
        {
          "name": "stdout",
          "output_type": "stream",
          "text": [
            "2/2 [==============================] - 2s 1s/step\n"
          ]
        },
        {
          "name": "stderr",
          "output_type": "stream",
          "text": [
            "\rProcessing reviews:  21%|██        | 201/949 [15:51<57:06,  4.58s/batch]"
          ]
        },
        {
          "name": "stdout",
          "output_type": "stream",
          "text": [
            "2/2 [==============================] - 2s 1s/step\n"
          ]
        },
        {
          "name": "stderr",
          "output_type": "stream",
          "text": [
            "\rProcessing reviews:  21%|██▏       | 202/949 [15:56<59:38,  4.79s/batch]"
          ]
        },
        {
          "name": "stdout",
          "output_type": "stream",
          "text": [
            "2/2 [==============================] - 2s 1s/step\n"
          ]
        },
        {
          "name": "stderr",
          "output_type": "stream",
          "text": [
            "\rProcessing reviews:  21%|██▏       | 203/949 [16:02<1:01:31,  4.95s/batch]"
          ]
        },
        {
          "name": "stdout",
          "output_type": "stream",
          "text": [
            "2/2 [==============================] - 6s 3s/step\n"
          ]
        },
        {
          "name": "stderr",
          "output_type": "stream",
          "text": [
            "\rProcessing reviews:  21%|██▏       | 204/949 [16:09<1:11:37,  5.77s/batch]"
          ]
        },
        {
          "name": "stdout",
          "output_type": "stream",
          "text": [
            "2/2 [==============================] - 4s 2s/step\n"
          ]
        },
        {
          "name": "stderr",
          "output_type": "stream",
          "text": [
            "\rProcessing reviews:  22%|██▏       | 205/949 [16:20<1:29:02,  7.18s/batch]"
          ]
        },
        {
          "name": "stdout",
          "output_type": "stream",
          "text": [
            "2/2 [==============================] - 3s 1s/step\n"
          ]
        },
        {
          "name": "stderr",
          "output_type": "stream",
          "text": [
            "\rProcessing reviews:  22%|██▏       | 206/949 [16:25<1:21:56,  6.62s/batch]"
          ]
        },
        {
          "name": "stdout",
          "output_type": "stream",
          "text": [
            "2/2 [==============================] - 3s 1s/step\n"
          ]
        },
        {
          "name": "stderr",
          "output_type": "stream",
          "text": [
            "\rProcessing reviews:  22%|██▏       | 207/949 [16:29<1:11:53,  5.81s/batch]"
          ]
        },
        {
          "name": "stdout",
          "output_type": "stream",
          "text": [
            "2/2 [==============================] - 4s 2s/step\n"
          ]
        },
        {
          "name": "stderr",
          "output_type": "stream",
          "text": [
            "\rProcessing reviews:  22%|██▏       | 208/949 [16:34<1:09:48,  5.65s/batch]"
          ]
        },
        {
          "name": "stdout",
          "output_type": "stream",
          "text": [
            "2/2 [==============================] - 4s 2s/step\n"
          ]
        },
        {
          "name": "stderr",
          "output_type": "stream",
          "text": [
            "\rProcessing reviews:  22%|██▏       | 209/949 [16:40<1:07:47,  5.50s/batch]"
          ]
        },
        {
          "name": "stdout",
          "output_type": "stream",
          "text": [
            "2/2 [==============================] - 2s 1s/step\n"
          ]
        },
        {
          "name": "stderr",
          "output_type": "stream",
          "text": [
            "\rProcessing reviews:  22%|██▏       | 210/949 [16:45<1:07:05,  5.45s/batch]"
          ]
        },
        {
          "name": "stdout",
          "output_type": "stream",
          "text": [
            "2/2 [==============================] - 3s 1s/step\n"
          ]
        },
        {
          "name": "stderr",
          "output_type": "stream",
          "text": [
            "\rProcessing reviews:  22%|██▏       | 211/949 [16:49<1:00:27,  4.92s/batch]"
          ]
        },
        {
          "name": "stdout",
          "output_type": "stream",
          "text": [
            "2/2 [==============================] - 3s 1s/step\n"
          ]
        },
        {
          "name": "stderr",
          "output_type": "stream",
          "text": [
            "\rProcessing reviews:  22%|██▏       | 212/949 [16:52<55:47,  4.54s/batch]  "
          ]
        },
        {
          "name": "stdout",
          "output_type": "stream",
          "text": [
            "2/2 [==============================] - 5s 3s/step\n"
          ]
        },
        {
          "name": "stderr",
          "output_type": "stream",
          "text": [
            "\rProcessing reviews:  22%|██▏       | 213/949 [17:03<1:17:35,  6.33s/batch]"
          ]
        },
        {
          "name": "stdout",
          "output_type": "stream",
          "text": [
            "2/2 [==============================] - 4s 2s/step\n"
          ]
        },
        {
          "name": "stderr",
          "output_type": "stream",
          "text": [
            "\rProcessing reviews:  23%|██▎       | 214/949 [17:13<1:32:25,  7.55s/batch]"
          ]
        },
        {
          "name": "stdout",
          "output_type": "stream",
          "text": [
            "2/2 [==============================] - 2s 916ms/step\n"
          ]
        },
        {
          "name": "stderr",
          "output_type": "stream",
          "text": [
            "\rProcessing reviews:  23%|██▎       | 215/949 [17:16<1:14:27,  6.09s/batch]"
          ]
        },
        {
          "name": "stdout",
          "output_type": "stream",
          "text": [
            "2/2 [==============================] - 3s 2s/step\n"
          ]
        },
        {
          "name": "stderr",
          "output_type": "stream",
          "text": [
            "\rProcessing reviews:  23%|██▎       | 216/949 [17:21<1:11:37,  5.86s/batch]"
          ]
        },
        {
          "name": "stdout",
          "output_type": "stream",
          "text": [
            "2/2 [==============================] - 5s 3s/step\n"
          ]
        },
        {
          "name": "stderr",
          "output_type": "stream",
          "text": [
            "\rProcessing reviews:  23%|██▎       | 217/949 [17:32<1:28:25,  7.25s/batch]"
          ]
        },
        {
          "name": "stdout",
          "output_type": "stream",
          "text": [
            "2/2 [==============================] - 6s 3s/step\n"
          ]
        },
        {
          "name": "stderr",
          "output_type": "stream",
          "text": [
            "\rProcessing reviews:  23%|██▎       | 218/949 [17:42<1:39:53,  8.20s/batch]"
          ]
        },
        {
          "name": "stdout",
          "output_type": "stream",
          "text": [
            "2/2 [==============================] - 2s 850ms/step\n"
          ]
        },
        {
          "name": "stderr",
          "output_type": "stream",
          "text": [
            "\rProcessing reviews:  23%|██▎       | 219/949 [17:45<1:18:51,  6.48s/batch]"
          ]
        },
        {
          "name": "stdout",
          "output_type": "stream",
          "text": [
            "2/2 [==============================] - 6s 3s/step\n"
          ]
        },
        {
          "name": "stderr",
          "output_type": "stream",
          "text": [
            "\rProcessing reviews:  23%|██▎       | 220/949 [17:55<1:33:04,  7.66s/batch]"
          ]
        },
        {
          "name": "stdout",
          "output_type": "stream",
          "text": [
            "2/2 [==============================] - 3s 2s/step\n"
          ]
        },
        {
          "name": "stderr",
          "output_type": "stream",
          "text": [
            "\rProcessing reviews:  23%|██▎       | 221/949 [17:59<1:20:29,  6.63s/batch]"
          ]
        },
        {
          "name": "stdout",
          "output_type": "stream",
          "text": [
            "2/2 [==============================] - 3s 2s/step\n"
          ]
        },
        {
          "name": "stderr",
          "output_type": "stream",
          "text": [
            "\rProcessing reviews:  23%|██▎       | 222/949 [18:05<1:15:37,  6.24s/batch]"
          ]
        },
        {
          "name": "stdout",
          "output_type": "stream",
          "text": [
            "2/2 [==============================] - 4s 2s/step\n"
          ]
        },
        {
          "name": "stderr",
          "output_type": "stream",
          "text": [
            "\rProcessing reviews:  23%|██▎       | 223/949 [18:15<1:30:48,  7.51s/batch]"
          ]
        },
        {
          "name": "stdout",
          "output_type": "stream",
          "text": [
            "2/2 [==============================] - 2s 1s/step\n"
          ]
        },
        {
          "name": "stderr",
          "output_type": "stream",
          "text": [
            "\rProcessing reviews:  24%|██▎       | 224/949 [18:18<1:12:36,  6.01s/batch]"
          ]
        },
        {
          "name": "stdout",
          "output_type": "stream",
          "text": [
            "2/2 [==============================] - 1s 571ms/step\n"
          ]
        },
        {
          "name": "stderr",
          "output_type": "stream",
          "text": [
            "\rProcessing reviews:  24%|██▎       | 225/949 [18:19<57:06,  4.73s/batch]  "
          ]
        },
        {
          "name": "stdout",
          "output_type": "stream",
          "text": [
            "2/2 [==============================] - 2s 950ms/step\n"
          ]
        },
        {
          "name": "stderr",
          "output_type": "stream",
          "text": [
            "\rProcessing reviews:  24%|██▍       | 226/949 [18:25<58:51,  4.88s/batch]"
          ]
        },
        {
          "name": "stdout",
          "output_type": "stream",
          "text": [
            "2/2 [==============================] - 3s 1s/step\n"
          ]
        },
        {
          "name": "stderr",
          "output_type": "stream",
          "text": [
            "\rProcessing reviews:  24%|██▍       | 227/949 [18:28<55:02,  4.57s/batch]"
          ]
        },
        {
          "name": "stdout",
          "output_type": "stream",
          "text": [
            "2/2 [==============================] - 3s 1s/step\n"
          ]
        },
        {
          "name": "stderr",
          "output_type": "stream",
          "text": [
            "\rProcessing reviews:  24%|██▍       | 228/949 [18:34<57:26,  4.78s/batch]"
          ]
        },
        {
          "name": "stdout",
          "output_type": "stream",
          "text": [
            "2/2 [==============================] - 2s 1s/step\n"
          ]
        },
        {
          "name": "stderr",
          "output_type": "stream",
          "text": [
            "\rProcessing reviews:  24%|██▍       | 229/949 [18:39<59:06,  4.93s/batch]"
          ]
        },
        {
          "name": "stdout",
          "output_type": "stream",
          "text": [
            "2/2 [==============================] - 3s 1s/step\n"
          ]
        },
        {
          "name": "stderr",
          "output_type": "stream",
          "text": [
            "\rProcessing reviews:  24%|██▍       | 230/949 [18:44<1:00:25,  5.04s/batch]"
          ]
        },
        {
          "name": "stdout",
          "output_type": "stream",
          "text": [
            "2/2 [==============================] - 2s 1s/step\n"
          ]
        },
        {
          "name": "stderr",
          "output_type": "stream",
          "text": [
            "\rProcessing reviews:  24%|██▍       | 231/949 [18:50<1:01:26,  5.13s/batch]"
          ]
        },
        {
          "name": "stdout",
          "output_type": "stream",
          "text": [
            "2/2 [==============================] - 4s 2s/step\n"
          ]
        },
        {
          "name": "stderr",
          "output_type": "stream",
          "text": [
            "\rProcessing reviews:  24%|██▍       | 232/949 [18:55<1:01:49,  5.17s/batch]"
          ]
        },
        {
          "name": "stdout",
          "output_type": "stream",
          "text": [
            "2/2 [==============================] - 6s 3s/step\n"
          ]
        },
        {
          "name": "stderr",
          "output_type": "stream",
          "text": [
            "\rProcessing reviews:  25%|██▍       | 233/949 [19:02<1:09:34,  5.83s/batch]"
          ]
        },
        {
          "name": "stdout",
          "output_type": "stream",
          "text": [
            "2/2 [==============================] - 2s 1s/step\n"
          ]
        },
        {
          "name": "stderr",
          "output_type": "stream",
          "text": [
            "\rProcessing reviews:  25%|██▍       | 234/949 [19:07<1:07:26,  5.66s/batch]"
          ]
        },
        {
          "name": "stdout",
          "output_type": "stream",
          "text": [
            "2/2 [==============================] - 2s 960ms/step\n"
          ]
        },
        {
          "name": "stderr",
          "output_type": "stream",
          "text": [
            "\rProcessing reviews:  25%|██▍       | 235/949 [19:13<1:06:03,  5.55s/batch]"
          ]
        },
        {
          "name": "stdout",
          "output_type": "stream",
          "text": [
            "2/2 [==============================] - 2s 975ms/step\n"
          ]
        },
        {
          "name": "stderr",
          "output_type": "stream",
          "text": [
            "\rProcessing reviews:  25%|██▍       | 236/949 [19:16<56:24,  4.75s/batch]  "
          ]
        },
        {
          "name": "stdout",
          "output_type": "stream",
          "text": [
            "2/2 [==============================] - 2s 1s/step\n"
          ]
        },
        {
          "name": "stderr",
          "output_type": "stream",
          "text": [
            "\rProcessing reviews:  25%|██▍       | 237/949 [19:19<50:56,  4.29s/batch]"
          ]
        },
        {
          "name": "stdout",
          "output_type": "stream",
          "text": [
            "2/2 [==============================] - 3s 1s/step\n"
          ]
        },
        {
          "name": "stderr",
          "output_type": "stream",
          "text": [
            "\rProcessing reviews:  25%|██▌       | 238/949 [19:23<48:41,  4.11s/batch]"
          ]
        },
        {
          "name": "stdout",
          "output_type": "stream",
          "text": [
            "2/2 [==============================] - 2s 1s/step\n"
          ]
        },
        {
          "name": "stderr",
          "output_type": "stream",
          "text": [
            "\rProcessing reviews:  25%|██▌       | 239/949 [19:28<52:41,  4.45s/batch]"
          ]
        },
        {
          "name": "stdout",
          "output_type": "stream",
          "text": [
            "2/2 [==============================] - 4s 2s/step\n"
          ]
        },
        {
          "name": "stderr",
          "output_type": "stream",
          "text": [
            "\rProcessing reviews:  25%|██▌       | 240/949 [19:33<56:22,  4.77s/batch]"
          ]
        },
        {
          "name": "stdout",
          "output_type": "stream",
          "text": [
            "2/2 [==============================] - 2s 1s/step\n"
          ]
        },
        {
          "name": "stderr",
          "output_type": "stream",
          "text": [
            "\rProcessing reviews:  25%|██▌       | 241/949 [19:39<58:06,  4.92s/batch]"
          ]
        },
        {
          "name": "stdout",
          "output_type": "stream",
          "text": [
            "2/2 [==============================] - 4s 2s/step\n"
          ]
        },
        {
          "name": "stderr",
          "output_type": "stream",
          "text": [
            "\rProcessing reviews:  26%|██▌       | 242/949 [19:43<57:41,  4.90s/batch]"
          ]
        },
        {
          "name": "stdout",
          "output_type": "stream",
          "text": [
            "2/2 [==============================] - 5s 3s/step\n"
          ]
        },
        {
          "name": "stderr",
          "output_type": "stream",
          "text": [
            "\rProcessing reviews:  26%|██▌       | 243/949 [19:54<1:17:15,  6.57s/batch]"
          ]
        },
        {
          "name": "stdout",
          "output_type": "stream",
          "text": [
            "2/2 [==============================] - 4s 2s/step\n"
          ]
        },
        {
          "name": "stderr",
          "output_type": "stream",
          "text": [
            "\rProcessing reviews:  26%|██▌       | 244/949 [19:59<1:12:56,  6.21s/batch]"
          ]
        },
        {
          "name": "stdout",
          "output_type": "stream",
          "text": [
            "2/2 [==============================] - 4s 2s/step\n"
          ]
        },
        {
          "name": "stderr",
          "output_type": "stream",
          "text": [
            "\rProcessing reviews:  26%|██▌       | 245/949 [20:05<1:09:40,  5.94s/batch]"
          ]
        },
        {
          "name": "stdout",
          "output_type": "stream",
          "text": [
            "2/2 [==============================] - 2s 921ms/step\n"
          ]
        },
        {
          "name": "stderr",
          "output_type": "stream",
          "text": [
            "\rProcessing reviews:  26%|██▌       | 246/949 [20:07<58:50,  5.02s/batch]  "
          ]
        },
        {
          "name": "stdout",
          "output_type": "stream",
          "text": [
            "2/2 [==============================] - 4s 2s/step\n"
          ]
        },
        {
          "name": "stderr",
          "output_type": "stream",
          "text": [
            "\rProcessing reviews:  26%|██▌       | 247/949 [20:13<59:53,  5.12s/batch]"
          ]
        },
        {
          "name": "stdout",
          "output_type": "stream",
          "text": [
            "2/2 [==============================] - 2s 822ms/step\n"
          ]
        },
        {
          "name": "stderr",
          "output_type": "stream",
          "text": [
            "\rProcessing reviews:  26%|██▌       | 248/949 [20:15<50:02,  4.28s/batch]"
          ]
        },
        {
          "name": "stdout",
          "output_type": "stream",
          "text": [
            "2/2 [==============================] - 2s 1s/step\n"
          ]
        },
        {
          "name": "stderr",
          "output_type": "stream",
          "text": [
            "\rProcessing reviews:  26%|██▌       | 249/949 [20:18<46:33,  3.99s/batch]"
          ]
        },
        {
          "name": "stdout",
          "output_type": "stream",
          "text": [
            "2/2 [==============================] - 6s 3s/step\n"
          ]
        },
        {
          "name": "stderr",
          "output_type": "stream",
          "text": [
            "\rProcessing reviews:  26%|██▋       | 250/949 [20:26<59:20,  5.09s/batch]"
          ]
        },
        {
          "name": "stdout",
          "output_type": "stream",
          "text": [
            "2/2 [==============================] - 5s 3s/step\n"
          ]
        },
        {
          "name": "stderr",
          "output_type": "stream",
          "text": [
            "\rProcessing reviews:  26%|██▋       | 251/949 [20:36<1:17:45,  6.68s/batch]"
          ]
        },
        {
          "name": "stdout",
          "output_type": "stream",
          "text": [
            "2/2 [==============================] - 1s 693ms/step\n"
          ]
        },
        {
          "name": "stderr",
          "output_type": "stream",
          "text": [
            "\rProcessing reviews:  27%|██▋       | 252/949 [20:39<1:01:42,  5.31s/batch]"
          ]
        },
        {
          "name": "stdout",
          "output_type": "stream",
          "text": [
            "2/2 [==============================] - 1s 725ms/step\n"
          ]
        },
        {
          "name": "stderr",
          "output_type": "stream",
          "text": [
            "\rProcessing reviews:  27%|██▋       | 253/949 [20:41<52:25,  4.52s/batch]  "
          ]
        },
        {
          "name": "stdout",
          "output_type": "stream",
          "text": [
            "2/2 [==============================] - 2s 1s/step\n"
          ]
        },
        {
          "name": "stderr",
          "output_type": "stream",
          "text": [
            "\rProcessing reviews:  27%|██▋       | 254/949 [20:47<55:01,  4.75s/batch]"
          ]
        },
        {
          "name": "stdout",
          "output_type": "stream",
          "text": [
            "2/2 [==============================] - 1s 646ms/step\n"
          ]
        },
        {
          "name": "stderr",
          "output_type": "stream",
          "text": [
            "\rProcessing reviews:  27%|██▋       | 255/949 [20:49<46:14,  4.00s/batch]"
          ]
        },
        {
          "name": "stdout",
          "output_type": "stream",
          "text": [
            "2/2 [==============================] - 2s 1s/step\n"
          ]
        },
        {
          "name": "stderr",
          "output_type": "stream",
          "text": [
            "\rProcessing reviews:  27%|██▋       | 256/949 [20:52<43:17,  3.75s/batch]"
          ]
        },
        {
          "name": "stdout",
          "output_type": "stream",
          "text": [
            "2/2 [==============================] - 6s 3s/step\n"
          ]
        },
        {
          "name": "stderr",
          "output_type": "stream",
          "text": [
            "\rProcessing reviews:  27%|██▋       | 257/949 [21:02<1:06:28,  5.76s/batch]"
          ]
        },
        {
          "name": "stdout",
          "output_type": "stream",
          "text": [
            "2/2 [==============================] - 4s 2s/step\n"
          ]
        },
        {
          "name": "stderr",
          "output_type": "stream",
          "text": [
            "\rProcessing reviews:  27%|██▋       | 258/949 [21:07<1:02:36,  5.44s/batch]"
          ]
        },
        {
          "name": "stdout",
          "output_type": "stream",
          "text": [
            "2/2 [==============================] - 1s 724ms/step\n"
          ]
        },
        {
          "name": "stderr",
          "output_type": "stream",
          "text": [
            "\rProcessing reviews:  27%|██▋       | 259/949 [21:10<53:01,  4.61s/batch]  "
          ]
        },
        {
          "name": "stdout",
          "output_type": "stream",
          "text": [
            "2/2 [==============================] - 1s 741ms/step\n"
          ]
        },
        {
          "name": "stderr",
          "output_type": "stream",
          "text": [
            "\rProcessing reviews:  27%|██▋       | 260/949 [21:12<46:18,  4.03s/batch]"
          ]
        },
        {
          "name": "stdout",
          "output_type": "stream",
          "text": [
            "2/2 [==============================] - 2s 1s/step\n"
          ]
        },
        {
          "name": "stderr",
          "output_type": "stream",
          "text": [
            "\rProcessing reviews:  28%|██▊       | 261/949 [21:16<44:07,  3.85s/batch]"
          ]
        },
        {
          "name": "stdout",
          "output_type": "stream",
          "text": [
            "2/2 [==============================] - 1s 460ms/step\n"
          ]
        },
        {
          "name": "stderr",
          "output_type": "stream",
          "text": [
            "\rProcessing reviews:  28%|██▊       | 262/949 [21:17<35:57,  3.14s/batch]"
          ]
        },
        {
          "name": "stdout",
          "output_type": "stream",
          "text": [
            "2/2 [==============================] - 2s 1s/step\n"
          ]
        },
        {
          "name": "stderr",
          "output_type": "stream",
          "text": [
            "\rProcessing reviews:  28%|██▊       | 263/949 [21:23<43:11,  3.78s/batch]"
          ]
        },
        {
          "name": "stdout",
          "output_type": "stream",
          "text": [
            "2/2 [==============================] - 2s 819ms/step\n"
          ]
        },
        {
          "name": "stderr",
          "output_type": "stream",
          "text": [
            "\rProcessing reviews:  28%|██▊       | 264/949 [21:25<38:25,  3.36s/batch]"
          ]
        },
        {
          "name": "stdout",
          "output_type": "stream",
          "text": [
            "2/2 [==============================] - 2s 994ms/step\n"
          ]
        },
        {
          "name": "stderr",
          "output_type": "stream",
          "text": [
            "\rProcessing reviews:  28%|██▊       | 265/949 [21:30<44:45,  3.93s/batch]"
          ]
        },
        {
          "name": "stdout",
          "output_type": "stream",
          "text": [
            "2/2 [==============================] - 3s 2s/step\n"
          ]
        },
        {
          "name": "stderr",
          "output_type": "stream",
          "text": [
            "\rProcessing reviews:  28%|██▊       | 266/949 [21:36<49:13,  4.33s/batch]"
          ]
        },
        {
          "name": "stdout",
          "output_type": "stream",
          "text": [
            "2/2 [==============================] - 3s 1s/step\n"
          ]
        },
        {
          "name": "stderr",
          "output_type": "stream",
          "text": [
            "\rProcessing reviews:  28%|██▊       | 267/949 [21:39<46:21,  4.08s/batch]"
          ]
        },
        {
          "name": "stdout",
          "output_type": "stream",
          "text": [
            "2/2 [==============================] - 1s 630ms/step\n"
          ]
        },
        {
          "name": "stderr",
          "output_type": "stream",
          "text": [
            "\rProcessing reviews:  28%|██▊       | 268/949 [21:42<41:35,  3.66s/batch]"
          ]
        },
        {
          "name": "stdout",
          "output_type": "stream",
          "text": [
            "2/2 [==============================] - 4s 2s/step\n"
          ]
        },
        {
          "name": "stderr",
          "output_type": "stream",
          "text": [
            "\rProcessing reviews:  28%|██▊       | 269/949 [21:47<47:55,  4.23s/batch]"
          ]
        },
        {
          "name": "stdout",
          "output_type": "stream",
          "text": [
            "2/2 [==============================] - 2s 1s/step\n"
          ]
        },
        {
          "name": "stderr",
          "output_type": "stream",
          "text": [
            "\rProcessing reviews:  28%|██▊       | 270/949 [21:51<44:40,  3.95s/batch]"
          ]
        },
        {
          "name": "stdout",
          "output_type": "stream",
          "text": [
            "2/2 [==============================] - 2s 808ms/step\n"
          ]
        },
        {
          "name": "stderr",
          "output_type": "stream",
          "text": [
            "\rProcessing reviews:  29%|██▊       | 271/949 [21:53<40:18,  3.57s/batch]"
          ]
        },
        {
          "name": "stdout",
          "output_type": "stream",
          "text": [
            "2/2 [==============================] - 3s 1s/step\n"
          ]
        },
        {
          "name": "stderr",
          "output_type": "stream",
          "text": [
            "\rProcessing reviews:  29%|██▊       | 272/949 [21:58<45:56,  4.07s/batch]"
          ]
        },
        {
          "name": "stdout",
          "output_type": "stream",
          "text": [
            "2/2 [==============================] - 5s 3s/step\n"
          ]
        },
        {
          "name": "stderr",
          "output_type": "stream",
          "text": [
            "\rProcessing reviews:  29%|██▉       | 273/949 [22:09<1:07:31,  5.99s/batch]"
          ]
        },
        {
          "name": "stdout",
          "output_type": "stream",
          "text": [
            "2/2 [==============================] - 6s 3s/step\n"
          ]
        },
        {
          "name": "stderr",
          "output_type": "stream",
          "text": [
            "\rProcessing reviews:  29%|██▉       | 274/949 [22:16<1:11:34,  6.36s/batch]"
          ]
        },
        {
          "name": "stdout",
          "output_type": "stream",
          "text": [
            "2/2 [==============================] - 3s 1s/step\n"
          ]
        },
        {
          "name": "stderr",
          "output_type": "stream",
          "text": [
            "\rProcessing reviews:  29%|██▉       | 275/949 [22:22<1:07:54,  6.05s/batch]"
          ]
        },
        {
          "name": "stdout",
          "output_type": "stream",
          "text": [
            "2/2 [==============================] - 5s 2s/step\n"
          ]
        },
        {
          "name": "stderr",
          "output_type": "stream",
          "text": [
            "\rProcessing reviews:  29%|██▉       | 276/949 [22:32<1:22:41,  7.37s/batch]"
          ]
        },
        {
          "name": "stdout",
          "output_type": "stream",
          "text": [
            "2/2 [==============================] - 5s 2s/step\n"
          ]
        },
        {
          "name": "stderr",
          "output_type": "stream",
          "text": [
            "\rProcessing reviews:  29%|██▉       | 277/949 [22:42<1:32:42,  8.28s/batch]"
          ]
        },
        {
          "name": "stdout",
          "output_type": "stream",
          "text": [
            "2/2 [==============================] - 2s 1s/step\n"
          ]
        },
        {
          "name": "stderr",
          "output_type": "stream",
          "text": [
            "\rProcessing reviews:  29%|██▉       | 278/949 [22:46<1:15:39,  6.76s/batch]"
          ]
        },
        {
          "name": "stdout",
          "output_type": "stream",
          "text": [
            "2/2 [==============================] - 4s 2s/step\n"
          ]
        },
        {
          "name": "stderr",
          "output_type": "stream",
          "text": [
            "\rProcessing reviews:  29%|██▉       | 279/949 [22:51<1:10:42,  6.33s/batch]"
          ]
        },
        {
          "name": "stdout",
          "output_type": "stream",
          "text": [
            "2/2 [==============================] - 3s 2s/step\n"
          ]
        },
        {
          "name": "stderr",
          "output_type": "stream",
          "text": [
            "\rProcessing reviews:  30%|██▉       | 280/949 [22:56<1:07:15,  6.03s/batch]"
          ]
        },
        {
          "name": "stdout",
          "output_type": "stream",
          "text": [
            "2/2 [==============================] - 2s 801ms/step\n"
          ]
        },
        {
          "name": "stderr",
          "output_type": "stream",
          "text": [
            "\rProcessing reviews:  30%|██▉       | 281/949 [22:59<55:56,  5.03s/batch]  "
          ]
        },
        {
          "name": "stdout",
          "output_type": "stream",
          "text": [
            "2/2 [==============================] - 2s 776ms/step\n"
          ]
        },
        {
          "name": "stderr",
          "output_type": "stream",
          "text": [
            "\rProcessing reviews:  30%|██▉       | 282/949 [23:02<48:02,  4.32s/batch]"
          ]
        },
        {
          "name": "stdout",
          "output_type": "stream",
          "text": [
            "2/2 [==============================] - 2s 822ms/step\n"
          ]
        },
        {
          "name": "stderr",
          "output_type": "stream",
          "text": [
            "\rProcessing reviews:  30%|██▉       | 283/949 [23:04<41:29,  3.74s/batch]"
          ]
        },
        {
          "name": "stdout",
          "output_type": "stream",
          "text": [
            "2/2 [==============================] - 2s 952ms/step\n"
          ]
        },
        {
          "name": "stderr",
          "output_type": "stream",
          "text": [
            "\rProcessing reviews:  30%|██▉       | 284/949 [23:09<46:37,  4.21s/batch]"
          ]
        },
        {
          "name": "stdout",
          "output_type": "stream",
          "text": [
            "2/2 [==============================] - 6s 3s/step\n"
          ]
        },
        {
          "name": "stderr",
          "output_type": "stream",
          "text": [
            "\rProcessing reviews:  30%|███       | 285/949 [23:20<1:07:21,  6.09s/batch]"
          ]
        },
        {
          "name": "stdout",
          "output_type": "stream",
          "text": [
            "2/2 [==============================] - 2s 941ms/step\n"
          ]
        },
        {
          "name": "stderr",
          "output_type": "stream",
          "text": [
            "\rProcessing reviews:  30%|███       | 286/949 [23:23<56:25,  5.11s/batch]  "
          ]
        },
        {
          "name": "stdout",
          "output_type": "stream",
          "text": [
            "2/2 [==============================] - 3s 1s/step\n"
          ]
        },
        {
          "name": "stderr",
          "output_type": "stream",
          "text": [
            "\rProcessing reviews:  30%|███       | 287/949 [23:28<56:53,  5.16s/batch]"
          ]
        },
        {
          "name": "stdout",
          "output_type": "stream",
          "text": [
            "2/2 [==============================] - 2s 737ms/step\n"
          ]
        },
        {
          "name": "stderr",
          "output_type": "stream",
          "text": [
            "\rProcessing reviews:  30%|███       | 288/949 [23:30<47:04,  4.27s/batch]"
          ]
        },
        {
          "name": "stdout",
          "output_type": "stream",
          "text": [
            "2/2 [==============================] - 1s 714ms/step\n"
          ]
        },
        {
          "name": "stderr",
          "output_type": "stream",
          "text": [
            "\rProcessing reviews:  30%|███       | 289/949 [23:33<41:50,  3.80s/batch]"
          ]
        },
        {
          "name": "stdout",
          "output_type": "stream",
          "text": [
            "2/2 [==============================] - 2s 1s/step\n"
          ]
        },
        {
          "name": "stderr",
          "output_type": "stream",
          "text": [
            "\rProcessing reviews:  31%|███       | 290/949 [23:38<46:42,  4.25s/batch]"
          ]
        },
        {
          "name": "stdout",
          "output_type": "stream",
          "text": [
            "2/2 [==============================] - 2s 746ms/step\n"
          ]
        },
        {
          "name": "stderr",
          "output_type": "stream",
          "text": [
            "\rProcessing reviews:  31%|███       | 291/949 [23:40<39:57,  3.64s/batch]"
          ]
        },
        {
          "name": "stdout",
          "output_type": "stream",
          "text": [
            "2/2 [==============================] - 3s 2s/step\n"
          ]
        },
        {
          "name": "stderr",
          "output_type": "stream",
          "text": [
            "\rProcessing reviews:  31%|███       | 292/949 [23:46<45:20,  4.14s/batch]"
          ]
        },
        {
          "name": "stdout",
          "output_type": "stream",
          "text": [
            "2/2 [==============================] - 2s 1s/step\n"
          ]
        },
        {
          "name": "stderr",
          "output_type": "stream",
          "text": [
            "\rProcessing reviews:  31%|███       | 293/949 [23:48<40:41,  3.72s/batch]"
          ]
        },
        {
          "name": "stdout",
          "output_type": "stream",
          "text": [
            "2/2 [==============================] - 2s 1s/step\n"
          ]
        },
        {
          "name": "stderr",
          "output_type": "stream",
          "text": [
            "\rProcessing reviews:  31%|███       | 294/949 [23:54<45:41,  4.19s/batch]"
          ]
        },
        {
          "name": "stdout",
          "output_type": "stream",
          "text": [
            "2/2 [==============================] - 2s 819ms/step\n"
          ]
        },
        {
          "name": "stderr",
          "output_type": "stream",
          "text": [
            "\rProcessing reviews:  31%|███       | 295/949 [23:56<40:41,  3.73s/batch]"
          ]
        },
        {
          "name": "stdout",
          "output_type": "stream",
          "text": [
            "2/2 [==============================] - 4s 2s/step\n"
          ]
        },
        {
          "name": "stderr",
          "output_type": "stream",
          "text": [
            "\rProcessing reviews:  31%|███       | 296/949 [24:02<45:48,  4.21s/batch]"
          ]
        },
        {
          "name": "stdout",
          "output_type": "stream",
          "text": [
            "2/2 [==============================] - 2s 945ms/step\n"
          ]
        },
        {
          "name": "stderr",
          "output_type": "stream",
          "text": [
            "\rProcessing reviews:  31%|███▏      | 297/949 [24:04<40:59,  3.77s/batch]"
          ]
        },
        {
          "name": "stdout",
          "output_type": "stream",
          "text": [
            "2/2 [==============================] - 2s 1s/step\n"
          ]
        },
        {
          "name": "stderr",
          "output_type": "stream",
          "text": [
            "\rProcessing reviews:  31%|███▏      | 298/949 [24:07<38:09,  3.52s/batch]"
          ]
        },
        {
          "name": "stdout",
          "output_type": "stream",
          "text": [
            "2/2 [==============================] - 1s 739ms/step\n"
          ]
        },
        {
          "name": "stderr",
          "output_type": "stream",
          "text": [
            "\rProcessing reviews:  32%|███▏      | 299/949 [24:09<33:37,  3.10s/batch]"
          ]
        },
        {
          "name": "stdout",
          "output_type": "stream",
          "text": [
            "2/2 [==============================] - 2s 1s/step\n"
          ]
        },
        {
          "name": "stderr",
          "output_type": "stream",
          "text": [
            "\rProcessing reviews:  32%|███▏      | 300/949 [24:15<40:38,  3.76s/batch]"
          ]
        },
        {
          "name": "stdout",
          "output_type": "stream",
          "text": [
            "2/2 [==============================] - 2s 732ms/step\n"
          ]
        },
        {
          "name": "stderr",
          "output_type": "stream",
          "text": [
            "\rProcessing reviews:  32%|███▏      | 301/949 [24:17<35:44,  3.31s/batch]"
          ]
        },
        {
          "name": "stdout",
          "output_type": "stream",
          "text": [
            "2/2 [==============================] - 2s 820ms/step\n"
          ]
        },
        {
          "name": "stderr",
          "output_type": "stream",
          "text": [
            "\rProcessing reviews:  32%|███▏      | 302/949 [24:19<32:29,  3.01s/batch]"
          ]
        },
        {
          "name": "stdout",
          "output_type": "stream",
          "text": [
            "2/2 [==============================] - 2s 1s/step\n"
          ]
        },
        {
          "name": "stderr",
          "output_type": "stream",
          "text": [
            "\rProcessing reviews:  32%|███▏      | 303/949 [24:25<39:47,  3.70s/batch]"
          ]
        },
        {
          "name": "stdout",
          "output_type": "stream",
          "text": [
            "2/2 [==============================] - 2s 885ms/step\n"
          ]
        },
        {
          "name": "stderr",
          "output_type": "stream",
          "text": [
            "\rProcessing reviews:  32%|███▏      | 304/949 [24:30<44:58,  4.18s/batch]"
          ]
        },
        {
          "name": "stdout",
          "output_type": "stream",
          "text": [
            "2/2 [==============================] - 2s 1s/step\n"
          ]
        },
        {
          "name": "stderr",
          "output_type": "stream",
          "text": [
            "\rProcessing reviews:  32%|███▏      | 305/949 [24:35<48:21,  4.51s/batch]"
          ]
        },
        {
          "name": "stdout",
          "output_type": "stream",
          "text": [
            "2/2 [==============================] - 6s 3s/step\n"
          ]
        },
        {
          "name": "stderr",
          "output_type": "stream",
          "text": [
            "\rProcessing reviews:  32%|███▏      | 306/949 [24:43<59:40,  5.57s/batch]"
          ]
        },
        {
          "name": "stdout",
          "output_type": "stream",
          "text": [
            "2/2 [==============================] - 2s 1s/step\n"
          ]
        },
        {
          "name": "stderr",
          "output_type": "stream",
          "text": [
            "\rProcessing reviews:  32%|███▏      | 307/949 [24:46<51:23,  4.80s/batch]"
          ]
        },
        {
          "name": "stdout",
          "output_type": "stream",
          "text": [
            "2/2 [==============================] - 2s 795ms/step\n"
          ]
        },
        {
          "name": "stderr",
          "output_type": "stream",
          "text": [
            "\rProcessing reviews:  32%|███▏      | 308/949 [24:48<43:12,  4.04s/batch]"
          ]
        },
        {
          "name": "stdout",
          "output_type": "stream",
          "text": [
            "2/2 [==============================] - 2s 935ms/step\n"
          ]
        },
        {
          "name": "stderr",
          "output_type": "stream",
          "text": [
            "\rProcessing reviews:  33%|███▎      | 309/949 [24:51<38:45,  3.63s/batch]"
          ]
        },
        {
          "name": "stdout",
          "output_type": "stream",
          "text": [
            "2/2 [==============================] - 4s 2s/step\n"
          ]
        },
        {
          "name": "stderr",
          "output_type": "stream",
          "text": [
            "\rProcessing reviews:  33%|███▎      | 310/949 [25:02<1:00:20,  5.67s/batch]"
          ]
        },
        {
          "name": "stdout",
          "output_type": "stream",
          "text": [
            "2/2 [==============================] - 2s 838ms/step\n"
          ]
        },
        {
          "name": "stderr",
          "output_type": "stream",
          "text": [
            "\rProcessing reviews:  33%|███▎      | 311/949 [25:04<50:42,  4.77s/batch]  "
          ]
        },
        {
          "name": "stdout",
          "output_type": "stream",
          "text": [
            "2/2 [==============================] - 6s 3s/step\n"
          ]
        },
        {
          "name": "stderr",
          "output_type": "stream",
          "text": [
            "\rProcessing reviews:  33%|███▎      | 312/949 [25:15<1:08:36,  6.46s/batch]"
          ]
        },
        {
          "name": "stdout",
          "output_type": "stream",
          "text": [
            "2/2 [==============================] - 3s 2s/step\n"
          ]
        },
        {
          "name": "stderr",
          "output_type": "stream",
          "text": [
            "\rProcessing reviews:  33%|███▎      | 313/949 [25:20<1:04:45,  6.11s/batch]"
          ]
        },
        {
          "name": "stdout",
          "output_type": "stream",
          "text": [
            "2/2 [==============================] - 3s 2s/step\n"
          ]
        },
        {
          "name": "stderr",
          "output_type": "stream",
          "text": [
            "\rProcessing reviews:  33%|███▎      | 314/949 [25:25<1:02:06,  5.87s/batch]"
          ]
        },
        {
          "name": "stdout",
          "output_type": "stream",
          "text": [
            "2/2 [==============================] - 2s 1s/step\n"
          ]
        },
        {
          "name": "stderr",
          "output_type": "stream",
          "text": [
            "\rProcessing reviews:  33%|███▎      | 315/949 [25:28<53:08,  5.03s/batch]  "
          ]
        },
        {
          "name": "stdout",
          "output_type": "stream",
          "text": [
            "2/2 [==============================] - 2s 890ms/step\n"
          ]
        },
        {
          "name": "stderr",
          "output_type": "stream",
          "text": [
            "\rProcessing reviews:  33%|███▎      | 316/949 [25:31<45:08,  4.28s/batch]"
          ]
        },
        {
          "name": "stdout",
          "output_type": "stream",
          "text": [
            "2/2 [==============================] - 2s 788ms/step\n"
          ]
        },
        {
          "name": "stderr",
          "output_type": "stream",
          "text": [
            "\rProcessing reviews:  33%|███▎      | 317/949 [25:34<40:02,  3.80s/batch]"
          ]
        },
        {
          "name": "stdout",
          "output_type": "stream",
          "text": [
            "2/2 [==============================] - 3s 1s/step\n"
          ]
        },
        {
          "name": "stderr",
          "output_type": "stream",
          "text": [
            "\rProcessing reviews:  34%|███▎      | 318/949 [25:39<44:42,  4.25s/batch]"
          ]
        },
        {
          "name": "stdout",
          "output_type": "stream",
          "text": [
            "2/2 [==============================] - 4s 2s/step\n"
          ]
        },
        {
          "name": "stderr",
          "output_type": "stream",
          "text": [
            "\rProcessing reviews:  34%|███▎      | 319/949 [25:44<48:05,  4.58s/batch]"
          ]
        },
        {
          "name": "stdout",
          "output_type": "stream",
          "text": [
            "2/2 [==============================] - 2s 952ms/step\n"
          ]
        },
        {
          "name": "stderr",
          "output_type": "stream",
          "text": [
            "\rProcessing reviews:  34%|███▎      | 320/949 [25:47<42:08,  4.02s/batch]"
          ]
        },
        {
          "name": "stdout",
          "output_type": "stream",
          "text": [
            "2/2 [==============================] - 1s 770ms/step\n"
          ]
        },
        {
          "name": "stderr",
          "output_type": "stream",
          "text": [
            "\rProcessing reviews:  34%|███▍      | 321/949 [25:50<37:52,  3.62s/batch]"
          ]
        },
        {
          "name": "stdout",
          "output_type": "stream",
          "text": [
            "2/2 [==============================] - 1s 705ms/step\n"
          ]
        },
        {
          "name": "stderr",
          "output_type": "stream",
          "text": [
            "\rProcessing reviews:  34%|███▍      | 322/949 [25:52<34:55,  3.34s/batch]"
          ]
        },
        {
          "name": "stdout",
          "output_type": "stream",
          "text": [
            "2/2 [==============================] - 2s 1s/step\n"
          ]
        },
        {
          "name": "stderr",
          "output_type": "stream",
          "text": [
            "\rProcessing reviews:  34%|███▍      | 323/949 [25:56<34:30,  3.31s/batch]"
          ]
        },
        {
          "name": "stdout",
          "output_type": "stream",
          "text": [
            "2/2 [==============================] - 1s 654ms/step\n"
          ]
        },
        {
          "name": "stderr",
          "output_type": "stream",
          "text": [
            "\rProcessing reviews:  34%|███▍      | 324/949 [25:57<30:06,  2.89s/batch]"
          ]
        },
        {
          "name": "stdout",
          "output_type": "stream",
          "text": [
            "2/2 [==============================] - 1s 648ms/step\n"
          ]
        },
        {
          "name": "stderr",
          "output_type": "stream",
          "text": [
            "\rProcessing reviews:  34%|███▍      | 325/949 [26:00<29:22,  2.82s/batch]"
          ]
        },
        {
          "name": "stdout",
          "output_type": "stream",
          "text": [
            "2/2 [==============================] - 1s 651ms/step\n"
          ]
        },
        {
          "name": "stderr",
          "output_type": "stream",
          "text": [
            "\rProcessing reviews:  34%|███▍      | 326/949 [26:02<26:27,  2.55s/batch]"
          ]
        },
        {
          "name": "stdout",
          "output_type": "stream",
          "text": [
            "2/2 [==============================] - 2s 884ms/step\n"
          ]
        },
        {
          "name": "stderr",
          "output_type": "stream",
          "text": [
            "\rProcessing reviews:  34%|███▍      | 327/949 [26:05<26:58,  2.60s/batch]"
          ]
        },
        {
          "name": "stdout",
          "output_type": "stream",
          "text": [
            "2/2 [==============================] - 2s 919ms/step\n"
          ]
        },
        {
          "name": "stderr",
          "output_type": "stream",
          "text": [
            "\rProcessing reviews:  35%|███▍      | 328/949 [26:10<35:18,  3.41s/batch]"
          ]
        },
        {
          "name": "stdout",
          "output_type": "stream",
          "text": [
            "2/2 [==============================] - 1s 569ms/step\n"
          ]
        },
        {
          "name": "stderr",
          "output_type": "stream",
          "text": [
            "\rProcessing reviews:  35%|███▍      | 329/949 [26:13<32:58,  3.19s/batch]"
          ]
        },
        {
          "name": "stdout",
          "output_type": "stream",
          "text": [
            "2/2 [==============================] - 3s 2s/step\n"
          ]
        },
        {
          "name": "stderr",
          "output_type": "stream",
          "text": [
            "\rProcessing reviews:  35%|███▍      | 330/949 [26:17<35:47,  3.47s/batch]"
          ]
        },
        {
          "name": "stdout",
          "output_type": "stream",
          "text": [
            "2/2 [==============================] - 1s 667ms/step\n"
          ]
        },
        {
          "name": "stderr",
          "output_type": "stream",
          "text": [
            "\rProcessing reviews:  35%|███▍      | 331/949 [26:20<33:21,  3.24s/batch]"
          ]
        },
        {
          "name": "stdout",
          "output_type": "stream",
          "text": [
            "2/2 [==============================] - 5s 3s/step\n"
          ]
        },
        {
          "name": "stderr",
          "output_type": "stream",
          "text": [
            "\rProcessing reviews:  35%|███▍      | 332/949 [26:26<43:23,  4.22s/batch]"
          ]
        },
        {
          "name": "stdout",
          "output_type": "stream",
          "text": [
            "2/2 [==============================] - 3s 1s/step\n"
          ]
        },
        {
          "name": "stderr",
          "output_type": "stream",
          "text": [
            "\rProcessing reviews:  35%|███▌      | 333/949 [26:31<46:32,  4.53s/batch]"
          ]
        },
        {
          "name": "stdout",
          "output_type": "stream",
          "text": [
            "2/2 [==============================] - 2s 825ms/step\n"
          ]
        },
        {
          "name": "stderr",
          "output_type": "stream",
          "text": [
            "\rProcessing reviews:  35%|███▌      | 334/949 [26:34<40:52,  3.99s/batch]"
          ]
        },
        {
          "name": "stdout",
          "output_type": "stream",
          "text": [
            "2/2 [==============================] - 3s 1s/step\n"
          ]
        },
        {
          "name": "stderr",
          "output_type": "stream",
          "text": [
            "\rProcessing reviews:  35%|███▌      | 335/949 [26:38<40:10,  3.93s/batch]"
          ]
        },
        {
          "name": "stdout",
          "output_type": "stream",
          "text": [
            "2/2 [==============================] - 2s 886ms/step\n"
          ]
        },
        {
          "name": "stderr",
          "output_type": "stream",
          "text": [
            "\rProcessing reviews:  35%|███▌      | 336/949 [26:40<36:18,  3.55s/batch]"
          ]
        },
        {
          "name": "stdout",
          "output_type": "stream",
          "text": [
            "2/2 [==============================] - 5s 3s/step\n"
          ]
        },
        {
          "name": "stderr",
          "output_type": "stream",
          "text": [
            "\rProcessing reviews:  36%|███▌      | 337/949 [26:51<57:12,  5.61s/batch]"
          ]
        },
        {
          "name": "stdout",
          "output_type": "stream",
          "text": [
            "2/2 [==============================] - 3s 1s/step\n"
          ]
        },
        {
          "name": "stderr",
          "output_type": "stream",
          "text": [
            "\rProcessing reviews:  36%|███▌      | 338/949 [26:56<56:03,  5.50s/batch]"
          ]
        },
        {
          "name": "stdout",
          "output_type": "stream",
          "text": [
            "2/2 [==============================] - 4s 2s/step\n"
          ]
        },
        {
          "name": "stderr",
          "output_type": "stream",
          "text": [
            "\rProcessing reviews:  36%|███▌      | 339/949 [27:07<1:10:53,  6.97s/batch]"
          ]
        },
        {
          "name": "stdout",
          "output_type": "stream",
          "text": [
            "2/2 [==============================] - 3s 1s/step\n"
          ]
        },
        {
          "name": "stderr",
          "output_type": "stream",
          "text": [
            "\rProcessing reviews:  36%|███▌      | 340/949 [27:12<1:05:31,  6.46s/batch]"
          ]
        },
        {
          "name": "stdout",
          "output_type": "stream",
          "text": [
            "2/2 [==============================] - 1s 683ms/step\n"
          ]
        },
        {
          "name": "stderr",
          "output_type": "stream",
          "text": [
            "\rProcessing reviews:  36%|███▌      | 341/949 [27:14<54:01,  5.33s/batch]  "
          ]
        },
        {
          "name": "stdout",
          "output_type": "stream",
          "text": [
            "2/2 [==============================] - 1s 618ms/step\n"
          ]
        },
        {
          "name": "stderr",
          "output_type": "stream",
          "text": [
            "\rProcessing reviews:  36%|███▌      | 342/949 [27:17<43:56,  4.34s/batch]"
          ]
        },
        {
          "name": "stdout",
          "output_type": "stream",
          "text": [
            "2/2 [==============================] - 1s 754ms/step\n"
          ]
        },
        {
          "name": "stderr",
          "output_type": "stream",
          "text": [
            "\rProcessing reviews:  36%|███▌      | 343/949 [27:19<37:26,  3.71s/batch]"
          ]
        },
        {
          "name": "stdout",
          "output_type": "stream",
          "text": [
            "2/2 [==============================] - 1s 575ms/step\n"
          ]
        },
        {
          "name": "stderr",
          "output_type": "stream",
          "text": [
            "\rProcessing reviews:  36%|███▌      | 344/949 [27:21<34:15,  3.40s/batch]"
          ]
        },
        {
          "name": "stdout",
          "output_type": "stream",
          "text": [
            "2/2 [==============================] - 1s 678ms/step\n"
          ]
        },
        {
          "name": "stderr",
          "output_type": "stream",
          "text": [
            "\rProcessing reviews:  36%|███▋      | 345/949 [27:24<32:07,  3.19s/batch]"
          ]
        },
        {
          "name": "stdout",
          "output_type": "stream",
          "text": [
            "2/2 [==============================] - 2s 1s/step\n"
          ]
        },
        {
          "name": "stderr",
          "output_type": "stream",
          "text": [
            "\rProcessing reviews:  36%|███▋      | 346/949 [27:30<38:42,  3.85s/batch]"
          ]
        },
        {
          "name": "stdout",
          "output_type": "stream",
          "text": [
            "2/2 [==============================] - 2s 1s/step\n"
          ]
        },
        {
          "name": "stderr",
          "output_type": "stream",
          "text": [
            "\rProcessing reviews:  37%|███▋      | 347/949 [27:33<36:22,  3.63s/batch]"
          ]
        },
        {
          "name": "stdout",
          "output_type": "stream",
          "text": [
            "2/2 [==============================] - 3s 1s/step\n"
          ]
        },
        {
          "name": "stderr",
          "output_type": "stream",
          "text": [
            "\rProcessing reviews:  37%|███▋      | 348/949 [27:36<36:27,  3.64s/batch]"
          ]
        },
        {
          "name": "stdout",
          "output_type": "stream",
          "text": [
            "2/2 [==============================] - 2s 1s/step\n"
          ]
        },
        {
          "name": "stderr",
          "output_type": "stream",
          "text": [
            "\rProcessing reviews:  37%|███▋      | 349/949 [27:42<41:23,  4.14s/batch]"
          ]
        },
        {
          "name": "stdout",
          "output_type": "stream",
          "text": [
            "2/2 [==============================] - 2s 758ms/step\n"
          ]
        },
        {
          "name": "stderr",
          "output_type": "stream",
          "text": [
            "\rProcessing reviews:  37%|███▋      | 350/949 [27:44<37:13,  3.73s/batch]"
          ]
        },
        {
          "name": "stdout",
          "output_type": "stream",
          "text": [
            "2/2 [==============================] - 1s 719ms/step\n"
          ]
        },
        {
          "name": "stderr",
          "output_type": "stream",
          "text": [
            "\rProcessing reviews:  37%|███▋      | 351/949 [27:47<34:01,  3.41s/batch]"
          ]
        },
        {
          "name": "stdout",
          "output_type": "stream",
          "text": [
            "2/2 [==============================] - 6s 3s/step\n"
          ]
        },
        {
          "name": "stderr",
          "output_type": "stream",
          "text": [
            "\rProcessing reviews:  37%|███▋      | 352/949 [27:58<54:58,  5.52s/batch]"
          ]
        },
        {
          "name": "stdout",
          "output_type": "stream",
          "text": [
            "2/2 [==============================] - 6s 3s/step\n"
          ]
        },
        {
          "name": "stderr",
          "output_type": "stream",
          "text": [
            "\rProcessing reviews:  37%|███▋      | 353/949 [28:08<1:09:38,  7.01s/batch]"
          ]
        },
        {
          "name": "stdout",
          "output_type": "stream",
          "text": [
            "2/2 [==============================] - 1s 589ms/step\n"
          ]
        },
        {
          "name": "stderr",
          "output_type": "stream",
          "text": [
            "\rProcessing reviews:  37%|███▋      | 354/949 [28:11<56:50,  5.73s/batch]  "
          ]
        },
        {
          "name": "stdout",
          "output_type": "stream",
          "text": [
            "2/2 [==============================] - 5s 3s/step\n"
          ]
        },
        {
          "name": "stderr",
          "output_type": "stream",
          "text": [
            "\rProcessing reviews:  37%|███▋      | 355/949 [28:21<1:10:53,  7.16s/batch]"
          ]
        },
        {
          "name": "stdout",
          "output_type": "stream",
          "text": [
            "2/2 [==============================] - 3s 1s/step\n"
          ]
        },
        {
          "name": "stderr",
          "output_type": "stream",
          "text": [
            "\rProcessing reviews:  38%|███▊      | 356/949 [28:27<1:05:11,  6.60s/batch]"
          ]
        },
        {
          "name": "stdout",
          "output_type": "stream",
          "text": [
            "2/2 [==============================] - 3s 1s/step\n"
          ]
        },
        {
          "name": "stderr",
          "output_type": "stream",
          "text": [
            "\rProcessing reviews:  38%|███▊      | 357/949 [28:32<1:01:06,  6.19s/batch]"
          ]
        },
        {
          "name": "stdout",
          "output_type": "stream",
          "text": [
            "2/2 [==============================] - 3s 1s/step\n"
          ]
        },
        {
          "name": "stderr",
          "output_type": "stream",
          "text": [
            "\rProcessing reviews:  38%|███▊      | 358/949 [28:35<53:10,  5.40s/batch]  "
          ]
        },
        {
          "name": "stdout",
          "output_type": "stream",
          "text": [
            "2/2 [==============================] - 2s 1s/step\n"
          ]
        },
        {
          "name": "stderr",
          "output_type": "stream",
          "text": [
            "\rProcessing reviews:  38%|███▊      | 359/949 [28:41<52:38,  5.35s/batch]"
          ]
        },
        {
          "name": "stdout",
          "output_type": "stream",
          "text": [
            "2/2 [==============================] - 3s 2s/step\n"
          ]
        },
        {
          "name": "stderr",
          "output_type": "stream",
          "text": [
            "\rProcessing reviews:  38%|███▊      | 360/949 [28:45<49:42,  5.06s/batch]"
          ]
        },
        {
          "name": "stdout",
          "output_type": "stream",
          "text": [
            "2/2 [==============================] - 2s 1s/step\n"
          ]
        },
        {
          "name": "stderr",
          "output_type": "stream",
          "text": [
            "\rProcessing reviews:  38%|███▊      | 361/949 [28:48<44:06,  4.50s/batch]"
          ]
        },
        {
          "name": "stdout",
          "output_type": "stream",
          "text": [
            "2/2 [==============================] - 2s 969ms/step\n"
          ]
        },
        {
          "name": "stderr",
          "output_type": "stream",
          "text": [
            "\rProcessing reviews:  38%|███▊      | 362/949 [28:51<39:22,  4.02s/batch]"
          ]
        },
        {
          "name": "stdout",
          "output_type": "stream",
          "text": [
            "2/2 [==============================] - 3s 1s/step\n"
          ]
        },
        {
          "name": "stderr",
          "output_type": "stream",
          "text": [
            "\rProcessing reviews:  38%|███▊      | 363/949 [28:55<38:09,  3.91s/batch]"
          ]
        },
        {
          "name": "stdout",
          "output_type": "stream",
          "text": [
            "2/2 [==============================] - 4s 2s/step\n"
          ]
        },
        {
          "name": "stderr",
          "output_type": "stream",
          "text": [
            "\rProcessing reviews:  38%|███▊      | 364/949 [29:00<42:05,  4.32s/batch]"
          ]
        },
        {
          "name": "stdout",
          "output_type": "stream",
          "text": [
            "2/2 [==============================] - 2s 1s/step\n"
          ]
        },
        {
          "name": "stderr",
          "output_type": "stream",
          "text": [
            "\rProcessing reviews:  38%|███▊      | 365/949 [29:03<38:53,  4.00s/batch]"
          ]
        },
        {
          "name": "stdout",
          "output_type": "stream",
          "text": [
            "2/2 [==============================] - 6s 3s/step\n"
          ]
        },
        {
          "name": "stderr",
          "output_type": "stream",
          "text": [
            "\rProcessing reviews:  39%|███▊      | 366/949 [29:10<48:21,  4.98s/batch]"
          ]
        },
        {
          "name": "stdout",
          "output_type": "stream",
          "text": [
            "2/2 [==============================] - 3s 2s/step\n"
          ]
        },
        {
          "name": "stderr",
          "output_type": "stream",
          "text": [
            "\rProcessing reviews:  39%|███▊      | 367/949 [29:16<49:07,  5.06s/batch]"
          ]
        },
        {
          "name": "stdout",
          "output_type": "stream",
          "text": [
            "2/2 [==============================] - 2s 853ms/step\n"
          ]
        },
        {
          "name": "stderr",
          "output_type": "stream",
          "text": [
            "\rProcessing reviews:  39%|███▉      | 368/949 [29:18<42:14,  4.36s/batch]"
          ]
        },
        {
          "name": "stdout",
          "output_type": "stream",
          "text": [
            "2/2 [==============================] - 5s 3s/step\n"
          ]
        },
        {
          "name": "stderr",
          "output_type": "stream",
          "text": [
            "\rProcessing reviews:  39%|███▉      | 369/949 [29:25<48:52,  5.06s/batch]"
          ]
        },
        {
          "name": "stdout",
          "output_type": "stream",
          "text": [
            "2/2 [==============================] - 3s 2s/step\n"
          ]
        },
        {
          "name": "stderr",
          "output_type": "stream",
          "text": [
            "\rProcessing reviews:  39%|███▉      | 370/949 [29:30<49:24,  5.12s/batch]"
          ]
        },
        {
          "name": "stdout",
          "output_type": "stream",
          "text": [
            "2/2 [==============================] - 2s 888ms/step\n"
          ]
        },
        {
          "name": "stderr",
          "output_type": "stream",
          "text": [
            "\rProcessing reviews:  39%|███▉      | 371/949 [29:36<49:40,  5.16s/batch]"
          ]
        },
        {
          "name": "stdout",
          "output_type": "stream",
          "text": [
            "2/2 [==============================] - 2s 1s/step\n"
          ]
        },
        {
          "name": "stderr",
          "output_type": "stream",
          "text": [
            "\rProcessing reviews:  39%|███▉      | 372/949 [29:39<43:15,  4.50s/batch]"
          ]
        },
        {
          "name": "stdout",
          "output_type": "stream",
          "text": [
            "2/2 [==============================] - 3s 2s/step\n"
          ]
        },
        {
          "name": "stderr",
          "output_type": "stream",
          "text": [
            "\rProcessing reviews:  39%|███▉      | 373/949 [29:43<42:34,  4.43s/batch]"
          ]
        },
        {
          "name": "stdout",
          "output_type": "stream",
          "text": [
            "2/2 [==============================] - 2s 812ms/step\n"
          ]
        },
        {
          "name": "stderr",
          "output_type": "stream",
          "text": [
            "\rProcessing reviews:  39%|███▉      | 374/949 [29:46<37:36,  3.92s/batch]"
          ]
        },
        {
          "name": "stdout",
          "output_type": "stream",
          "text": [
            "2/2 [==============================] - 2s 1s/step\n"
          ]
        },
        {
          "name": "stderr",
          "output_type": "stream",
          "text": [
            "\rProcessing reviews:  40%|███▉      | 375/949 [29:51<41:33,  4.34s/batch]"
          ]
        },
        {
          "name": "stdout",
          "output_type": "stream",
          "text": [
            "2/2 [==============================] - 2s 811ms/step\n"
          ]
        },
        {
          "name": "stderr",
          "output_type": "stream",
          "text": [
            "\rProcessing reviews:  40%|███▉      | 376/949 [29:53<35:58,  3.77s/batch]"
          ]
        },
        {
          "name": "stdout",
          "output_type": "stream",
          "text": [
            "2/2 [==============================] - 2s 916ms/step\n"
          ]
        },
        {
          "name": "stderr",
          "output_type": "stream",
          "text": [
            "\rProcessing reviews:  40%|███▉      | 377/949 [29:56<32:48,  3.44s/batch]"
          ]
        },
        {
          "name": "stdout",
          "output_type": "stream",
          "text": [
            "2/2 [==============================] - 1s 521ms/step\n"
          ]
        },
        {
          "name": "stderr",
          "output_type": "stream",
          "text": [
            "\rProcessing reviews:  40%|███▉      | 378/949 [29:59<30:29,  3.20s/batch]"
          ]
        },
        {
          "name": "stdout",
          "output_type": "stream",
          "text": [
            "2/2 [==============================] - 3s 2s/step\n"
          ]
        },
        {
          "name": "stderr",
          "output_type": "stream",
          "text": [
            "\rProcessing reviews:  40%|███▉      | 379/949 [30:04<36:21,  3.83s/batch]"
          ]
        },
        {
          "name": "stdout",
          "output_type": "stream",
          "text": [
            "2/2 [==============================] - 4s 2s/step\n"
          ]
        },
        {
          "name": "stderr",
          "output_type": "stream",
          "text": [
            "\rProcessing reviews:  40%|████      | 380/949 [30:09<40:13,  4.24s/batch]"
          ]
        },
        {
          "name": "stdout",
          "output_type": "stream",
          "text": [
            "2/2 [==============================] - 2s 976ms/step\n"
          ]
        },
        {
          "name": "stderr",
          "output_type": "stream",
          "text": [
            "\rProcessing reviews:  40%|████      | 381/949 [30:12<36:00,  3.80s/batch]"
          ]
        },
        {
          "name": "stdout",
          "output_type": "stream",
          "text": [
            "2/2 [==============================] - 1s 586ms/step\n"
          ]
        },
        {
          "name": "stderr",
          "output_type": "stream",
          "text": [
            "\rProcessing reviews:  40%|████      | 382/949 [30:14<30:22,  3.21s/batch]"
          ]
        },
        {
          "name": "stdout",
          "output_type": "stream",
          "text": [
            "2/2 [==============================] - 4s 2s/step\n"
          ]
        },
        {
          "name": "stderr",
          "output_type": "stream",
          "text": [
            "\rProcessing reviews:  40%|████      | 383/949 [30:19<36:17,  3.85s/batch]"
          ]
        },
        {
          "name": "stdout",
          "output_type": "stream",
          "text": [
            "2/2 [==============================] - 2s 1s/step\n"
          ]
        },
        {
          "name": "stderr",
          "output_type": "stream",
          "text": [
            "\rProcessing reviews:  40%|████      | 384/949 [30:24<40:12,  4.27s/batch]"
          ]
        },
        {
          "name": "stdout",
          "output_type": "stream",
          "text": [
            "2/2 [==============================] - 3s 2s/step\n"
          ]
        },
        {
          "name": "stderr",
          "output_type": "stream",
          "text": [
            "\rProcessing reviews:  41%|████      | 385/949 [30:30<43:04,  4.58s/batch]"
          ]
        },
        {
          "name": "stdout",
          "output_type": "stream",
          "text": [
            "2/2 [==============================] - 3s 1s/step\n"
          ]
        },
        {
          "name": "stderr",
          "output_type": "stream",
          "text": [
            "\rProcessing reviews:  41%|████      | 386/949 [30:33<40:45,  4.34s/batch]"
          ]
        },
        {
          "name": "stdout",
          "output_type": "stream",
          "text": [
            "2/2 [==============================] - 2s 895ms/step\n"
          ]
        },
        {
          "name": "stderr",
          "output_type": "stream",
          "text": [
            "\rProcessing reviews:  41%|████      | 387/949 [30:36<35:39,  3.81s/batch]"
          ]
        },
        {
          "name": "stdout",
          "output_type": "stream",
          "text": [
            "2/2 [==============================] - 2s 1s/step\n"
          ]
        },
        {
          "name": "stderr",
          "output_type": "stream",
          "text": [
            "\rProcessing reviews:  41%|████      | 388/949 [30:41<39:43,  4.25s/batch]"
          ]
        },
        {
          "name": "stdout",
          "output_type": "stream",
          "text": [
            "2/2 [==============================] - 2s 827ms/step\n"
          ]
        },
        {
          "name": "stderr",
          "output_type": "stream",
          "text": [
            "\rProcessing reviews:  41%|████      | 389/949 [30:44<35:29,  3.80s/batch]"
          ]
        },
        {
          "name": "stdout",
          "output_type": "stream",
          "text": [
            "2/2 [==============================] - 2s 839ms/step\n"
          ]
        },
        {
          "name": "stderr",
          "output_type": "stream",
          "text": [
            "\rProcessing reviews:  41%|████      | 390/949 [30:47<31:37,  3.39s/batch]"
          ]
        },
        {
          "name": "stdout",
          "output_type": "stream",
          "text": [
            "2/2 [==============================] - 2s 1s/step\n"
          ]
        },
        {
          "name": "stderr",
          "output_type": "stream",
          "text": [
            "\rProcessing reviews:  41%|████      | 391/949 [30:49<30:12,  3.25s/batch]"
          ]
        },
        {
          "name": "stdout",
          "output_type": "stream",
          "text": [
            "2/2 [==============================] - 1s 603ms/step\n"
          ]
        },
        {
          "name": "stderr",
          "output_type": "stream",
          "text": [
            "\rProcessing reviews:  41%|████▏     | 392/949 [30:52<28:32,  3.08s/batch]"
          ]
        },
        {
          "name": "stdout",
          "output_type": "stream",
          "text": [
            "2/2 [==============================] - 4s 2s/step\n"
          ]
        },
        {
          "name": "stderr",
          "output_type": "stream",
          "text": [
            "\rProcessing reviews:  41%|████▏     | 393/949 [30:57<34:09,  3.69s/batch]"
          ]
        },
        {
          "name": "stdout",
          "output_type": "stream",
          "text": [
            "2/2 [==============================] - 1s 657ms/step\n"
          ]
        },
        {
          "name": "stderr",
          "output_type": "stream",
          "text": [
            "\rProcessing reviews:  42%|████▏     | 394/949 [31:00<31:33,  3.41s/batch]"
          ]
        },
        {
          "name": "stdout",
          "output_type": "stream",
          "text": [
            "2/2 [==============================] - 2s 1s/step\n"
          ]
        },
        {
          "name": "stderr",
          "output_type": "stream",
          "text": [
            "\rProcessing reviews:  42%|████▏     | 395/949 [31:05<36:36,  3.96s/batch]"
          ]
        },
        {
          "name": "stdout",
          "output_type": "stream",
          "text": [
            "2/2 [==============================] - 2s 860ms/step\n"
          ]
        },
        {
          "name": "stderr",
          "output_type": "stream",
          "text": [
            "\rProcessing reviews:  42%|████▏     | 396/949 [31:08<33:02,  3.58s/batch]"
          ]
        },
        {
          "name": "stdout",
          "output_type": "stream",
          "text": [
            "2/2 [==============================] - 2s 838ms/step\n"
          ]
        },
        {
          "name": "stderr",
          "output_type": "stream",
          "text": [
            "\rProcessing reviews:  42%|████▏     | 397/949 [31:11<30:34,  3.32s/batch]"
          ]
        },
        {
          "name": "stdout",
          "output_type": "stream",
          "text": [
            "2/2 [==============================] - 1s 758ms/step\n"
          ]
        },
        {
          "name": "stderr",
          "output_type": "stream",
          "text": [
            "\rProcessing reviews:  42%|████▏     | 398/949 [31:13<28:57,  3.15s/batch]"
          ]
        },
        {
          "name": "stdout",
          "output_type": "stream",
          "text": [
            "2/2 [==============================] - 1s 647ms/step\n"
          ]
        },
        {
          "name": "stderr",
          "output_type": "stream",
          "text": [
            "\rProcessing reviews:  42%|████▏     | 399/949 [31:15<25:38,  2.80s/batch]"
          ]
        },
        {
          "name": "stdout",
          "output_type": "stream",
          "text": [
            "2/2 [==============================] - 1s 610ms/step\n"
          ]
        },
        {
          "name": "stderr",
          "output_type": "stream",
          "text": [
            "\rProcessing reviews:  42%|████▏     | 400/949 [31:17<22:52,  2.50s/batch]"
          ]
        },
        {
          "name": "stdout",
          "output_type": "stream",
          "text": [
            "2/2 [==============================] - 2s 881ms/step\n"
          ]
        },
        {
          "name": "stderr",
          "output_type": "stream",
          "text": [
            "\rProcessing reviews:  42%|████▏     | 401/949 [31:20<22:48,  2.50s/batch]"
          ]
        },
        {
          "name": "stdout",
          "output_type": "stream",
          "text": [
            "2/2 [==============================] - 2s 818ms/step\n"
          ]
        },
        {
          "name": "stderr",
          "output_type": "stream",
          "text": [
            "\rProcessing reviews:  42%|████▏     | 402/949 [31:22<22:23,  2.46s/batch]"
          ]
        },
        {
          "name": "stdout",
          "output_type": "stream",
          "text": [
            "2/2 [==============================] - 1s 528ms/step\n"
          ]
        },
        {
          "name": "stderr",
          "output_type": "stream",
          "text": [
            "\rProcessing reviews:  42%|████▏     | 403/949 [31:24<19:54,  2.19s/batch]"
          ]
        },
        {
          "name": "stdout",
          "output_type": "stream",
          "text": [
            "2/2 [==============================] - 1s 622ms/step\n"
          ]
        },
        {
          "name": "stderr",
          "output_type": "stream",
          "text": [
            "\rProcessing reviews:  43%|████▎     | 404/949 [31:26<21:30,  2.37s/batch]"
          ]
        },
        {
          "name": "stdout",
          "output_type": "stream",
          "text": [
            "2/2 [==============================] - 2s 877ms/step\n"
          ]
        },
        {
          "name": "stderr",
          "output_type": "stream",
          "text": [
            "\rProcessing reviews:  43%|████▎     | 405/949 [31:29<22:06,  2.44s/batch]"
          ]
        },
        {
          "name": "stdout",
          "output_type": "stream",
          "text": [
            "2/2 [==============================] - 1s 401ms/step\n"
          ]
        },
        {
          "name": "stderr",
          "output_type": "stream",
          "text": [
            "\rProcessing reviews:  43%|████▎     | 406/949 [31:30<18:55,  2.09s/batch]"
          ]
        },
        {
          "name": "stdout",
          "output_type": "stream",
          "text": [
            "2/2 [==============================] - 2s 832ms/step\n"
          ]
        },
        {
          "name": "stderr",
          "output_type": "stream",
          "text": [
            "\rProcessing reviews:  43%|████▎     | 407/949 [31:33<19:38,  2.17s/batch]"
          ]
        },
        {
          "name": "stdout",
          "output_type": "stream",
          "text": [
            "2/2 [==============================] - 1s 605ms/step\n"
          ]
        },
        {
          "name": "stderr",
          "output_type": "stream",
          "text": [
            "\rProcessing reviews:  43%|████▎     | 408/949 [31:34<18:34,  2.06s/batch]"
          ]
        },
        {
          "name": "stdout",
          "output_type": "stream",
          "text": [
            "2/2 [==============================] - 1s 766ms/step\n"
          ]
        },
        {
          "name": "stderr",
          "output_type": "stream",
          "text": [
            "\rProcessing reviews:  43%|████▎     | 409/949 [31:37<18:57,  2.11s/batch]"
          ]
        },
        {
          "name": "stdout",
          "output_type": "stream",
          "text": [
            "2/2 [==============================] - 5s 3s/step\n"
          ]
        },
        {
          "name": "stderr",
          "output_type": "stream",
          "text": [
            "\rProcessing reviews:  43%|████▎     | 410/949 [31:43<31:13,  3.48s/batch]"
          ]
        },
        {
          "name": "stdout",
          "output_type": "stream",
          "text": [
            "2/2 [==============================] - 2s 964ms/step\n"
          ]
        },
        {
          "name": "stderr",
          "output_type": "stream",
          "text": [
            "\rProcessing reviews:  43%|████▎     | 411/949 [31:46<29:50,  3.33s/batch]"
          ]
        },
        {
          "name": "stdout",
          "output_type": "stream",
          "text": [
            "2/2 [==============================] - 4s 2s/step\n"
          ]
        },
        {
          "name": "stderr",
          "output_type": "stream",
          "text": [
            "\rProcessing reviews:  43%|████▎     | 412/949 [31:52<35:19,  3.95s/batch]"
          ]
        },
        {
          "name": "stdout",
          "output_type": "stream",
          "text": [
            "2/2 [==============================] - 3s 1s/step\n"
          ]
        },
        {
          "name": "stderr",
          "output_type": "stream",
          "text": [
            "\rProcessing reviews:  44%|████▎     | 413/949 [31:56<36:05,  4.04s/batch]"
          ]
        },
        {
          "name": "stdout",
          "output_type": "stream",
          "text": [
            "2/2 [==============================] - 2s 1s/step\n"
          ]
        },
        {
          "name": "stderr",
          "output_type": "stream",
          "text": [
            "\rProcessing reviews:  44%|████▎     | 414/949 [31:59<33:39,  3.77s/batch]"
          ]
        },
        {
          "name": "stdout",
          "output_type": "stream",
          "text": [
            "2/2 [==============================] - 3s 1s/step\n"
          ]
        },
        {
          "name": "stderr",
          "output_type": "stream",
          "text": [
            "\rProcessing reviews:  44%|████▎     | 415/949 [32:04<37:33,  4.22s/batch]"
          ]
        },
        {
          "name": "stdout",
          "output_type": "stream",
          "text": [
            "2/2 [==============================] - 5s 2s/step\n"
          ]
        },
        {
          "name": "stderr",
          "output_type": "stream",
          "text": [
            "\rProcessing reviews:  44%|████▍     | 416/949 [32:15<53:58,  6.08s/batch]"
          ]
        },
        {
          "name": "stdout",
          "output_type": "stream",
          "text": [
            "2/2 [==============================] - 5s 2s/step\n"
          ]
        },
        {
          "name": "stderr",
          "output_type": "stream",
          "text": [
            "\rProcessing reviews:  44%|████▍     | 417/949 [32:25<1:05:23,  7.37s/batch]"
          ]
        },
        {
          "name": "stdout",
          "output_type": "stream",
          "text": [
            "2/2 [==============================] - 3s 1s/step\n"
          ]
        },
        {
          "name": "stderr",
          "output_type": "stream",
          "text": [
            "\rProcessing reviews:  44%|████▍     | 418/949 [32:30<59:38,  6.74s/batch]  "
          ]
        },
        {
          "name": "stdout",
          "output_type": "stream",
          "text": [
            "2/2 [==============================] - 1s 516ms/step\n"
          ]
        },
        {
          "name": "stderr",
          "output_type": "stream",
          "text": [
            "\rProcessing reviews:  44%|████▍     | 419/949 [32:32<46:00,  5.21s/batch]"
          ]
        },
        {
          "name": "stdout",
          "output_type": "stream",
          "text": [
            "2/2 [==============================] - 1s 645ms/step\n"
          ]
        },
        {
          "name": "stderr",
          "output_type": "stream",
          "text": [
            "\rProcessing reviews:  44%|████▍     | 420/949 [32:34<37:28,  4.25s/batch]"
          ]
        },
        {
          "name": "stdout",
          "output_type": "stream",
          "text": [
            "2/2 [==============================] - 2s 878ms/step\n"
          ]
        },
        {
          "name": "stderr",
          "output_type": "stream",
          "text": [
            "\rProcessing reviews:  44%|████▍     | 421/949 [32:37<33:27,  3.80s/batch]"
          ]
        },
        {
          "name": "stdout",
          "output_type": "stream",
          "text": [
            "2/2 [==============================] - 2s 855ms/step\n"
          ]
        },
        {
          "name": "stderr",
          "output_type": "stream",
          "text": [
            "\rProcessing reviews:  44%|████▍     | 422/949 [32:40<30:39,  3.49s/batch]"
          ]
        },
        {
          "name": "stdout",
          "output_type": "stream",
          "text": [
            "2/2 [==============================] - 6s 3s/step\n"
          ]
        },
        {
          "name": "stderr",
          "output_type": "stream",
          "text": [
            "\rProcessing reviews:  45%|████▍     | 423/949 [32:47<39:50,  4.55s/batch]"
          ]
        },
        {
          "name": "stdout",
          "output_type": "stream",
          "text": [
            "2/2 [==============================] - 3s 2s/step\n"
          ]
        },
        {
          "name": "stderr",
          "output_type": "stream",
          "text": [
            "\rProcessing reviews:  45%|████▍     | 424/949 [32:51<39:44,  4.54s/batch]"
          ]
        },
        {
          "name": "stdout",
          "output_type": "stream",
          "text": [
            "2/2 [==============================] - 3s 1s/step\n"
          ]
        },
        {
          "name": "stderr",
          "output_type": "stream",
          "text": [
            "\rProcessing reviews:  45%|████▍     | 425/949 [32:55<38:05,  4.36s/batch]"
          ]
        },
        {
          "name": "stdout",
          "output_type": "stream",
          "text": [
            "2/2 [==============================] - 2s 1s/step\n"
          ]
        },
        {
          "name": "stderr",
          "output_type": "stream",
          "text": [
            "\rProcessing reviews:  45%|████▍     | 426/949 [32:58<34:25,  3.95s/batch]"
          ]
        },
        {
          "name": "stdout",
          "output_type": "stream",
          "text": [
            "2/2 [==============================] - 2s 965ms/step\n"
          ]
        },
        {
          "name": "stderr",
          "output_type": "stream",
          "text": [
            "\rProcessing reviews:  45%|████▍     | 427/949 [33:01<31:13,  3.59s/batch]"
          ]
        },
        {
          "name": "stdout",
          "output_type": "stream",
          "text": [
            "2/2 [==============================] - 6s 3s/step\n"
          ]
        },
        {
          "name": "stderr",
          "output_type": "stream",
          "text": [
            "\rProcessing reviews:  45%|████▌     | 428/949 [33:11<48:54,  5.63s/batch]"
          ]
        },
        {
          "name": "stdout",
          "output_type": "stream",
          "text": [
            "2/2 [==============================] - 3s 1s/step\n"
          ]
        },
        {
          "name": "stderr",
          "output_type": "stream",
          "text": [
            "\rProcessing reviews:  45%|████▌     | 429/949 [33:17<47:57,  5.53s/batch]"
          ]
        },
        {
          "name": "stdout",
          "output_type": "stream",
          "text": [
            "2/2 [==============================] - 3s 2s/step\n"
          ]
        },
        {
          "name": "stderr",
          "output_type": "stream",
          "text": [
            "\rProcessing reviews:  45%|████▌     | 430/949 [33:22<47:19,  5.47s/batch]"
          ]
        },
        {
          "name": "stdout",
          "output_type": "stream",
          "text": [
            "2/2 [==============================] - 5s 2s/step\n"
          ]
        },
        {
          "name": "stderr",
          "output_type": "stream",
          "text": [
            "\rProcessing reviews:  45%|████▌     | 431/949 [33:32<1:00:01,  6.95s/batch]"
          ]
        },
        {
          "name": "stdout",
          "output_type": "stream",
          "text": [
            "2/2 [==============================] - 2s 1s/step\n"
          ]
        },
        {
          "name": "stderr",
          "output_type": "stream",
          "text": [
            "\rProcessing reviews:  46%|████▌     | 432/949 [33:35<49:54,  5.79s/batch]  "
          ]
        },
        {
          "name": "stdout",
          "output_type": "stream",
          "text": [
            "2/2 [==============================] - 1s 600ms/step\n"
          ]
        },
        {
          "name": "stderr",
          "output_type": "stream",
          "text": [
            "\rProcessing reviews:  46%|████▌     | 433/949 [33:38<41:45,  4.86s/batch]"
          ]
        },
        {
          "name": "stdout",
          "output_type": "stream",
          "text": [
            "2/2 [==============================] - 2s 889ms/step\n"
          ]
        },
        {
          "name": "stderr",
          "output_type": "stream",
          "text": [
            "\rProcessing reviews:  46%|████▌     | 434/949 [33:41<36:04,  4.20s/batch]"
          ]
        },
        {
          "name": "stdout",
          "output_type": "stream",
          "text": [
            "2/2 [==============================] - 1s 753ms/step\n"
          ]
        },
        {
          "name": "stderr",
          "output_type": "stream",
          "text": [
            "\rProcessing reviews:  46%|████▌     | 435/949 [33:43<31:22,  3.66s/batch]"
          ]
        },
        {
          "name": "stdout",
          "output_type": "stream",
          "text": [
            "2/2 [==============================] - 4s 2s/step\n"
          ]
        },
        {
          "name": "stderr",
          "output_type": "stream",
          "text": [
            "\rProcessing reviews:  46%|████▌     | 436/949 [33:48<35:35,  4.16s/batch]"
          ]
        },
        {
          "name": "stdout",
          "output_type": "stream",
          "text": [
            "2/2 [==============================] - 4s 2s/step\n"
          ]
        },
        {
          "name": "stderr",
          "output_type": "stream",
          "text": [
            "\rProcessing reviews:  46%|████▌     | 437/949 [33:54<38:21,  4.49s/batch]"
          ]
        },
        {
          "name": "stdout",
          "output_type": "stream",
          "text": [
            "2/2 [==============================] - 6s 3s/step\n"
          ]
        },
        {
          "name": "stderr",
          "output_type": "stream",
          "text": [
            "\rProcessing reviews:  46%|████▌     | 438/949 [34:04<53:23,  6.27s/batch]"
          ]
        },
        {
          "name": "stdout",
          "output_type": "stream",
          "text": [
            "2/2 [==============================] - 3s 2s/step\n"
          ]
        },
        {
          "name": "stderr",
          "output_type": "stream",
          "text": [
            "\rProcessing reviews:  46%|████▋     | 439/949 [34:09<50:49,  5.98s/batch]"
          ]
        },
        {
          "name": "stdout",
          "output_type": "stream",
          "text": [
            "2/2 [==============================] - 6s 3s/step\n"
          ]
        },
        {
          "name": "stderr",
          "output_type": "stream",
          "text": [
            "\rProcessing reviews:  46%|████▋     | 440/949 [34:16<53:24,  6.30s/batch]"
          ]
        },
        {
          "name": "stdout",
          "output_type": "stream",
          "text": [
            "2/2 [==============================] - 3s 2s/step\n"
          ]
        },
        {
          "name": "stderr",
          "output_type": "stream",
          "text": [
            "\rProcessing reviews:  46%|████▋     | 441/949 [34:21<47:42,  5.63s/batch]"
          ]
        },
        {
          "name": "stdout",
          "output_type": "stream",
          "text": [
            "2/2 [==============================] - 2s 883ms/step\n"
          ]
        },
        {
          "name": "stderr",
          "output_type": "stream",
          "text": [
            "\rProcessing reviews:  47%|████▋     | 442/949 [34:23<39:40,  4.69s/batch]"
          ]
        },
        {
          "name": "stdout",
          "output_type": "stream",
          "text": [
            "2/2 [==============================] - 2s 789ms/step\n"
          ]
        },
        {
          "name": "stderr",
          "output_type": "stream",
          "text": [
            "\rProcessing reviews:  47%|████▋     | 443/949 [34:26<34:35,  4.10s/batch]"
          ]
        },
        {
          "name": "stdout",
          "output_type": "stream",
          "text": [
            "2/2 [==============================] - 1s 702ms/step\n"
          ]
        },
        {
          "name": "stderr",
          "output_type": "stream",
          "text": [
            "\rProcessing reviews:  47%|████▋     | 444/949 [34:28<29:58,  3.56s/batch]"
          ]
        },
        {
          "name": "stdout",
          "output_type": "stream",
          "text": [
            "2/2 [==============================] - 2s 938ms/step\n"
          ]
        },
        {
          "name": "stderr",
          "output_type": "stream",
          "text": [
            "\rProcessing reviews:  47%|████▋     | 445/949 [34:31<27:47,  3.31s/batch]"
          ]
        },
        {
          "name": "stdout",
          "output_type": "stream",
          "text": [
            "2/2 [==============================] - 2s 1s/step\n"
          ]
        },
        {
          "name": "stderr",
          "output_type": "stream",
          "text": [
            "\rProcessing reviews:  47%|████▋     | 446/949 [34:34<27:28,  3.28s/batch]"
          ]
        },
        {
          "name": "stdout",
          "output_type": "stream",
          "text": [
            "2/2 [==============================] - 6s 3s/step\n"
          ]
        },
        {
          "name": "stderr",
          "output_type": "stream",
          "text": [
            "\rProcessing reviews:  47%|████▋     | 447/949 [34:44<45:19,  5.42s/batch]"
          ]
        },
        {
          "name": "stdout",
          "output_type": "stream",
          "text": [
            "2/2 [==============================] - 3s 2s/step\n"
          ]
        },
        {
          "name": "stderr",
          "output_type": "stream",
          "text": [
            "\rProcessing reviews:  47%|████▋     | 448/949 [34:50<44:52,  5.37s/batch]"
          ]
        },
        {
          "name": "stdout",
          "output_type": "stream",
          "text": [
            "2/2 [==============================] - 3s 1s/step\n"
          ]
        },
        {
          "name": "stderr",
          "output_type": "stream",
          "text": [
            "\rProcessing reviews:  47%|████▋     | 449/949 [34:55<44:37,  5.35s/batch]"
          ]
        },
        {
          "name": "stdout",
          "output_type": "stream",
          "text": [
            "2/2 [==============================] - 5s 3s/step\n"
          ]
        },
        {
          "name": "stderr",
          "output_type": "stream",
          "text": [
            "\rProcessing reviews:  47%|████▋     | 450/949 [35:05<57:21,  6.90s/batch]"
          ]
        },
        {
          "name": "stdout",
          "output_type": "stream",
          "text": [
            "2/2 [==============================] - 2s 1s/step\n"
          ]
        },
        {
          "name": "stderr",
          "output_type": "stream",
          "text": [
            "\rProcessing reviews:  48%|████▊     | 451/949 [35:11<53:10,  6.41s/batch]"
          ]
        },
        {
          "name": "stdout",
          "output_type": "stream",
          "text": [
            "2/2 [==============================] - 6s 3s/step\n"
          ]
        },
        {
          "name": "stderr",
          "output_type": "stream",
          "text": [
            "\rProcessing reviews:  48%|████▊     | 452/949 [35:21<1:03:12,  7.63s/batch]"
          ]
        },
        {
          "name": "stdout",
          "output_type": "stream",
          "text": [
            "2/2 [==============================] - 4s 2s/step\n"
          ]
        },
        {
          "name": "stderr",
          "output_type": "stream",
          "text": [
            "\rProcessing reviews:  48%|████▊     | 453/949 [35:27<57:59,  7.01s/batch]  "
          ]
        },
        {
          "name": "stdout",
          "output_type": "stream",
          "text": [
            "2/2 [==============================] - 2s 1s/step\n"
          ]
        },
        {
          "name": "stderr",
          "output_type": "stream",
          "text": [
            "\rProcessing reviews:  48%|████▊     | 454/949 [35:30<48:24,  5.87s/batch]"
          ]
        },
        {
          "name": "stdout",
          "output_type": "stream",
          "text": [
            "2/2 [==============================] - 1s 768ms/step\n"
          ]
        },
        {
          "name": "stderr",
          "output_type": "stream",
          "text": [
            "\rProcessing reviews:  48%|████▊     | 455/949 [35:32<39:13,  4.76s/batch]"
          ]
        },
        {
          "name": "stdout",
          "output_type": "stream",
          "text": [
            "2/2 [==============================] - 3s 2s/step\n"
          ]
        },
        {
          "name": "stderr",
          "output_type": "stream",
          "text": [
            "\rProcessing reviews:  48%|████▊     | 456/949 [35:37<40:31,  4.93s/batch]"
          ]
        },
        {
          "name": "stdout",
          "output_type": "stream",
          "text": [
            "2/2 [==============================] - 6s 3s/step\n"
          ]
        },
        {
          "name": "stderr",
          "output_type": "stream",
          "text": [
            "\rProcessing reviews:  48%|████▊     | 457/949 [35:45<46:55,  5.72s/batch]"
          ]
        },
        {
          "name": "stdout",
          "output_type": "stream",
          "text": [
            "2/2 [==============================] - 2s 895ms/step\n"
          ]
        },
        {
          "name": "stderr",
          "output_type": "stream",
          "text": [
            "\rProcessing reviews:  48%|████▊     | 458/949 [35:48<39:04,  4.77s/batch]"
          ]
        },
        {
          "name": "stdout",
          "output_type": "stream",
          "text": [
            "2/2 [==============================] - 1s 736ms/step\n"
          ]
        },
        {
          "name": "stderr",
          "output_type": "stream",
          "text": [
            "\rProcessing reviews:  48%|████▊     | 459/949 [35:50<33:54,  4.15s/batch]"
          ]
        },
        {
          "name": "stdout",
          "output_type": "stream",
          "text": [
            "2/2 [==============================] - 4s 2s/step\n"
          ]
        },
        {
          "name": "stderr",
          "output_type": "stream",
          "text": [
            "\rProcessing reviews:  48%|████▊     | 460/949 [36:01<49:16,  6.05s/batch]"
          ]
        },
        {
          "name": "stdout",
          "output_type": "stream",
          "text": [
            "2/2 [==============================] - 3s 1s/step\n"
          ]
        },
        {
          "name": "stderr",
          "output_type": "stream",
          "text": [
            "\rProcessing reviews:  49%|████▊     | 461/949 [36:06<47:20,  5.82s/batch]"
          ]
        },
        {
          "name": "stdout",
          "output_type": "stream",
          "text": [
            "2/2 [==============================] - 4s 2s/step\n"
          ]
        },
        {
          "name": "stderr",
          "output_type": "stream",
          "text": [
            "\rProcessing reviews:  49%|████▊     | 462/949 [36:11<45:27,  5.60s/batch]"
          ]
        },
        {
          "name": "stdout",
          "output_type": "stream",
          "text": [
            "2/2 [==============================] - 6s 3s/step\n"
          ]
        },
        {
          "name": "stderr",
          "output_type": "stream",
          "text": [
            "\rProcessing reviews:  49%|████▉     | 463/949 [36:19<51:52,  6.41s/batch]"
          ]
        },
        {
          "name": "stdout",
          "output_type": "stream",
          "text": [
            "2/2 [==============================] - 1s 529ms/step\n"
          ]
        },
        {
          "name": "stderr",
          "output_type": "stream",
          "text": [
            "\rProcessing reviews:  49%|████▉     | 464/949 [36:21<40:49,  5.05s/batch]"
          ]
        },
        {
          "name": "stdout",
          "output_type": "stream",
          "text": [
            "2/2 [==============================] - 5s 2s/step\n"
          ]
        },
        {
          "name": "stderr",
          "output_type": "stream",
          "text": [
            "\rProcessing reviews:  49%|████▉     | 465/949 [36:27<43:10,  5.35s/batch]"
          ]
        },
        {
          "name": "stdout",
          "output_type": "stream",
          "text": [
            "2/2 [==============================] - 5s 2s/step\n"
          ]
        },
        {
          "name": "stderr",
          "output_type": "stream",
          "text": [
            "\rProcessing reviews:  49%|████▉     | 466/949 [36:38<55:18,  6.87s/batch]"
          ]
        },
        {
          "name": "stdout",
          "output_type": "stream",
          "text": [
            "2/2 [==============================] - 6s 3s/step\n"
          ]
        },
        {
          "name": "stderr",
          "output_type": "stream",
          "text": [
            "\rProcessing reviews:  49%|████▉     | 467/949 [36:48<1:03:54,  7.96s/batch]"
          ]
        },
        {
          "name": "stdout",
          "output_type": "stream",
          "text": [
            "2/2 [==============================] - 3s 1s/step\n"
          ]
        },
        {
          "name": "stderr",
          "output_type": "stream",
          "text": [
            "\rProcessing reviews:  49%|████▉     | 468/949 [36:52<53:17,  6.65s/batch]  "
          ]
        },
        {
          "name": "stdout",
          "output_type": "stream",
          "text": [
            "2/2 [==============================] - 1s 713ms/step\n"
          ]
        },
        {
          "name": "stderr",
          "output_type": "stream",
          "text": [
            "\rProcessing reviews:  49%|████▉     | 469/949 [36:55<43:41,  5.46s/batch]"
          ]
        },
        {
          "name": "stdout",
          "output_type": "stream",
          "text": [
            "2/2 [==============================] - 1s 733ms/step\n"
          ]
        },
        {
          "name": "stderr",
          "output_type": "stream",
          "text": [
            "\rProcessing reviews:  50%|████▉     | 470/949 [36:57<36:56,  4.63s/batch]"
          ]
        },
        {
          "name": "stdout",
          "output_type": "stream",
          "text": [
            "2/2 [==============================] - 4s 2s/step\n"
          ]
        },
        {
          "name": "stderr",
          "output_type": "stream",
          "text": [
            "\rProcessing reviews:  50%|████▉     | 471/949 [37:08<50:37,  6.35s/batch]"
          ]
        },
        {
          "name": "stdout",
          "output_type": "stream",
          "text": [
            "2/2 [==============================] - 3s 1s/step\n"
          ]
        },
        {
          "name": "stderr",
          "output_type": "stream",
          "text": [
            "\rProcessing reviews:  50%|████▉     | 472/949 [37:12<44:35,  5.61s/batch]"
          ]
        },
        {
          "name": "stdout",
          "output_type": "stream",
          "text": [
            "2/2 [==============================] - 2s 1s/step\n"
          ]
        },
        {
          "name": "stderr",
          "output_type": "stream",
          "text": [
            "\rProcessing reviews:  50%|████▉     | 473/949 [37:17<43:38,  5.50s/batch]"
          ]
        },
        {
          "name": "stdout",
          "output_type": "stream",
          "text": [
            "2/2 [==============================] - 2s 843ms/step\n"
          ]
        },
        {
          "name": "stderr",
          "output_type": "stream",
          "text": [
            "\rProcessing reviews:  50%|████▉     | 474/949 [37:19<36:21,  4.59s/batch]"
          ]
        },
        {
          "name": "stdout",
          "output_type": "stream",
          "text": [
            "2/2 [==============================] - 4s 2s/step\n"
          ]
        },
        {
          "name": "stderr",
          "output_type": "stream",
          "text": [
            "\rProcessing reviews:  50%|█████     | 475/949 [37:25<38:30,  4.87s/batch]"
          ]
        },
        {
          "name": "stdout",
          "output_type": "stream",
          "text": [
            "2/2 [==============================] - 4s 2s/step\n"
          ]
        },
        {
          "name": "stderr",
          "output_type": "stream",
          "text": [
            "\rProcessing reviews:  50%|█████     | 476/949 [37:31<40:40,  5.16s/batch]"
          ]
        },
        {
          "name": "stdout",
          "output_type": "stream",
          "text": [
            "2/2 [==============================] - 5s 3s/step\n"
          ]
        },
        {
          "name": "stderr",
          "output_type": "stream",
          "text": [
            "\rProcessing reviews:  50%|█████     | 477/949 [37:41<53:18,  6.78s/batch]"
          ]
        },
        {
          "name": "stdout",
          "output_type": "stream",
          "text": [
            "2/2 [==============================] - 2s 979ms/step\n"
          ]
        },
        {
          "name": "stderr",
          "output_type": "stream",
          "text": [
            "\rProcessing reviews:  50%|█████     | 478/949 [37:46<49:43,  6.34s/batch]"
          ]
        },
        {
          "name": "stdout",
          "output_type": "stream",
          "text": [
            "2/2 [==============================] - 2s 1s/step\n"
          ]
        },
        {
          "name": "stderr",
          "output_type": "stream",
          "text": [
            "\rProcessing reviews:  50%|█████     | 479/949 [37:49<41:50,  5.34s/batch]"
          ]
        },
        {
          "name": "stdout",
          "output_type": "stream",
          "text": [
            "2/2 [==============================] - 2s 1s/step\n"
          ]
        },
        {
          "name": "stderr",
          "output_type": "stream",
          "text": [
            "\rProcessing reviews:  51%|█████     | 480/949 [37:55<41:34,  5.32s/batch]"
          ]
        },
        {
          "name": "stdout",
          "output_type": "stream",
          "text": [
            "2/2 [==============================] - 4s 2s/step\n"
          ]
        },
        {
          "name": "stderr",
          "output_type": "stream",
          "text": [
            "\rProcessing reviews:  51%|█████     | 481/949 [38:00<40:31,  5.20s/batch]"
          ]
        },
        {
          "name": "stdout",
          "output_type": "stream",
          "text": [
            "2/2 [==============================] - 2s 1s/step\n"
          ]
        },
        {
          "name": "stderr",
          "output_type": "stream",
          "text": [
            "\rProcessing reviews:  51%|█████     | 482/949 [38:03<36:11,  4.65s/batch]"
          ]
        },
        {
          "name": "stdout",
          "output_type": "stream",
          "text": [
            "2/2 [==============================] - 3s 1s/step\n"
          ]
        },
        {
          "name": "stderr",
          "output_type": "stream",
          "text": [
            "\rProcessing reviews:  51%|█████     | 483/949 [38:07<33:34,  4.32s/batch]"
          ]
        },
        {
          "name": "stdout",
          "output_type": "stream",
          "text": [
            "2/2 [==============================] - 3s 1s/step\n"
          ]
        },
        {
          "name": "stderr",
          "output_type": "stream",
          "text": [
            "\rProcessing reviews:  51%|█████     | 484/949 [38:12<35:47,  4.62s/batch]"
          ]
        },
        {
          "name": "stdout",
          "output_type": "stream",
          "text": [
            "2/2 [==============================] - 2s 904ms/step\n"
          ]
        },
        {
          "name": "stderr",
          "output_type": "stream",
          "text": [
            "\rProcessing reviews:  51%|█████     | 485/949 [38:15<31:25,  4.06s/batch]"
          ]
        },
        {
          "name": "stdout",
          "output_type": "stream",
          "text": [
            "2/2 [==============================] - 2s 1s/step\n"
          ]
        },
        {
          "name": "stderr",
          "output_type": "stream",
          "text": [
            "\rProcessing reviews:  51%|█████     | 486/949 [38:18<29:47,  3.86s/batch]"
          ]
        },
        {
          "name": "stdout",
          "output_type": "stream",
          "text": [
            "2/2 [==============================] - 3s 2s/step\n"
          ]
        },
        {
          "name": "stderr",
          "output_type": "stream",
          "text": [
            "\rProcessing reviews:  51%|█████▏    | 487/949 [38:22<30:15,  3.93s/batch]"
          ]
        },
        {
          "name": "stdout",
          "output_type": "stream",
          "text": [
            "2/2 [==============================] - 3s 2s/step\n"
          ]
        },
        {
          "name": "stderr",
          "output_type": "stream",
          "text": [
            "\rProcessing reviews:  51%|█████▏    | 488/949 [38:27<33:18,  4.33s/batch]"
          ]
        },
        {
          "name": "stdout",
          "output_type": "stream",
          "text": [
            "2/2 [==============================] - 5s 2s/step\n"
          ]
        },
        {
          "name": "stderr",
          "output_type": "stream",
          "text": [
            "\rProcessing reviews:  52%|█████▏    | 489/949 [38:38<47:22,  6.18s/batch]"
          ]
        },
        {
          "name": "stdout",
          "output_type": "stream",
          "text": [
            "2/2 [==============================] - 6s 3s/step\n"
          ]
        },
        {
          "name": "stderr",
          "output_type": "stream",
          "text": [
            "\rProcessing reviews:  52%|█████▏    | 490/949 [38:45<49:23,  6.46s/batch]"
          ]
        },
        {
          "name": "stdout",
          "output_type": "stream",
          "text": [
            "2/2 [==============================] - 6s 3s/step\n"
          ]
        },
        {
          "name": "stderr",
          "output_type": "stream",
          "text": [
            "\rProcessing reviews:  52%|█████▏    | 491/949 [38:55<58:19,  7.64s/batch]"
          ]
        },
        {
          "name": "stdout",
          "output_type": "stream",
          "text": [
            "2/2 [==============================] - 3s 1s/step\n"
          ]
        },
        {
          "name": "stderr",
          "output_type": "stream",
          "text": [
            "\rProcessing reviews:  52%|█████▏    | 492/949 [38:59<50:02,  6.57s/batch]"
          ]
        },
        {
          "name": "stdout",
          "output_type": "stream",
          "text": [
            "2/2 [==============================] - 3s 1s/step\n"
          ]
        },
        {
          "name": "stderr",
          "output_type": "stream",
          "text": [
            "\rProcessing reviews:  52%|█████▏    | 493/949 [39:05<47:03,  6.19s/batch]"
          ]
        },
        {
          "name": "stdout",
          "output_type": "stream",
          "text": [
            "2/2 [==============================] - 3s 1s/step\n"
          ]
        },
        {
          "name": "stderr",
          "output_type": "stream",
          "text": [
            "\rProcessing reviews:  52%|█████▏    | 494/949 [39:09<42:02,  5.54s/batch]"
          ]
        },
        {
          "name": "stdout",
          "output_type": "stream",
          "text": [
            "2/2 [==============================] - 2s 1s/step\n"
          ]
        },
        {
          "name": "stderr",
          "output_type": "stream",
          "text": [
            "\rProcessing reviews:  52%|█████▏    | 495/949 [39:12<37:11,  4.92s/batch]"
          ]
        },
        {
          "name": "stdout",
          "output_type": "stream",
          "text": [
            "2/2 [==============================] - 2s 841ms/step\n"
          ]
        },
        {
          "name": "stderr",
          "output_type": "stream",
          "text": [
            "\rProcessing reviews:  52%|█████▏    | 496/949 [39:15<31:22,  4.15s/batch]"
          ]
        },
        {
          "name": "stdout",
          "output_type": "stream",
          "text": [
            "2/2 [==============================] - 5s 2s/step\n"
          ]
        },
        {
          "name": "stderr",
          "output_type": "stream",
          "text": [
            "\rProcessing reviews:  52%|█████▏    | 497/949 [39:25<45:25,  6.03s/batch]"
          ]
        },
        {
          "name": "stdout",
          "output_type": "stream",
          "text": [
            "2/2 [==============================] - 5s 2s/step\n"
          ]
        },
        {
          "name": "stderr",
          "output_type": "stream",
          "text": [
            "\rProcessing reviews:  52%|█████▏    | 498/949 [39:31<44:51,  5.97s/batch]"
          ]
        },
        {
          "name": "stdout",
          "output_type": "stream",
          "text": [
            "2/2 [==============================] - 3s 1s/step\n"
          ]
        },
        {
          "name": "stderr",
          "output_type": "stream",
          "text": [
            "\rProcessing reviews:  53%|█████▎    | 499/949 [39:36<43:17,  5.77s/batch]"
          ]
        },
        {
          "name": "stdout",
          "output_type": "stream",
          "text": [
            "2/2 [==============================] - 6s 3s/step\n"
          ]
        },
        {
          "name": "stderr",
          "output_type": "stream",
          "text": [
            "\rProcessing reviews:  53%|█████▎    | 500/949 [39:44<47:45,  6.38s/batch]"
          ]
        },
        {
          "name": "stdout",
          "output_type": "stream",
          "text": [
            "2/2 [==============================] - 4s 2s/step\n"
          ]
        },
        {
          "name": "stderr",
          "output_type": "stream",
          "text": [
            "\rProcessing reviews:  53%|█████▎    | 501/949 [39:54<56:38,  7.59s/batch]"
          ]
        },
        {
          "name": "stdout",
          "output_type": "stream",
          "text": [
            "2/2 [==============================] - 4s 2s/step\n"
          ]
        },
        {
          "name": "stderr",
          "output_type": "stream",
          "text": [
            "\rProcessing reviews:  53%|█████▎    | 502/949 [40:00<52:06,  6.99s/batch]"
          ]
        },
        {
          "name": "stdout",
          "output_type": "stream",
          "text": [
            "2/2 [==============================] - 2s 857ms/step\n"
          ]
        },
        {
          "name": "stderr",
          "output_type": "stream",
          "text": [
            "\rProcessing reviews:  53%|█████▎    | 503/949 [40:03<42:27,  5.71s/batch]"
          ]
        },
        {
          "name": "stdout",
          "output_type": "stream",
          "text": [
            "2/2 [==============================] - 4s 2s/step\n"
          ]
        },
        {
          "name": "stderr",
          "output_type": "stream",
          "text": [
            "\rProcessing reviews:  53%|█████▎    | 504/949 [40:08<41:31,  5.60s/batch]"
          ]
        },
        {
          "name": "stdout",
          "output_type": "stream",
          "text": [
            "2/2 [==============================] - 2s 1s/step\n"
          ]
        },
        {
          "name": "stderr",
          "output_type": "stream",
          "text": [
            "\rProcessing reviews:  53%|█████▎    | 505/949 [40:13<40:44,  5.51s/batch]"
          ]
        },
        {
          "name": "stdout",
          "output_type": "stream",
          "text": [
            "2/2 [==============================] - 1s 604ms/step\n"
          ]
        },
        {
          "name": "stderr",
          "output_type": "stream",
          "text": [
            "\rProcessing reviews:  53%|█████▎    | 506/949 [40:16<34:36,  4.69s/batch]"
          ]
        },
        {
          "name": "stdout",
          "output_type": "stream",
          "text": [
            "2/2 [==============================] - 2s 857ms/step\n"
          ]
        },
        {
          "name": "stderr",
          "output_type": "stream",
          "text": [
            "\rProcessing reviews:  53%|█████▎    | 507/949 [40:19<30:17,  4.11s/batch]"
          ]
        },
        {
          "name": "stdout",
          "output_type": "stream",
          "text": [
            "2/2 [==============================] - 6s 3s/step\n"
          ]
        },
        {
          "name": "stderr",
          "output_type": "stream",
          "text": [
            "\rProcessing reviews:  54%|█████▎    | 508/949 [40:29<44:17,  6.03s/batch]"
          ]
        },
        {
          "name": "stdout",
          "output_type": "stream",
          "text": [
            "2/2 [==============================] - 3s 2s/step\n"
          ]
        },
        {
          "name": "stderr",
          "output_type": "stream",
          "text": [
            "\rProcessing reviews:  54%|█████▎    | 509/949 [40:34<40:19,  5.50s/batch]"
          ]
        },
        {
          "name": "stdout",
          "output_type": "stream",
          "text": [
            "2/2 [==============================] - 1s 771ms/step\n"
          ]
        },
        {
          "name": "stderr",
          "output_type": "stream",
          "text": [
            "\rProcessing reviews:  54%|█████▎    | 510/949 [40:36<34:03,  4.65s/batch]"
          ]
        },
        {
          "name": "stdout",
          "output_type": "stream",
          "text": [
            "2/2 [==============================] - 1s 710ms/step\n"
          ]
        },
        {
          "name": "stderr",
          "output_type": "stream",
          "text": [
            "\rProcessing reviews:  54%|█████▍    | 511/949 [40:39<29:38,  4.06s/batch]"
          ]
        },
        {
          "name": "stdout",
          "output_type": "stream",
          "text": [
            "2/2 [==============================] - 5s 2s/step\n"
          ]
        },
        {
          "name": "stderr",
          "output_type": "stream",
          "text": [
            "\rProcessing reviews:  54%|█████▍    | 512/949 [40:49<43:25,  5.96s/batch]"
          ]
        },
        {
          "name": "stdout",
          "output_type": "stream",
          "text": [
            "2/2 [==============================] - 1s 641ms/step\n"
          ]
        },
        {
          "name": "stderr",
          "output_type": "stream",
          "text": [
            "\rProcessing reviews:  54%|█████▍    | 513/949 [40:52<36:09,  4.98s/batch]"
          ]
        },
        {
          "name": "stdout",
          "output_type": "stream",
          "text": [
            "2/2 [==============================] - 1s 690ms/step\n"
          ]
        },
        {
          "name": "stderr",
          "output_type": "stream",
          "text": [
            "\rProcessing reviews:  54%|█████▍    | 514/949 [40:54<29:36,  4.08s/batch]"
          ]
        },
        {
          "name": "stdout",
          "output_type": "stream",
          "text": [
            "2/2 [==============================] - 2s 1s/step\n"
          ]
        },
        {
          "name": "stderr",
          "output_type": "stream",
          "text": [
            "\rProcessing reviews:  54%|█████▍    | 515/949 [40:57<27:50,  3.85s/batch]"
          ]
        },
        {
          "name": "stdout",
          "output_type": "stream",
          "text": [
            "2/2 [==============================] - 2s 1s/step\n"
          ]
        },
        {
          "name": "stderr",
          "output_type": "stream",
          "text": [
            "\rProcessing reviews:  54%|█████▍    | 516/949 [41:01<26:23,  3.66s/batch]"
          ]
        },
        {
          "name": "stdout",
          "output_type": "stream",
          "text": [
            "2/2 [==============================] - 2s 1s/step\n"
          ]
        },
        {
          "name": "stderr",
          "output_type": "stream",
          "text": [
            "\rProcessing reviews:  54%|█████▍    | 517/949 [41:06<29:56,  4.16s/batch]"
          ]
        },
        {
          "name": "stdout",
          "output_type": "stream",
          "text": [
            "2/2 [==============================] - 6s 3s/step\n"
          ]
        },
        {
          "name": "stderr",
          "output_type": "stream",
          "text": [
            "\rProcessing reviews:  55%|█████▍    | 518/949 [41:16<43:20,  6.03s/batch]"
          ]
        },
        {
          "name": "stdout",
          "output_type": "stream",
          "text": [
            "2/2 [==============================] - 3s 1s/step\n"
          ]
        },
        {
          "name": "stderr",
          "output_type": "stream",
          "text": [
            "\rProcessing reviews:  55%|█████▍    | 519/949 [41:20<38:01,  5.31s/batch]"
          ]
        },
        {
          "name": "stdout",
          "output_type": "stream",
          "text": [
            "2/2 [==============================] - 2s 1s/step\n"
          ]
        },
        {
          "name": "stderr",
          "output_type": "stream",
          "text": [
            "\rProcessing reviews:  55%|█████▍    | 520/949 [41:25<37:49,  5.29s/batch]"
          ]
        },
        {
          "name": "stdout",
          "output_type": "stream",
          "text": [
            "2/2 [==============================] - 4s 2s/step\n"
          ]
        },
        {
          "name": "stderr",
          "output_type": "stream",
          "text": [
            "\rProcessing reviews:  55%|█████▍    | 521/949 [41:36<48:42,  6.83s/batch]"
          ]
        },
        {
          "name": "stdout",
          "output_type": "stream",
          "text": [
            "2/2 [==============================] - 3s 2s/step\n"
          ]
        },
        {
          "name": "stderr",
          "output_type": "stream",
          "text": [
            "\rProcessing reviews:  55%|█████▌    | 522/949 [41:41<45:23,  6.38s/batch]"
          ]
        },
        {
          "name": "stdout",
          "output_type": "stream",
          "text": [
            "2/2 [==============================] - 2s 1s/step\n"
          ]
        },
        {
          "name": "stderr",
          "output_type": "stream",
          "text": [
            "\rProcessing reviews:  55%|█████▌    | 523/949 [41:44<38:44,  5.46s/batch]"
          ]
        },
        {
          "name": "stdout",
          "output_type": "stream",
          "text": [
            "2/2 [==============================] - 4s 2s/step\n"
          ]
        },
        {
          "name": "stderr",
          "output_type": "stream",
          "text": [
            "\rProcessing reviews:  55%|█████▌    | 524/949 [41:50<38:16,  5.40s/batch]"
          ]
        },
        {
          "name": "stdout",
          "output_type": "stream",
          "text": [
            "2/2 [==============================] - 4s 2s/step\n"
          ]
        },
        {
          "name": "stderr",
          "output_type": "stream",
          "text": [
            "\rProcessing reviews:  55%|█████▌    | 525/949 [41:55<38:00,  5.38s/batch]"
          ]
        },
        {
          "name": "stdout",
          "output_type": "stream",
          "text": [
            "2/2 [==============================] - 2s 1s/step\n"
          ]
        },
        {
          "name": "stderr",
          "output_type": "stream",
          "text": [
            "\rProcessing reviews:  55%|█████▌    | 526/949 [41:58<33:00,  4.68s/batch]"
          ]
        },
        {
          "name": "stdout",
          "output_type": "stream",
          "text": [
            "2/2 [==============================] - 2s 1s/step\n"
          ]
        },
        {
          "name": "stderr",
          "output_type": "stream",
          "text": [
            "\rProcessing reviews:  56%|█████▌    | 527/949 [42:03<34:08,  4.85s/batch]"
          ]
        },
        {
          "name": "stdout",
          "output_type": "stream",
          "text": [
            "2/2 [==============================] - 5s 2s/step\n"
          ]
        },
        {
          "name": "stderr",
          "output_type": "stream",
          "text": [
            "\rProcessing reviews:  56%|█████▌    | 528/949 [42:14<45:44,  6.52s/batch]"
          ]
        },
        {
          "name": "stdout",
          "output_type": "stream",
          "text": [
            "2/2 [==============================] - 4s 2s/step\n"
          ]
        },
        {
          "name": "stderr",
          "output_type": "stream",
          "text": [
            "\rProcessing reviews:  56%|█████▌    | 529/949 [42:18<42:10,  6.03s/batch]"
          ]
        },
        {
          "name": "stdout",
          "output_type": "stream",
          "text": [
            "2/2 [==============================] - 4s 2s/step\n"
          ]
        },
        {
          "name": "stderr",
          "output_type": "stream",
          "text": [
            "\rProcessing reviews:  56%|█████▌    | 530/949 [42:24<40:40,  5.82s/batch]"
          ]
        },
        {
          "name": "stdout",
          "output_type": "stream",
          "text": [
            "2/2 [==============================] - 2s 775ms/step\n"
          ]
        },
        {
          "name": "stderr",
          "output_type": "stream",
          "text": [
            "\rProcessing reviews:  56%|█████▌    | 531/949 [42:26<33:19,  4.78s/batch]"
          ]
        },
        {
          "name": "stdout",
          "output_type": "stream",
          "text": [
            "2/2 [==============================] - 1s 720ms/step\n"
          ]
        },
        {
          "name": "stderr",
          "output_type": "stream",
          "text": [
            "\rProcessing reviews:  56%|█████▌    | 532/949 [42:29<28:51,  4.15s/batch]"
          ]
        },
        {
          "name": "stdout",
          "output_type": "stream",
          "text": [
            "2/2 [==============================] - 3s 2s/step\n"
          ]
        },
        {
          "name": "stderr",
          "output_type": "stream",
          "text": [
            "\rProcessing reviews:  56%|█████▌    | 533/949 [42:34<31:07,  4.49s/batch]"
          ]
        },
        {
          "name": "stdout",
          "output_type": "stream",
          "text": [
            "2/2 [==============================] - 3s 1s/step\n"
          ]
        },
        {
          "name": "stderr",
          "output_type": "stream",
          "text": [
            "\rProcessing reviews:  56%|█████▋    | 534/949 [42:38<29:56,  4.33s/batch]"
          ]
        },
        {
          "name": "stdout",
          "output_type": "stream",
          "text": [
            "2/2 [==============================] - 2s 995ms/step\n"
          ]
        },
        {
          "name": "stderr",
          "output_type": "stream",
          "text": [
            "\rProcessing reviews:  56%|█████▋    | 535/949 [42:41<26:51,  3.89s/batch]"
          ]
        },
        {
          "name": "stdout",
          "output_type": "stream",
          "text": [
            "2/2 [==============================] - 4s 2s/step\n"
          ]
        },
        {
          "name": "stderr",
          "output_type": "stream",
          "text": [
            "\rProcessing reviews:  56%|█████▋    | 536/949 [42:46<29:32,  4.29s/batch]"
          ]
        },
        {
          "name": "stdout",
          "output_type": "stream",
          "text": [
            "2/2 [==============================] - 3s 1s/step\n"
          ]
        },
        {
          "name": "stderr",
          "output_type": "stream",
          "text": [
            "\rProcessing reviews:  57%|█████▋    | 537/949 [42:51<31:32,  4.59s/batch]"
          ]
        },
        {
          "name": "stdout",
          "output_type": "stream",
          "text": [
            "2/2 [==============================] - 2s 853ms/step\n"
          ]
        },
        {
          "name": "stderr",
          "output_type": "stream",
          "text": [
            "\rProcessing reviews:  57%|█████▋    | 538/949 [42:54<27:42,  4.05s/batch]"
          ]
        },
        {
          "name": "stdout",
          "output_type": "stream",
          "text": [
            "2/2 [==============================] - 3s 1s/step\n"
          ]
        },
        {
          "name": "stderr",
          "output_type": "stream",
          "text": [
            "\rProcessing reviews:  57%|█████▋    | 539/949 [43:00<30:09,  4.41s/batch]"
          ]
        },
        {
          "name": "stdout",
          "output_type": "stream",
          "text": [
            "2/2 [==============================] - 2s 1s/step\n"
          ]
        },
        {
          "name": "stderr",
          "output_type": "stream",
          "text": [
            "\rProcessing reviews:  57%|█████▋    | 540/949 [43:03<27:56,  4.10s/batch]"
          ]
        },
        {
          "name": "stdout",
          "output_type": "stream",
          "text": [
            "2/2 [==============================] - 3s 1s/step\n"
          ]
        },
        {
          "name": "stderr",
          "output_type": "stream",
          "text": [
            "\rProcessing reviews:  57%|█████▋    | 541/949 [43:08<30:21,  4.46s/batch]"
          ]
        },
        {
          "name": "stdout",
          "output_type": "stream",
          "text": [
            "2/2 [==============================] - 4s 2s/step\n"
          ]
        },
        {
          "name": "stderr",
          "output_type": "stream",
          "text": [
            "\rProcessing reviews:  57%|█████▋    | 542/949 [43:13<30:54,  4.56s/batch]"
          ]
        },
        {
          "name": "stdout",
          "output_type": "stream",
          "text": [
            "2/2 [==============================] - 3s 2s/step\n"
          ]
        },
        {
          "name": "stderr",
          "output_type": "stream",
          "text": [
            "\rProcessing reviews:  57%|█████▋    | 543/949 [43:17<30:31,  4.51s/batch]"
          ]
        },
        {
          "name": "stdout",
          "output_type": "stream",
          "text": [
            "2/2 [==============================] - 2s 981ms/step\n"
          ]
        },
        {
          "name": "stderr",
          "output_type": "stream",
          "text": [
            "\rProcessing reviews:  57%|█████▋    | 544/949 [43:23<31:59,  4.74s/batch]"
          ]
        },
        {
          "name": "stdout",
          "output_type": "stream",
          "text": [
            "2/2 [==============================] - 2s 1s/step\n"
          ]
        },
        {
          "name": "stderr",
          "output_type": "stream",
          "text": [
            "\rProcessing reviews:  57%|█████▋    | 545/949 [43:28<32:57,  4.89s/batch]"
          ]
        },
        {
          "name": "stdout",
          "output_type": "stream",
          "text": [
            "2/2 [==============================] - 2s 1s/step\n"
          ]
        },
        {
          "name": "stderr",
          "output_type": "stream",
          "text": [
            "\rProcessing reviews:  58%|█████▊    | 546/949 [43:31<29:32,  4.40s/batch]"
          ]
        },
        {
          "name": "stdout",
          "output_type": "stream",
          "text": [
            "2/2 [==============================] - 5s 2s/step\n"
          ]
        },
        {
          "name": "stderr",
          "output_type": "stream",
          "text": [
            "\rProcessing reviews:  58%|█████▊    | 547/949 [43:42<41:32,  6.20s/batch]"
          ]
        },
        {
          "name": "stdout",
          "output_type": "stream",
          "text": [
            "2/2 [==============================] - 3s 1s/step\n"
          ]
        },
        {
          "name": "stderr",
          "output_type": "stream",
          "text": [
            "\rProcessing reviews:  58%|█████▊    | 548/949 [43:47<39:39,  5.93s/batch]"
          ]
        },
        {
          "name": "stdout",
          "output_type": "stream",
          "text": [
            "2/2 [==============================] - 3s 2s/step\n"
          ]
        },
        {
          "name": "stderr",
          "output_type": "stream",
          "text": [
            "\rProcessing reviews:  58%|█████▊    | 549/949 [43:52<38:22,  5.76s/batch]"
          ]
        },
        {
          "name": "stdout",
          "output_type": "stream",
          "text": [
            "2/2 [==============================] - 2s 1s/step\n"
          ]
        },
        {
          "name": "stderr",
          "output_type": "stream",
          "text": [
            "\rProcessing reviews:  58%|█████▊    | 550/949 [43:55<33:16,  5.01s/batch]"
          ]
        },
        {
          "name": "stdout",
          "output_type": "stream",
          "text": [
            "2/2 [==============================] - 3s 1s/step\n"
          ]
        },
        {
          "name": "stderr",
          "output_type": "stream",
          "text": [
            "\rProcessing reviews:  58%|█████▊    | 551/949 [43:59<30:48,  4.64s/batch]"
          ]
        },
        {
          "name": "stdout",
          "output_type": "stream",
          "text": [
            "2/2 [==============================] - 2s 861ms/step\n"
          ]
        },
        {
          "name": "stderr",
          "output_type": "stream",
          "text": [
            "\rProcessing reviews:  58%|█████▊    | 552/949 [44:02<26:43,  4.04s/batch]"
          ]
        },
        {
          "name": "stdout",
          "output_type": "stream",
          "text": [
            "2/2 [==============================] - 3s 2s/step\n"
          ]
        },
        {
          "name": "stderr",
          "output_type": "stream",
          "text": [
            "\rProcessing reviews:  58%|█████▊    | 553/949 [44:06<26:54,  4.08s/batch]"
          ]
        },
        {
          "name": "stdout",
          "output_type": "stream",
          "text": [
            "2/2 [==============================] - 2s 844ms/step\n"
          ]
        },
        {
          "name": "stderr",
          "output_type": "stream",
          "text": [
            "\rProcessing reviews:  58%|█████▊    | 554/949 [44:09<24:07,  3.66s/batch]"
          ]
        },
        {
          "name": "stdout",
          "output_type": "stream",
          "text": [
            "2/2 [==============================] - 2s 1s/step\n"
          ]
        },
        {
          "name": "stderr",
          "output_type": "stream",
          "text": [
            "\rProcessing reviews:  58%|█████▊    | 555/949 [44:14<27:11,  4.14s/batch]"
          ]
        },
        {
          "name": "stdout",
          "output_type": "stream",
          "text": [
            "2/2 [==============================] - 2s 1s/step\n"
          ]
        },
        {
          "name": "stderr",
          "output_type": "stream",
          "text": [
            "\rProcessing reviews:  59%|█████▊    | 556/949 [44:19<29:25,  4.49s/batch]"
          ]
        },
        {
          "name": "stdout",
          "output_type": "stream",
          "text": [
            "2/2 [==============================] - 3s 1s/step\n"
          ]
        },
        {
          "name": "stderr",
          "output_type": "stream",
          "text": [
            "\rProcessing reviews:  59%|█████▊    | 557/949 [44:25<30:51,  4.72s/batch]"
          ]
        },
        {
          "name": "stdout",
          "output_type": "stream",
          "text": [
            "2/2 [==============================] - 2s 754ms/step\n"
          ]
        },
        {
          "name": "stderr",
          "output_type": "stream",
          "text": [
            "\rProcessing reviews:  59%|█████▉    | 558/949 [44:27<26:52,  4.12s/batch]"
          ]
        },
        {
          "name": "stdout",
          "output_type": "stream",
          "text": [
            "2/2 [==============================] - 4s 2s/step\n"
          ]
        },
        {
          "name": "stderr",
          "output_type": "stream",
          "text": [
            "\rProcessing reviews:  59%|█████▉    | 559/949 [44:33<29:50,  4.59s/batch]"
          ]
        },
        {
          "name": "stdout",
          "output_type": "stream",
          "text": [
            "2/2 [==============================] - 3s 1s/step\n"
          ]
        },
        {
          "name": "stderr",
          "output_type": "stream",
          "text": [
            "\rProcessing reviews:  59%|█████▉    | 560/949 [44:38<31:05,  4.79s/batch]"
          ]
        },
        {
          "name": "stdout",
          "output_type": "stream",
          "text": [
            "2/2 [==============================] - 3s 1s/step\n"
          ]
        },
        {
          "name": "stderr",
          "output_type": "stream",
          "text": [
            "\rProcessing reviews:  59%|█████▉    | 561/949 [44:44<31:58,  4.94s/batch]"
          ]
        },
        {
          "name": "stdout",
          "output_type": "stream",
          "text": [
            "2/2 [==============================] - 2s 1s/step\n"
          ]
        },
        {
          "name": "stderr",
          "output_type": "stream",
          "text": [
            "\rProcessing reviews:  59%|█████▉    | 562/949 [44:49<32:39,  5.06s/batch]"
          ]
        },
        {
          "name": "stdout",
          "output_type": "stream",
          "text": [
            "2/2 [==============================] - 2s 1s/step\n"
          ]
        },
        {
          "name": "stderr",
          "output_type": "stream",
          "text": [
            "\rProcessing reviews:  59%|█████▉    | 563/949 [44:52<29:17,  4.55s/batch]"
          ]
        },
        {
          "name": "stdout",
          "output_type": "stream",
          "text": [
            "2/2 [==============================] - 3s 1s/step\n"
          ]
        },
        {
          "name": "stderr",
          "output_type": "stream",
          "text": [
            "\rProcessing reviews:  59%|█████▉    | 564/949 [44:56<27:37,  4.30s/batch]"
          ]
        },
        {
          "name": "stdout",
          "output_type": "stream",
          "text": [
            "2/2 [==============================] - 1s 610ms/step\n"
          ]
        },
        {
          "name": "stderr",
          "output_type": "stream",
          "text": [
            "\rProcessing reviews:  60%|█████▉    | 565/949 [44:58<23:04,  3.60s/batch]"
          ]
        },
        {
          "name": "stdout",
          "output_type": "stream",
          "text": [
            "2/2 [==============================] - 3s 1s/step\n"
          ]
        },
        {
          "name": "stderr",
          "output_type": "stream",
          "text": [
            "\rProcessing reviews:  60%|█████▉    | 566/949 [45:02<22:57,  3.60s/batch]"
          ]
        },
        {
          "name": "stdout",
          "output_type": "stream",
          "text": [
            "2/2 [==============================] - 4s 2s/step\n"
          ]
        },
        {
          "name": "stderr",
          "output_type": "stream",
          "text": [
            "\rProcessing reviews:  60%|█████▉    | 567/949 [45:07<26:04,  4.10s/batch]"
          ]
        },
        {
          "name": "stdout",
          "output_type": "stream",
          "text": [
            "2/2 [==============================] - 4s 2s/step\n"
          ]
        },
        {
          "name": "stderr",
          "output_type": "stream",
          "text": [
            "\rProcessing reviews:  60%|█████▉    | 568/949 [45:12<28:20,  4.46s/batch]"
          ]
        },
        {
          "name": "stdout",
          "output_type": "stream",
          "text": [
            "2/2 [==============================] - 2s 1s/step\n"
          ]
        },
        {
          "name": "stderr",
          "output_type": "stream",
          "text": [
            "\rProcessing reviews:  60%|█████▉    | 569/949 [45:17<29:53,  4.72s/batch]"
          ]
        },
        {
          "name": "stdout",
          "output_type": "stream",
          "text": [
            "2/2 [==============================] - 3s 1s/step\n"
          ]
        },
        {
          "name": "stderr",
          "output_type": "stream",
          "text": [
            "\rProcessing reviews:  60%|██████    | 570/949 [45:21<27:46,  4.40s/batch]"
          ]
        },
        {
          "name": "stdout",
          "output_type": "stream",
          "text": [
            "2/2 [==============================] - 2s 822ms/step\n"
          ]
        },
        {
          "name": "stderr",
          "output_type": "stream",
          "text": [
            "\rProcessing reviews:  60%|██████    | 571/949 [45:24<24:28,  3.88s/batch]"
          ]
        },
        {
          "name": "stdout",
          "output_type": "stream",
          "text": [
            "2/2 [==============================] - 2s 976ms/step\n"
          ]
        },
        {
          "name": "stderr",
          "output_type": "stream",
          "text": [
            "\rProcessing reviews:  60%|██████    | 572/949 [45:29<27:00,  4.30s/batch]"
          ]
        },
        {
          "name": "stdout",
          "output_type": "stream",
          "text": [
            "2/2 [==============================] - 3s 1s/step\n"
          ]
        },
        {
          "name": "stderr",
          "output_type": "stream",
          "text": [
            "\rProcessing reviews:  60%|██████    | 573/949 [45:33<25:31,  4.07s/batch]"
          ]
        },
        {
          "name": "stdout",
          "output_type": "stream",
          "text": [
            "2/2 [==============================] - 2s 1s/step\n"
          ]
        },
        {
          "name": "stderr",
          "output_type": "stream",
          "text": [
            "\rProcessing reviews:  60%|██████    | 574/949 [45:35<23:16,  3.72s/batch]"
          ]
        },
        {
          "name": "stdout",
          "output_type": "stream",
          "text": [
            "2/2 [==============================] - 4s 2s/step\n"
          ]
        },
        {
          "name": "stderr",
          "output_type": "stream",
          "text": [
            "\rProcessing reviews:  61%|██████    | 575/949 [45:41<26:13,  4.21s/batch]"
          ]
        },
        {
          "name": "stdout",
          "output_type": "stream",
          "text": [
            "2/2 [==============================] - 4s 2s/step\n"
          ]
        },
        {
          "name": "stderr",
          "output_type": "stream",
          "text": [
            "\rProcessing reviews:  61%|██████    | 576/949 [45:46<27:19,  4.39s/batch]"
          ]
        },
        {
          "name": "stdout",
          "output_type": "stream",
          "text": [
            "2/2 [==============================] - 3s 2s/step\n"
          ]
        },
        {
          "name": "stderr",
          "output_type": "stream",
          "text": [
            "\rProcessing reviews:  61%|██████    | 577/949 [45:50<26:35,  4.29s/batch]"
          ]
        },
        {
          "name": "stdout",
          "output_type": "stream",
          "text": [
            "2/2 [==============================] - 5s 2s/step\n"
          ]
        },
        {
          "name": "stderr",
          "output_type": "stream",
          "text": [
            "\rProcessing reviews:  61%|██████    | 578/949 [46:00<37:51,  6.12s/batch]"
          ]
        },
        {
          "name": "stdout",
          "output_type": "stream",
          "text": [
            "2/2 [==============================] - 4s 2s/step\n"
          ]
        },
        {
          "name": "stderr",
          "output_type": "stream",
          "text": [
            "\rProcessing reviews:  61%|██████    | 579/949 [46:06<36:41,  5.95s/batch]"
          ]
        },
        {
          "name": "stdout",
          "output_type": "stream",
          "text": [
            "2/2 [==============================] - 6s 3s/step\n"
          ]
        },
        {
          "name": "stderr",
          "output_type": "stream",
          "text": [
            "\rProcessing reviews:  61%|██████    | 580/949 [46:13<39:45,  6.46s/batch]"
          ]
        },
        {
          "name": "stdout",
          "output_type": "stream",
          "text": [
            "2/2 [==============================] - 2s 1s/step\n"
          ]
        },
        {
          "name": "stderr",
          "output_type": "stream",
          "text": [
            "\rProcessing reviews:  61%|██████    | 581/949 [46:19<37:26,  6.10s/batch]"
          ]
        },
        {
          "name": "stdout",
          "output_type": "stream",
          "text": [
            "2/2 [==============================] - 3s 1s/step\n"
          ]
        },
        {
          "name": "stderr",
          "output_type": "stream",
          "text": [
            "\rProcessing reviews:  61%|██████▏   | 582/949 [46:23<33:33,  5.49s/batch]"
          ]
        },
        {
          "name": "stdout",
          "output_type": "stream",
          "text": [
            "2/2 [==============================] - 2s 827ms/step\n"
          ]
        },
        {
          "name": "stderr",
          "output_type": "stream",
          "text": [
            "\rProcessing reviews:  61%|██████▏   | 583/949 [46:25<28:06,  4.61s/batch]"
          ]
        },
        {
          "name": "stdout",
          "output_type": "stream",
          "text": [
            "2/2 [==============================] - 2s 1s/step\n"
          ]
        },
        {
          "name": "stderr",
          "output_type": "stream",
          "text": [
            "\rProcessing reviews:  62%|██████▏   | 584/949 [46:28<25:06,  4.13s/batch]"
          ]
        },
        {
          "name": "stdout",
          "output_type": "stream",
          "text": [
            "2/2 [==============================] - 2s 1s/step\n"
          ]
        },
        {
          "name": "stderr",
          "output_type": "stream",
          "text": [
            "\rProcessing reviews:  62%|██████▏   | 585/949 [46:31<23:01,  3.79s/batch]"
          ]
        },
        {
          "name": "stdout",
          "output_type": "stream",
          "text": [
            "2/2 [==============================] - 3s 1s/step\n"
          ]
        },
        {
          "name": "stderr",
          "output_type": "stream",
          "text": [
            "\rProcessing reviews:  62%|██████▏   | 586/949 [46:36<25:40,  4.24s/batch]"
          ]
        },
        {
          "name": "stdout",
          "output_type": "stream",
          "text": [
            "2/2 [==============================] - 3s 2s/step\n"
          ]
        },
        {
          "name": "stderr",
          "output_type": "stream",
          "text": [
            "\rProcessing reviews:  62%|██████▏   | 587/949 [46:42<27:33,  4.57s/batch]"
          ]
        },
        {
          "name": "stdout",
          "output_type": "stream",
          "text": [
            "2/2 [==============================] - 3s 1s/step\n"
          ]
        },
        {
          "name": "stderr",
          "output_type": "stream",
          "text": [
            "\rProcessing reviews:  62%|██████▏   | 588/949 [46:46<26:32,  4.41s/batch]"
          ]
        },
        {
          "name": "stdout",
          "output_type": "stream",
          "text": [
            "2/2 [==============================] - 2s 1s/step\n"
          ]
        },
        {
          "name": "stderr",
          "output_type": "stream",
          "text": [
            "\rProcessing reviews:  62%|██████▏   | 589/949 [46:51<28:03,  4.68s/batch]"
          ]
        },
        {
          "name": "stdout",
          "output_type": "stream",
          "text": [
            "2/2 [==============================] - 4s 2s/step\n"
          ]
        },
        {
          "name": "stderr",
          "output_type": "stream",
          "text": [
            "\rProcessing reviews:  62%|██████▏   | 590/949 [46:57<29:16,  4.89s/batch]"
          ]
        },
        {
          "name": "stdout",
          "output_type": "stream",
          "text": [
            "2/2 [==============================] - 3s 1s/step\n"
          ]
        },
        {
          "name": "stderr",
          "output_type": "stream",
          "text": [
            "\rProcessing reviews:  62%|██████▏   | 591/949 [47:02<29:55,  5.02s/batch]"
          ]
        },
        {
          "name": "stdout",
          "output_type": "stream",
          "text": [
            "2/2 [==============================] - 2s 973ms/step\n"
          ]
        },
        {
          "name": "stderr",
          "output_type": "stream",
          "text": [
            "\rProcessing reviews:  62%|██████▏   | 592/949 [47:07<30:21,  5.10s/batch]"
          ]
        },
        {
          "name": "stdout",
          "output_type": "stream",
          "text": [
            "2/2 [==============================] - 3s 2s/step\n"
          ]
        },
        {
          "name": "stderr",
          "output_type": "stream",
          "text": [
            "\rProcessing reviews:  62%|██████▏   | 593/949 [47:12<29:15,  4.93s/batch]"
          ]
        },
        {
          "name": "stdout",
          "output_type": "stream",
          "text": [
            "2/2 [==============================] - 4s 2s/step\n"
          ]
        },
        {
          "name": "stderr",
          "output_type": "stream",
          "text": [
            "\rProcessing reviews:  63%|██████▎   | 594/949 [47:22<38:54,  6.58s/batch]"
          ]
        },
        {
          "name": "stdout",
          "output_type": "stream",
          "text": [
            "2/2 [==============================] - 2s 973ms/step\n"
          ]
        },
        {
          "name": "stderr",
          "output_type": "stream",
          "text": [
            "\rProcessing reviews:  63%|██████▎   | 595/949 [47:25<32:06,  5.44s/batch]"
          ]
        },
        {
          "name": "stdout",
          "output_type": "stream",
          "text": [
            "2/2 [==============================] - 3s 2s/step\n"
          ]
        },
        {
          "name": "stderr",
          "output_type": "stream",
          "text": [
            "\rProcessing reviews:  63%|██████▎   | 596/949 [47:30<31:46,  5.40s/batch]"
          ]
        },
        {
          "name": "stdout",
          "output_type": "stream",
          "text": [
            "2/2 [==============================] - 3s 2s/step\n"
          ]
        },
        {
          "name": "stderr",
          "output_type": "stream",
          "text": [
            "\rProcessing reviews:  63%|██████▎   | 597/949 [47:34<29:41,  5.06s/batch]"
          ]
        },
        {
          "name": "stdout",
          "output_type": "stream",
          "text": [
            "2/2 [==============================] - 3s 1s/step\n"
          ]
        },
        {
          "name": "stderr",
          "output_type": "stream",
          "text": [
            "\rProcessing reviews:  63%|██████▎   | 598/949 [47:38<27:30,  4.70s/batch]"
          ]
        },
        {
          "name": "stdout",
          "output_type": "stream",
          "text": [
            "2/2 [==============================] - 6s 3s/step\n"
          ]
        },
        {
          "name": "stderr",
          "output_type": "stream",
          "text": [
            "\rProcessing reviews:  63%|██████▎   | 599/949 [47:49<37:24,  6.41s/batch]"
          ]
        },
        {
          "name": "stdout",
          "output_type": "stream",
          "text": [
            "2/2 [==============================] - 3s 2s/step\n"
          ]
        },
        {
          "name": "stderr",
          "output_type": "stream",
          "text": [
            "\rProcessing reviews:  63%|██████▎   | 600/949 [47:53<33:45,  5.80s/batch]"
          ]
        },
        {
          "name": "stdout",
          "output_type": "stream",
          "text": [
            "2/2 [==============================] - 2s 917ms/step\n"
          ]
        },
        {
          "name": "stderr",
          "output_type": "stream",
          "text": [
            "\rProcessing reviews:  63%|██████▎   | 601/949 [47:56<28:14,  4.87s/batch]"
          ]
        },
        {
          "name": "stdout",
          "output_type": "stream",
          "text": [
            "2/2 [==============================] - 3s 2s/step\n"
          ]
        },
        {
          "name": "stderr",
          "output_type": "stream",
          "text": [
            "\rProcessing reviews:  63%|██████▎   | 602/949 [48:01<28:56,  5.00s/batch]"
          ]
        },
        {
          "name": "stdout",
          "output_type": "stream",
          "text": [
            "2/2 [==============================] - 3s 2s/step\n"
          ]
        },
        {
          "name": "stderr",
          "output_type": "stream",
          "text": [
            "\rProcessing reviews:  64%|██████▎   | 603/949 [48:06<28:11,  4.89s/batch]"
          ]
        },
        {
          "name": "stdout",
          "output_type": "stream",
          "text": [
            "2/2 [==============================] - 6s 3s/step\n"
          ]
        },
        {
          "name": "stderr",
          "output_type": "stream",
          "text": [
            "\rProcessing reviews:  64%|██████▎   | 604/949 [48:17<38:17,  6.66s/batch]"
          ]
        },
        {
          "name": "stdout",
          "output_type": "stream",
          "text": [
            "2/2 [==============================] - 3s 1s/step\n"
          ]
        },
        {
          "name": "stderr",
          "output_type": "stream",
          "text": [
            "\rProcessing reviews:  64%|██████▍   | 605/949 [48:22<35:48,  6.24s/batch]"
          ]
        },
        {
          "name": "stdout",
          "output_type": "stream",
          "text": [
            "2/2 [==============================] - 2s 879ms/step\n"
          ]
        },
        {
          "name": "stderr",
          "output_type": "stream",
          "text": [
            "\rProcessing reviews:  64%|██████▍   | 606/949 [48:24<29:28,  5.16s/batch]"
          ]
        },
        {
          "name": "stdout",
          "output_type": "stream",
          "text": [
            "2/2 [==============================] - 3s 2s/step\n"
          ]
        },
        {
          "name": "stderr",
          "output_type": "stream",
          "text": [
            "\rProcessing reviews:  64%|██████▍   | 607/949 [48:30<29:41,  5.21s/batch]"
          ]
        },
        {
          "name": "stdout",
          "output_type": "stream",
          "text": [
            "2/2 [==============================] - 2s 813ms/step\n"
          ]
        },
        {
          "name": "stderr",
          "output_type": "stream",
          "text": [
            "\rProcessing reviews:  64%|██████▍   | 608/949 [48:33<25:24,  4.47s/batch]"
          ]
        },
        {
          "name": "stdout",
          "output_type": "stream",
          "text": [
            "2/2 [==============================] - 2s 1s/step\n"
          ]
        },
        {
          "name": "stderr",
          "output_type": "stream",
          "text": [
            "\rProcessing reviews:  64%|██████▍   | 609/949 [48:36<23:21,  4.12s/batch]"
          ]
        },
        {
          "name": "stdout",
          "output_type": "stream",
          "text": [
            "2/2 [==============================] - 5s 3s/step\n"
          ]
        },
        {
          "name": "stderr",
          "output_type": "stream",
          "text": [
            "\rProcessing reviews:  64%|██████▍   | 610/949 [48:43<28:14,  5.00s/batch]"
          ]
        },
        {
          "name": "stdout",
          "output_type": "stream",
          "text": [
            "2/2 [==============================] - 3s 1s/step\n"
          ]
        },
        {
          "name": "stderr",
          "output_type": "stream",
          "text": [
            "\rProcessing reviews:  64%|██████▍   | 611/949 [48:48<28:48,  5.11s/batch]"
          ]
        },
        {
          "name": "stdout",
          "output_type": "stream",
          "text": [
            "2/2 [==============================] - 2s 851ms/step\n"
          ]
        },
        {
          "name": "stderr",
          "output_type": "stream",
          "text": [
            "\rProcessing reviews:  64%|██████▍   | 612/949 [48:51<24:15,  4.32s/batch]"
          ]
        },
        {
          "name": "stdout",
          "output_type": "stream",
          "text": [
            "2/2 [==============================] - 4s 2s/step\n"
          ]
        },
        {
          "name": "stderr",
          "output_type": "stream",
          "text": [
            "\rProcessing reviews:  65%|██████▍   | 613/949 [49:01<34:25,  6.15s/batch]"
          ]
        },
        {
          "name": "stdout",
          "output_type": "stream",
          "text": [
            "2/2 [==============================] - 3s 1s/step\n"
          ]
        },
        {
          "name": "stderr",
          "output_type": "stream",
          "text": [
            "\rProcessing reviews:  65%|██████▍   | 614/949 [49:06<32:51,  5.88s/batch]"
          ]
        },
        {
          "name": "stdout",
          "output_type": "stream",
          "text": [
            "2/2 [==============================] - 5s 2s/step\n"
          ]
        },
        {
          "name": "stderr",
          "output_type": "stream",
          "text": [
            "\rProcessing reviews:  65%|██████▍   | 615/949 [49:17<40:19,  7.24s/batch]"
          ]
        },
        {
          "name": "stdout",
          "output_type": "stream",
          "text": [
            "2/2 [==============================] - 3s 1s/step\n"
          ]
        },
        {
          "name": "stderr",
          "output_type": "stream",
          "text": [
            "\rProcessing reviews:  65%|██████▍   | 616/949 [49:22<36:55,  6.65s/batch]"
          ]
        },
        {
          "name": "stdout",
          "output_type": "stream",
          "text": [
            "2/2 [==============================] - 5s 2s/step\n"
          ]
        },
        {
          "name": "stderr",
          "output_type": "stream",
          "text": [
            "\rProcessing reviews:  65%|██████▌   | 617/949 [49:32<43:02,  7.78s/batch]"
          ]
        },
        {
          "name": "stdout",
          "output_type": "stream",
          "text": [
            "2/2 [==============================] - 2s 737ms/step\n"
          ]
        },
        {
          "name": "stderr",
          "output_type": "stream",
          "text": [
            "\rProcessing reviews:  65%|██████▌   | 618/949 [49:35<33:42,  6.11s/batch]"
          ]
        },
        {
          "name": "stdout",
          "output_type": "stream",
          "text": [
            "2/2 [==============================] - 3s 1s/step\n"
          ]
        },
        {
          "name": "stderr",
          "output_type": "stream",
          "text": [
            "\rProcessing reviews:  65%|██████▌   | 619/949 [49:40<32:18,  5.87s/batch]"
          ]
        },
        {
          "name": "stdout",
          "output_type": "stream",
          "text": [
            "2/2 [==============================] - 4s 2s/step\n"
          ]
        },
        {
          "name": "stderr",
          "output_type": "stream",
          "text": [
            "\rProcessing reviews:  65%|██████▌   | 620/949 [49:45<30:58,  5.65s/batch]"
          ]
        },
        {
          "name": "stdout",
          "output_type": "stream",
          "text": [
            "2/2 [==============================] - 2s 926ms/step\n"
          ]
        },
        {
          "name": "stderr",
          "output_type": "stream",
          "text": [
            "\rProcessing reviews:  65%|██████▌   | 621/949 [49:48<26:02,  4.76s/batch]"
          ]
        },
        {
          "name": "stdout",
          "output_type": "stream",
          "text": [
            "2/2 [==============================] - 5s 2s/step\n"
          ]
        },
        {
          "name": "stderr",
          "output_type": "stream",
          "text": [
            "\rProcessing reviews:  66%|██████▌   | 622/949 [49:58<35:11,  6.46s/batch]"
          ]
        },
        {
          "name": "stdout",
          "output_type": "stream",
          "text": [
            "2/2 [==============================] - 3s 2s/step\n"
          ]
        },
        {
          "name": "stderr",
          "output_type": "stream",
          "text": [
            "\rProcessing reviews:  66%|██████▌   | 623/949 [50:04<33:09,  6.10s/batch]"
          ]
        },
        {
          "name": "stdout",
          "output_type": "stream",
          "text": [
            "2/2 [==============================] - 2s 969ms/step\n"
          ]
        },
        {
          "name": "stderr",
          "output_type": "stream",
          "text": [
            "\rProcessing reviews:  66%|██████▌   | 624/949 [50:09<31:45,  5.86s/batch]"
          ]
        },
        {
          "name": "stdout",
          "output_type": "stream",
          "text": [
            "2/2 [==============================] - 5s 3s/step\n"
          ]
        },
        {
          "name": "stderr",
          "output_type": "stream",
          "text": [
            "\rProcessing reviews:  66%|██████▌   | 625/949 [50:19<39:15,  7.27s/batch]"
          ]
        },
        {
          "name": "stdout",
          "output_type": "stream",
          "text": [
            "2/2 [==============================] - 2s 823ms/step\n"
          ]
        },
        {
          "name": "stderr",
          "output_type": "stream",
          "text": [
            "\rProcessing reviews:  66%|██████▌   | 626/949 [50:22<31:52,  5.92s/batch]"
          ]
        },
        {
          "name": "stdout",
          "output_type": "stream",
          "text": [
            "2/2 [==============================] - 4s 2s/step\n"
          ]
        },
        {
          "name": "stderr",
          "output_type": "stream",
          "text": [
            "\rProcessing reviews:  66%|██████▌   | 627/949 [50:28<31:03,  5.79s/batch]"
          ]
        },
        {
          "name": "stdout",
          "output_type": "stream",
          "text": [
            "2/2 [==============================] - 2s 1s/step\n"
          ]
        },
        {
          "name": "stderr",
          "output_type": "stream",
          "text": [
            "\rProcessing reviews:  66%|██████▌   | 628/949 [50:33<30:06,  5.63s/batch]"
          ]
        },
        {
          "name": "stdout",
          "output_type": "stream",
          "text": [
            "2/2 [==============================] - 2s 892ms/step\n"
          ]
        },
        {
          "name": "stderr",
          "output_type": "stream",
          "text": [
            "\rProcessing reviews:  66%|██████▋   | 629/949 [50:38<29:25,  5.52s/batch]"
          ]
        },
        {
          "name": "stdout",
          "output_type": "stream",
          "text": [
            "2/2 [==============================] - 5s 3s/step\n"
          ]
        },
        {
          "name": "stderr",
          "output_type": "stream",
          "text": [
            "\rProcessing reviews:  66%|██████▋   | 630/949 [50:45<31:29,  5.92s/batch]"
          ]
        },
        {
          "name": "stdout",
          "output_type": "stream",
          "text": [
            "2/2 [==============================] - 2s 1s/step\n"
          ]
        },
        {
          "name": "stderr",
          "output_type": "stream",
          "text": [
            "\rProcessing reviews:  66%|██████▋   | 631/949 [50:50<30:23,  5.74s/batch]"
          ]
        },
        {
          "name": "stdout",
          "output_type": "stream",
          "text": [
            "2/2 [==============================] - 2s 751ms/step\n"
          ]
        },
        {
          "name": "stderr",
          "output_type": "stream",
          "text": [
            "\rProcessing reviews:  67%|██████▋   | 632/949 [50:53<25:36,  4.85s/batch]"
          ]
        },
        {
          "name": "stdout",
          "output_type": "stream",
          "text": [
            "2/2 [==============================] - 2s 983ms/step\n"
          ]
        },
        {
          "name": "stderr",
          "output_type": "stream",
          "text": [
            "\rProcessing reviews:  67%|██████▋   | 633/949 [50:56<22:19,  4.24s/batch]"
          ]
        },
        {
          "name": "stdout",
          "output_type": "stream",
          "text": [
            "2/2 [==============================] - 2s 1s/step\n"
          ]
        },
        {
          "name": "stderr",
          "output_type": "stream",
          "text": [
            "\rProcessing reviews:  67%|██████▋   | 634/949 [50:59<20:41,  3.94s/batch]"
          ]
        },
        {
          "name": "stdout",
          "output_type": "stream",
          "text": [
            "2/2 [==============================] - 2s 885ms/step\n"
          ]
        },
        {
          "name": "stderr",
          "output_type": "stream",
          "text": [
            "\rProcessing reviews:  67%|██████▋   | 635/949 [51:02<18:44,  3.58s/batch]"
          ]
        },
        {
          "name": "stdout",
          "output_type": "stream",
          "text": [
            "2/2 [==============================] - 4s 2s/step\n"
          ]
        },
        {
          "name": "stderr",
          "output_type": "stream",
          "text": [
            "\rProcessing reviews:  67%|██████▋   | 636/949 [51:07<21:28,  4.12s/batch]"
          ]
        },
        {
          "name": "stdout",
          "output_type": "stream",
          "text": [
            "2/2 [==============================] - 2s 879ms/step\n"
          ]
        },
        {
          "name": "stderr",
          "output_type": "stream",
          "text": [
            "\rProcessing reviews:  67%|██████▋   | 637/949 [51:10<18:54,  3.64s/batch]"
          ]
        },
        {
          "name": "stdout",
          "output_type": "stream",
          "text": [
            "2/2 [==============================] - 2s 1s/step\n"
          ]
        },
        {
          "name": "stderr",
          "output_type": "stream",
          "text": [
            "\rProcessing reviews:  67%|██████▋   | 638/949 [51:13<17:51,  3.45s/batch]"
          ]
        },
        {
          "name": "stdout",
          "output_type": "stream",
          "text": [
            "2/2 [==============================] - 2s 1s/step\n"
          ]
        },
        {
          "name": "stderr",
          "output_type": "stream",
          "text": [
            "\rProcessing reviews:  67%|██████▋   | 639/949 [51:18<20:41,  4.00s/batch]"
          ]
        },
        {
          "name": "stdout",
          "output_type": "stream",
          "text": [
            "2/2 [==============================] - 3s 2s/step\n"
          ]
        },
        {
          "name": "stderr",
          "output_type": "stream",
          "text": [
            "\rProcessing reviews:  67%|██████▋   | 640/949 [51:23<22:41,  4.41s/batch]"
          ]
        },
        {
          "name": "stdout",
          "output_type": "stream",
          "text": [
            "2/2 [==============================] - 4s 2s/step\n"
          ]
        },
        {
          "name": "stderr",
          "output_type": "stream",
          "text": [
            "\rProcessing reviews:  68%|██████▊   | 641/949 [51:28<23:28,  4.57s/batch]"
          ]
        },
        {
          "name": "stdout",
          "output_type": "stream",
          "text": [
            "2/2 [==============================] - 2s 909ms/step\n"
          ]
        },
        {
          "name": "stderr",
          "output_type": "stream",
          "text": [
            "\rProcessing reviews:  68%|██████▊   | 642/949 [51:34<24:30,  4.79s/batch]"
          ]
        },
        {
          "name": "stdout",
          "output_type": "stream",
          "text": [
            "2/2 [==============================] - 3s 1s/step\n"
          ]
        },
        {
          "name": "stderr",
          "output_type": "stream",
          "text": [
            "\rProcessing reviews:  68%|██████▊   | 643/949 [51:37<22:47,  4.47s/batch]"
          ]
        },
        {
          "name": "stdout",
          "output_type": "stream",
          "text": [
            "2/2 [==============================] - 2s 1s/step\n"
          ]
        },
        {
          "name": "stderr",
          "output_type": "stream",
          "text": [
            "\rProcessing reviews:  68%|██████▊   | 644/949 [51:43<23:59,  4.72s/batch]"
          ]
        },
        {
          "name": "stdout",
          "output_type": "stream",
          "text": [
            "2/2 [==============================] - 1s 641ms/step\n"
          ]
        },
        {
          "name": "stderr",
          "output_type": "stream",
          "text": [
            "\rProcessing reviews:  68%|██████▊   | 645/949 [51:45<20:56,  4.13s/batch]"
          ]
        },
        {
          "name": "stdout",
          "output_type": "stream",
          "text": [
            "2/2 [==============================] - 4s 2s/step\n"
          ]
        },
        {
          "name": "stderr",
          "output_type": "stream",
          "text": [
            "\rProcessing reviews:  68%|██████▊   | 646/949 [51:51<22:44,  4.50s/batch]"
          ]
        },
        {
          "name": "stdout",
          "output_type": "stream",
          "text": [
            "2/2 [==============================] - 5s 3s/step\n"
          ]
        },
        {
          "name": "stderr",
          "output_type": "stream",
          "text": [
            "\rProcessing reviews:  68%|██████▊   | 647/949 [52:01<31:37,  6.28s/batch]"
          ]
        },
        {
          "name": "stdout",
          "output_type": "stream",
          "text": [
            "2/2 [==============================] - 3s 1s/step\n"
          ]
        },
        {
          "name": "stderr",
          "output_type": "stream",
          "text": [
            "\rProcessing reviews:  68%|██████▊   | 648/949 [52:07<29:59,  5.98s/batch]"
          ]
        },
        {
          "name": "stdout",
          "output_type": "stream",
          "text": [
            "2/2 [==============================] - 2s 1s/step\n"
          ]
        },
        {
          "name": "stderr",
          "output_type": "stream",
          "text": [
            "\rProcessing reviews:  68%|██████▊   | 649/949 [52:10<25:27,  5.09s/batch]"
          ]
        },
        {
          "name": "stdout",
          "output_type": "stream",
          "text": [
            "2/2 [==============================] - 2s 1s/step\n"
          ]
        },
        {
          "name": "stderr",
          "output_type": "stream",
          "text": [
            "\rProcessing reviews:  68%|██████▊   | 650/949 [52:15<25:38,  5.15s/batch]"
          ]
        },
        {
          "name": "stdout",
          "output_type": "stream",
          "text": [
            "2/2 [==============================] - 5s 2s/step\n"
          ]
        },
        {
          "name": "stderr",
          "output_type": "stream",
          "text": [
            "\rProcessing reviews:  69%|██████▊   | 651/949 [52:25<33:29,  6.74s/batch]"
          ]
        },
        {
          "name": "stdout",
          "output_type": "stream",
          "text": [
            "2/2 [==============================] - 2s 885ms/step\n"
          ]
        },
        {
          "name": "stderr",
          "output_type": "stream",
          "text": [
            "\rProcessing reviews:  69%|██████▊   | 652/949 [52:31<31:14,  6.31s/batch]"
          ]
        },
        {
          "name": "stdout",
          "output_type": "stream",
          "text": [
            "2/2 [==============================] - 3s 1s/step\n"
          ]
        },
        {
          "name": "stderr",
          "output_type": "stream",
          "text": [
            "\rProcessing reviews:  69%|██████▉   | 653/949 [52:34<27:13,  5.52s/batch]"
          ]
        },
        {
          "name": "stdout",
          "output_type": "stream",
          "text": [
            "2/2 [==============================] - 6s 3s/step\n"
          ]
        },
        {
          "name": "stderr",
          "output_type": "stream",
          "text": [
            "\rProcessing reviews:  69%|██████▉   | 654/949 [52:45<34:21,  6.99s/batch]"
          ]
        },
        {
          "name": "stdout",
          "output_type": "stream",
          "text": [
            "2/2 [==============================] - 2s 1s/step\n"
          ]
        },
        {
          "name": "stderr",
          "output_type": "stream",
          "text": [
            "\rProcessing reviews:  69%|██████▉   | 655/949 [52:48<28:52,  5.89s/batch]"
          ]
        },
        {
          "name": "stdout",
          "output_type": "stream",
          "text": [
            "2/2 [==============================] - 2s 933ms/step\n"
          ]
        },
        {
          "name": "stderr",
          "output_type": "stream",
          "text": [
            "\rProcessing reviews:  69%|██████▉   | 656/949 [52:51<24:06,  4.94s/batch]"
          ]
        },
        {
          "name": "stdout",
          "output_type": "stream",
          "text": [
            "2/2 [==============================] - 2s 1s/step\n"
          ]
        },
        {
          "name": "stderr",
          "output_type": "stream",
          "text": [
            "\rProcessing reviews:  69%|██████▉   | 657/949 [52:54<21:56,  4.51s/batch]"
          ]
        },
        {
          "name": "stdout",
          "output_type": "stream",
          "text": [
            "2/2 [==============================] - 2s 896ms/step\n"
          ]
        },
        {
          "name": "stderr",
          "output_type": "stream",
          "text": [
            "\rProcessing reviews:  69%|██████▉   | 658/949 [53:00<23:06,  4.77s/batch]"
          ]
        },
        {
          "name": "stdout",
          "output_type": "stream",
          "text": [
            "2/2 [==============================] - 5s 2s/step\n"
          ]
        },
        {
          "name": "stderr",
          "output_type": "stream",
          "text": [
            "\rProcessing reviews:  69%|██████▉   | 659/949 [53:06<25:15,  5.23s/batch]"
          ]
        },
        {
          "name": "stdout",
          "output_type": "stream",
          "text": [
            "2/2 [==============================] - 3s 1s/step\n"
          ]
        },
        {
          "name": "stderr",
          "output_type": "stream",
          "text": [
            "\rProcessing reviews:  70%|██████▉   | 660/949 [53:10<23:21,  4.85s/batch]"
          ]
        },
        {
          "name": "stdout",
          "output_type": "stream",
          "text": [
            "2/2 [==============================] - 4s 2s/step\n"
          ]
        },
        {
          "name": "stderr",
          "output_type": "stream",
          "text": [
            "\rProcessing reviews:  70%|██████▉   | 661/949 [53:15<24:01,  5.01s/batch]"
          ]
        },
        {
          "name": "stdout",
          "output_type": "stream",
          "text": [
            "2/2 [==============================] - 3s 2s/step\n"
          ]
        },
        {
          "name": "stderr",
          "output_type": "stream",
          "text": [
            "\rProcessing reviews:  70%|██████▉   | 662/949 [53:20<23:02,  4.82s/batch]"
          ]
        },
        {
          "name": "stdout",
          "output_type": "stream",
          "text": [
            "2/2 [==============================] - 2s 937ms/step\n"
          ]
        },
        {
          "name": "stderr",
          "output_type": "stream",
          "text": [
            "\rProcessing reviews:  70%|██████▉   | 663/949 [53:22<19:56,  4.18s/batch]"
          ]
        },
        {
          "name": "stdout",
          "output_type": "stream",
          "text": [
            "2/2 [==============================] - 4s 2s/step\n"
          ]
        },
        {
          "name": "stderr",
          "output_type": "stream",
          "text": [
            "\rProcessing reviews:  70%|██████▉   | 664/949 [53:28<21:30,  4.53s/batch]"
          ]
        },
        {
          "name": "stdout",
          "output_type": "stream",
          "text": [
            "2/2 [==============================] - 2s 1s/step\n"
          ]
        },
        {
          "name": "stderr",
          "output_type": "stream",
          "text": [
            "\rProcessing reviews:  70%|███████   | 665/949 [53:31<19:28,  4.12s/batch]"
          ]
        },
        {
          "name": "stdout",
          "output_type": "stream",
          "text": [
            "2/2 [==============================] - 2s 796ms/step\n"
          ]
        },
        {
          "name": "stderr",
          "output_type": "stream",
          "text": [
            "\rProcessing reviews:  70%|███████   | 666/949 [53:34<17:23,  3.69s/batch]"
          ]
        },
        {
          "name": "stdout",
          "output_type": "stream",
          "text": [
            "2/2 [==============================] - 5s 2s/step\n"
          ]
        },
        {
          "name": "stderr",
          "output_type": "stream",
          "text": [
            "\rProcessing reviews:  70%|███████   | 667/949 [53:44<26:48,  5.70s/batch]"
          ]
        },
        {
          "name": "stdout",
          "output_type": "stream",
          "text": [
            "2/2 [==============================] - 2s 1s/step\n"
          ]
        },
        {
          "name": "stderr",
          "output_type": "stream",
          "text": [
            "\rProcessing reviews:  70%|███████   | 668/949 [53:49<26:05,  5.57s/batch]"
          ]
        },
        {
          "name": "stdout",
          "output_type": "stream",
          "text": [
            "2/2 [==============================] - 6s 3s/step\n"
          ]
        },
        {
          "name": "stderr",
          "output_type": "stream",
          "text": [
            "\rProcessing reviews:  70%|███████   | 669/949 [54:00<32:47,  7.03s/batch]"
          ]
        },
        {
          "name": "stdout",
          "output_type": "stream",
          "text": [
            "2/2 [==============================] - 4s 2s/step\n"
          ]
        },
        {
          "name": "stderr",
          "output_type": "stream",
          "text": [
            "\rProcessing reviews:  71%|███████   | 670/949 [54:05<30:03,  6.46s/batch]"
          ]
        },
        {
          "name": "stdout",
          "output_type": "stream",
          "text": [
            "2/2 [==============================] - 3s 2s/step\n"
          ]
        },
        {
          "name": "stderr",
          "output_type": "stream",
          "text": [
            "\rProcessing reviews:  71%|███████   | 671/949 [54:10<28:17,  6.11s/batch]"
          ]
        },
        {
          "name": "stdout",
          "output_type": "stream",
          "text": [
            "2/2 [==============================] - 6s 3s/step\n"
          ]
        },
        {
          "name": "stderr",
          "output_type": "stream",
          "text": [
            "\rProcessing reviews:  71%|███████   | 672/949 [54:21<34:16,  7.43s/batch]"
          ]
        },
        {
          "name": "stdout",
          "output_type": "stream",
          "text": [
            "2/2 [==============================] - 4s 2s/step\n"
          ]
        },
        {
          "name": "stderr",
          "output_type": "stream",
          "text": [
            "\rProcessing reviews:  71%|███████   | 673/949 [54:26<31:15,  6.80s/batch]"
          ]
        },
        {
          "name": "stdout",
          "output_type": "stream",
          "text": [
            "2/2 [==============================] - 1s 636ms/step\n"
          ]
        },
        {
          "name": "stderr",
          "output_type": "stream",
          "text": [
            "\rProcessing reviews:  71%|███████   | 674/949 [54:29<25:29,  5.56s/batch]"
          ]
        },
        {
          "name": "stdout",
          "output_type": "stream",
          "text": [
            "2/2 [==============================] - 6s 3s/step\n"
          ]
        },
        {
          "name": "stderr",
          "output_type": "stream",
          "text": [
            "\rProcessing reviews:  71%|███████   | 675/949 [54:39<32:02,  7.02s/batch]"
          ]
        },
        {
          "name": "stdout",
          "output_type": "stream",
          "text": [
            "2/2 [==============================] - 4s 2s/step\n"
          ]
        },
        {
          "name": "stderr",
          "output_type": "stream",
          "text": [
            "\rProcessing reviews:  71%|███████   | 676/949 [54:44<29:34,  6.50s/batch]"
          ]
        },
        {
          "name": "stdout",
          "output_type": "stream",
          "text": [
            "2/2 [==============================] - 2s 1s/step\n"
          ]
        },
        {
          "name": "stderr",
          "output_type": "stream",
          "text": [
            "\rProcessing reviews:  71%|███████▏  | 677/949 [54:48<25:13,  5.56s/batch]"
          ]
        },
        {
          "name": "stdout",
          "output_type": "stream",
          "text": [
            "2/2 [==============================] - 2s 840ms/step\n"
          ]
        },
        {
          "name": "stderr",
          "output_type": "stream",
          "text": [
            "\rProcessing reviews:  71%|███████▏  | 678/949 [54:50<21:10,  4.69s/batch]"
          ]
        },
        {
          "name": "stdout",
          "output_type": "stream",
          "text": [
            "2/2 [==============================] - 3s 1s/step\n"
          ]
        },
        {
          "name": "stderr",
          "output_type": "stream",
          "text": [
            "\rProcessing reviews:  72%|███████▏  | 679/949 [54:54<19:55,  4.43s/batch]"
          ]
        },
        {
          "name": "stdout",
          "output_type": "stream",
          "text": [
            "2/2 [==============================] - 2s 1s/step\n"
          ]
        },
        {
          "name": "stderr",
          "output_type": "stream",
          "text": [
            "\rProcessing reviews:  72%|███████▏  | 680/949 [54:59<20:57,  4.68s/batch]"
          ]
        },
        {
          "name": "stdout",
          "output_type": "stream",
          "text": [
            "2/2 [==============================] - 3s 1s/step\n"
          ]
        },
        {
          "name": "stderr",
          "output_type": "stream",
          "text": [
            "\rProcessing reviews:  72%|███████▏  | 681/949 [55:05<21:43,  4.87s/batch]"
          ]
        },
        {
          "name": "stdout",
          "output_type": "stream",
          "text": [
            "2/2 [==============================] - 3s 1s/step\n"
          ]
        },
        {
          "name": "stderr",
          "output_type": "stream",
          "text": [
            "\rProcessing reviews:  72%|███████▏  | 682/949 [55:10<22:16,  5.01s/batch]"
          ]
        },
        {
          "name": "stdout",
          "output_type": "stream",
          "text": [
            "2/2 [==============================] - 3s 1s/step\n"
          ]
        },
        {
          "name": "stderr",
          "output_type": "stream",
          "text": [
            "\rProcessing reviews:  72%|███████▏  | 683/949 [55:15<22:33,  5.09s/batch]"
          ]
        },
        {
          "name": "stdout",
          "output_type": "stream",
          "text": [
            "2/2 [==============================] - 5s 2s/step\n"
          ]
        },
        {
          "name": "stderr",
          "output_type": "stream",
          "text": [
            "\rProcessing reviews:  72%|███████▏  | 684/949 [55:26<29:31,  6.69s/batch]"
          ]
        },
        {
          "name": "stdout",
          "output_type": "stream",
          "text": [
            "2/2 [==============================] - 6s 3s/step\n"
          ]
        },
        {
          "name": "stderr",
          "output_type": "stream",
          "text": [
            "\rProcessing reviews:  72%|███████▏  | 685/949 [55:36<34:22,  7.81s/batch]"
          ]
        },
        {
          "name": "stdout",
          "output_type": "stream",
          "text": [
            "2/2 [==============================] - 5s 2s/step\n"
          ]
        },
        {
          "name": "stderr",
          "output_type": "stream",
          "text": [
            "\rProcessing reviews:  72%|███████▏  | 686/949 [55:47<37:44,  8.61s/batch]"
          ]
        },
        {
          "name": "stdout",
          "output_type": "stream",
          "text": [
            "2/2 [==============================] - 5s 3s/step\n"
          ]
        },
        {
          "name": "stderr",
          "output_type": "stream",
          "text": [
            "\rProcessing reviews:  72%|███████▏  | 687/949 [55:57<40:05,  9.18s/batch]"
          ]
        },
        {
          "name": "stdout",
          "output_type": "stream",
          "text": [
            "2/2 [==============================] - 2s 843ms/step\n"
          ]
        },
        {
          "name": "stderr",
          "output_type": "stream",
          "text": [
            "\rProcessing reviews:  72%|███████▏  | 688/949 [56:00<31:35,  7.26s/batch]"
          ]
        },
        {
          "name": "stdout",
          "output_type": "stream",
          "text": [
            "2/2 [==============================] - 6s 3s/step\n"
          ]
        },
        {
          "name": "stderr",
          "output_type": "stream",
          "text": [
            "\rProcessing reviews:  73%|███████▎  | 689/949 [56:08<32:12,  7.43s/batch]"
          ]
        },
        {
          "name": "stdout",
          "output_type": "stream",
          "text": [
            "2/2 [==============================] - 1s 757ms/step\n"
          ]
        },
        {
          "name": "stderr",
          "output_type": "stream",
          "text": [
            "\rProcessing reviews:  73%|███████▎  | 690/949 [56:10<25:56,  6.01s/batch]"
          ]
        },
        {
          "name": "stdout",
          "output_type": "stream",
          "text": [
            "2/2 [==============================] - 1s 771ms/step\n"
          ]
        },
        {
          "name": "stderr",
          "output_type": "stream",
          "text": [
            "\rProcessing reviews:  73%|███████▎  | 691/949 [56:13<21:35,  5.02s/batch]"
          ]
        },
        {
          "name": "stdout",
          "output_type": "stream",
          "text": [
            "2/2 [==============================] - 3s 1s/step\n"
          ]
        },
        {
          "name": "stderr",
          "output_type": "stream",
          "text": [
            "\rProcessing reviews:  73%|███████▎  | 692/949 [56:17<19:43,  4.61s/batch]"
          ]
        },
        {
          "name": "stdout",
          "output_type": "stream",
          "text": [
            "2/2 [==============================] - 3s 2s/step\n"
          ]
        },
        {
          "name": "stderr",
          "output_type": "stream",
          "text": [
            "\rProcessing reviews:  73%|███████▎  | 693/949 [56:22<20:30,  4.81s/batch]"
          ]
        },
        {
          "name": "stdout",
          "output_type": "stream",
          "text": [
            "2/2 [==============================] - 3s 2s/step\n"
          ]
        },
        {
          "name": "stderr",
          "output_type": "stream",
          "text": [
            "\rProcessing reviews:  73%|███████▎  | 694/949 [56:27<21:04,  4.96s/batch]"
          ]
        },
        {
          "name": "stdout",
          "output_type": "stream",
          "text": [
            "2/2 [==============================] - 6s 3s/step\n"
          ]
        },
        {
          "name": "stderr",
          "output_type": "stream",
          "text": [
            "\rProcessing reviews:  73%|███████▎  | 695/949 [56:35<24:36,  5.81s/batch]"
          ]
        },
        {
          "name": "stdout",
          "output_type": "stream",
          "text": [
            "2/2 [==============================] - 2s 1s/step\n"
          ]
        },
        {
          "name": "stderr",
          "output_type": "stream",
          "text": [
            "\rProcessing reviews:  73%|███████▎  | 696/949 [56:40<23:52,  5.66s/batch]"
          ]
        },
        {
          "name": "stdout",
          "output_type": "stream",
          "text": [
            "2/2 [==============================] - 2s 981ms/step\n"
          ]
        },
        {
          "name": "stderr",
          "output_type": "stream",
          "text": [
            "\rProcessing reviews:  73%|███████▎  | 697/949 [56:43<20:22,  4.85s/batch]"
          ]
        },
        {
          "name": "stdout",
          "output_type": "stream",
          "text": [
            "2/2 [==============================] - 3s 1s/step\n"
          ]
        },
        {
          "name": "stderr",
          "output_type": "stream",
          "text": [
            "\rProcessing reviews:  74%|███████▎  | 698/949 [56:49<20:48,  4.98s/batch]"
          ]
        },
        {
          "name": "stdout",
          "output_type": "stream",
          "text": [
            "2/2 [==============================] - 1s 680ms/step\n"
          ]
        },
        {
          "name": "stderr",
          "output_type": "stream",
          "text": [
            "\rProcessing reviews:  74%|███████▎  | 699/949 [56:51<17:04,  4.10s/batch]"
          ]
        },
        {
          "name": "stdout",
          "output_type": "stream",
          "text": [
            "2/2 [==============================] - 4s 2s/step\n"
          ]
        },
        {
          "name": "stderr",
          "output_type": "stream",
          "text": [
            "\rProcessing reviews:  74%|███████▍  | 700/949 [56:56<18:27,  4.45s/batch]"
          ]
        },
        {
          "name": "stdout",
          "output_type": "stream",
          "text": [
            "2/2 [==============================] - 1s 629ms/step\n"
          ]
        },
        {
          "name": "stderr",
          "output_type": "stream",
          "text": [
            "\rProcessing reviews:  74%|███████▍  | 701/949 [56:59<16:17,  3.94s/batch]"
          ]
        },
        {
          "name": "stdout",
          "output_type": "stream",
          "text": [
            "2/2 [==============================] - 3s 1s/step\n"
          ]
        },
        {
          "name": "stderr",
          "output_type": "stream",
          "text": [
            "\rProcessing reviews:  74%|███████▍  | 702/949 [57:04<17:51,  4.34s/batch]"
          ]
        },
        {
          "name": "stdout",
          "output_type": "stream",
          "text": [
            "2/2 [==============================] - 2s 1s/step\n"
          ]
        },
        {
          "name": "stderr",
          "output_type": "stream",
          "text": [
            "\rProcessing reviews:  74%|███████▍  | 703/949 [57:08<16:49,  4.11s/batch]"
          ]
        },
        {
          "name": "stdout",
          "output_type": "stream",
          "text": [
            "2/2 [==============================] - 6s 3s/step\n"
          ]
        },
        {
          "name": "stderr",
          "output_type": "stream",
          "text": [
            "\rProcessing reviews:  74%|███████▍  | 704/949 [57:15<21:16,  5.21s/batch]"
          ]
        },
        {
          "name": "stdout",
          "output_type": "stream",
          "text": [
            "2/2 [==============================] - 4s 2s/step\n"
          ]
        },
        {
          "name": "stderr",
          "output_type": "stream",
          "text": [
            "\rProcessing reviews:  74%|███████▍  | 705/949 [57:21<21:22,  5.25s/batch]"
          ]
        },
        {
          "name": "stdout",
          "output_type": "stream",
          "text": [
            "2/2 [==============================] - 2s 811ms/step\n"
          ]
        },
        {
          "name": "stderr",
          "output_type": "stream",
          "text": [
            "\rProcessing reviews:  74%|███████▍  | 706/949 [57:23<18:12,  4.49s/batch]"
          ]
        },
        {
          "name": "stdout",
          "output_type": "stream",
          "text": [
            "2/2 [==============================] - 4s 2s/step\n"
          ]
        },
        {
          "name": "stderr",
          "output_type": "stream",
          "text": [
            "\rProcessing reviews:  74%|███████▍  | 707/949 [57:29<19:09,  4.75s/batch]"
          ]
        },
        {
          "name": "stdout",
          "output_type": "stream",
          "text": [
            "2/2 [==============================] - 3s 1s/step\n"
          ]
        },
        {
          "name": "stderr",
          "output_type": "stream",
          "text": [
            "\rProcessing reviews:  75%|███████▍  | 708/949 [57:34<19:41,  4.90s/batch]"
          ]
        },
        {
          "name": "stdout",
          "output_type": "stream",
          "text": [
            "2/2 [==============================] - 3s 2s/step\n"
          ]
        },
        {
          "name": "stderr",
          "output_type": "stream",
          "text": [
            "\rProcessing reviews:  75%|███████▍  | 709/949 [57:39<20:06,  5.03s/batch]"
          ]
        },
        {
          "name": "stdout",
          "output_type": "stream",
          "text": [
            "2/2 [==============================] - 2s 1s/step\n"
          ]
        },
        {
          "name": "stderr",
          "output_type": "stream",
          "text": [
            "\rProcessing reviews:  75%|███████▍  | 710/949 [57:45<20:20,  5.11s/batch]"
          ]
        },
        {
          "name": "stdout",
          "output_type": "stream",
          "text": [
            "2/2 [==============================] - 6s 3s/step\n"
          ]
        },
        {
          "name": "stderr",
          "output_type": "stream",
          "text": [
            "\rProcessing reviews:  75%|███████▍  | 711/949 [57:55<26:35,  6.70s/batch]"
          ]
        },
        {
          "name": "stdout",
          "output_type": "stream",
          "text": [
            "2/2 [==============================] - 5s 2s/step\n"
          ]
        },
        {
          "name": "stderr",
          "output_type": "stream",
          "text": [
            "\rProcessing reviews:  75%|███████▌  | 712/949 [58:06<30:56,  7.83s/batch]"
          ]
        },
        {
          "name": "stdout",
          "output_type": "stream",
          "text": [
            "2/2 [==============================] - 2s 1s/step\n"
          ]
        },
        {
          "name": "stderr",
          "output_type": "stream",
          "text": [
            "\rProcessing reviews:  75%|███████▌  | 713/949 [58:09<25:15,  6.42s/batch]"
          ]
        },
        {
          "name": "stdout",
          "output_type": "stream",
          "text": [
            "2/2 [==============================] - 6s 3s/step\n"
          ]
        },
        {
          "name": "stderr",
          "output_type": "stream",
          "text": [
            "\rProcessing reviews:  75%|███████▌  | 714/949 [58:19<29:55,  7.64s/batch]"
          ]
        },
        {
          "name": "stdout",
          "output_type": "stream",
          "text": [
            "2/2 [==============================] - 2s 833ms/step\n"
          ]
        },
        {
          "name": "stderr",
          "output_type": "stream",
          "text": [
            "\rProcessing reviews:  75%|███████▌  | 715/949 [58:22<23:51,  6.12s/batch]"
          ]
        },
        {
          "name": "stdout",
          "output_type": "stream",
          "text": [
            "2/2 [==============================] - 2s 856ms/step\n"
          ]
        },
        {
          "name": "stderr",
          "output_type": "stream",
          "text": [
            "\rProcessing reviews:  75%|███████▌  | 716/949 [58:24<19:27,  5.01s/batch]"
          ]
        },
        {
          "name": "stdout",
          "output_type": "stream",
          "text": [
            "2/2 [==============================] - 5s 3s/step\n"
          ]
        },
        {
          "name": "stderr",
          "output_type": "stream",
          "text": [
            "\rProcessing reviews:  76%|███████▌  | 717/949 [58:35<25:38,  6.63s/batch]"
          ]
        },
        {
          "name": "stdout",
          "output_type": "stream",
          "text": [
            "2/2 [==============================] - 2s 987ms/step\n"
          ]
        },
        {
          "name": "stderr",
          "output_type": "stream",
          "text": [
            "\rProcessing reviews:  76%|███████▌  | 718/949 [58:40<23:56,  6.22s/batch]"
          ]
        },
        {
          "name": "stdout",
          "output_type": "stream",
          "text": [
            "2/2 [==============================] - 3s 1s/step\n"
          ]
        },
        {
          "name": "stderr",
          "output_type": "stream",
          "text": [
            "\rProcessing reviews:  76%|███████▌  | 719/949 [58:45<22:47,  5.95s/batch]"
          ]
        },
        {
          "name": "stdout",
          "output_type": "stream",
          "text": [
            "2/2 [==============================] - 4s 2s/step\n"
          ]
        },
        {
          "name": "stderr",
          "output_type": "stream",
          "text": [
            "\rProcessing reviews:  76%|███████▌  | 720/949 [58:51<22:00,  5.77s/batch]"
          ]
        },
        {
          "name": "stdout",
          "output_type": "stream",
          "text": [
            "2/2 [==============================] - 2s 1s/step\n"
          ]
        },
        {
          "name": "stderr",
          "output_type": "stream",
          "text": [
            "\rProcessing reviews:  76%|███████▌  | 721/949 [58:56<21:20,  5.62s/batch]"
          ]
        },
        {
          "name": "stdout",
          "output_type": "stream",
          "text": [
            "2/2 [==============================] - 4s 2s/step\n"
          ]
        },
        {
          "name": "stderr",
          "output_type": "stream",
          "text": [
            "\rProcessing reviews:  76%|███████▌  | 722/949 [59:01<20:54,  5.53s/batch]"
          ]
        },
        {
          "name": "stdout",
          "output_type": "stream",
          "text": [
            "2/2 [==============================] - 2s 1s/step\n"
          ]
        },
        {
          "name": "stderr",
          "output_type": "stream",
          "text": [
            "\rProcessing reviews:  76%|███████▌  | 723/949 [59:04<18:04,  4.80s/batch]"
          ]
        },
        {
          "name": "stdout",
          "output_type": "stream",
          "text": [
            "2/2 [==============================] - 2s 829ms/step\n"
          ]
        },
        {
          "name": "stderr",
          "output_type": "stream",
          "text": [
            "\rProcessing reviews:  76%|███████▋  | 724/949 [59:07<15:37,  4.17s/batch]"
          ]
        },
        {
          "name": "stdout",
          "output_type": "stream",
          "text": [
            "2/2 [==============================] - 4s 2s/step\n"
          ]
        },
        {
          "name": "stderr",
          "output_type": "stream",
          "text": [
            "\rProcessing reviews:  76%|███████▋  | 725/949 [59:17<22:33,  6.04s/batch]"
          ]
        },
        {
          "name": "stdout",
          "output_type": "stream",
          "text": [
            "2/2 [==============================] - 6s 3s/step\n"
          ]
        },
        {
          "name": "stderr",
          "output_type": "stream",
          "text": [
            "\rProcessing reviews:  77%|███████▋  | 726/949 [59:24<23:33,  6.34s/batch]"
          ]
        },
        {
          "name": "stdout",
          "output_type": "stream",
          "text": [
            "2/2 [==============================] - 3s 1s/step\n"
          ]
        },
        {
          "name": "stderr",
          "output_type": "stream",
          "text": [
            "\rProcessing reviews:  77%|███████▋  | 727/949 [59:30<22:16,  6.02s/batch]"
          ]
        },
        {
          "name": "stdout",
          "output_type": "stream",
          "text": [
            "2/2 [==============================] - 6s 3s/step\n"
          ]
        },
        {
          "name": "stderr",
          "output_type": "stream",
          "text": [
            "\rProcessing reviews:  77%|███████▋  | 728/949 [59:37<23:52,  6.48s/batch]"
          ]
        },
        {
          "name": "stdout",
          "output_type": "stream",
          "text": [
            "2/2 [==============================] - 2s 888ms/step\n"
          ]
        },
        {
          "name": "stderr",
          "output_type": "stream",
          "text": [
            "\rProcessing reviews:  77%|███████▋  | 729/949 [59:40<19:38,  5.36s/batch]"
          ]
        },
        {
          "name": "stdout",
          "output_type": "stream",
          "text": [
            "2/2 [==============================] - 3s 1s/step\n"
          ]
        },
        {
          "name": "stderr",
          "output_type": "stream",
          "text": [
            "\rProcessing reviews:  77%|███████▋  | 730/949 [59:45<19:31,  5.35s/batch]"
          ]
        },
        {
          "name": "stdout",
          "output_type": "stream",
          "text": [
            "2/2 [==============================] - 3s 2s/step\n"
          ]
        },
        {
          "name": "stderr",
          "output_type": "stream",
          "text": [
            "\rProcessing reviews:  77%|███████▋  | 731/949 [59:50<19:20,  5.32s/batch]"
          ]
        },
        {
          "name": "stdout",
          "output_type": "stream",
          "text": [
            "2/2 [==============================] - 1s 686ms/step\n"
          ]
        },
        {
          "name": "stderr",
          "output_type": "stream",
          "text": [
            "\rProcessing reviews:  77%|███████▋  | 732/949 [59:53<15:44,  4.35s/batch]"
          ]
        },
        {
          "name": "stdout",
          "output_type": "stream",
          "text": [
            "2/2 [==============================] - 1s 711ms/step\n"
          ]
        },
        {
          "name": "stderr",
          "output_type": "stream",
          "text": [
            "\rProcessing reviews:  77%|███████▋  | 733/949 [59:55<13:53,  3.86s/batch]"
          ]
        },
        {
          "name": "stdout",
          "output_type": "stream",
          "text": [
            "2/2 [==============================] - 2s 972ms/step\n"
          ]
        },
        {
          "name": "stderr",
          "output_type": "stream",
          "text": [
            "\rProcessing reviews:  77%|███████▋  | 734/949 [59:58<12:44,  3.56s/batch]"
          ]
        },
        {
          "name": "stdout",
          "output_type": "stream",
          "text": [
            "2/2 [==============================] - 3s 2s/step\n"
          ]
        },
        {
          "name": "stderr",
          "output_type": "stream",
          "text": [
            "\rProcessing reviews:  77%|███████▋  | 735/949 [1:00:02<13:23,  3.75s/batch]"
          ]
        },
        {
          "name": "stdout",
          "output_type": "stream",
          "text": [
            "2/2 [==============================] - 6s 3s/step\n"
          ]
        },
        {
          "name": "stderr",
          "output_type": "stream",
          "text": [
            "\rProcessing reviews:  78%|███████▊  | 736/949 [1:00:13<20:25,  5.75s/batch]"
          ]
        },
        {
          "name": "stdout",
          "output_type": "stream",
          "text": [
            "2/2 [==============================] - 4s 2s/step\n"
          ]
        },
        {
          "name": "stderr",
          "output_type": "stream",
          "text": [
            "\rProcessing reviews:  78%|███████▊  | 737/949 [1:00:18<19:49,  5.61s/batch]"
          ]
        },
        {
          "name": "stdout",
          "output_type": "stream",
          "text": [
            "2/2 [==============================] - 1s 608ms/step\n"
          ]
        },
        {
          "name": "stderr",
          "output_type": "stream",
          "text": [
            "\rProcessing reviews:  78%|███████▊  | 738/949 [1:00:21<16:38,  4.73s/batch]"
          ]
        },
        {
          "name": "stdout",
          "output_type": "stream",
          "text": [
            "2/2 [==============================] - 2s 1s/step\n"
          ]
        },
        {
          "name": "stderr",
          "output_type": "stream",
          "text": [
            "\rProcessing reviews:  78%|███████▊  | 739/949 [1:00:26<17:06,  4.89s/batch]"
          ]
        },
        {
          "name": "stdout",
          "output_type": "stream",
          "text": [
            "2/2 [==============================] - 4s 2s/step\n"
          ]
        },
        {
          "name": "stderr",
          "output_type": "stream",
          "text": [
            "\rProcessing reviews:  78%|███████▊  | 740/949 [1:00:31<17:26,  5.01s/batch]"
          ]
        },
        {
          "name": "stdout",
          "output_type": "stream",
          "text": [
            "2/2 [==============================] - 2s 951ms/step\n"
          ]
        },
        {
          "name": "stderr",
          "output_type": "stream",
          "text": [
            "\rProcessing reviews:  78%|███████▊  | 741/949 [1:00:34<15:00,  4.33s/batch]"
          ]
        },
        {
          "name": "stdout",
          "output_type": "stream",
          "text": [
            "2/2 [==============================] - 2s 767ms/step\n"
          ]
        },
        {
          "name": "stderr",
          "output_type": "stream",
          "text": [
            "\rProcessing reviews:  78%|███████▊  | 742/949 [1:00:36<12:53,  3.74s/batch]"
          ]
        },
        {
          "name": "stdout",
          "output_type": "stream",
          "text": [
            "2/2 [==============================] - 1s 738ms/step\n"
          ]
        },
        {
          "name": "stderr",
          "output_type": "stream",
          "text": [
            "\rProcessing reviews:  78%|███████▊  | 743/949 [1:00:39<11:51,  3.45s/batch]"
          ]
        },
        {
          "name": "stdout",
          "output_type": "stream",
          "text": [
            "2/2 [==============================] - 2s 952ms/step\n"
          ]
        },
        {
          "name": "stderr",
          "output_type": "stream",
          "text": [
            "\rProcessing reviews:  78%|███████▊  | 744/949 [1:00:42<11:07,  3.25s/batch]"
          ]
        },
        {
          "name": "stdout",
          "output_type": "stream",
          "text": [
            "2/2 [==============================] - 3s 1s/step\n"
          ]
        },
        {
          "name": "stderr",
          "output_type": "stream",
          "text": [
            "\rProcessing reviews:  79%|███████▊  | 745/949 [1:00:45<11:21,  3.34s/batch]"
          ]
        },
        {
          "name": "stdout",
          "output_type": "stream",
          "text": [
            "2/2 [==============================] - 3s 1s/step\n"
          ]
        },
        {
          "name": "stderr",
          "output_type": "stream",
          "text": [
            "\rProcessing reviews:  79%|███████▊  | 746/949 [1:00:49<11:50,  3.50s/batch]"
          ]
        },
        {
          "name": "stdout",
          "output_type": "stream",
          "text": [
            "2/2 [==============================] - 2s 1s/step\n"
          ]
        },
        {
          "name": "stderr",
          "output_type": "stream",
          "text": [
            "\rProcessing reviews:  79%|███████▊  | 747/949 [1:00:55<13:33,  4.03s/batch]"
          ]
        },
        {
          "name": "stdout",
          "output_type": "stream",
          "text": [
            "2/2 [==============================] - 4s 2s/step\n"
          ]
        },
        {
          "name": "stderr",
          "output_type": "stream",
          "text": [
            "\rProcessing reviews:  79%|███████▉  | 748/949 [1:01:00<14:59,  4.48s/batch]"
          ]
        },
        {
          "name": "stdout",
          "output_type": "stream",
          "text": [
            "2/2 [==============================] - 5s 3s/step\n"
          ]
        },
        {
          "name": "stderr",
          "output_type": "stream",
          "text": [
            "\rProcessing reviews:  79%|███████▉  | 749/949 [1:01:11<20:52,  6.26s/batch]"
          ]
        },
        {
          "name": "stdout",
          "output_type": "stream",
          "text": [
            "2/2 [==============================] - 2s 1s/step\n"
          ]
        },
        {
          "name": "stderr",
          "output_type": "stream",
          "text": [
            "\rProcessing reviews:  79%|███████▉  | 750/949 [1:01:16<19:48,  5.97s/batch]"
          ]
        },
        {
          "name": "stdout",
          "output_type": "stream",
          "text": [
            "2/2 [==============================] - 3s 1s/step\n"
          ]
        },
        {
          "name": "stderr",
          "output_type": "stream",
          "text": [
            "\rProcessing reviews:  79%|███████▉  | 751/949 [1:01:21<19:06,  5.79s/batch]"
          ]
        },
        {
          "name": "stdout",
          "output_type": "stream",
          "text": [
            "2/2 [==============================] - 2s 945ms/step\n"
          ]
        },
        {
          "name": "stderr",
          "output_type": "stream",
          "text": [
            "\rProcessing reviews:  79%|███████▉  | 752/949 [1:01:24<16:05,  4.90s/batch]"
          ]
        },
        {
          "name": "stdout",
          "output_type": "stream",
          "text": [
            "2/2 [==============================] - 3s 1s/step\n"
          ]
        },
        {
          "name": "stderr",
          "output_type": "stream",
          "text": [
            "\rProcessing reviews:  79%|███████▉  | 753/949 [1:01:28<14:42,  4.50s/batch]"
          ]
        },
        {
          "name": "stdout",
          "output_type": "stream",
          "text": [
            "2/2 [==============================] - 2s 1s/step\n"
          ]
        },
        {
          "name": "stderr",
          "output_type": "stream",
          "text": [
            "\rProcessing reviews:  79%|███████▉  | 754/949 [1:01:31<13:20,  4.11s/batch]"
          ]
        },
        {
          "name": "stdout",
          "output_type": "stream",
          "text": [
            "2/2 [==============================] - 6s 3s/step\n"
          ]
        },
        {
          "name": "stderr",
          "output_type": "stream",
          "text": [
            "\rProcessing reviews:  80%|███████▉  | 755/949 [1:01:41<19:23,  6.00s/batch]"
          ]
        },
        {
          "name": "stdout",
          "output_type": "stream",
          "text": [
            "2/2 [==============================] - 3s 1s/step\n"
          ]
        },
        {
          "name": "stderr",
          "output_type": "stream",
          "text": [
            "\rProcessing reviews:  80%|███████▉  | 756/949 [1:01:45<17:25,  5.42s/batch]"
          ]
        },
        {
          "name": "stdout",
          "output_type": "stream",
          "text": [
            "2/2 [==============================] - 3s 1s/step\n"
          ]
        },
        {
          "name": "stderr",
          "output_type": "stream",
          "text": [
            "\rProcessing reviews:  80%|███████▉  | 757/949 [1:01:51<17:12,  5.38s/batch]"
          ]
        },
        {
          "name": "stdout",
          "output_type": "stream",
          "text": [
            "2/2 [==============================] - 5s 2s/step\n"
          ]
        },
        {
          "name": "stderr",
          "output_type": "stream",
          "text": [
            "\rProcessing reviews:  80%|███████▉  | 758/949 [1:01:57<17:46,  5.58s/batch]"
          ]
        },
        {
          "name": "stdout",
          "output_type": "stream",
          "text": [
            "2/2 [==============================] - 6s 3s/step\n"
          ]
        },
        {
          "name": "stderr",
          "output_type": "stream",
          "text": [
            "\rProcessing reviews:  80%|███████▉  | 759/949 [1:02:07<22:16,  7.04s/batch]"
          ]
        },
        {
          "name": "stdout",
          "output_type": "stream",
          "text": [
            "2/2 [==============================] - 2s 898ms/step\n"
          ]
        },
        {
          "name": "stderr",
          "output_type": "stream",
          "text": [
            "\rProcessing reviews:  80%|████████  | 760/949 [1:02:10<18:00,  5.72s/batch]"
          ]
        },
        {
          "name": "stdout",
          "output_type": "stream",
          "text": [
            "2/2 [==============================] - 5s 2s/step\n"
          ]
        },
        {
          "name": "stderr",
          "output_type": "stream",
          "text": [
            "\rProcessing reviews:  80%|████████  | 761/949 [1:02:20<22:19,  7.13s/batch]"
          ]
        },
        {
          "name": "stdout",
          "output_type": "stream",
          "text": [
            "2/2 [==============================] - 2s 1s/step\n"
          ]
        },
        {
          "name": "stderr",
          "output_type": "stream",
          "text": [
            "\rProcessing reviews:  80%|████████  | 762/949 [1:02:23<18:17,  5.87s/batch]"
          ]
        },
        {
          "name": "stdout",
          "output_type": "stream",
          "text": [
            "2/2 [==============================] - 1s 701ms/step\n"
          ]
        },
        {
          "name": "stderr",
          "output_type": "stream",
          "text": [
            "\rProcessing reviews:  80%|████████  | 763/949 [1:02:25<14:38,  4.72s/batch]"
          ]
        },
        {
          "name": "stdout",
          "output_type": "stream",
          "text": [
            "2/2 [==============================] - 4s 2s/step\n"
          ]
        },
        {
          "name": "stderr",
          "output_type": "stream",
          "text": [
            "\rProcessing reviews:  81%|████████  | 764/949 [1:02:36<19:48,  6.43s/batch]"
          ]
        },
        {
          "name": "stdout",
          "output_type": "stream",
          "text": [
            "2/2 [==============================] - 4s 2s/step\n"
          ]
        },
        {
          "name": "stderr",
          "output_type": "stream",
          "text": [
            "\rProcessing reviews:  81%|████████  | 765/949 [1:02:41<18:39,  6.08s/batch]"
          ]
        },
        {
          "name": "stdout",
          "output_type": "stream",
          "text": [
            "2/2 [==============================] - 2s 907ms/step\n"
          ]
        },
        {
          "name": "stderr",
          "output_type": "stream",
          "text": [
            "\rProcessing reviews:  81%|████████  | 766/949 [1:02:46<17:47,  5.83s/batch]"
          ]
        },
        {
          "name": "stdout",
          "output_type": "stream",
          "text": [
            "2/2 [==============================] - 2s 951ms/step\n"
          ]
        },
        {
          "name": "stderr",
          "output_type": "stream",
          "text": [
            "\rProcessing reviews:  81%|████████  | 767/949 [1:02:49<14:53,  4.91s/batch]"
          ]
        },
        {
          "name": "stdout",
          "output_type": "stream",
          "text": [
            "2/2 [==============================] - 2s 1s/step\n"
          ]
        },
        {
          "name": "stderr",
          "output_type": "stream",
          "text": [
            "\rProcessing reviews:  81%|████████  | 768/949 [1:02:54<15:08,  5.02s/batch]"
          ]
        },
        {
          "name": "stdout",
          "output_type": "stream",
          "text": [
            "2/2 [==============================] - 4s 2s/step\n"
          ]
        },
        {
          "name": "stderr",
          "output_type": "stream",
          "text": [
            "\rProcessing reviews:  81%|████████  | 769/949 [1:02:59<15:20,  5.11s/batch]"
          ]
        },
        {
          "name": "stdout",
          "output_type": "stream",
          "text": [
            "2/2 [==============================] - 2s 858ms/step\n"
          ]
        },
        {
          "name": "stderr",
          "output_type": "stream",
          "text": [
            "\rProcessing reviews:  81%|████████  | 770/949 [1:03:02<12:55,  4.33s/batch]"
          ]
        },
        {
          "name": "stdout",
          "output_type": "stream",
          "text": [
            "2/2 [==============================] - 3s 2s/step\n"
          ]
        },
        {
          "name": "stderr",
          "output_type": "stream",
          "text": [
            "\rProcessing reviews:  81%|████████  | 771/949 [1:03:07<13:41,  4.62s/batch]"
          ]
        },
        {
          "name": "stdout",
          "output_type": "stream",
          "text": [
            "2/2 [==============================] - 2s 960ms/step\n"
          ]
        },
        {
          "name": "stderr",
          "output_type": "stream",
          "text": [
            "\rProcessing reviews:  81%|████████▏ | 772/949 [1:03:10<11:59,  4.07s/batch]"
          ]
        },
        {
          "name": "stdout",
          "output_type": "stream",
          "text": [
            "2/2 [==============================] - 2s 1s/step\n"
          ]
        },
        {
          "name": "stderr",
          "output_type": "stream",
          "text": [
            "\rProcessing reviews:  81%|████████▏ | 773/949 [1:03:15<13:01,  4.44s/batch]"
          ]
        },
        {
          "name": "stdout",
          "output_type": "stream",
          "text": [
            "2/2 [==============================] - 2s 1s/step\n"
          ]
        },
        {
          "name": "stderr",
          "output_type": "stream",
          "text": [
            "\rProcessing reviews:  82%|████████▏ | 774/949 [1:03:18<11:50,  4.06s/batch]"
          ]
        },
        {
          "name": "stdout",
          "output_type": "stream",
          "text": [
            "2/2 [==============================] - 1s 693ms/step\n"
          ]
        },
        {
          "name": "stderr",
          "output_type": "stream",
          "text": [
            "\rProcessing reviews:  82%|████████▏ | 775/949 [1:03:21<10:00,  3.45s/batch]"
          ]
        },
        {
          "name": "stdout",
          "output_type": "stream",
          "text": [
            "2/2 [==============================] - 2s 1s/step\n"
          ]
        },
        {
          "name": "stderr",
          "output_type": "stream",
          "text": [
            "\rProcessing reviews:  82%|████████▏ | 776/949 [1:03:24<09:35,  3.32s/batch]"
          ]
        },
        {
          "name": "stdout",
          "output_type": "stream",
          "text": [
            "2/2 [==============================] - 2s 1s/step\n"
          ]
        },
        {
          "name": "stderr",
          "output_type": "stream",
          "text": [
            "\rProcessing reviews:  82%|████████▏ | 777/949 [1:03:29<11:11,  3.90s/batch]"
          ]
        },
        {
          "name": "stdout",
          "output_type": "stream",
          "text": [
            "2/2 [==============================] - 3s 1s/step\n"
          ]
        },
        {
          "name": "stderr",
          "output_type": "stream",
          "text": [
            "\rProcessing reviews:  82%|████████▏ | 778/949 [1:03:33<11:16,  3.95s/batch]"
          ]
        },
        {
          "name": "stdout",
          "output_type": "stream",
          "text": [
            "2/2 [==============================] - 2s 936ms/step\n"
          ]
        },
        {
          "name": "stderr",
          "output_type": "stream",
          "text": [
            "\rProcessing reviews:  82%|████████▏ | 779/949 [1:03:36<10:08,  3.58s/batch]"
          ]
        },
        {
          "name": "stdout",
          "output_type": "stream",
          "text": [
            "2/2 [==============================] - 2s 1s/step\n"
          ]
        },
        {
          "name": "stderr",
          "output_type": "stream",
          "text": [
            "\rProcessing reviews:  82%|████████▏ | 780/949 [1:03:41<11:32,  4.10s/batch]"
          ]
        },
        {
          "name": "stdout",
          "output_type": "stream",
          "text": [
            "2/2 [==============================] - 4s 2s/step\n"
          ]
        },
        {
          "name": "stderr",
          "output_type": "stream",
          "text": [
            "\rProcessing reviews:  82%|████████▏ | 781/949 [1:03:46<12:07,  4.33s/batch]"
          ]
        },
        {
          "name": "stdout",
          "output_type": "stream",
          "text": [
            "2/2 [==============================] - 6s 3s/step\n"
          ]
        },
        {
          "name": "stderr",
          "output_type": "stream",
          "text": [
            "\rProcessing reviews:  82%|████████▏ | 782/949 [1:03:56<17:09,  6.16s/batch]"
          ]
        },
        {
          "name": "stdout",
          "output_type": "stream",
          "text": [
            "2/2 [==============================] - 2s 1s/step\n"
          ]
        },
        {
          "name": "stderr",
          "output_type": "stream",
          "text": [
            "\rProcessing reviews:  83%|████████▎ | 783/949 [1:03:59<14:35,  5.28s/batch]"
          ]
        },
        {
          "name": "stdout",
          "output_type": "stream",
          "text": [
            "2/2 [==============================] - 5s 3s/step\n"
          ]
        },
        {
          "name": "stderr",
          "output_type": "stream",
          "text": [
            "\rProcessing reviews:  83%|████████▎ | 784/949 [1:04:10<18:44,  6.82s/batch]"
          ]
        },
        {
          "name": "stdout",
          "output_type": "stream",
          "text": [
            "2/2 [==============================] - 3s 1s/step\n"
          ]
        },
        {
          "name": "stderr",
          "output_type": "stream",
          "text": [
            "\rProcessing reviews:  83%|████████▎ | 785/949 [1:04:15<17:21,  6.35s/batch]"
          ]
        },
        {
          "name": "stdout",
          "output_type": "stream",
          "text": [
            "2/2 [==============================] - 2s 888ms/step\n"
          ]
        },
        {
          "name": "stderr",
          "output_type": "stream",
          "text": [
            "\rProcessing reviews:  83%|████████▎ | 786/949 [1:04:18<14:15,  5.25s/batch]"
          ]
        },
        {
          "name": "stdout",
          "output_type": "stream",
          "text": [
            "2/2 [==============================] - 4s 2s/step\n"
          ]
        },
        {
          "name": "stderr",
          "output_type": "stream",
          "text": [
            "\rProcessing reviews:  83%|████████▎ | 787/949 [1:04:23<14:27,  5.35s/batch]"
          ]
        },
        {
          "name": "stdout",
          "output_type": "stream",
          "text": [
            "2/2 [==============================] - 6s 3s/step\n"
          ]
        },
        {
          "name": "stderr",
          "output_type": "stream",
          "text": [
            "\rProcessing reviews:  83%|████████▎ | 788/949 [1:04:30<15:46,  5.88s/batch]"
          ]
        },
        {
          "name": "stdout",
          "output_type": "stream",
          "text": [
            "2/2 [==============================] - 5s 2s/step\n"
          ]
        },
        {
          "name": "stderr",
          "output_type": "stream",
          "text": [
            "\rProcessing reviews:  83%|████████▎ | 789/949 [1:04:41<19:17,  7.24s/batch]"
          ]
        },
        {
          "name": "stdout",
          "output_type": "stream",
          "text": [
            "2/2 [==============================] - 2s 821ms/step\n"
          ]
        },
        {
          "name": "stderr",
          "output_type": "stream",
          "text": [
            "\rProcessing reviews:  83%|████████▎ | 790/949 [1:04:44<15:33,  5.87s/batch]"
          ]
        },
        {
          "name": "stdout",
          "output_type": "stream",
          "text": [
            "2/2 [==============================] - 3s 1s/step\n"
          ]
        },
        {
          "name": "stderr",
          "output_type": "stream",
          "text": [
            "\rProcessing reviews:  83%|████████▎ | 791/949 [1:04:49<15:00,  5.70s/batch]"
          ]
        },
        {
          "name": "stdout",
          "output_type": "stream",
          "text": [
            "2/2 [==============================] - 2s 1s/step\n"
          ]
        },
        {
          "name": "stderr",
          "output_type": "stream",
          "text": [
            "\rProcessing reviews:  83%|████████▎ | 792/949 [1:04:52<13:00,  4.97s/batch]"
          ]
        },
        {
          "name": "stdout",
          "output_type": "stream",
          "text": [
            "2/2 [==============================] - 2s 892ms/step\n"
          ]
        },
        {
          "name": "stderr",
          "output_type": "stream",
          "text": [
            "\rProcessing reviews:  84%|████████▎ | 793/949 [1:04:55<11:08,  4.29s/batch]"
          ]
        },
        {
          "name": "stdout",
          "output_type": "stream",
          "text": [
            "2/2 [==============================] - 6s 3s/step\n"
          ]
        },
        {
          "name": "stderr",
          "output_type": "stream",
          "text": [
            "\rProcessing reviews:  84%|████████▎ | 794/949 [1:05:05<15:49,  6.13s/batch]"
          ]
        },
        {
          "name": "stdout",
          "output_type": "stream",
          "text": [
            "2/2 [==============================] - 6s 3s/step\n"
          ]
        },
        {
          "name": "stderr",
          "output_type": "stream",
          "text": [
            "\rProcessing reviews:  84%|████████▍ | 795/949 [1:05:13<17:01,  6.64s/batch]"
          ]
        },
        {
          "name": "stdout",
          "output_type": "stream",
          "text": [
            "2/2 [==============================] - 3s 2s/step\n"
          ]
        },
        {
          "name": "stderr",
          "output_type": "stream",
          "text": [
            "\rProcessing reviews:  84%|████████▍ | 796/949 [1:05:18<15:55,  6.25s/batch]"
          ]
        },
        {
          "name": "stdout",
          "output_type": "stream",
          "text": [
            "2/2 [==============================] - 3s 2s/step\n"
          ]
        },
        {
          "name": "stderr",
          "output_type": "stream",
          "text": [
            "\rProcessing reviews:  84%|████████▍ | 797/949 [1:05:23<14:33,  5.75s/batch]"
          ]
        },
        {
          "name": "stdout",
          "output_type": "stream",
          "text": [
            "2/2 [==============================] - 2s 1s/step\n"
          ]
        },
        {
          "name": "stderr",
          "output_type": "stream",
          "text": [
            "\rProcessing reviews:  84%|████████▍ | 798/949 [1:05:28<14:09,  5.63s/batch]"
          ]
        },
        {
          "name": "stdout",
          "output_type": "stream",
          "text": [
            "2/2 [==============================] - 2s 1s/step\n"
          ]
        },
        {
          "name": "stderr",
          "output_type": "stream",
          "text": [
            "\rProcessing reviews:  84%|████████▍ | 799/949 [1:05:32<12:26,  4.98s/batch]"
          ]
        },
        {
          "name": "stdout",
          "output_type": "stream",
          "text": [
            "2/2 [==============================] - 3s 2s/step\n"
          ]
        },
        {
          "name": "stderr",
          "output_type": "stream",
          "text": [
            "\rProcessing reviews:  84%|████████▍ | 800/949 [1:05:36<12:03,  4.86s/batch]"
          ]
        },
        {
          "name": "stdout",
          "output_type": "stream",
          "text": [
            "2/2 [==============================] - 5s 2s/step\n"
          ]
        },
        {
          "name": "stderr",
          "output_type": "stream",
          "text": [
            "\rProcessing reviews:  84%|████████▍ | 801/949 [1:05:47<16:07,  6.54s/batch]"
          ]
        },
        {
          "name": "stdout",
          "output_type": "stream",
          "text": [
            "2/2 [==============================] - 1s 593ms/step\n"
          ]
        },
        {
          "name": "stderr",
          "output_type": "stream",
          "text": [
            "\rProcessing reviews:  85%|████████▍ | 802/949 [1:05:50<13:11,  5.38s/batch]"
          ]
        },
        {
          "name": "stdout",
          "output_type": "stream",
          "text": [
            "2/2 [==============================] - 6s 3s/step\n"
          ]
        },
        {
          "name": "stderr",
          "output_type": "stream",
          "text": [
            "\rProcessing reviews:  85%|████████▍ | 803/949 [1:05:57<14:43,  6.05s/batch]"
          ]
        },
        {
          "name": "stdout",
          "output_type": "stream",
          "text": [
            "2/2 [==============================] - 1s 613ms/step\n"
          ]
        },
        {
          "name": "stderr",
          "output_type": "stream",
          "text": [
            "\rProcessing reviews:  85%|████████▍ | 804/949 [1:05:59<11:43,  4.85s/batch]"
          ]
        },
        {
          "name": "stdout",
          "output_type": "stream",
          "text": [
            "2/2 [==============================] - 2s 779ms/step\n"
          ]
        },
        {
          "name": "stderr",
          "output_type": "stream",
          "text": [
            "\rProcessing reviews:  85%|████████▍ | 805/949 [1:06:02<10:07,  4.22s/batch]"
          ]
        },
        {
          "name": "stdout",
          "output_type": "stream",
          "text": [
            "2/2 [==============================] - 2s 918ms/step\n"
          ]
        },
        {
          "name": "stderr",
          "output_type": "stream",
          "text": [
            "\rProcessing reviews:  85%|████████▍ | 806/949 [1:06:05<08:56,  3.75s/batch]"
          ]
        },
        {
          "name": "stdout",
          "output_type": "stream",
          "text": [
            "2/2 [==============================] - 2s 1s/step\n"
          ]
        },
        {
          "name": "stderr",
          "output_type": "stream",
          "text": [
            "\rProcessing reviews:  85%|████████▌ | 807/949 [1:06:08<08:19,  3.52s/batch]"
          ]
        },
        {
          "name": "stdout",
          "output_type": "stream",
          "text": [
            "2/2 [==============================] - 2s 824ms/step\n"
          ]
        },
        {
          "name": "stderr",
          "output_type": "stream",
          "text": [
            "\rProcessing reviews:  85%|████████▌ | 808/949 [1:06:10<07:26,  3.17s/batch]"
          ]
        },
        {
          "name": "stdout",
          "output_type": "stream",
          "text": [
            "2/2 [==============================] - 2s 1s/step\n"
          ]
        },
        {
          "name": "stderr",
          "output_type": "stream",
          "text": [
            "\rProcessing reviews:  85%|████████▌ | 809/949 [1:06:15<08:51,  3.79s/batch]"
          ]
        },
        {
          "name": "stdout",
          "output_type": "stream",
          "text": [
            "2/2 [==============================] - 2s 874ms/step\n"
          ]
        },
        {
          "name": "stderr",
          "output_type": "stream",
          "text": [
            "\rProcessing reviews:  85%|████████▌ | 810/949 [1:06:18<08:01,  3.46s/batch]"
          ]
        },
        {
          "name": "stdout",
          "output_type": "stream",
          "text": [
            "2/2 [==============================] - 3s 1s/step\n"
          ]
        },
        {
          "name": "stderr",
          "output_type": "stream",
          "text": [
            "\rProcessing reviews:  85%|████████▌ | 811/949 [1:06:23<09:12,  4.00s/batch]"
          ]
        },
        {
          "name": "stdout",
          "output_type": "stream",
          "text": [
            "2/2 [==============================] - 3s 1s/step\n"
          ]
        },
        {
          "name": "stderr",
          "output_type": "stream",
          "text": [
            "\rProcessing reviews:  86%|████████▌ | 812/949 [1:06:27<08:59,  3.94s/batch]"
          ]
        },
        {
          "name": "stdout",
          "output_type": "stream",
          "text": [
            "2/2 [==============================] - 4s 2s/step\n"
          ]
        },
        {
          "name": "stderr",
          "output_type": "stream",
          "text": [
            "\rProcessing reviews:  86%|████████▌ | 813/949 [1:06:32<09:52,  4.36s/batch]"
          ]
        },
        {
          "name": "stdout",
          "output_type": "stream",
          "text": [
            "2/2 [==============================] - 2s 1s/step\n"
          ]
        },
        {
          "name": "stderr",
          "output_type": "stream",
          "text": [
            "\rProcessing reviews:  86%|████████▌ | 814/949 [1:06:36<09:11,  4.09s/batch]"
          ]
        },
        {
          "name": "stdout",
          "output_type": "stream",
          "text": [
            "2/2 [==============================] - 3s 2s/step\n"
          ]
        },
        {
          "name": "stderr",
          "output_type": "stream",
          "text": [
            "\rProcessing reviews:  86%|████████▌ | 815/949 [1:06:41<09:57,  4.46s/batch]"
          ]
        },
        {
          "name": "stdout",
          "output_type": "stream",
          "text": [
            "2/2 [==============================] - 2s 961ms/step\n"
          ]
        },
        {
          "name": "stderr",
          "output_type": "stream",
          "text": [
            "\rProcessing reviews:  86%|████████▌ | 816/949 [1:06:44<08:48,  3.97s/batch]"
          ]
        },
        {
          "name": "stdout",
          "output_type": "stream",
          "text": [
            "2/2 [==============================] - 3s 1s/step\n"
          ]
        },
        {
          "name": "stderr",
          "output_type": "stream",
          "text": [
            "\rProcessing reviews:  86%|████████▌ | 817/949 [1:06:49<09:35,  4.36s/batch]"
          ]
        },
        {
          "name": "stdout",
          "output_type": "stream",
          "text": [
            "2/2 [==============================] - 4s 2s/step\n"
          ]
        },
        {
          "name": "stderr",
          "output_type": "stream",
          "text": [
            "\rProcessing reviews:  86%|████████▌ | 818/949 [1:06:54<10:08,  4.65s/batch]"
          ]
        },
        {
          "name": "stdout",
          "output_type": "stream",
          "text": [
            "2/2 [==============================] - 2s 1s/step\n"
          ]
        },
        {
          "name": "stderr",
          "output_type": "stream",
          "text": [
            "\rProcessing reviews:  86%|████████▋ | 819/949 [1:06:58<09:07,  4.21s/batch]"
          ]
        },
        {
          "name": "stdout",
          "output_type": "stream",
          "text": [
            "2/2 [==============================] - 3s 1s/step\n"
          ]
        },
        {
          "name": "stderr",
          "output_type": "stream",
          "text": [
            "\rProcessing reviews:  86%|████████▋ | 820/949 [1:07:01<08:43,  4.06s/batch]"
          ]
        },
        {
          "name": "stdout",
          "output_type": "stream",
          "text": [
            "2/2 [==============================] - 2s 1s/step\n"
          ]
        },
        {
          "name": "stderr",
          "output_type": "stream",
          "text": [
            "\rProcessing reviews:  87%|████████▋ | 821/949 [1:07:07<09:25,  4.42s/batch]"
          ]
        },
        {
          "name": "stdout",
          "output_type": "stream",
          "text": [
            "2/2 [==============================] - 3s 2s/step\n"
          ]
        },
        {
          "name": "stderr",
          "output_type": "stream",
          "text": [
            "\rProcessing reviews:  87%|████████▋ | 822/949 [1:07:11<09:23,  4.43s/batch]"
          ]
        },
        {
          "name": "stdout",
          "output_type": "stream",
          "text": [
            "2/2 [==============================] - 2s 948ms/step\n"
          ]
        },
        {
          "name": "stderr",
          "output_type": "stream",
          "text": [
            "\rProcessing reviews:  87%|████████▋ | 823/949 [1:07:14<08:14,  3.92s/batch]"
          ]
        },
        {
          "name": "stdout",
          "output_type": "stream",
          "text": [
            "2/2 [==============================] - 2s 780ms/step\n"
          ]
        },
        {
          "name": "stderr",
          "output_type": "stream",
          "text": [
            "\rProcessing reviews:  87%|████████▋ | 824/949 [1:07:16<07:24,  3.55s/batch]"
          ]
        },
        {
          "name": "stdout",
          "output_type": "stream",
          "text": [
            "2/2 [==============================] - 3s 1s/step\n"
          ]
        },
        {
          "name": "stderr",
          "output_type": "stream",
          "text": [
            "\rProcessing reviews:  87%|████████▋ | 825/949 [1:07:20<07:28,  3.62s/batch]"
          ]
        },
        {
          "name": "stdout",
          "output_type": "stream",
          "text": [
            "2/2 [==============================] - 2s 992ms/step\n"
          ]
        },
        {
          "name": "stderr",
          "output_type": "stream",
          "text": [
            "\rProcessing reviews:  87%|████████▋ | 826/949 [1:07:25<08:25,  4.11s/batch]"
          ]
        },
        {
          "name": "stdout",
          "output_type": "stream",
          "text": [
            "2/2 [==============================] - 6s 3s/step\n"
          ]
        },
        {
          "name": "stderr",
          "output_type": "stream",
          "text": [
            "\rProcessing reviews:  87%|████████▋ | 827/949 [1:07:33<10:12,  5.02s/batch]"
          ]
        },
        {
          "name": "stdout",
          "output_type": "stream",
          "text": [
            "2/2 [==============================] - 3s 2s/step\n"
          ]
        },
        {
          "name": "stderr",
          "output_type": "stream",
          "text": [
            "\rProcessing reviews:  87%|████████▋ | 828/949 [1:07:37<09:54,  4.91s/batch]"
          ]
        },
        {
          "name": "stdout",
          "output_type": "stream",
          "text": [
            "2/2 [==============================] - 4s 2s/step\n"
          ]
        },
        {
          "name": "stderr",
          "output_type": "stream",
          "text": [
            "\rProcessing reviews:  87%|████████▋ | 829/949 [1:07:43<10:05,  5.04s/batch]"
          ]
        },
        {
          "name": "stdout",
          "output_type": "stream",
          "text": [
            "2/2 [==============================] - 4s 2s/step\n"
          ]
        },
        {
          "name": "stderr",
          "output_type": "stream",
          "text": [
            "\rProcessing reviews:  87%|████████▋ | 830/949 [1:07:53<13:11,  6.65s/batch]"
          ]
        },
        {
          "name": "stdout",
          "output_type": "stream",
          "text": [
            "2/2 [==============================] - 4s 2s/step\n"
          ]
        },
        {
          "name": "stderr",
          "output_type": "stream",
          "text": [
            "\rProcessing reviews:  88%|████████▊ | 831/949 [1:07:59<12:32,  6.38s/batch]"
          ]
        },
        {
          "name": "stdout",
          "output_type": "stream",
          "text": [
            "2/2 [==============================] - 3s 2s/step\n"
          ]
        },
        {
          "name": "stderr",
          "output_type": "stream",
          "text": [
            "\rProcessing reviews:  88%|████████▊ | 832/949 [1:08:04<11:48,  6.06s/batch]"
          ]
        },
        {
          "name": "stdout",
          "output_type": "stream",
          "text": [
            "2/2 [==============================] - 3s 2s/step\n"
          ]
        },
        {
          "name": "stderr",
          "output_type": "stream",
          "text": [
            "\rProcessing reviews:  88%|████████▊ | 833/949 [1:08:09<11:17,  5.84s/batch]"
          ]
        },
        {
          "name": "stdout",
          "output_type": "stream",
          "text": [
            "2/2 [==============================] - 2s 1s/step\n"
          ]
        },
        {
          "name": "stderr",
          "output_type": "stream",
          "text": [
            "\rProcessing reviews:  88%|████████▊ | 834/949 [1:08:15<10:51,  5.67s/batch]"
          ]
        },
        {
          "name": "stdout",
          "output_type": "stream",
          "text": [
            "2/2 [==============================] - 2s 977ms/step\n"
          ]
        },
        {
          "name": "stderr",
          "output_type": "stream",
          "text": [
            "\rProcessing reviews:  88%|████████▊ | 835/949 [1:08:20<10:31,  5.54s/batch]"
          ]
        },
        {
          "name": "stdout",
          "output_type": "stream",
          "text": [
            "2/2 [==============================] - 4s 2s/step\n"
          ]
        },
        {
          "name": "stderr",
          "output_type": "stream",
          "text": [
            "\rProcessing reviews:  88%|████████▊ | 836/949 [1:08:25<10:07,  5.38s/batch]"
          ]
        },
        {
          "name": "stdout",
          "output_type": "stream",
          "text": [
            "2/2 [==============================] - 3s 1s/step\n"
          ]
        },
        {
          "name": "stderr",
          "output_type": "stream",
          "text": [
            "\rProcessing reviews:  88%|████████▊ | 837/949 [1:08:30<09:59,  5.36s/batch]"
          ]
        },
        {
          "name": "stdout",
          "output_type": "stream",
          "text": [
            "2/2 [==============================] - 2s 913ms/step\n"
          ]
        },
        {
          "name": "stderr",
          "output_type": "stream",
          "text": [
            "\rProcessing reviews:  88%|████████▊ | 838/949 [1:08:33<08:33,  4.62s/batch]"
          ]
        },
        {
          "name": "stdout",
          "output_type": "stream",
          "text": [
            "2/2 [==============================] - 2s 996ms/step\n"
          ]
        },
        {
          "name": "stderr",
          "output_type": "stream",
          "text": [
            "\rProcessing reviews:  88%|████████▊ | 839/949 [1:08:36<07:31,  4.11s/batch]"
          ]
        },
        {
          "name": "stdout",
          "output_type": "stream",
          "text": [
            "2/2 [==============================] - 2s 813ms/step\n"
          ]
        },
        {
          "name": "stderr",
          "output_type": "stream",
          "text": [
            "\rProcessing reviews:  89%|████████▊ | 840/949 [1:08:38<06:29,  3.57s/batch]"
          ]
        },
        {
          "name": "stdout",
          "output_type": "stream",
          "text": [
            "2/2 [==============================] - 1s 672ms/step\n"
          ]
        },
        {
          "name": "stderr",
          "output_type": "stream",
          "text": [
            "\rProcessing reviews:  89%|████████▊ | 841/949 [1:08:40<05:33,  3.09s/batch]"
          ]
        },
        {
          "name": "stdout",
          "output_type": "stream",
          "text": [
            "2/2 [==============================] - 4s 2s/step\n"
          ]
        },
        {
          "name": "stderr",
          "output_type": "stream",
          "text": [
            "\rProcessing reviews:  89%|████████▊ | 842/949 [1:08:46<06:42,  3.76s/batch]"
          ]
        },
        {
          "name": "stdout",
          "output_type": "stream",
          "text": [
            "2/2 [==============================] - 2s 853ms/step\n"
          ]
        },
        {
          "name": "stderr",
          "output_type": "stream",
          "text": [
            "\rProcessing reviews:  89%|████████▉ | 843/949 [1:08:48<06:06,  3.45s/batch]"
          ]
        },
        {
          "name": "stdout",
          "output_type": "stream",
          "text": [
            "2/2 [==============================] - 4s 2s/step\n"
          ]
        },
        {
          "name": "stderr",
          "output_type": "stream",
          "text": [
            "\rProcessing reviews:  89%|████████▉ | 844/949 [1:08:54<07:00,  4.00s/batch]"
          ]
        },
        {
          "name": "stdout",
          "output_type": "stream",
          "text": [
            "2/2 [==============================] - 5s 2s/step\n"
          ]
        },
        {
          "name": "stderr",
          "output_type": "stream",
          "text": [
            "\rProcessing reviews:  89%|████████▉ | 845/949 [1:09:04<10:15,  5.92s/batch]"
          ]
        },
        {
          "name": "stdout",
          "output_type": "stream",
          "text": [
            "2/2 [==============================] - 2s 733ms/step\n"
          ]
        },
        {
          "name": "stderr",
          "output_type": "stream",
          "text": [
            "\rProcessing reviews:  89%|████████▉ | 846/949 [1:09:07<08:29,  4.95s/batch]"
          ]
        },
        {
          "name": "stdout",
          "output_type": "stream",
          "text": [
            "2/2 [==============================] - 6s 3s/step\n"
          ]
        },
        {
          "name": "stderr",
          "output_type": "stream",
          "text": [
            "\rProcessing reviews:  89%|████████▉ | 847/949 [1:09:17<11:12,  6.59s/batch]"
          ]
        },
        {
          "name": "stdout",
          "output_type": "stream",
          "text": [
            "2/2 [==============================] - 4s 2s/step\n"
          ]
        },
        {
          "name": "stderr",
          "output_type": "stream",
          "text": [
            "\rProcessing reviews:  89%|████████▉ | 848/949 [1:09:23<10:44,  6.38s/batch]"
          ]
        },
        {
          "name": "stdout",
          "output_type": "stream",
          "text": [
            "2/2 [==============================] - 4s 2s/step\n"
          ]
        },
        {
          "name": "stderr",
          "output_type": "stream",
          "text": [
            "\rProcessing reviews:  89%|████████▉ | 849/949 [1:09:28<10:01,  6.02s/batch]"
          ]
        },
        {
          "name": "stdout",
          "output_type": "stream",
          "text": [
            "2/2 [==============================] - 3s 1s/step\n"
          ]
        },
        {
          "name": "stderr",
          "output_type": "stream",
          "text": [
            "\rProcessing reviews:  90%|████████▉ | 850/949 [1:09:34<09:35,  5.82s/batch]"
          ]
        },
        {
          "name": "stdout",
          "output_type": "stream",
          "text": [
            "2/2 [==============================] - 3s 1s/step\n"
          ]
        },
        {
          "name": "stderr",
          "output_type": "stream",
          "text": [
            "\rProcessing reviews:  90%|████████▉ | 851/949 [1:09:37<08:32,  5.23s/batch]"
          ]
        },
        {
          "name": "stdout",
          "output_type": "stream",
          "text": [
            "2/2 [==============================] - 2s 1s/step\n"
          ]
        },
        {
          "name": "stderr",
          "output_type": "stream",
          "text": [
            "\rProcessing reviews:  90%|████████▉ | 852/949 [1:09:43<08:29,  5.26s/batch]"
          ]
        },
        {
          "name": "stdout",
          "output_type": "stream",
          "text": [
            "2/2 [==============================] - 2s 1s/step\n"
          ]
        },
        {
          "name": "stderr",
          "output_type": "stream",
          "text": [
            "\rProcessing reviews:  90%|████████▉ | 853/949 [1:09:48<08:26,  5.28s/batch]"
          ]
        },
        {
          "name": "stdout",
          "output_type": "stream",
          "text": [
            "2/2 [==============================] - 2s 954ms/step\n"
          ]
        },
        {
          "name": "stderr",
          "output_type": "stream",
          "text": [
            "\rProcessing reviews:  90%|████████▉ | 854/949 [1:09:51<07:08,  4.51s/batch]"
          ]
        },
        {
          "name": "stdout",
          "output_type": "stream",
          "text": [
            "2/2 [==============================] - 3s 1s/step\n"
          ]
        },
        {
          "name": "stderr",
          "output_type": "stream",
          "text": [
            "\rProcessing reviews:  90%|█████████ | 855/949 [1:09:56<07:26,  4.75s/batch]"
          ]
        },
        {
          "name": "stdout",
          "output_type": "stream",
          "text": [
            "2/2 [==============================] - 1s 721ms/step\n"
          ]
        },
        {
          "name": "stderr",
          "output_type": "stream",
          "text": [
            "\rProcessing reviews:  90%|█████████ | 856/949 [1:09:58<06:11,  3.99s/batch]"
          ]
        },
        {
          "name": "stdout",
          "output_type": "stream",
          "text": [
            "2/2 [==============================] - 2s 1s/step\n"
          ]
        },
        {
          "name": "stderr",
          "output_type": "stream",
          "text": [
            "\rProcessing reviews:  90%|█████████ | 857/949 [1:10:02<05:51,  3.82s/batch]"
          ]
        },
        {
          "name": "stdout",
          "output_type": "stream",
          "text": [
            "2/2 [==============================] - 2s 918ms/step\n"
          ]
        },
        {
          "name": "stderr",
          "output_type": "stream",
          "text": [
            "\rProcessing reviews:  90%|█████████ | 858/949 [1:10:04<05:16,  3.47s/batch]"
          ]
        },
        {
          "name": "stdout",
          "output_type": "stream",
          "text": [
            "2/2 [==============================] - 2s 965ms/step\n"
          ]
        },
        {
          "name": "stderr",
          "output_type": "stream",
          "text": [
            "\rProcessing reviews:  91%|█████████ | 859/949 [1:10:07<04:55,  3.28s/batch]"
          ]
        },
        {
          "name": "stdout",
          "output_type": "stream",
          "text": [
            "2/2 [==============================] - 3s 2s/step\n"
          ]
        },
        {
          "name": "stderr",
          "output_type": "stream",
          "text": [
            "\rProcessing reviews:  91%|█████████ | 860/949 [1:10:12<05:22,  3.63s/batch]"
          ]
        },
        {
          "name": "stdout",
          "output_type": "stream",
          "text": [
            "2/2 [==============================] - 4s 2s/step\n"
          ]
        },
        {
          "name": "stderr",
          "output_type": "stream",
          "text": [
            "\rProcessing reviews:  91%|█████████ | 861/949 [1:10:17<06:12,  4.23s/batch]"
          ]
        },
        {
          "name": "stdout",
          "output_type": "stream",
          "text": [
            "2/2 [==============================] - 2s 1s/step\n"
          ]
        },
        {
          "name": "stderr",
          "output_type": "stream",
          "text": [
            "\rProcessing reviews:  91%|█████████ | 862/949 [1:10:20<05:37,  3.88s/batch]"
          ]
        },
        {
          "name": "stdout",
          "output_type": "stream",
          "text": [
            "2/2 [==============================] - 6s 3s/step\n"
          ]
        },
        {
          "name": "stderr",
          "output_type": "stream",
          "text": [
            "\rProcessing reviews:  91%|█████████ | 863/949 [1:10:28<07:10,  5.01s/batch]"
          ]
        },
        {
          "name": "stdout",
          "output_type": "stream",
          "text": [
            "2/2 [==============================] - 2s 1s/step\n"
          ]
        },
        {
          "name": "stderr",
          "output_type": "stream",
          "text": [
            "\rProcessing reviews:  91%|█████████ | 864/949 [1:10:31<06:24,  4.52s/batch]"
          ]
        },
        {
          "name": "stdout",
          "output_type": "stream",
          "text": [
            "2/2 [==============================] - 4s 2s/step\n"
          ]
        },
        {
          "name": "stderr",
          "output_type": "stream",
          "text": [
            "\rProcessing reviews:  91%|█████████ | 865/949 [1:10:37<06:42,  4.79s/batch]"
          ]
        },
        {
          "name": "stdout",
          "output_type": "stream",
          "text": [
            "2/2 [==============================] - 3s 1s/step\n"
          ]
        },
        {
          "name": "stderr",
          "output_type": "stream",
          "text": [
            "\rProcessing reviews:  91%|█████████▏| 866/949 [1:10:42<06:51,  4.96s/batch]"
          ]
        },
        {
          "name": "stdout",
          "output_type": "stream",
          "text": [
            "2/2 [==============================] - 2s 1s/step\n"
          ]
        },
        {
          "name": "stderr",
          "output_type": "stream",
          "text": [
            "\rProcessing reviews:  91%|█████████▏| 867/949 [1:10:47<06:53,  5.05s/batch]"
          ]
        },
        {
          "name": "stdout",
          "output_type": "stream",
          "text": [
            "2/2 [==============================] - 2s 977ms/step\n"
          ]
        },
        {
          "name": "stderr",
          "output_type": "stream",
          "text": [
            "\rProcessing reviews:  91%|█████████▏| 868/949 [1:10:50<05:58,  4.43s/batch]"
          ]
        },
        {
          "name": "stdout",
          "output_type": "stream",
          "text": [
            "2/2 [==============================] - 6s 3s/step\n"
          ]
        },
        {
          "name": "stderr",
          "output_type": "stream",
          "text": [
            "\rProcessing reviews:  92%|█████████▏| 869/949 [1:11:01<08:19,  6.24s/batch]"
          ]
        },
        {
          "name": "stdout",
          "output_type": "stream",
          "text": [
            "2/2 [==============================] - 2s 1s/step\n"
          ]
        },
        {
          "name": "stderr",
          "output_type": "stream",
          "text": [
            "\rProcessing reviews:  92%|█████████▏| 870/949 [1:11:04<06:58,  5.30s/batch]"
          ]
        },
        {
          "name": "stdout",
          "output_type": "stream",
          "text": [
            "2/2 [==============================] - 4s 2s/step\n"
          ]
        },
        {
          "name": "stderr",
          "output_type": "stream",
          "text": [
            "\rProcessing reviews:  92%|█████████▏| 871/949 [1:11:09<06:54,  5.31s/batch]"
          ]
        },
        {
          "name": "stdout",
          "output_type": "stream",
          "text": [
            "2/2 [==============================] - 3s 1s/step\n"
          ]
        },
        {
          "name": "stderr",
          "output_type": "stream",
          "text": [
            "\rProcessing reviews:  92%|█████████▏| 872/949 [1:11:15<06:47,  5.30s/batch]"
          ]
        },
        {
          "name": "stdout",
          "output_type": "stream",
          "text": [
            "2/2 [==============================] - 2s 853ms/step\n"
          ]
        },
        {
          "name": "stderr",
          "output_type": "stream",
          "text": [
            "\rProcessing reviews:  92%|█████████▏| 873/949 [1:11:17<05:44,  4.53s/batch]"
          ]
        },
        {
          "name": "stdout",
          "output_type": "stream",
          "text": [
            "2/2 [==============================] - 1s 738ms/step\n"
          ]
        },
        {
          "name": "stderr",
          "output_type": "stream",
          "text": [
            "\rProcessing reviews:  92%|█████████▏| 874/949 [1:11:20<04:59,  4.00s/batch]"
          ]
        },
        {
          "name": "stdout",
          "output_type": "stream",
          "text": [
            "2/2 [==============================] - 2s 1s/step\n"
          ]
        },
        {
          "name": "stderr",
          "output_type": "stream",
          "text": [
            "\rProcessing reviews:  92%|█████████▏| 875/949 [1:11:25<05:25,  4.40s/batch]"
          ]
        },
        {
          "name": "stdout",
          "output_type": "stream",
          "text": [
            "2/2 [==============================] - 4s 2s/step\n"
          ]
        },
        {
          "name": "stderr",
          "output_type": "stream",
          "text": [
            "\rProcessing reviews:  92%|█████████▏| 876/949 [1:11:31<05:46,  4.75s/batch]"
          ]
        },
        {
          "name": "stdout",
          "output_type": "stream",
          "text": [
            "2/2 [==============================] - 1s 760ms/step\n"
          ]
        },
        {
          "name": "stderr",
          "output_type": "stream",
          "text": [
            "\rProcessing reviews:  92%|█████████▏| 877/949 [1:11:34<04:52,  4.07s/batch]"
          ]
        },
        {
          "name": "stdout",
          "output_type": "stream",
          "text": [
            "2/2 [==============================] - 3s 2s/step\n"
          ]
        },
        {
          "name": "stderr",
          "output_type": "stream",
          "text": [
            "\rProcessing reviews:  93%|█████████▎| 878/949 [1:11:39<05:15,  4.45s/batch]"
          ]
        },
        {
          "name": "stdout",
          "output_type": "stream",
          "text": [
            "2/2 [==============================] - 6s 3s/step\n"
          ]
        },
        {
          "name": "stderr",
          "output_type": "stream",
          "text": [
            "\rProcessing reviews:  93%|█████████▎| 879/949 [1:11:49<07:16,  6.24s/batch]"
          ]
        },
        {
          "name": "stdout",
          "output_type": "stream",
          "text": [
            "2/2 [==============================] - 3s 2s/step\n"
          ]
        },
        {
          "name": "stderr",
          "output_type": "stream",
          "text": [
            "\rProcessing reviews:  93%|█████████▎| 880/949 [1:11:53<06:26,  5.61s/batch]"
          ]
        },
        {
          "name": "stdout",
          "output_type": "stream",
          "text": [
            "2/2 [==============================] - 2s 883ms/step\n"
          ]
        },
        {
          "name": "stderr",
          "output_type": "stream",
          "text": [
            "\rProcessing reviews:  93%|█████████▎| 881/949 [1:11:56<05:18,  4.68s/batch]"
          ]
        },
        {
          "name": "stdout",
          "output_type": "stream",
          "text": [
            "2/2 [==============================] - 1s 745ms/step\n"
          ]
        },
        {
          "name": "stderr",
          "output_type": "stream",
          "text": [
            "\rProcessing reviews:  93%|█████████▎| 882/949 [1:11:58<04:22,  3.92s/batch]"
          ]
        },
        {
          "name": "stdout",
          "output_type": "stream",
          "text": [
            "2/2 [==============================] - 1s 666ms/step\n"
          ]
        },
        {
          "name": "stderr",
          "output_type": "stream",
          "text": [
            "\rProcessing reviews:  93%|█████████▎| 883/949 [1:12:01<03:54,  3.56s/batch]"
          ]
        },
        {
          "name": "stdout",
          "output_type": "stream",
          "text": [
            "2/2 [==============================] - 3s 2s/step\n"
          ]
        },
        {
          "name": "stderr",
          "output_type": "stream",
          "text": [
            "\rProcessing reviews:  93%|█████████▎| 884/949 [1:12:06<04:26,  4.09s/batch]"
          ]
        },
        {
          "name": "stdout",
          "output_type": "stream",
          "text": [
            "2/2 [==============================] - 2s 1s/step\n"
          ]
        },
        {
          "name": "stderr",
          "output_type": "stream",
          "text": [
            "\rProcessing reviews:  93%|█████████▎| 885/949 [1:12:09<04:04,  3.83s/batch]"
          ]
        },
        {
          "name": "stdout",
          "output_type": "stream",
          "text": [
            "2/2 [==============================] - 3s 1s/step\n"
          ]
        },
        {
          "name": "stderr",
          "output_type": "stream",
          "text": [
            "\rProcessing reviews:  93%|█████████▎| 886/949 [1:12:15<04:29,  4.28s/batch]"
          ]
        },
        {
          "name": "stdout",
          "output_type": "stream",
          "text": [
            "2/2 [==============================] - 2s 815ms/step\n"
          ]
        },
        {
          "name": "stderr",
          "output_type": "stream",
          "text": [
            "\rProcessing reviews:  93%|█████████▎| 887/949 [1:12:17<03:52,  3.74s/batch]"
          ]
        },
        {
          "name": "stdout",
          "output_type": "stream",
          "text": [
            "2/2 [==============================] - 4s 2s/step\n"
          ]
        },
        {
          "name": "stderr",
          "output_type": "stream",
          "text": [
            "\rProcessing reviews:  94%|█████████▎| 888/949 [1:12:22<04:16,  4.20s/batch]"
          ]
        },
        {
          "name": "stdout",
          "output_type": "stream",
          "text": [
            "2/2 [==============================] - 2s 1s/step\n"
          ]
        },
        {
          "name": "stderr",
          "output_type": "stream",
          "text": [
            "\rProcessing reviews:  94%|█████████▎| 889/949 [1:12:26<03:54,  3.90s/batch]"
          ]
        },
        {
          "name": "stdout",
          "output_type": "stream",
          "text": [
            "2/2 [==============================] - 3s 2s/step\n"
          ]
        },
        {
          "name": "stderr",
          "output_type": "stream",
          "text": [
            "\rProcessing reviews:  94%|█████████▍| 890/949 [1:12:30<04:04,  4.14s/batch]"
          ]
        },
        {
          "name": "stdout",
          "output_type": "stream",
          "text": [
            "2/2 [==============================] - 3s 1s/step\n"
          ]
        },
        {
          "name": "stderr",
          "output_type": "stream",
          "text": [
            "\rProcessing reviews:  94%|█████████▍| 891/949 [1:12:36<04:20,  4.49s/batch]"
          ]
        },
        {
          "name": "stdout",
          "output_type": "stream",
          "text": [
            "2/2 [==============================] - 2s 1s/step\n"
          ]
        },
        {
          "name": "stderr",
          "output_type": "stream",
          "text": [
            "\rProcessing reviews:  94%|█████████▍| 892/949 [1:12:39<03:49,  4.03s/batch]"
          ]
        },
        {
          "name": "stdout",
          "output_type": "stream",
          "text": [
            "2/2 [==============================] - 2s 934ms/step\n"
          ]
        },
        {
          "name": "stderr",
          "output_type": "stream",
          "text": [
            "\rProcessing reviews:  94%|█████████▍| 893/949 [1:12:41<03:25,  3.67s/batch]"
          ]
        },
        {
          "name": "stdout",
          "output_type": "stream",
          "text": [
            "2/2 [==============================] - 3s 2s/step\n"
          ]
        },
        {
          "name": "stderr",
          "output_type": "stream",
          "text": [
            "\rProcessing reviews:  94%|█████████▍| 894/949 [1:12:47<03:49,  4.17s/batch]"
          ]
        },
        {
          "name": "stdout",
          "output_type": "stream",
          "text": [
            "2/2 [==============================] - 3s 1s/step\n"
          ]
        },
        {
          "name": "stderr",
          "output_type": "stream",
          "text": [
            "\rProcessing reviews:  94%|█████████▍| 895/949 [1:12:52<04:02,  4.50s/batch]"
          ]
        },
        {
          "name": "stdout",
          "output_type": "stream",
          "text": [
            "2/2 [==============================] - 2s 864ms/step\n"
          ]
        },
        {
          "name": "stderr",
          "output_type": "stream",
          "text": [
            "\rProcessing reviews:  94%|█████████▍| 896/949 [1:12:55<03:27,  3.92s/batch]"
          ]
        },
        {
          "name": "stdout",
          "output_type": "stream",
          "text": [
            "2/2 [==============================] - 2s 896ms/step\n"
          ]
        },
        {
          "name": "stderr",
          "output_type": "stream",
          "text": [
            "\rProcessing reviews:  95%|█████████▍| 897/949 [1:12:57<03:06,  3.59s/batch]"
          ]
        },
        {
          "name": "stdout",
          "output_type": "stream",
          "text": [
            "2/2 [==============================] - 2s 974ms/step\n"
          ]
        },
        {
          "name": "stderr",
          "output_type": "stream",
          "text": [
            "\rProcessing reviews:  95%|█████████▍| 898/949 [1:13:03<03:29,  4.11s/batch]"
          ]
        },
        {
          "name": "stdout",
          "output_type": "stream",
          "text": [
            "2/2 [==============================] - 3s 2s/step\n"
          ]
        },
        {
          "name": "stderr",
          "output_type": "stream",
          "text": [
            "\rProcessing reviews:  95%|█████████▍| 899/949 [1:13:07<03:30,  4.21s/batch]"
          ]
        },
        {
          "name": "stdout",
          "output_type": "stream",
          "text": [
            "2/2 [==============================] - 2s 1s/step\n"
          ]
        },
        {
          "name": "stderr",
          "output_type": "stream",
          "text": [
            "\rProcessing reviews:  95%|█████████▍| 900/949 [1:13:12<03:41,  4.53s/batch]"
          ]
        },
        {
          "name": "stdout",
          "output_type": "stream",
          "text": [
            "2/2 [==============================] - 4s 2s/step\n"
          ]
        },
        {
          "name": "stderr",
          "output_type": "stream",
          "text": [
            "\rProcessing reviews:  95%|█████████▍| 901/949 [1:13:18<03:48,  4.75s/batch]"
          ]
        },
        {
          "name": "stdout",
          "output_type": "stream",
          "text": [
            "2/2 [==============================] - 2s 973ms/step\n"
          ]
        },
        {
          "name": "stderr",
          "output_type": "stream",
          "text": [
            "\rProcessing reviews:  95%|█████████▌| 902/949 [1:13:23<03:51,  4.92s/batch]"
          ]
        },
        {
          "name": "stdout",
          "output_type": "stream",
          "text": [
            "2/2 [==============================] - 4s 2s/step\n"
          ]
        },
        {
          "name": "stderr",
          "output_type": "stream",
          "text": [
            "\rProcessing reviews:  95%|█████████▌| 903/949 [1:13:28<03:52,  5.05s/batch]"
          ]
        },
        {
          "name": "stdout",
          "output_type": "stream",
          "text": [
            "2/2 [==============================] - 2s 1s/step\n"
          ]
        },
        {
          "name": "stderr",
          "output_type": "stream",
          "text": [
            "\rProcessing reviews:  95%|█████████▌| 904/949 [1:13:31<03:21,  4.47s/batch]"
          ]
        },
        {
          "name": "stdout",
          "output_type": "stream",
          "text": [
            "2/2 [==============================] - 2s 887ms/step\n"
          ]
        },
        {
          "name": "stderr",
          "output_type": "stream",
          "text": [
            "\rProcessing reviews:  95%|█████████▌| 905/949 [1:13:34<02:50,  3.89s/batch]"
          ]
        },
        {
          "name": "stdout",
          "output_type": "stream",
          "text": [
            "2/2 [==============================] - 1s 749ms/step\n"
          ]
        },
        {
          "name": "stderr",
          "output_type": "stream",
          "text": [
            "\rProcessing reviews:  95%|█████████▌| 906/949 [1:13:37<02:31,  3.52s/batch]"
          ]
        },
        {
          "name": "stdout",
          "output_type": "stream",
          "text": [
            "2/2 [==============================] - 3s 1s/step\n"
          ]
        },
        {
          "name": "stderr",
          "output_type": "stream",
          "text": [
            "\rProcessing reviews:  96%|█████████▌| 907/949 [1:13:41<02:33,  3.66s/batch]"
          ]
        },
        {
          "name": "stdout",
          "output_type": "stream",
          "text": [
            "2/2 [==============================] - 3s 1s/step\n"
          ]
        },
        {
          "name": "stderr",
          "output_type": "stream",
          "text": [
            "\rProcessing reviews:  96%|█████████▌| 908/949 [1:13:46<02:50,  4.16s/batch]"
          ]
        },
        {
          "name": "stdout",
          "output_type": "stream",
          "text": [
            "2/2 [==============================] - 2s 1s/step\n"
          ]
        },
        {
          "name": "stderr",
          "output_type": "stream",
          "text": [
            "\rProcessing reviews:  96%|█████████▌| 909/949 [1:13:49<02:33,  3.84s/batch]"
          ]
        },
        {
          "name": "stdout",
          "output_type": "stream",
          "text": [
            "2/2 [==============================] - 2s 1s/step\n"
          ]
        },
        {
          "name": "stderr",
          "output_type": "stream",
          "text": [
            "\rProcessing reviews:  96%|█████████▌| 910/949 [1:13:54<02:46,  4.28s/batch]"
          ]
        },
        {
          "name": "stdout",
          "output_type": "stream",
          "text": [
            "2/2 [==============================] - 5s 3s/step\n"
          ]
        },
        {
          "name": "stderr",
          "output_type": "stream",
          "text": [
            "\rProcessing reviews:  96%|█████████▌| 911/949 [1:14:01<03:12,  5.06s/batch]"
          ]
        },
        {
          "name": "stdout",
          "output_type": "stream",
          "text": [
            "2/2 [==============================] - 6s 3s/step\n"
          ]
        },
        {
          "name": "stderr",
          "output_type": "stream",
          "text": [
            "\rProcessing reviews:  96%|█████████▌| 912/949 [1:14:12<04:06,  6.67s/batch]"
          ]
        },
        {
          "name": "stdout",
          "output_type": "stream",
          "text": [
            "2/2 [==============================] - 2s 1s/step\n"
          ]
        },
        {
          "name": "stderr",
          "output_type": "stream",
          "text": [
            "\rProcessing reviews:  96%|█████████▌| 913/949 [1:14:17<03:44,  6.24s/batch]"
          ]
        },
        {
          "name": "stdout",
          "output_type": "stream",
          "text": [
            "2/2 [==============================] - 2s 919ms/step\n"
          ]
        },
        {
          "name": "stderr",
          "output_type": "stream",
          "text": [
            "\rProcessing reviews:  96%|█████████▋| 914/949 [1:14:22<03:28,  5.96s/batch]"
          ]
        },
        {
          "name": "stdout",
          "output_type": "stream",
          "text": [
            "2/2 [==============================] - 3s 2s/step\n"
          ]
        },
        {
          "name": "stderr",
          "output_type": "stream",
          "text": [
            "\rProcessing reviews:  96%|█████████▋| 915/949 [1:14:28<03:16,  5.78s/batch]"
          ]
        },
        {
          "name": "stdout",
          "output_type": "stream",
          "text": [
            "2/2 [==============================] - 3s 2s/step\n"
          ]
        },
        {
          "name": "stderr",
          "output_type": "stream",
          "text": [
            "\rProcessing reviews:  97%|█████████▋| 916/949 [1:14:33<03:06,  5.64s/batch]"
          ]
        },
        {
          "name": "stdout",
          "output_type": "stream",
          "text": [
            "2/2 [==============================] - 2s 936ms/step\n"
          ]
        },
        {
          "name": "stderr",
          "output_type": "stream",
          "text": [
            "\rProcessing reviews:  97%|█████████▋| 917/949 [1:14:38<02:57,  5.54s/batch]"
          ]
        },
        {
          "name": "stdout",
          "output_type": "stream",
          "text": [
            "2/2 [==============================] - 2s 1s/step\n"
          ]
        },
        {
          "name": "stderr",
          "output_type": "stream",
          "text": [
            "\rProcessing reviews:  97%|█████████▋| 918/949 [1:14:41<02:29,  4.84s/batch]"
          ]
        },
        {
          "name": "stdout",
          "output_type": "stream",
          "text": [
            "2/2 [==============================] - 2s 1s/step\n"
          ]
        },
        {
          "name": "stderr",
          "output_type": "stream",
          "text": [
            "\rProcessing reviews:  97%|█████████▋| 919/949 [1:14:45<02:09,  4.32s/batch]"
          ]
        },
        {
          "name": "stdout",
          "output_type": "stream",
          "text": [
            "2/2 [==============================] - 6s 3s/step\n"
          ]
        },
        {
          "name": "stderr",
          "output_type": "stream",
          "text": [
            "\rProcessing reviews:  97%|█████████▋| 920/949 [1:14:52<02:34,  5.34s/batch]"
          ]
        },
        {
          "name": "stdout",
          "output_type": "stream",
          "text": [
            "2/2 [==============================] - 5s 3s/step\n"
          ]
        },
        {
          "name": "stderr",
          "output_type": "stream",
          "text": [
            "\rProcessing reviews:  97%|█████████▋| 921/949 [1:14:59<02:40,  5.75s/batch]"
          ]
        },
        {
          "name": "stdout",
          "output_type": "stream",
          "text": [
            "2/2 [==============================] - 3s 2s/step\n"
          ]
        },
        {
          "name": "stderr",
          "output_type": "stream",
          "text": [
            "\rProcessing reviews:  97%|█████████▋| 922/949 [1:15:04<02:31,  5.62s/batch]"
          ]
        },
        {
          "name": "stdout",
          "output_type": "stream",
          "text": [
            "2/2 [==============================] - 5s 2s/step\n"
          ]
        },
        {
          "name": "stderr",
          "output_type": "stream",
          "text": [
            "\rProcessing reviews:  97%|█████████▋| 923/949 [1:15:15<03:04,  7.08s/batch]"
          ]
        },
        {
          "name": "stdout",
          "output_type": "stream",
          "text": [
            "2/2 [==============================] - 2s 1s/step\n"
          ]
        },
        {
          "name": "stderr",
          "output_type": "stream",
          "text": [
            "\rProcessing reviews:  97%|█████████▋| 924/949 [1:15:18<02:30,  6.01s/batch]"
          ]
        },
        {
          "name": "stdout",
          "output_type": "stream",
          "text": [
            "2/2 [==============================] - 6s 3s/step\n"
          ]
        },
        {
          "name": "stderr",
          "output_type": "stream",
          "text": [
            "\rProcessing reviews:  97%|█████████▋| 925/949 [1:15:29<02:56,  7.35s/batch]"
          ]
        },
        {
          "name": "stdout",
          "output_type": "stream",
          "text": [
            "2/2 [==============================] - 2s 1s/step\n"
          ]
        },
        {
          "name": "stderr",
          "output_type": "stream",
          "text": [
            "\rProcessing reviews:  98%|█████████▊| 926/949 [1:15:32<02:23,  6.25s/batch]"
          ]
        },
        {
          "name": "stdout",
          "output_type": "stream",
          "text": [
            "2/2 [==============================] - 5s 3s/step\n"
          ]
        },
        {
          "name": "stderr",
          "output_type": "stream",
          "text": [
            "\rProcessing reviews:  98%|█████████▊| 927/949 [1:15:43<02:45,  7.52s/batch]"
          ]
        },
        {
          "name": "stdout",
          "output_type": "stream",
          "text": [
            "2/2 [==============================] - 2s 977ms/step\n"
          ]
        },
        {
          "name": "stderr",
          "output_type": "stream",
          "text": [
            "\rProcessing reviews:  98%|█████████▊| 928/949 [1:15:46<02:09,  6.18s/batch]"
          ]
        },
        {
          "name": "stdout",
          "output_type": "stream",
          "text": [
            "2/2 [==============================] - 5s 2s/step\n"
          ]
        },
        {
          "name": "stderr",
          "output_type": "stream",
          "text": [
            "\rProcessing reviews:  98%|█████████▊| 929/949 [1:15:52<02:04,  6.25s/batch]"
          ]
        },
        {
          "name": "stdout",
          "output_type": "stream",
          "text": [
            "2/2 [==============================] - 4s 2s/step\n"
          ]
        },
        {
          "name": "stderr",
          "output_type": "stream",
          "text": [
            "\rProcessing reviews:  98%|█████████▊| 930/949 [1:15:58<01:53,  5.96s/batch]"
          ]
        },
        {
          "name": "stdout",
          "output_type": "stream",
          "text": [
            "2/2 [==============================] - 3s 1s/step\n"
          ]
        },
        {
          "name": "stderr",
          "output_type": "stream",
          "text": [
            "\rProcessing reviews:  98%|█████████▊| 931/949 [1:16:02<01:36,  5.37s/batch]"
          ]
        },
        {
          "name": "stdout",
          "output_type": "stream",
          "text": [
            "2/2 [==============================] - 2s 1s/step\n"
          ]
        },
        {
          "name": "stderr",
          "output_type": "stream",
          "text": [
            "\rProcessing reviews:  98%|█████████▊| 932/949 [1:16:05<01:19,  4.67s/batch]"
          ]
        },
        {
          "name": "stdout",
          "output_type": "stream",
          "text": [
            "2/2 [==============================] - 3s 1s/step\n"
          ]
        },
        {
          "name": "stderr",
          "output_type": "stream",
          "text": [
            "\rProcessing reviews:  98%|█████████▊| 933/949 [1:16:08<01:10,  4.38s/batch]"
          ]
        },
        {
          "name": "stdout",
          "output_type": "stream",
          "text": [
            "2/2 [==============================] - 6s 3s/step\n"
          ]
        },
        {
          "name": "stderr",
          "output_type": "stream",
          "text": [
            "\rProcessing reviews:  98%|█████████▊| 934/949 [1:16:19<01:32,  6.19s/batch]"
          ]
        },
        {
          "name": "stdout",
          "output_type": "stream",
          "text": [
            "2/2 [==============================] - 6s 3s/step\n"
          ]
        },
        {
          "name": "stderr",
          "output_type": "stream",
          "text": [
            "\rProcessing reviews:  99%|█████████▊| 935/949 [1:16:29<01:44,  7.48s/batch]"
          ]
        },
        {
          "name": "stdout",
          "output_type": "stream",
          "text": [
            "2/2 [==============================] - 2s 1s/step\n"
          ]
        },
        {
          "name": "stderr",
          "output_type": "stream",
          "text": [
            "\rProcessing reviews:  99%|█████████▊| 936/949 [1:16:33<01:20,  6.21s/batch]"
          ]
        },
        {
          "name": "stdout",
          "output_type": "stream",
          "text": [
            "2/2 [==============================] - 1s 737ms/step\n"
          ]
        },
        {
          "name": "stderr",
          "output_type": "stream",
          "text": [
            "\rProcessing reviews:  99%|█████████▊| 937/949 [1:16:35<00:59,  4.99s/batch]"
          ]
        },
        {
          "name": "stdout",
          "output_type": "stream",
          "text": [
            "2/2 [==============================] - 2s 909ms/step\n"
          ]
        },
        {
          "name": "stderr",
          "output_type": "stream",
          "text": [
            "\rProcessing reviews:  99%|█████████▉| 938/949 [1:16:37<00:47,  4.30s/batch]"
          ]
        },
        {
          "name": "stdout",
          "output_type": "stream",
          "text": [
            "2/2 [==============================] - 6s 3s/step\n"
          ]
        },
        {
          "name": "stderr",
          "output_type": "stream",
          "text": [
            "\rProcessing reviews:  99%|█████████▉| 939/949 [1:16:45<00:53,  5.38s/batch]"
          ]
        },
        {
          "name": "stdout",
          "output_type": "stream",
          "text": [
            "2/2 [==============================] - 3s 1s/step\n"
          ]
        },
        {
          "name": "stderr",
          "output_type": "stream",
          "text": [
            "\rProcessing reviews:  99%|█████████▉| 940/949 [1:16:49<00:43,  4.87s/batch]"
          ]
        },
        {
          "name": "stdout",
          "output_type": "stream",
          "text": [
            "2/2 [==============================] - 3s 1s/step\n"
          ]
        },
        {
          "name": "stderr",
          "output_type": "stream",
          "text": [
            "\rProcessing reviews:  99%|█████████▉| 941/949 [1:16:54<00:40,  5.00s/batch]"
          ]
        },
        {
          "name": "stdout",
          "output_type": "stream",
          "text": [
            "2/2 [==============================] - 1s 546ms/step\n"
          ]
        },
        {
          "name": "stderr",
          "output_type": "stream",
          "text": [
            "\rProcessing reviews:  99%|█████████▉| 942/949 [1:16:57<00:30,  4.32s/batch]"
          ]
        },
        {
          "name": "stdout",
          "output_type": "stream",
          "text": [
            "2/2 [==============================] - 6s 3s/step\n"
          ]
        },
        {
          "name": "stderr",
          "output_type": "stream",
          "text": [
            "\rProcessing reviews:  99%|█████████▉| 943/949 [1:17:08<00:37,  6.19s/batch]"
          ]
        },
        {
          "name": "stdout",
          "output_type": "stream",
          "text": [
            "2/2 [==============================] - 6s 3s/step\n"
          ]
        },
        {
          "name": "stderr",
          "output_type": "stream",
          "text": [
            "\rProcessing reviews:  99%|█████████▉| 944/949 [1:17:18<00:37,  7.47s/batch]"
          ]
        },
        {
          "name": "stdout",
          "output_type": "stream",
          "text": [
            "2/2 [==============================] - 6s 3s/step\n"
          ]
        },
        {
          "name": "stderr",
          "output_type": "stream",
          "text": [
            "\rProcessing reviews: 100%|█████████▉| 945/949 [1:17:28<00:33,  8.36s/batch]"
          ]
        },
        {
          "name": "stdout",
          "output_type": "stream",
          "text": [
            "2/2 [==============================] - 4s 2s/step\n"
          ]
        },
        {
          "name": "stderr",
          "output_type": "stream",
          "text": [
            "\rProcessing reviews: 100%|█████████▉| 946/949 [1:17:34<00:22,  7.58s/batch]"
          ]
        },
        {
          "name": "stdout",
          "output_type": "stream",
          "text": [
            "2/2 [==============================] - 2s 875ms/step\n"
          ]
        },
        {
          "name": "stderr",
          "output_type": "stream",
          "text": [
            "\rProcessing reviews: 100%|█████████▉| 947/949 [1:17:37<00:12,  6.12s/batch]"
          ]
        },
        {
          "name": "stdout",
          "output_type": "stream",
          "text": [
            "2/2 [==============================] - 5s 3s/step\n"
          ]
        },
        {
          "name": "stderr",
          "output_type": "stream",
          "text": [
            "\rProcessing reviews: 100%|█████████▉| 948/949 [1:17:47<00:07,  7.43s/batch]"
          ]
        },
        {
          "name": "stdout",
          "output_type": "stream",
          "text": [
            "1/1 [==============================] - 3s 3s/step\n"
          ]
        },
        {
          "name": "stderr",
          "output_type": "stream",
          "text": [
            "Processing reviews: 100%|██████████| 949/949 [1:17:51<00:00,  4.92s/batch]"
          ]
        },
        {
          "name": "stdout",
          "output_type": "stream",
          "text": [
            "sentiment\n",
            "Negative    38999\n",
            "Positive    21704\n",
            "Name: count, dtype: int64\n"
          ]
        },
        {
          "name": "stderr",
          "output_type": "stream",
          "text": [
            "\n",
            "<ipython-input-14-71cf0fc2eb74>:29: SettingWithCopyWarning: \n",
            "A value is trying to be set on a copy of a slice from a DataFrame.\n",
            "Try using .loc[row_indexer,col_indexer] = value instead\n",
            "\n",
            "See the caveats in the documentation: https://pandas.pydata.org/pandas-docs/stable/user_guide/indexing.html#returning-a-view-versus-a-copy\n",
            "  three_stars['sentiment'] = sentiment_results\n"
          ]
        }
      ],
      "source": [
        "# Initialize the tokenizer and model\n",
        "tokenizer = XLNetTokenizer.from_pretrained(\"dipawidia/xlnet-base-cased-product-review-sentiment-analysis\")\n",
        "model = TFXLNetForSequenceClassification.from_pretrained(\"dipawidia/xlnet-base-cased-product-review-sentiment-analysis\")\n",
        "\n",
        "# Function to analyze sentiment for a batch of reviews\n",
        "def get_sentiment_batch(reviews_batch):\n",
        "    tokenize_text = tokenizer(reviews_batch.tolist(), padding=True, truncation=True, return_tensors='tf', max_length=512)\n",
        "    preds = model.predict(dict(tokenize_text))['logits']\n",
        "    class_preds = np.argmax(tf.keras.layers.Softmax()(preds), axis=-1)\n",
        "    labels = ['Positive' if pred == 1 else 'Negative' for pred in class_preds]\n",
        "    return labels\n",
        "\n",
        "# Batch size for processing reviews\n",
        "batch_size = 64\n",
        "\n",
        "# Initialize the progress bar for batching\n",
        "num_batches = len(three_stars) // batch_size + (1 if len(three_stars) % batch_size != 0 else 0)\n",
        "\n",
        "# List to hold sentiment results\n",
        "sentiment_results = []\n",
        "\n",
        "# Process reviews in batches\n",
        "for i in tqdm(range(0, len(three_stars), batch_size), total=num_batches, desc=\"Processing reviews\", unit=\"batch\"):\n",
        "    batch = three_stars['review_text'][i:i + batch_size]  # Get the current batch of reviews\n",
        "    batch_sentiments = get_sentiment_batch(batch)  # Get sentiments for the current batch\n",
        "    sentiment_results.extend(batch_sentiments)  # Append results\n",
        "\n",
        "# Assign the sentiment results back to the dataframe\n",
        "three_stars['sentiment'] = sentiment_results\n",
        "\n",
        "# Count positive and negative sentiments\n",
        "sentiment_counts = three_stars['sentiment'].value_counts()\n",
        "print(sentiment_counts)"
      ]
    },
    {
      "cell_type": "code",
      "execution_count": null,
      "metadata": {
        "colab": {
          "base_uri": "https://localhost:8080/"
        },
        "id": "47nkajpjWo_6",
        "outputId": "bd70f0c7-8084-4b66-b4bb-c8adbab20e35"
      },
      "outputs": [
        {
          "name": "stdout",
          "output_type": "stream",
          "text": [
            "Number of positive sentiment reviews: 21704\n",
            "Positive Sentiment Examples:\n",
            "                                           review_text\n",
            "14   It’s super glossy and looks amazing but doesn’...\n",
            "40   This product is marketed as a sleeping mask bu...\n",
            "53   I think this is overpriced for what it is - li...\n",
            "92   Meh, I mean it’s ok. I like the Fenty skin one...\n",
            "112  I used to love this product. Because it feels ...\n"
          ]
        }
      ],
      "source": [
        "# Filter the reviews with positive sentiment\n",
        "positive_reviews_xlnet = three_stars[three_stars['sentiment'] == 'Positive']\n",
        "\n",
        "# Display the count of positive sentiment reviews\n",
        "print(f\"Number of positive sentiment reviews: {len(positive_reviews_xlnet)}\")\n",
        "\n",
        "print(\"Positive Sentiment Examples:\")\n",
        "print(positive_reviews_xlnet[['review_text']].head())"
      ]
    },
    {
      "cell_type": "markdown",
      "metadata": {
        "id": "RsQun374pIwX"
      },
      "source": [
        "____"
      ]
    },
    {
      "cell_type": "markdown",
      "metadata": {
        "id": "efS3LnagiNBY"
      },
      "source": [
        "## cardiffnlp/twitter-xlm-roberta-base-sentiment"
      ]
    },
    {
      "cell_type": "markdown",
      "metadata": {
        "id": "-Rbzu0ICpIwX"
      },
      "source": [
        "Below we use [cardiffnlp/twitter-xlm-roberta-base-sentiment](https://huggingface.co/cardiffnlp/twitter-xlm-roberta-base-sentiment) model from Hugging face to perform again sentiment analysis."
      ]
    },
    {
      "cell_type": "code",
      "execution_count": null,
      "metadata": {
        "colab": {
          "base_uri": "https://localhost:8080/",
          "height": 451,
          "referenced_widgets": [
            "adbf47ce455149c89e43244210fd9f60",
            "c4318d970d7d47eb998c966b3cf3731e",
            "36750e981842402496fd91d4cda52be0",
            "af2076f4eaef4788b60c3a4e7152d18f",
            "401901dca8564cb08ff7a8151968ab7a",
            "b67a96265e5645b8a9f1cde80b739f3c",
            "e7d399c8433741eba83daca7e34a595f",
            "280f29f782a3478e9c5323499399267a",
            "6df5f2dc95ba46139c9935de0dea8991",
            "932e2420250e47139fe974a61fd96332",
            "33d146aa5ad940358fa6e1715c97c160"
          ]
        },
        "id": "f-k9_1qsgHcj",
        "outputId": "940b1ee3-cb70-4cd6-837e-ecdb2ab371c8"
      },
      "outputs": [
        {
          "data": {
            "application/vnd.jupyter.widget-view+json": {
              "model_id": "adbf47ce455149c89e43244210fd9f60",
              "version_major": 2,
              "version_minor": 0
            },
            "text/plain": [
              "tf_model.h5:   0%|          | 0.00/1.11G [00:00<?, ?B/s]"
            ]
          },
          "metadata": {},
          "output_type": "display_data"
        },
        {
          "name": "stderr",
          "output_type": "stream",
          "text": [
            "All model checkpoint layers were used when initializing TFXLMRobertaForSequenceClassification.\n",
            "\n",
            "All the layers of TFXLMRobertaForSequenceClassification were initialized from the model checkpoint at cardiffnlp/twitter-xlm-roberta-base-sentiment.\n",
            "If your task is similar to the task the model of the checkpoint was trained on, you can already use TFXLMRobertaForSequenceClassification for predictions without further training.\n",
            "<ipython-input-23-32828c06af50>:31: SettingWithCopyWarning: \n",
            "A value is trying to be set on a copy of a slice from a DataFrame.\n",
            "Try using .loc[row_indexer,col_indexer] = value instead\n",
            "\n",
            "See the caveats in the documentation: https://pandas.pydata.org/pandas-docs/stable/user_guide/indexing.html#returning-a-view-versus-a-copy\n",
            "  three_stars['review_text'] = three_stars['review_text'].fillna('').astype(str)\n",
            "Processing reviews: 100%|██████████| 949/949 [22:42<00:00,  1.44s/batch]"
          ]
        },
        {
          "name": "stdout",
          "output_type": "stream",
          "text": [
            "sentiment\n",
            "Negative    34045\n",
            "Positive    21846\n",
            "Neutral      4812\n",
            "Name: count, dtype: int64\n"
          ]
        },
        {
          "name": "stderr",
          "output_type": "stream",
          "text": [
            "\n",
            "<ipython-input-23-32828c06af50>:46: SettingWithCopyWarning: \n",
            "A value is trying to be set on a copy of a slice from a DataFrame.\n",
            "Try using .loc[row_indexer,col_indexer] = value instead\n",
            "\n",
            "See the caveats in the documentation: https://pandas.pydata.org/pandas-docs/stable/user_guide/indexing.html#returning-a-view-versus-a-copy\n",
            "  three_stars['sentiment'] = sentiment_results\n"
          ]
        }
      ],
      "source": [
        "# Model path for the new model\n",
        "model_path = \"cardiffnlp/twitter-xlm-roberta-base-sentiment\"\n",
        "\n",
        "# Initialize the tokenizer and model\n",
        "tokenizer = AutoTokenizer.from_pretrained(model_path)\n",
        "model = TFAutoModelForSequenceClassification.from_pretrained(model_path)\n",
        "\n",
        "# Function to analyze sentiment for a batch of reviews\n",
        "def get_sentiment_batch(reviews_batch):\n",
        "    # Tokenize the batch of reviews\n",
        "    tokenize_text = tokenizer(reviews_batch.tolist(), padding=True, truncation=True, return_tensors='tf', max_length=512)\n",
        "\n",
        "    # Get predictions from the model\n",
        "    preds = model(**tokenize_text)['logits']\n",
        "\n",
        "    # Apply softmax to get class probabilities\n",
        "    scores = softmax(preds.numpy(), axis=-1)\n",
        "\n",
        "    # Get the class with the highest probability (0 = negative, 2 = positive)\n",
        "    class_preds = np.argmax(scores, axis=-1)\n",
        "\n",
        "    # Assign sentiment labels based on the class prediction\n",
        "    labels = ['Negative' if pred == 0 else 'Neutral' if pred == 1 else 'Positive' for pred in class_preds]\n",
        "\n",
        "    return labels\n",
        "\n",
        "# Batch size for processing reviews\n",
        "batch_size = 64\n",
        "\n",
        "# Ensure the reviews are valid strings and filter out NaN values\n",
        "three_stars['review_text'] = three_stars['review_text'].fillna('').astype(str)\n",
        "\n",
        "# Initialize the progress bar for batching\n",
        "num_batches = len(three_stars) // batch_size + (1 if len(three_stars) % batch_size != 0 else 0)\n",
        "\n",
        "# List to hold sentiment results\n",
        "sentiment_results = []\n",
        "\n",
        "# Process reviews in batches\n",
        "for i in tqdm(range(0, len(three_stars), batch_size), total=num_batches, desc=\"Processing reviews\", unit=\"batch\"):\n",
        "    batch = three_stars['review_text'][i:i + batch_size]  # Get the current batch of reviews\n",
        "    batch_sentiments = get_sentiment_batch(batch)  # Get sentiments for the current batch\n",
        "    sentiment_results.extend(batch_sentiments)  # Append results\n",
        "\n",
        "# Assign the sentiment results back to the dataframe\n",
        "three_stars['sentiment'] = sentiment_results\n",
        "\n",
        "# Count positive, negative, and neutral sentiments\n",
        "sentiment_counts = three_stars['sentiment'].value_counts()\n",
        "print(sentiment_counts)"
      ]
    },
    {
      "cell_type": "code",
      "execution_count": null,
      "metadata": {
        "colab": {
          "base_uri": "https://localhost:8080/"
        },
        "id": "qzcZLasbW88A",
        "outputId": "8f155dbf-42ad-4a29-e2f5-8a9d55c29eb1"
      },
      "outputs": [
        {
          "name": "stdout",
          "output_type": "stream",
          "text": [
            "Number of positive sentiment reviews: 21846\n",
            "Positive Sentiment Examples:\n",
            "                                          review_text product_id\n",
            "11  Does the gummy bear mask smell absolutely deli...    P420652\n",
            "30  ive tried my friend’s a few times and it does ...    P420652\n",
            "40  This product is marketed as a sleeping mask bu...    P420652\n",
            "53  I think this is overpriced for what it is - li...    P420652\n",
            "80  I tried it first from the mini version Sephora...    P420652\n"
          ]
        }
      ],
      "source": [
        "# Filter the positive sentiment reviews\n",
        "positive_reviews_cardiffnlp = three_stars[three_stars['sentiment'] == 'Positive']\n",
        "\n",
        "# Display the count of positive sentiment reviews\n",
        "print(f\"Number of positive sentiment reviews: {len(positive_reviews_cardiffnlp)}\")\n",
        "\n",
        "print(\"Positive Sentiment Examples:\")\n",
        "print(positive_reviews_cardiffnlp[['review_text', 'product_id']].head())"
      ]
    },
    {
      "cell_type": "markdown",
      "metadata": {
        "id": "7sUs_NbppIwX"
      },
      "source": [
        "____"
      ]
    },
    {
      "cell_type": "markdown",
      "metadata": {
        "id": "GO8k9nGLWS9c"
      },
      "source": [
        "## Intersect all positive reviews found"
      ]
    },
    {
      "cell_type": "code",
      "execution_count": null,
      "metadata": {
        "colab": {
          "base_uri": "https://localhost:8080/"
        },
        "id": "6B7fxHvfZaT5",
        "outputId": "e97229bf-cd37-412f-9930-dbe2fa1f8fc8"
      },
      "outputs": [
        {
          "name": "stdout",
          "output_type": "stream",
          "text": [
            "Number of intersected positive sentiment reviews: 14454\n",
            "  Unnamed: 0    author_id                                        review_text  \\\n",
            "0         55  46853998374  This product is marketed as a sleeping mask bu...   \n",
            "1         70   1660910909  I think this is overpriced for what it is - li...   \n",
            "2        115  43851162127  Meh, I mean it’s ok. I like the Fenty skin one...   \n",
            "3        137  33060342567  I used to love this product. Because it feels ...   \n",
            "4        282   1552661644  It’s a great mask for sealing in moisture to t...   \n",
            "\n",
            "                            review_title product_id  \\\n",
            "0            Wanted to love but couldnt.    P420652   \n",
            "1                                    NaN    P420652   \n",
            "2                                     ok    P420652   \n",
            "3                      Not bad, not good    P420652   \n",
            "4  Great when paired with other products    P420652   \n",
            "\n",
            "                                        product_name brand_name  price_usd  \n",
            "0  Lip Sleeping Mask Intense Hydration with Vitam...    LANEIGE       24.0  \n",
            "1  Lip Sleeping Mask Intense Hydration with Vitam...    LANEIGE       24.0  \n",
            "2  Lip Sleeping Mask Intense Hydration with Vitam...    LANEIGE       24.0  \n",
            "3  Lip Sleeping Mask Intense Hydration with Vitam...    LANEIGE       24.0  \n",
            "4  Lip Sleeping Mask Intense Hydration with Vitam...    LANEIGE       24.0  \n"
          ]
        }
      ],
      "source": [
        "# Merge the two positive review datasets based on the 'Unnamed: 0' column\n",
        "intersected_positive_reviews = pd.merge(\n",
        "    positive_reviews_xlnet[['Unnamed: 0', 'review_text', 'product_id', 'author_id', 'review_title',\n",
        "                            'product_name', 'brand_name', 'price_usd']],\n",
        "    positive_reviews_cardiffnlp[['Unnamed: 0', 'product_id', 'author_id', 'review_title',\n",
        "                                'product_name', 'brand_name', 'price_usd']],\n",
        "    on='Unnamed: 0',\n",
        "    how='inner'  # 'inner' ensures only matching rows are returned\n",
        ")\n",
        "\n",
        "# Rename columns to avoid conflicts (the '_x' and '_y' suffixes)\n",
        "intersected_positive_reviews.rename(columns={\n",
        "    'review_text_x': 'review_text',\n",
        "    'product_id_x': 'product_id',\n",
        "    'author_id_x': 'author_id',\n",
        "    'review_title_x': 'review_title',\n",
        "    'product_name_x': 'product_name',\n",
        "    'brand_name_x': 'brand_name',\n",
        "    'price_usd_x': 'price_usd'\n",
        "}, inplace=True)\n",
        "\n",
        "# Now drop the columns from the second dataframe that are not needed (with the '_y' suffix)\n",
        "intersected_positive_reviews.drop(columns=[col for col in intersected_positive_reviews.columns if col.endswith('_y')], inplace=True)\n",
        "\n",
        "# Select only desired columns\n",
        "final_columns = ['Unnamed: 0', 'author_id', 'review_text', 'review_title', 'product_id', 'product_name', 'brand_name', 'price_usd']\n",
        "intersected_positive_reviews = intersected_positive_reviews[final_columns]\n",
        "\n",
        "# Display the count of intersected positive sentiment reviews\n",
        "print(f\"Number of intersected positive sentiment reviews: {len(intersected_positive_reviews)}\")\n",
        "\n",
        "# Check the first few rows of the final dataframe\n",
        "print(intersected_positive_reviews.head())\n",
        "\n",
        "# Save the intersected positive reviews to a CSV file\n",
        "intersected_positive_reviews.to_csv('processed_data/3_star_positive_reviews.csv', index=False)"
      ]
    },
    {
      "cell_type": "markdown",
      "metadata": {
        "id": "kfGmdZa5pIwY"
      },
      "source": [
        "_____"
      ]
    },
    {
      "cell_type": "markdown",
      "metadata": {
        "id": "XS_KIagtpIwY"
      },
      "source": [
        "## Filtering and Combining Desired Reviews"
      ]
    },
    {
      "cell_type": "code",
      "execution_count": 18,
      "metadata": {
        "colab": {
          "base_uri": "https://localhost:8080/"
        },
        "id": "FX-EodTzpIwY",
        "outputId": "153fa43f-4866-413d-f1dc-60abc1ff723c"
      },
      "outputs": [
        {
          "output_type": "stream",
          "name": "stderr",
          "text": [
            "/usr/local/lib/python3.10/dist-packages/ipykernel/ipkernel.py:283: DeprecationWarning:\n",
            "\n",
            "`should_run_async` will not call `transform_cell` automatically in the future. Please pass the result to `transformed_cell` argument and any exception that happen during thetransform in `preprocessing_exc_tuple` in IPython 7.17 and above.\n",
            "\n"
          ]
        },
        {
          "output_type": "stream",
          "name": "stdout",
          "text": [
            "Total reviews to be used in frequent items: 679254\n"
          ]
        }
      ],
      "source": [
        "# Load the combined reviews data from the saved file\n",
        "combined_reviews_df = pd.read_csv('processed_data/combined_reviews.csv', encoding='utf-8', engine='python')\n",
        "\n",
        "# Filter the reviews with 4 and 5 stars\n",
        "frequent_items_reviews = combined_reviews_df[combined_reviews_df['rating'].isin([4, 5])]\n",
        "\n",
        "# Load the positive reviews from the sentiment analysis on the 3-star reviews\n",
        "positive_reviews_df = pd.read_csv('processed_data/3_star_positive_reviews.csv', encoding='utf-8', engine='python')\n",
        "\n",
        "# Combine the filtered 4 and 5-star reviews with the 3-star positive reviews\n",
        "frequent_items_reviews = pd.concat([frequent_items_reviews, positive_reviews_df], ignore_index=True)\n",
        "\n",
        "print(f\"Total reviews to be used in frequent items: {len(frequent_items_reviews)}\")"
      ]
    },
    {
      "cell_type": "code",
      "execution_count": 19,
      "metadata": {
        "colab": {
          "base_uri": "https://localhost:8080/"
        },
        "id": "lDkQWKm7pIwY",
        "outputId": "fc059deb-c256-45f7-9548-8fc3116b21e6"
      },
      "outputs": [
        {
          "output_type": "stream",
          "name": "stdout",
          "text": [
            "Total number of unique products in the reviews dataset: 1547\n"
          ]
        },
        {
          "output_type": "stream",
          "name": "stderr",
          "text": [
            "/usr/local/lib/python3.10/dist-packages/ipykernel/ipkernel.py:283: DeprecationWarning:\n",
            "\n",
            "`should_run_async` will not call `transform_cell` automatically in the future. Please pass the result to `transformed_cell` argument and any exception that happen during thetransform in `preprocessing_exc_tuple` in IPython 7.17 and above.\n",
            "\n"
          ]
        }
      ],
      "source": [
        "# Check how many unique products there are based on 'product_id'\n",
        "unique_products_count = frequent_items_reviews['product_id'].nunique()\n",
        "\n",
        "# Pretty printing the result\n",
        "print(f\"Total number of unique products in the reviews dataset: {unique_products_count}\")"
      ]
    },
    {
      "cell_type": "markdown",
      "metadata": {
        "id": "wfDjnsfUpIwY"
      },
      "source": [
        "# 4. Frequent Items"
      ]
    },
    {
      "cell_type": "code",
      "execution_count": 20,
      "metadata": {
        "colab": {
          "base_uri": "https://localhost:8080/",
          "height": 1000
        },
        "id": "ckUV5lovpIwY",
        "outputId": "3de717db-45c1-46ab-a568-04a1306fe01e"
      },
      "outputs": [
        {
          "output_type": "stream",
          "name": "stderr",
          "text": [
            "/usr/local/lib/python3.10/dist-packages/ipykernel/ipkernel.py:283: DeprecationWarning:\n",
            "\n",
            "`should_run_async` will not call `transform_cell` automatically in the future. Please pass the result to `transformed_cell` argument and any exception that happen during thetransform in `preprocessing_exc_tuple` in IPython 7.17 and above.\n",
            "\n"
          ]
        },
        {
          "output_type": "stream",
          "name": "stdout",
          "text": [
            "Users per group:\n",
            "2+ reviews: 114615 users\n",
            "3+ reviews: 53523 users\n",
            "4+ reviews: 29627 users\n",
            "5+ reviews: 18051 users\n",
            "6+ reviews: 12127 users\n",
            "7+ reviews: 8702 users\n",
            "8+ reviews: 6661 users\n",
            "9+ reviews: 5362 users\n",
            "10+ reviews: 4462 users\n",
            "20+ reviews: 1548 users\n",
            "30+ reviews: 808 users\n",
            "40+ reviews: 448 users\n",
            "50+ reviews: 252 users\n",
            "60+ reviews: 133 users\n",
            "70+ reviews: 75 users\n",
            "80+ reviews: 33 users\n",
            "90+ reviews: 13 users\n",
            "100+ reviews: 7 users\n",
            "110+ reviews: 6 users\n",
            "120+ reviews: 3 users\n",
            "130+ reviews: 1 users\n",
            "140+ reviews: 1 users\n",
            "150+ reviews: 1 users\n",
            "160+ reviews: 1 users\n",
            "170+ reviews: 1 users\n",
            "180+ reviews: 1 users\n",
            "190+ reviews: 1 users\n",
            "200+ reviews: 0 users\n"
          ]
        },
        {
          "output_type": "display_data",
          "data": {
            "text/plain": [
              "<Figure size 1200x600 with 1 Axes>"
            ],
            "image/png": "[encoded data removed]"
          },
          "metadata": {}
        }
      ],
      "source": [
        "# Step 1: Aggregate reviews by user\n",
        "user_review_counts = frequent_items_reviews.groupby('author_id')['product_id'].nunique()\n",
        "\n",
        "# Step 2: Define thresholds for grouping\n",
        "thresholds = list(range(2, 11)) + [20, 30] + list(range(40, user_review_counts.max() + 10, 10))\n",
        "\n",
        "# Step 3: Count users per group\n",
        "users_per_group = []\n",
        "\n",
        "for t in thresholds:\n",
        "    count = (user_review_counts >= t).sum()\n",
        "    users_per_group.append(count)\n",
        "\n",
        "# Step 4: Display results\n",
        "print(\"Users per group:\")\n",
        "for t, count in zip(thresholds, users_per_group):\n",
        "    print(f\"{t}+ reviews: {count} users\")\n",
        "\n",
        "plt.figure(figsize=(12, 6))\n",
        "plt.bar([str(t) + \"+\" for t in thresholds], users_per_group, color=\"skyblue\", alpha=0.8)\n",
        "plt.title(\"Number of Users per Group Based on Minimum Reviews\")\n",
        "plt.xlabel(\"Minimum Reviews per User\")\n",
        "plt.ylabel(\"Number of Users\")\n",
        "plt.xticks(rotation=45)\n",
        "plt.grid(axis='y', linestyle='--', alpha=0.7)\n",
        "plt.show()"
      ]
    },
    {
      "cell_type": "markdown",
      "metadata": {
        "id": "zWBMDtXIpIwY"
      },
      "source": [
        "## Threshold on users with 10+ reviews"
      ]
    },
    {
      "cell_type": "code",
      "execution_count": 21,
      "metadata": {
        "colab": {
          "base_uri": "https://localhost:8080/"
        },
        "id": "V746GEjMpIwY",
        "outputId": "dc824aea-7520-4802-917b-208a40b09146"
      },
      "outputs": [
        {
          "output_type": "stream",
          "name": "stderr",
          "text": [
            "/usr/local/lib/python3.10/dist-packages/ipykernel/ipkernel.py:283: DeprecationWarning:\n",
            "\n",
            "`should_run_async` will not call `transform_cell` automatically in the future. Please pass the result to `transformed_cell` argument and any exception that happen during thetransform in `preprocessing_exc_tuple` in IPython 7.17 and above.\n",
            "\n"
          ]
        },
        {
          "output_type": "stream",
          "name": "stdout",
          "text": [
            "Number of rows in the filtered dataframe: 93217\n",
            "Number of unique authors in the filtered dataframe: 4462\n"
          ]
        }
      ],
      "source": [
        "# Selecting users with 10+ reviews\n",
        "filtered_df = frequent_items_reviews.groupby('author_id').filter(lambda x: x['product_id'].nunique() > 9)\n",
        "\n",
        "# Display the filtered DataFrame\n",
        "print(f\"Number of rows in the filtered dataframe: {len(filtered_df)}\")\n",
        "print(f\"Number of unique authors in the filtered dataframe: {len(set(filtered_df['author_id']))}\")\n",
        "#set(filtered_df['author_id'])"
      ]
    },
    {
      "cell_type": "code",
      "execution_count": 22,
      "metadata": {
        "colab": {
          "base_uri": "https://localhost:8080/"
        },
        "id": "q8X9E_repIwY",
        "outputId": "6e1f9230-0dca-4051-bb44-36ebaa5d5f58"
      },
      "outputs": [
        {
          "output_type": "stream",
          "name": "stderr",
          "text": [
            "/usr/local/lib/python3.10/dist-packages/ipykernel/ipkernel.py:283: DeprecationWarning:\n",
            "\n",
            "`should_run_async` will not call `transform_cell` automatically in the future. Please pass the result to `transformed_cell` argument and any exception that happen during thetransform in `preprocessing_exc_tuple` in IPython 7.17 and above.\n",
            "\n"
          ]
        },
        {
          "output_type": "stream",
          "name": "stdout",
          "text": [
            "            author_id                                         product_id\n",
            "0          1000235057  P420652 P421275 P297524 P456412 P232903 P37584...\n",
            "1         10003868106  P420652 P480612 P375849 P375853 P472468 P37585...\n",
            "2          1001087549  P309308 P423688 P270594 P433520 P232915 P45621...\n",
            "3         10015807972  P420652 P427419 P454380 P480612 P427406 P42741...\n",
            "4         10021044780  P309308 P442840 P466123 P500633 P418346 P47641...\n",
            "...               ...                                                ...\n",
            "4457        998162812  P269122 P429952 P471237 P443833 P422022 P37970...\n",
            "4458        998179876  P309308 P429952 P270594 P442840 P466123 P44779...\n",
            "4459        998853649  P456398 P461159 P461933 P456213 P429242 P41561...\n",
            "4460       9990263118  P430337 P427406 P431180 P440307 P410400 P45567...\n",
            "4461  orderGen1698648  P443833 P428095 P455926 P502656 P446423 P45536...\n",
            "\n",
            "[4462 rows x 2 columns]\n"
          ]
        }
      ],
      "source": [
        "# Combining all the products reviewed for each person in the dataset\n",
        "selected_columns = filtered_df[['author_id', 'product_id']]\n",
        "\n",
        "# Convert product_id to string before applying 'join'\n",
        "combined_reviews = selected_columns.groupby('author_id')['product_id'].apply(lambda x: ' '.join(x.astype(str))).reset_index()\n",
        "\n",
        "print(combined_reviews)"
      ]
    },
    {
      "cell_type": "code",
      "execution_count": 23,
      "metadata": {
        "colab": {
          "base_uri": "https://localhost:8080/"
        },
        "id": "75ZaBdeRpIwY",
        "outputId": "5a7f0854-9b06-403c-cfab-43bb0ecb3b54"
      },
      "outputs": [
        {
          "output_type": "stream",
          "name": "stderr",
          "text": [
            "/usr/local/lib/python3.10/dist-packages/ipykernel/ipkernel.py:283: DeprecationWarning:\n",
            "\n",
            "`should_run_async` will not call `transform_cell` automatically in the future. Please pass the result to `transformed_cell` argument and any exception that happen during thetransform in `preprocessing_exc_tuple` in IPython 7.17 and above.\n",
            "\n"
          ]
        },
        {
          "output_type": "stream",
          "name": "stdout",
          "text": [
            "      support   itemsets\n",
            "0    0.077095  (P232915)\n",
            "1    0.052891  (P269122)\n",
            "2    0.268489  (P270594)\n",
            "3    0.184895  (P309308)\n",
            "4    0.039892  (P379707)\n",
            "..        ...        ...\n",
            "193  0.048633  (P505049)\n",
            "194  0.070596  (P505054)\n",
            "195  0.037203  (P505139)\n",
            "196  0.032048  (P505158)\n",
            "197  0.032048    (P7880)\n",
            "\n",
            "[198 rows x 2 columns]\n"
          ]
        }
      ],
      "source": [
        "# Convert the 'reviews' into a list of transactions\n",
        "transactions = combined_reviews['product_id'].str.split().tolist()\n",
        "\n",
        "# Create a DataFrame for one-hot encoding\n",
        "# Flatten all unique items (reviews) and create a unique item list\n",
        "te = TransactionEncoder()\n",
        "te_array = te.fit(transactions).transform(transactions)\n",
        "df_encoded = pd.DataFrame(te_array, columns=te.columns_)\n",
        "\n",
        "# Apply the Apriori algorithm\n",
        "frequent_itemsets = apriori(df_encoded, min_support=0.03, use_colnames=True)\n",
        "\n",
        "# Focus on frequent itemsets containing only a single product (not pairs or larger sets)\n",
        "frequent_pairs = frequent_itemsets[frequent_itemsets['itemsets'].apply(len) == 1]\n",
        "\n",
        "# Generate association rules, with support as minimum of 3%\n",
        "rules = association_rules(frequent_itemsets, metric=\"support\", min_threshold=0.03, num_itemsets=len(frequent_itemsets))\n",
        "\n",
        "print(frequent_pairs)"
      ]
    },
    {
      "cell_type": "code",
      "execution_count": 24,
      "metadata": {
        "colab": {
          "base_uri": "https://localhost:8080/"
        },
        "id": "cJKJCmYppIwY",
        "outputId": "57f02a8e-cba1-49d0-800e-93c7ee61fe64"
      },
      "outputs": [
        {
          "output_type": "stream",
          "name": "stdout",
          "text": [
            "antecedents               consequents  support  confidence      lift\n",
            "    P270594                   P500633 0.149260    0.555927  1.945525\n",
            "    P500633                   P270594 0.149260    0.522353  1.945525\n",
            "    P503936                   P500633 0.129314    0.594233  2.079582\n",
            "    P500633                   P503936 0.129314    0.452549  2.079582\n",
            "    P270594                   P503936 0.124608    0.464107  2.132693\n",
            "    P503936                   P270594 0.124608    0.572606  2.132693\n",
            "    P500633                   P476414 0.115867    0.405490  1.851891\n",
            "    P476414                   P500633 0.115867    0.529171  1.851891\n",
            "    P476414                   P270594 0.113178    0.516888  1.925172\n",
            "    P270594                   P476414 0.113178    0.421536  1.925172\n",
            "    P500633                   P479841 0.107127    0.374902  2.096256\n",
            "    P479841                   P500633 0.107127    0.598997  2.096256\n",
            "    P500777                   P500633 0.106455    0.668073  2.337994\n",
            "    P500633                   P500777 0.106455    0.372549  2.337994\n",
            "    P479841                   P476414 0.103317    0.577694  2.638354\n",
            "    P476414                   P479841 0.103317    0.471853  2.638354\n",
            "    P500633                   P423688 0.102869    0.360000  1.350984\n",
            "    P423688                   P500633 0.102869    0.386039  1.350984\n",
            "    P270594                   P479841 0.098610    0.367279  2.053632\n",
            "    P479841                   P270594 0.098610    0.551378  2.053632\n",
            "    P482551                   P483076 0.093008    1.000000 10.751807\n",
            "    P483076                   P482551 0.093008    1.000000 10.751807\n",
            "    P423688                   P270594 0.091215    0.342304  1.274927\n",
            "    P270594                   P423688 0.091215    0.339733  1.274927\n",
            "    P500777                   P270594 0.088077    0.552743  2.058712\n",
            "    P270594                   P500777 0.088077    0.328047  2.058712\n",
            "    P270594                   P479327 0.085836    0.319699  2.037856\n",
            "    P503936                   P476414 0.085836    0.394439  1.801418\n",
            "    P476414                   P503936 0.085836    0.392016  1.801418\n",
            "    P479327                   P270594 0.085836    0.547143  2.037856\n",
            "    P500633                   P479327 0.084267    0.294902  1.879789\n",
            "    P479327                   P500633 0.084267    0.537143  1.879789\n",
            "    P501760                   P500633 0.083595    0.684404  2.395144\n",
            "    P500633                   P501760 0.083595    0.292549  2.395144\n",
            "    P423688                   P503936 0.083371    0.312868  1.437710\n",
            "    P503936                   P423688 0.083371    0.383110  1.437710\n",
            "    P482676                   P500633 0.082250    0.658887  2.305846\n",
            "    P500633                   P482676 0.082250    0.287843  2.305846\n",
            "    P270594          P500633, P503936 0.080905    0.301336  2.330259\n",
            "    P500633          P270594, P503936 0.080905    0.283137  2.272227\n",
            "    P503936          P500633, P270594 0.080905    0.371782  2.490826\n",
            "    P500633                   P501254 0.079785    0.279216  2.423853\n",
            "    P501254                   P500633 0.079785    0.692607  2.423853\n",
            "    P476414                   P442840 0.079337    0.362334  2.280300\n",
            "    P442840                   P476414 0.079337    0.499295  2.280300\n",
            "    P479327                   P476414 0.077544    0.494286  2.257424\n",
            "    P476414                   P479327 0.077544    0.354145  2.257424\n",
            "    P400259                   P270594 0.074630    0.579130  2.156995\n",
            "    P270594                   P400259 0.074630    0.277963  2.156995\n",
            "    P500633                   P400259 0.073958    0.258824  2.008471\n",
            "    P400259                   P500633 0.073958    0.573913  2.008471\n",
            "    P500777                   P503936 0.073510    0.461322  2.119896\n",
            "    P503936                   P500777 0.073510    0.337796  2.119896\n",
            "    P270594                   P482676 0.073286    0.272955  2.186580\n",
            "    P482676                   P270594 0.073286    0.587074  2.186580\n",
            "    P479841                   P503936 0.071941    0.402256  1.848470\n",
            "    P503936                   P479841 0.071941    0.330587  1.848470\n",
            "    P469538                   P476414 0.071717    0.599251  2.736804\n",
            "    P476414                   P469538 0.071717    0.327533  2.736804\n",
            "    P270594                   P442840 0.071493    0.266277  1.675781\n",
            "    P442840                   P270594 0.071493    0.449929  1.675781\n",
            "    P270594                   P501760 0.070820    0.263773  2.159550\n",
            "    P501760                   P270594 0.070820    0.579817  2.159550\n",
            "    P476414          P500633, P270594 0.070596    0.322416  2.160087\n",
            "    P500633          P270594, P476414 0.070596    0.247059  2.182924\n",
            "    P270594          P500633, P476414 0.070596    0.262938  2.269304\n",
            "    P411365                   P500633 0.070372    0.612086  2.142060\n",
            "    P500633                   P411365 0.070372    0.246275  2.142060\n",
            "    P479318                   P270594 0.069027    0.550000  2.048497\n",
            "    P500633                   P442840 0.069027    0.241569  1.520281\n",
            "    P270594                   P479318 0.069027    0.257095  2.048497\n",
            "    P442840                   P500633 0.069027    0.434415  1.520281\n",
            "    P476414                   P482676 0.068579    0.313204  2.509003\n",
            "    P482676                   P476414 0.068579    0.549372  2.509003\n",
            "    P479841                   P479327 0.068131    0.380952  2.428299\n",
            "    P479327                   P479841 0.068131    0.434286  2.428299\n",
            "    P500633                   P479318 0.067010    0.234510  1.868541\n",
            "    P479318                   P500633 0.067010    0.533929  1.868541\n",
            "    P479841          P500633, P270594 0.066786    0.373434  2.501893\n",
            "    P500633          P270594, P479841 0.066786    0.233725  2.370189\n",
            "    P270594          P500633, P479841 0.066786    0.248748  2.321994\n",
            "    P503936                   P400259 0.065666    0.301751  2.341586\n",
            "    P400259                   P503936 0.065666    0.509565  2.341586\n",
            "    P423688                   P476414 0.065442    0.245585  1.121595\n",
            "    P476414                   P423688 0.065442    0.298874  1.121595\n",
            "    P423148                   P476414 0.065217    0.615222  2.809745\n",
            "    P476414                   P423148 0.065217    0.297851  2.809745\n",
            "    P270594                   P501254 0.064545    0.240401  2.086902\n",
            "    P501254                   P270594 0.064545    0.560311  2.086902\n",
            "    P500633                   P503726 0.064321    0.225098  2.029066\n",
            "    P503726                   P500633 0.064321    0.579798  2.029066\n",
            "    P500633                   P469538 0.064097    0.224314  1.874322\n",
            "    P469538                   P500633 0.064097    0.535581  1.874322\n",
            "    P500633          P476414, P479841 0.063649    0.222745  2.155941\n",
            "    P309308                   P423688 0.063649    0.344242  1.291850\n",
            "    P479841          P500633, P476414 0.063649    0.355890  3.071528\n",
            "    P423688                   P309308 0.063649    0.238856  1.291850\n",
            "    P476414          P500633, P479841 0.063649    0.290686  2.713473\n",
            "    P476414                   P479318 0.062752    0.286592  2.283521\n",
            "    P479318                   P476414 0.062752    0.500000  2.283521\n",
            "    P423688                   P471237 0.062528    0.234651  1.596056\n",
            "    P471237                   P423688 0.062528    0.425305  1.596056\n",
            "    P503726                   P270594 0.062304    0.561616  2.091762\n",
            "    P500633                   P479645 0.062304    0.218039  2.321936\n",
            "    P270594                   P503726 0.062304    0.232053  2.091762\n",
            "    P500777                   P476414 0.062304    0.390999  1.785707\n",
            "    P479645                   P500633 0.062304    0.663484  2.321936\n",
            "    P476414                   P500777 0.062304    0.284545  1.785707\n",
            "    P500633                   P505031 0.062080    0.217255  2.149427\n",
            "    P505031                   P500633 0.062080    0.614191  2.149427\n",
            "    P270594          P500633, P500777 0.061632    0.229549  2.156313\n",
            "    P500633          P270594, P500777 0.061632    0.215686  2.448835\n",
            "    P500777          P500633, P270594 0.061632    0.386779  2.591304\n",
            "    P270594          P476414, P479841 0.061183    0.227880  2.205639\n",
            "    P479841          P270594, P476414 0.061183    0.342105  3.022720\n",
            "    P476414          P270594, P479841 0.061183    0.279427  2.833642\n",
            "    P270594                   P411365 0.060959    0.227045  1.974805\n",
            "    P411365                   P270594 0.060959    0.530214  1.974805\n",
            "    P500777                   P479841 0.060287    0.378340  2.115482\n",
            "    P479841                   P500777 0.060287    0.337093  2.115482\n",
            "    P423148                   P270594 0.060063    0.566596  2.110311\n",
            "    P479841                   P442840 0.060063    0.335840  2.113563\n",
            "    P474832                   P476414 0.060063    0.639618  2.921163\n",
            "    P476414                   P474832 0.060063    0.274309  2.921163\n",
            "    P270594                   P423148 0.060063    0.223706  2.110311\n",
            "    P442840                   P479841 0.060063    0.377997  2.113563\n",
            "    P479841                   P479318 0.059390    0.332080  2.645968\n",
            "    P479841                   P482676 0.059390    0.332080  2.660219\n",
            "    P482676                   P479841 0.059390    0.475763  2.660219\n",
            "    P500633                   P482535 0.059390    0.207843  2.102939\n",
            "    P479318                   P479841 0.059390    0.473214  2.645968\n",
            "    P482535                   P500633 0.059390    0.600907  2.102939\n",
            "    P423688                   P479841 0.058718    0.220353  1.232100\n",
            "    P479841                   P423688 0.058718    0.328321  1.232100\n",
            "    P503936                   P503726 0.058494    0.268795  2.422957\n",
            "    P476414                   P471043 0.058494    0.267144  3.128604\n",
            "    P500633          P503936, P476414 0.058494    0.204706  2.384850\n",
            "    P503726                   P503936 0.058494    0.527273  2.422957\n",
            "    P500288                   P500633 0.058494    0.709239  2.482059\n",
            "    P471043                   P476414 0.058494    0.685039  3.128604\n",
            "    P500633                   P500288 0.058494    0.204706  2.482059\n",
            "    P476414          P500633, P503936 0.058494    0.267144  2.065854\n",
            "    P503936          P500633, P476414 0.058494    0.268795  2.319852\n",
            "    P503936                   P479327 0.058494    0.268795  1.713376\n",
            "    P479327                   P503936 0.058494    0.372857  1.713376\n",
            "    P471237                   P500633 0.058046    0.394817  1.381705\n",
            "    P500633                   P471237 0.058046    0.203137  1.381705\n",
            "    P270594                   P469538 0.057822    0.215359  1.799497\n",
            "    P500633                   P481739 0.057822    0.202353  1.884966\n",
            "    P481739                   P500633 0.057822    0.538622  1.884966\n",
            "    P469538                   P270594 0.057822    0.483146  1.799497\n",
            "    P270594          P500633, P423688 0.057822    0.215359  2.093533\n",
            "    P270594                   P481739 0.057822    0.215359  2.006120\n",
            "    P500633          P423688, P270594 0.057822    0.202353  2.218425\n",
            "    P423688          P500633, P270594 0.057822    0.216989  1.453762\n",
            "    P481739                   P270594 0.057822    0.538622  2.006120\n",
            "    P501760                   P503936 0.057597    0.471560  2.166940\n",
            "    P503936                   P501760 0.057597    0.264676  2.166940\n",
            "    P423688                   P500777 0.057373    0.215307  1.351195\n",
            "    P500777                   P423688 0.057373    0.360056  1.351195\n",
            "    P423148                   P500633 0.057373    0.541226  1.894080\n",
            "    P500633                   P423148 0.057373    0.200784  1.894080\n",
            "    P482676                   P503936 0.056925    0.456014  2.095506\n",
            "    P503936                   P482676 0.056925    0.261586  2.095506\n",
            "    P455236                   P476414 0.056701    0.614078  2.804518\n",
            "    P477157                   P476414 0.056701    0.652062  2.977994\n",
            "    P476414                   P455236 0.056701    0.258956  2.804518\n",
            "    P476414                   P477157 0.056701    0.258956  2.977994\n",
            "    P466123                   P476414 0.056477    0.446018  2.036982\n",
            "    P476414                   P466123 0.056477    0.257932  2.036982\n",
            "    P479645                   P270594 0.055805    0.594272  2.213391\n",
            "    P479327                   P442840 0.055805    0.355714  2.238642\n",
            "    P270594                   P479645 0.055805    0.207846  2.213391\n",
            "    P442840                   P479327 0.055805    0.351199  2.238642\n",
            "    P270594          P503936, P476414 0.055580    0.207012  2.411713\n",
            "    P503936          P270594, P476414 0.055580    0.255407  2.256683\n",
            "    P476414          P270594, P503936 0.055580    0.253838  2.037098\n",
            "    P483076                   P500633 0.055580    0.597590  2.091332\n",
            "    P500633                   P482551 0.055580    0.194510  2.091332\n",
            "    P482551                   P500633 0.055580    0.597590  2.091332\n",
            "    P500633                   P483076 0.055580    0.194510  2.091332\n",
            "    P500633          P482551, P483076 0.055580    0.194510  2.091332\n",
            "    P483076          P500633, P482551 0.055580    0.597590 10.751807\n",
            "    P482551          P500633, P483076 0.055580    0.597590 10.751807\n",
            "    P483076                   P270594 0.055356    0.595181  2.216775\n",
            "    P482551          P270594, P483076 0.055356    0.595181 10.751807\n",
            "    P483076          P482551, P270594 0.055356    0.595181 10.751807\n",
            "    P482551                   P270594 0.055356    0.595181  2.216775\n",
            "    P270594                   P482551 0.055356    0.206177  2.216775\n",
            "    P270594          P482551, P483076 0.055356    0.206177  2.216775\n",
            "    P270594                   P483076 0.055356    0.206177  2.216775\n",
            "    P503936                   P411365 0.055132    0.253347  2.203576\n",
            "    P411365                   P503936 0.055132    0.479532  2.203576\n",
            "    P500633                   P505023 0.055132    0.192941  2.011457\n",
            "    P505023                   P500633 0.055132    0.574766  2.011457\n",
            "    P309308                   P270594 0.054908    0.296970  1.106076\n",
            "    P270594                   P309308 0.054908    0.204508  1.106076\n",
            "    P270594                   P505031 0.054908    0.204508  2.023309\n",
            "    P505031                   P270594 0.054908    0.543237  2.023309\n",
            "    P503936          P500633, P500777 0.054236    0.249228  2.341165\n",
            "    P500633          P503936, P500777 0.054236    0.189804  2.582028\n",
            "    P500777          P500633, P503936 0.054236    0.340366  2.632083\n",
            "    P501760                   P501254 0.054236    0.444037  3.854653\n",
            "    P501254                   P501760 0.054236    0.470817  3.854653\n",
            "    P476414                   P471237 0.054236    0.247697  1.684793\n",
            "    P471237                   P476414 0.054236    0.368902  1.684793\n",
            "    P500857                   P500633 0.054012    0.649596  2.273330\n",
            "    P500633                   P500857 0.054012    0.189020  2.273330\n",
            "    P479841                   P469538 0.054012    0.302005  2.523495\n",
            "    P469538                   P479841 0.054012    0.451311  2.523495\n",
            "    P476414                   P442838 0.054012    0.246673  2.919515\n",
            "    P442838                   P476414 0.054012    0.639257  2.919515\n",
            "    P423688          P500633, P503936 0.053788    0.201850  1.560929\n",
            "    P503936          P500633, P423688 0.053788    0.247168  2.402752\n",
            "    P479841                   P423148 0.053788    0.300752  2.837114\n",
            "    P500633          P423688, P503936 0.053788    0.188235  2.257812\n",
            "    P423148                   P479841 0.053788    0.507400  2.837114\n",
            "    P500633                   P474832 0.053339    0.186667  1.987844\n",
            "    P309308                   P476414 0.053339    0.288485  1.317522\n",
            "    P476414                   P479645 0.053339    0.243603  2.594167\n",
            "    P270594                   P471237 0.053339    0.198664  1.351282\n",
            "    P474832                   P500633 0.053339    0.568019  1.987844\n",
            "    P479645                   P476414 0.053339    0.568019  2.594167\n",
            "    P476414                   P309308 0.053339    0.243603  1.317522\n",
            "    P471237                   P270594 0.053339    0.362805  1.351282\n",
            "    P466123                   P455236 0.053115    0.419469  4.542890\n",
            "    P455236                   P466123 0.053115    0.575243  4.542890\n",
            "    P500777                   P501760 0.052891    0.331927  2.717537\n",
            "    P501760                   P500777 0.052891    0.433028  2.717537\n",
            "    P270594          P500633, P501760 0.052667    0.196160  2.346561\n",
            "    P500633          P270594, P501760 0.052667    0.184314  2.602556\n",
            "    P309308                   P471237 0.052667    0.284848  1.937491\n",
            "    P501760          P500633, P270594 0.052667    0.431193  2.888861\n",
            "    P471237                   P309308 0.052667    0.358232  1.937491\n",
            "    P423688                   P442840 0.052219    0.195963  1.233268\n",
            "    P442840                   P423688 0.052219    0.328632  1.233268\n",
            "    P270594          P500633, P482676 0.051995    0.193656  2.354478\n",
            "    P500633          P270594, P482676 0.051995    0.181961  2.482902\n",
            "    P482676          P500633, P270594 0.051995    0.416517  2.790539\n",
            "    P503936          P423688, P270594 0.051771    0.237899  2.608122\n",
            "    P423688          P270594, P503936 0.051771    0.194281  1.559139\n",
            "    P270594          P423688, P503936 0.051771    0.192821  2.312820\n",
            "    P500633          P270594, P479327 0.051546    0.180392  2.101592\n",
            "    P270594          P500633, P479327 0.051546    0.191987  2.278310\n",
            "    P479327          P500633, P270594 0.051546    0.328571  2.201330\n",
            "    P442840                   P309308 0.051546    0.324401  1.754516\n",
            "    P309308                   P442840 0.051546    0.278788  1.754516\n",
            "    P270594                   P500857 0.051322    0.191152  2.298975\n",
            "    P500857                   P270594 0.051322    0.617251  2.298975\n",
            "    P505031                   P505023 0.051322    0.507761  5.293522\n",
            "    P505023                   P505031 0.051322    0.535047  5.293522\n",
            "    P442840                   P471237 0.051322    0.322990  2.196924\n",
            "    P471237                   P442840 0.051322    0.349085  2.196924\n",
            "    P411365                   P476414 0.051098    0.444444  2.029796\n",
            "    P476414                   P411365 0.051098    0.233367  2.029796\n",
            "    P505023                   P505009 0.051098    0.532710  6.389659\n",
            "    P500633                   P466123 0.051098    0.178824  1.412231\n",
            "    P505009                   P505023 0.051098    0.612903  6.389659\n",
            "    P466123                   P500633 0.051098    0.403540  1.412231\n",
            "    P471237                   P479841 0.050874    0.346037  1.934856\n",
            "    P270594                   P466123 0.050874    0.189482  1.496408\n",
            "    P479841                   P471237 0.050874    0.284461  1.934856\n",
            "    P466123                   P270594 0.050874    0.401770  1.496408\n",
            "    P479327                   P479318 0.050650    0.322857  2.572480\n",
            "    P270594                   P474832 0.050650    0.188648  2.008941\n",
            "    P505054                   P505023 0.050650    0.717460  7.479691\n",
            "    P474832                   P270594 0.050650    0.539379  2.008941\n",
            "    P500633                   P309308 0.050650    0.177255  0.958680\n",
            "    P476414                   P481739 0.050650    0.231320  2.154805\n",
            "    P479318                   P479327 0.050650    0.403571  2.572480\n",
            "    P481739                   P476414 0.050650    0.471816  2.154805\n",
            "    P309308                   P500633 0.050650    0.273939  0.958680\n",
            "    P500777                   P479327 0.050650    0.317862  2.026144\n",
            "    P479327                   P500777 0.050650    0.322857  2.026144\n",
            "    P505023                   P505054 0.050650    0.528037  7.479691\n",
            "    P503936          P500633, P479841 0.050426    0.231720  2.163042\n",
            "    P477157                   P500633 0.050426    0.579897  2.029412\n",
            "    P500633                   P477157 0.050426    0.176471  2.029412\n",
            "    P500633          P503936, P479841 0.050426    0.176471  2.452996\n",
            "    P479841          P500633, P503936 0.050426    0.281955  2.180386\n",
            "    P270594                   P500288 0.050202    0.186978  2.267112\n",
            "    P500288                   P270594 0.050202    0.608696  2.267112\n",
            "    P500633                   P503668 0.049978    0.174902  2.075565\n",
            "    P503668                   P270594 0.049978    0.593085  2.208970\n",
            "    P270594                   P503668 0.049978    0.186144  2.208970\n",
            "    P503668                   P500633 0.049978    0.593085  2.075565\n",
            "    P500633                   P481831 0.049753    0.174118  1.674381\n",
            "    P481831                   P500633 0.049753    0.478448  1.674381\n",
            "    P270594          P503936, P500777 0.049529    0.184474  2.509523\n",
            "    P442840                   P479318 0.049529    0.311707  2.483634\n",
            "    P500777          P270594, P503936 0.049529    0.310830  2.494465\n",
            "    P503936          P270594, P500777 0.049529    0.227600  2.584104\n",
            "    P479318                   P442840 0.049529    0.394643  2.483634\n",
            "    P481989                   P500633 0.049305    0.585106  2.047643\n",
            "    P270594          P500633, P501254 0.049305    0.183639  2.301683\n",
            "    P500633          P501254, P270594 0.049305    0.172549  2.673312\n",
            "    P501254          P500633, P270594 0.049305    0.428016  2.867576\n",
            "    P500633                   P481989 0.049305    0.172549  2.047643\n",
            "    P442839                   P476414 0.049081    0.661631  3.021698\n",
            "    P476414                   P442839 0.049081    0.224156  3.021698\n",
            "    P270594                   P477157 0.049081    0.182805  2.102254\n",
            "    P477157                   P270594 0.049081    0.564433  2.102254\n",
            "    P503936                   P501254 0.048857    0.224511  1.948964\n",
            "    P501254                   P503936 0.048857    0.424125  1.948964\n",
            "    P500633          P270594, P400259 0.048633    0.170196  2.280525\n",
            "    P270594          P500633, P400259 0.048633    0.181135  2.449168\n",
            "    P501760                   P479327 0.048633    0.398165  2.538018\n",
            "    P479327                   P501760 0.048633    0.310000  2.538018\n",
            "    P400259          P500633, P270594 0.048633    0.377391  2.528408\n",
            "    P442840          P270594, P476414 0.048409    0.304654  2.691818\n",
            "    P501254                   P500777 0.048409    0.420233  2.637246\n",
            "    P500777                   P501254 0.048409    0.303797  2.637246\n",
            "    P270594          P476414, P442840 0.048409    0.180301  2.272601\n",
            "    P476414          P270594, P442840 0.048409    0.221085  3.092417\n",
            "    P423688                   P400259 0.048185    0.180824  1.403196\n",
            "    P400259                   P500777 0.048185    0.373913  2.346554\n",
            "    P479327                   P423688 0.048185    0.307143  1.152625\n",
            "    P500777                   P400259 0.048185    0.302391  2.346554\n",
            "    P400259                   P423688 0.048185    0.373913  1.403196\n",
            "    P423688                   P479327 0.048185    0.180824  1.152625\n",
            "    P482540                   P500633 0.047961    0.622093  2.177082\n",
            "    P500633                   P482540 0.047961    0.167843  2.177082\n",
            "    P270594          P476414, P479327 0.047736    0.177796  2.292853\n",
            "    P479327          P270594, P476414 0.047736    0.304286  2.688560\n",
            "    P476414          P270594, P479327 0.047736    0.218014  2.539895\n",
            "    P455236                   P270594 0.047512    0.514563  1.916511\n",
            "    P442840                   P503936 0.047512    0.299013  1.374042\n",
            "    P503936                   P442840 0.047512    0.218332  1.374042\n",
            "    P270594                   P455236 0.047512    0.176962  1.916511\n",
            "    P500777                   P482676 0.047512    0.298172  2.388585\n",
            "    P482676                   P500777 0.047512    0.380610  2.388585\n",
            "    P474832                   P479841 0.047288    0.503580  2.815757\n",
            "    P501254                   P476414 0.047288    0.410506  1.874797\n",
            "    P476414                   P501254 0.047288    0.215967  1.874797\n",
            "    P471046                   P418624 0.047288    0.655280  8.259483\n",
            "    P418624                   P471046 0.047288    0.596045  8.259483\n",
            "    P479841                   P474832 0.047288    0.264411  2.815757\n",
            "    P474075                   P476414 0.047288    0.745583  3.405109\n",
            "    P476414                   P474075 0.047288    0.215967  3.405109\n",
            "    P482535                   P476414 0.047064    0.476190  2.174782\n",
            "    P503936                   P505031 0.047064    0.216272  2.139701\n",
            "    P476414                   P482535 0.047064    0.214944  2.174782\n",
            "    P479841                   P481739 0.047064    0.263158  2.451379\n",
            "    P482676                   P423688 0.047064    0.377020  1.414855\n",
            "    P423688                   P482676 0.047064    0.176619  1.414855\n",
            "    P481739                   P479841 0.047064    0.438413  2.451379\n",
            "    P505031                   P503936 0.047064    0.465632  2.139701\n",
            "    P479318                   P503936 0.046840    0.373214  1.715018\n",
            "    P503936                   P479318 0.046840    0.215242  1.715018\n",
            "    P503936                   P309308 0.046840    0.215242  1.164133\n",
            "    P505023                   P270594 0.046840    0.488318  1.818759\n",
            "    P500633                   P505009 0.046840    0.163922  1.966178\n",
            "    P505009                   P500633 0.046840    0.561828  1.966178\n",
            "    P309308                   P503936 0.046840    0.253333  1.164133\n",
            "    P270594                   P505023 0.046840    0.174457  1.818759\n",
            "    P500633          P479318, P270594 0.046616    0.163137  2.363372\n",
            "    P479318          P500633, P270594 0.046616    0.371429  2.488460\n",
            "    P270594          P500633, P479318 0.046616    0.173623  2.590985\n",
            "    P479841                   P477157 0.046392    0.259398  2.983083\n",
            "    P477157                   P479841 0.046392    0.533505  2.983083\n",
            "    P469538                   P503936 0.046392    0.387640  1.781310\n",
            "    P476414          P500633, P479327 0.046392    0.211873  2.514302\n",
            "    P479327          P500633, P476414 0.046392    0.295714  2.552180\n",
            "    P500633          P476414, P479327 0.046392    0.162353  2.093696\n",
            "    P479318                   P482676 0.046392    0.369643  2.961125\n",
            "    P503936                   P469538 0.046392    0.213182  1.781310\n",
            "    P503668                   P503936 0.046392    0.550532  2.529839\n",
            "    P482676                   P479318 0.046392    0.371634  2.961125\n",
            "    P503936                   P503668 0.046392    0.213182  2.529839\n",
            "    P505009                   P505031 0.046168    0.553763  5.478697\n",
            "    P479318                   P423688 0.046168    0.367857  1.380470\n",
            "    P423688                   P479318 0.046168    0.173255  1.380470\n",
            "    P505031                   P505009 0.046168    0.456763  5.478697\n",
            "    P500633          P476414, P482676 0.045944    0.160784  2.344509\n",
            "    P482676          P500633, P476414 0.045944    0.368043  3.176418\n",
            "    P476414          P500633, P482676 0.045944    0.209826  2.551072\n",
            "    P479841          P270594, P503936 0.045719    0.255639  2.051550\n",
            "    P423688                   P411365 0.045719    0.171573  1.492315\n",
            "    P411365                   P423688 0.045719    0.397661  1.492315\n",
            "    P423148                   P442840 0.045719    0.431290  2.714266\n",
            "    P442840                   P423148 0.045719    0.287729  2.714266\n",
            "    P270594          P503936, P479841 0.045719    0.170284  2.366998\n",
            "    P503936          P270594, P479841 0.045719    0.210093  2.130531\n",
            "    P455236                   P500633 0.045495    0.492718  1.724321\n",
            "    P482676          P270594, P476414 0.045495    0.364452  3.220172\n",
            "    P501760                   P476414 0.045495    0.372477  1.701118\n",
            "    P476414          P270594, P482676 0.045495    0.207779  2.835197\n",
            "    P476414                   P501760 0.045495    0.207779  1.701118\n",
            "    P270594          P476414, P482676 0.045495    0.169449  2.470856\n",
            "    P500633                   P455236 0.045495    0.159216  1.724321\n",
            "    P476414          P500633, P442840 0.045271    0.206755  2.995268\n",
            "    P442840          P500633, P476414 0.045271    0.284908  2.458919\n",
            "    P500633          P476414, P442840 0.045271    0.158431  1.996951\n",
            "    P476414          P482551, P483076 0.045271    0.206755  2.222994\n",
            "    P483076          P482551, P476414 0.045271    0.486747 10.751807\n",
            "    P482551          P483076, P476414 0.045271    0.486747 10.751807\n",
            "    P505024                   P505023 0.045271    0.677852  7.066769\n",
            "    P476414                   P483076 0.045271    0.206755  2.222994\n",
            "    P483076                   P476414 0.045271    0.486747  2.222994\n",
            "    P476414                   P482551 0.045271    0.206755  2.222994\n",
            "    P482551                   P476414 0.045271    0.486747  2.222994\n",
            "    P505023                   P505024 0.045271    0.471963  7.066769\n",
            "    P442840          P500633, P270594 0.045271    0.284908  1.908800\n",
            "    P500633          P270594, P442840 0.045271    0.158431  2.216053\n",
            "    P270594          P500633, P442840 0.045271    0.168614  2.442718\n",
            "    P500633                   P481732 0.045047    0.157647  2.118738\n",
            "    P481732                   P500633 0.045047    0.605422  2.118738\n",
            "    P503936                   P479645 0.045047    0.207003  2.204410\n",
            "    P479645                   P503936 0.045047    0.479714  2.204410\n",
            "    P433520                   P500633 0.044823    0.453515  1.587124\n",
            "    P479841                   P455236 0.044823    0.250627  2.714310\n",
            "    P455236                   P479841 0.044823    0.485437  2.714310\n",
            "    P500633                   P433520 0.044823    0.156863  1.587124\n",
            "    P309308                   P466123 0.044823    0.242424  1.914508\n",
            "    P466123                   P309308 0.044823    0.353982  1.914508\n",
            "    P270594                   P418624 0.044599    0.166110  2.093739\n",
            "    P418624                   P270594 0.044599    0.562147  2.093739\n",
            "    P483076                   P503936 0.044599    0.479518  2.203511\n",
            "    P270594                   P471043 0.044599    0.166110  1.945364\n",
            "    P503936                   P483076 0.044599    0.204943  2.203511\n",
            "    P482676                   P479327 0.044599    0.357271  2.277348\n",
            "    P483076          P482551, P503936 0.044599    0.479518 10.751807\n",
            "    P482551          P483076, P503936 0.044599    0.479518 10.751807\n",
            "    P503936          P482551, P483076 0.044599    0.204943  2.203511\n",
            "    P503936                   P482551 0.044599    0.204943  2.203511\n",
            "    P471043                   P270594 0.044599    0.522310  1.945364\n",
            "    P479327                   P482676 0.044599    0.284286  2.277348\n",
            "    P482551                   P503936 0.044599    0.479518  2.203511\n",
            "    P503936                   P482540 0.044375    0.203913  2.644948\n",
            "    P479841          P503936, P476414 0.044375    0.248120  2.890634\n",
            "    P476414          P503936, P479841 0.044375    0.202661  2.817054\n",
            "    P503936          P476414, P479841 0.044375    0.203913  1.973670\n",
            "    P411365                   P479841 0.044375    0.385965  2.158115\n",
            "    P482540                   P503936 0.044375    0.575581  2.644948\n",
            "    P500633          P500777, P476414 0.044375    0.155294  2.492526\n",
            "    P476414          P500633, P500777 0.044375    0.202661  1.903735\n",
            "    P500777          P500633, P476414 0.044375    0.278481  2.403447\n",
            "    P461949                   P476414 0.044375    0.585799  2.675368\n",
            "    P270594                   P482535 0.044375    0.165275  1.672243\n",
            "    P479327          P476414, P479841 0.044375    0.282857  2.737763\n",
            "    P476414          P479327, P479841 0.044375    0.202661  2.974587\n",
            "    P482535                   P270594 0.044375    0.448980  1.672243\n",
            "    P479841                   P411365 0.044375    0.248120  2.158115\n",
            "    P476414                   P461949 0.044375    0.202661  2.675368\n",
            "    P505031                   P505054 0.044375    0.439024  6.218815\n",
            "    P505054                   P505031 0.044375    0.628571  6.218815\n",
            "    P479841          P476414, P479327 0.044375    0.248120  3.199748\n",
            "    P501760          P500633, P503936 0.044151    0.361468  2.795268\n",
            "    P503936          P500633, P501760 0.044151    0.202884  2.426989\n",
            "    P503879                   P423688 0.044151    0.517060  1.940390\n",
            "    P500633          P503936, P501760 0.044151    0.154510  2.682579\n",
            "    P479841          P500633, P500777 0.044151    0.246867  2.318992\n",
            "    P423688                   P503879 0.044151    0.165685  1.940390\n",
            "    P500633          P500777, P479841 0.044151    0.154510  2.562910\n",
            "    P500777          P500633, P479841 0.044151    0.277075  2.586416\n",
            "    P442840                   P466123 0.043926    0.276446  2.183187\n",
            "    P466123                   P442840 0.043926    0.346903  2.183187\n",
            "    P503726                   P423688 0.043926    0.395960  1.485931\n",
            "    P423688                   P503726 0.043926    0.164844  1.485931\n",
            "    P479841                   P466123 0.043926    0.245614  1.939699\n",
            "    P466123                   P479841 0.043926    0.346903  1.939699\n",
            "    P500777                   P503726 0.043926    0.275668  2.484911\n",
            "    P503726                   P500777 0.043926    0.395960  2.484911\n",
            "    P270594                   P481831 0.043926    0.163606  1.573297\n",
            "    P481831                   P270594 0.043926    0.422414  1.573297\n",
            "    P270594                   P442838 0.043926    0.163606  1.936366\n",
            "    P442838                   P270594 0.043926    0.519894  1.936366\n",
            "    P479841                   P501254 0.043926    0.245614  2.132159\n",
            "    P501254                   P479841 0.043926    0.381323  2.132159\n",
            "    P400259                   P503726 0.043702    0.339130  3.056970\n",
            "    P479841 P500633, P270594, P476414 0.043702    0.244361  3.461392\n",
            "    P476414 P500633, P270594, P479841 0.043702    0.199591  2.988501\n",
            "    P500633                   P500993 0.043702    0.152941  2.139259\n",
            "    P500633 P270594, P476414, P479841 0.043702    0.152941  2.499720\n",
            "    P500993                   P500633 0.043702    0.611285  2.139259\n",
            "    P479327                   P423148 0.043702    0.278571  2.627877\n",
            "    P423148                   P479327 0.043702    0.412262  2.627877\n",
            "    P500633                   P471046 0.043702    0.152941  2.119328\n",
            "    P503936                   P481739 0.043702    0.200824  1.870723\n",
            "    P481739                   P503936 0.043702    0.407098  1.870723\n",
            "    P503726                   P400259 0.043702    0.393939  3.056970\n",
            "    P270594 P500633, P476414, P479841 0.043702    0.162771  2.557343\n",
            "    P471046                   P500633 0.043702    0.605590  2.119328\n",
            "    P400259                   P476414 0.043478    0.337391  1.540880\n",
            "    P400259          P500633, P503936 0.043478    0.337391  2.609081\n",
            "    P476414                   P400259 0.043478    0.198567  1.540880\n",
            "    P501760                   P400259 0.043478    0.355963  2.762275\n",
            "    P400259                   P501760 0.043478    0.337391  2.762275\n",
            "    P500633          P503936, P400259 0.043478    0.152157  2.317146\n",
            "    P503936          P500633, P400259 0.043478    0.199794  2.701457\n",
            "    P501760                   P479841 0.043254    0.354128  1.980102\n",
            "    P479348                   P476414 0.043254    0.645485  2.947957\n",
            "    P479841                   P501760 0.043254    0.241855  1.980102\n",
            "    P476414                   P479348 0.043254    0.197544  2.947957\n",
            "    P270594                   P442839 0.043254    0.161102  2.171711\n",
            "    P442839                   P270594 0.043254    0.583082  2.171711\n",
            "    P479318          P270594, P476414 0.043254    0.344643  3.045141\n",
            "    P476414          P479318, P270594 0.043254    0.197544  2.861815\n",
            "    P270594          P479318, P476414 0.043254    0.161102  2.567273\n",
            "    P501760                   P423688 0.043254    0.354128  1.328950\n",
            "    P423688                   P501760 0.043254    0.162321  1.328950\n",
            "    P270594          P503936, P400259 0.043030    0.160267  2.440655\n",
            "    P400259          P270594, P503936 0.043030    0.333913  2.679712\n",
            "    P503936          P270594, P400259 0.043030    0.197734  2.649521\n",
            "    P270594          P500633, P411365 0.042806    0.159432  2.265565\n",
            "    P500633          P270594, P411365 0.042806    0.149804  2.457445\n",
            "    P461949                   P500633 0.042806    0.565089  1.977589\n",
            "    P503936                   P505023 0.042806    0.196704  2.050690\n",
            "    P505023                   P503936 0.042806    0.446262  2.050690\n",
            "    P500633                   P461949 0.042806    0.149804  1.977589\n",
            "    P479841          P500633, P479327 0.042806    0.239348  2.840352\n",
            "    P479327          P500633, P479841 0.042806    0.272857  2.547047\n",
            "    P500633          P479327, P479841 0.042806    0.149804  2.198767\n",
            "    P477157                   P442840 0.042806    0.492268  3.098025\n",
            "    P411365          P500633, P270594 0.042806    0.372320  2.494430\n",
            "    P442840                   P477157 0.042806    0.269394  3.098025\n",
            "    P503936                   P423148 0.042806    0.196704  1.855592\n",
            "    P423148                   P503936 0.042806    0.403805  1.855592\n",
            "    P479645                   P479841 0.042582    0.453461  2.535515\n",
            "    P479841                   P479645 0.042582    0.238095  2.535515\n",
            "    P503726                   P479327 0.042582    0.383838  2.446696\n",
            "    P479327                   P503726 0.042582    0.271429  2.446696\n",
            "    P500633                   P505054 0.042582    0.149020  2.110875\n",
            "    P500633                   P503814 0.042582    0.149020  2.333072\n",
            "    P505054                   P500633 0.042582    0.603175  2.110875\n",
            "    P471043                   P500633 0.042582    0.498688  1.745211\n",
            "    P500633                   P471043 0.042582    0.149020  1.745211\n",
            "    P503814                   P500633 0.042582    0.666667  2.333072\n",
            "    P423688                   P483679 0.042358    0.158957  1.759967\n",
            "    P411365                   P500777 0.042358    0.368421  2.312088\n",
            "    P483679                   P423688 0.042358    0.468983  1.759967\n",
            "    P479841          P476414, P442840 0.042358    0.236842  2.985281\n",
            "    P500777                   P411365 0.042358    0.265823  2.312088\n",
            "    P476414          P442840, P479841 0.042358    0.193449  3.220787\n",
            "    P442840          P476414, P479841 0.042358    0.266573  2.580146\n",
            "    P500633                   P418624 0.042358    0.148235  1.868435\n",
            "    P418624                   P500633 0.042358    0.533898  1.868435\n",
            "    P505031                   P505024 0.042358    0.419069  6.274781\n",
            "    P505024                   P505031 0.042358    0.634228  6.274781\n",
            "    P423148          P270594, P476414 0.042134    0.397463  3.511841\n",
            "    P270594                   P481732 0.042134    0.156928  2.109077\n",
            "    P481732                   P270594 0.042134    0.566265  2.109077\n",
            "    P270594          P476414, P423148 0.042134    0.156928  2.406233\n",
            "    P476414          P270594, P423148 0.042134    0.192426  3.203746\n",
            "    P500288                   P503936 0.041909    0.508152  2.335093\n",
            "    P503936                   P500288 0.041909    0.192585  2.335093\n",
            "    P500633          P482676, P479841 0.041909    0.146667  2.469535\n",
            "    P442840                   P474832 0.041909    0.263752  2.808736\n",
            "    P479841          P500633, P482676 0.041909    0.234336  2.849064\n",
            "    P476414                   P481732 0.041909    0.191402  2.572400\n",
            "    P500633          P503936, P482676 0.041909    0.146667  2.576483\n",
            "    P474832                   P442840 0.041909    0.446301  2.808736\n",
            "    P503936          P500633, P482676 0.041909    0.192585  2.341455\n",
            "    P482676          P500633, P503936 0.041909    0.335727  2.596212\n",
            "    P476414          P500633, P469538 0.041909    0.191402  2.986143\n",
            "    P500633          P469538, P476414 0.041909    0.146667  2.045083\n",
            "    P482676          P500633, P479841 0.041909    0.335727  3.133921\n",
            "    P481732                   P476414 0.041909    0.563253  2.572400\n",
            "    P469538          P500633, P476414 0.041909    0.350187  3.022313\n",
            "    P232915                   P500633 0.041685    0.540698  1.892230\n",
            "    P479327          P270594, P479841 0.041685    0.265714  2.694584\n",
            "    P270594          P479327, P479841 0.041685    0.155259  2.278831\n",
            "    P479841                   P442838 0.041685    0.233083  2.758661\n",
            "    P479841          P270594, P479327 0.041685    0.233083  2.715444\n",
            "    P442838                   P479841 0.041685    0.493369  2.758661\n",
            "    P500633                   P232915 0.041685    0.145882  1.892230\n",
            "    P505009                   P270594 0.041461    0.497312  1.852258\n",
            "    P270594                   P505009 0.041461    0.154424  1.852258\n",
            "    P481831                   P423688 0.041461    0.398707  1.496241\n",
            "    P423688                   P481831 0.041461    0.155593  1.496241\n",
            "    P501760          P500633, P500777 0.041237    0.337615  3.171446\n",
            "    P500777                   P442840 0.041237    0.258790  1.628664\n",
            "    P442840                   P500777 0.041237    0.259520  1.628664\n",
            "    P479841                   P400259 0.041237    0.230576  1.789273\n",
            "    P400259                   P479841 0.041237    0.320000  1.789273\n",
            "    P400259                   P479327 0.041237    0.320000  2.039771\n",
            "    P479327                   P400259 0.041237    0.262857  2.039771\n",
            "    P471046                   P270594 0.041237    0.571429  2.128309\n",
            "    P500777          P500633, P501760 0.041237    0.258790  3.095772\n",
            "    P270594                   P471046 0.041237    0.153589  2.128309\n",
            "    P500633          P500777, P501760 0.041237    0.144314  2.728508\n",
            "    P442840                   P469538 0.041013    0.258110  2.156717\n",
            "    P479327                   P471237 0.041013    0.261429  1.778193\n",
            "    P471237                   P479327 0.041013    0.278963  1.778193\n",
            "    P455236                   P442840 0.041013    0.444175  2.795357\n",
            "    P442840                   P455236 0.041013    0.258110  2.795357\n",
            "    P433520                   P270594 0.041013    0.414966  1.545558\n",
            "    P270594                   P433520 0.041013    0.152755  1.545558\n",
            "    P500633          P479318, P476414 0.041013    0.143529  2.287244\n",
            "    P469538                   P442840 0.041013    0.342697  2.156717\n",
            "    P476414          P500633, P423688 0.041013    0.187308  1.820847\n",
            "    P476414          P500633, P479318 0.041013    0.187308  2.795213\n",
            "    P500633          P423688, P476414 0.041013    0.143529  2.193247\n",
            "    P423688          P500633, P476414 0.041013    0.153911  1.328337\n",
            "    P423688                   P481739 0.041013    0.153911  1.433717\n",
            "    P481739                   P423688 0.041013    0.382046  1.433717\n",
            "    P479318          P500633, P476414 0.041013    0.326786  2.820344\n",
            "    P469538          P270594, P476414 0.040789    0.340824  3.011399\n",
            "    P501760                   P503726 0.040789    0.333945  3.010227\n",
            "    P476414          P469538, P270594 0.040789    0.186285  3.221712\n",
            "    P270594          P469538, P476414 0.040789    0.151920  2.118333\n",
            "    P476414          P500633, P423148 0.040789    0.186285  3.246881\n",
            "    P500633          P476414, P423148 0.040789    0.142745  2.188758\n",
            "    P503726                   P501760 0.040789    0.367677  3.010227\n",
            "    P500777                   P500288 0.040789    0.255977  3.103727\n",
            "    P500288                   P500777 0.040789    0.494565  3.103727\n",
            "    P503726          P500633, P270594 0.040789    0.367677  2.463324\n",
            "    P270594          P500633, P503726 0.040789    0.151920  2.361904\n",
            "    P500633          P503726, P270594 0.040789    0.142745  2.291110\n",
            "    P479327                   P501254 0.040789    0.260000  2.257043\n",
            "    P501254                   P479327 0.040789    0.354086  2.257043\n",
            "    P423148          P500633, P476414 0.040789    0.384778  3.320850\n",
            "    P500633          P423688, P500777 0.040565    0.141961  2.474332\n",
            "    P500777          P500633, P423688 0.040565    0.254571  2.474719\n",
            "    P423688          P500633, P500777 0.040565    0.152229  1.429989\n",
            "    P270594                   P232915 0.040565    0.151085  1.959715\n",
            "    P232915                   P270594 0.040565    0.526163  1.959715\n",
            "    P479318          P270594, P479841 0.040341    0.321429  3.259578\n",
            "    P270594          P479318, P479841 0.040341    0.150250  2.529877\n",
            "    P479841          P479318, P270594 0.040341    0.225564  3.267747\n",
            "    P476414 P500633, P270594, P503936 0.040341    0.184237  2.277195\n",
            "    P503936 P500633, P270594, P476414 0.040341    0.185376  2.625864\n",
            "    P270594 P500633, P503936, P476414 0.040341    0.150250  2.568649\n",
            "    P270594                   P482540 0.040341    0.150250  1.948888\n",
            "    P482540                   P270594 0.040341    0.523256  1.948888\n",
            "    P500633 P270594, P503936, P476414 0.040341    0.141176  2.540038\n",
            "    P500857                   P503936 0.040117    0.482480  2.217121\n",
            "    P482676                   P442840 0.040117    0.321364  2.022466\n",
            "    P270594          P482676, P479841 0.040117    0.149416  2.515822\n",
            "    P479841          P270594, P482676 0.040117    0.224311  3.060779\n",
            "    P482676          P270594, P479841 0.040117    0.321364  3.258928\n",
            "    P503936                   P500857 0.040117    0.184346  2.217121\n",
            "    P442840                   P482676 0.040117    0.252468  2.022466\n",
            "    P475124                   P476414 0.040117    0.655678  2.994507\n",
            "    P270594                   P500993 0.040117    0.149416  2.089946\n",
            "    P500993                   P270594 0.040117    0.561129  2.089946\n",
            "    P476414                   P475124 0.040117    0.183214  2.994507\n",
            "    P504045                   P270594 0.039892    0.597315  2.224726\n",
            "    P270594                   P504045 0.039892    0.148581  2.224726\n",
            "    P479318                   P423148 0.039892    0.317857  2.998475\n",
            "    P411365          P500633, P503936 0.039892    0.346979  2.683221\n",
            "    P482535                   P503936 0.039892    0.403628  1.854777\n",
            "    P503936                   P482535 0.039892    0.183316  1.854777\n",
            "    P466123                   P479327 0.039892    0.315044  2.008182\n",
            "    P479327                   P466123 0.039892    0.254286  2.008182\n",
            "    P500633          P503936, P411365 0.039892    0.139608  2.532237\n",
            "    P423148                   P479318 0.039892    0.376321  2.998475\n",
            "    P503936          P500633, P411365 0.039892    0.183316  2.604958\n",
            "    P481989                   P270594 0.039668    0.470745  1.753308\n",
            "    P500633          P479318, P479841 0.039668    0.138824  2.337474\n",
            "    P479841          P479318, P476414 0.039668    0.221805  3.534613\n",
            "    P476414          P479318, P479841 0.039668    0.181167  3.050439\n",
            "    P479318          P476414, P479841 0.039668    0.316071  3.059242\n",
            "    P500777                   P482551 0.039668    0.248945  2.676610\n",
            "    P482551                   P500777 0.039668    0.426506  2.676610\n",
            "    P482551          P483076, P500777 0.039668    0.426506 10.751807\n",
            "    P479318          P500633, P479841 0.039668    0.316071  2.950441\n",
            "    P500777                   P483076 0.039668    0.248945  2.676610\n",
            "    P483076                   P500777 0.039668    0.426506  2.676610\n",
            "    P479841          P500633, P479318 0.039668    0.221805  3.310006\n",
            "    P442838                   P500633 0.039668    0.469496  1.643052\n",
            "    P500633                   P442838 0.039668    0.138824  1.643052\n",
            "    P483076          P482551, P500777 0.039668    0.426506 10.751807\n",
            "    P500777          P482551, P483076 0.039668    0.248945  2.676610\n",
            "    P270594                   P481989 0.039668    0.147746  1.753308\n",
            "    P479327          P270594, P503936 0.039444    0.251429  2.017760\n",
            "    P503936          P270594, P479327 0.039444    0.181256  2.111661\n",
            "    P270594          P503936, P479327 0.039444    0.146912  2.511568\n",
            "    P500633                   P456218 0.039444    0.138039  1.646874\n",
            "    P505009                   P503936 0.039444    0.473118  2.174103\n",
            "    P503936                   P505009 0.039444    0.181256  2.174103\n",
            "    P423688                   P469538 0.039444    0.148024  1.236856\n",
            "    P500633                   P504045 0.039444    0.138039  2.066882\n",
            "    P504045                   P500633 0.039444    0.590604  2.066882\n",
            "    P482676          P476414, P479841 0.039444    0.315978  3.058342\n",
            "    P479327                   P455236 0.039444    0.251429  2.722996\n",
            "    P455236                   P479327 0.039444    0.427184  2.722996\n",
            "    P481739                   P482676 0.039444    0.367432  2.943415\n",
            "    P469538                   P423688 0.039444    0.329588  1.236856\n",
            "    P476414          P482676, P479841 0.039444    0.180143  3.033205\n",
            "    P482676                   P481739 0.039444    0.315978  2.943415\n",
            "    P456218                   P500633 0.039444    0.470588  1.646874\n",
            "    P479841          P476414, P482676 0.039444    0.220551  3.216014\n",
            "    P503936          P500633, P479327 0.039220    0.180227  2.138753\n",
            "    P270594          P500633, P423148 0.039220    0.146077  2.546073\n",
            "    P423148          P500633, P270594 0.039220    0.369979  2.478747\n",
            "    P479327          P500633, P503936 0.039220    0.250000  1.933276\n",
            "    P270594          P503936, P501760 0.039220    0.146077  2.536166\n",
            "    P500633          P270594, P423148 0.039220    0.137255  2.285192\n",
            "    P503936          P270594, P501760 0.039220    0.180227  2.544845\n",
            "    P474832                   P503936 0.039220    0.417661  1.919262\n",
            "    P500633          P503936, P479327 0.039220    0.137255  2.346480\n",
            "    P501760          P270594, P503936 0.039220    0.321101  2.576893\n",
            "    P503936                   P474832 0.039220    0.180227  1.919262\n",
            "    P479841          P500633, P423688 0.038996    0.218045  2.119646\n",
            "    P423148                   P423688 0.038996    0.367865  1.380498\n",
            "    P423688                   P423148 0.038996    0.146341  1.380498\n",
            "    P482676          P270594, P503936 0.038996    0.312388  2.506968\n",
            "    P270594          P503936, P482676 0.038996    0.145242  2.551457\n",
            "    P503936          P270594, P482676 0.038996    0.179197  2.445186\n",
            "    P423688                   P505023 0.038996    0.146341  1.525644\n",
            "    P505023                   P423688 0.038996    0.406542  1.525644\n",
            "    P500633          P423688, P479841 0.038996    0.136471  2.324167\n",
            "    P423688          P500633, P479841 0.038996    0.146341  1.366058\n",
            "    P505031                   P505020 0.038772    0.383592  6.712108\n",
            "    P482676                   P501760 0.038772    0.310592  2.542869\n",
            "    P505020                   P505031 0.038772    0.678431  6.712108\n",
            "    P505024                   P505009 0.038772    0.580537  6.963322\n",
            "    P505009                   P505024 0.038772    0.465054  6.963322\n",
            "    P500633                   P500744 0.038772    0.135686  2.284650\n",
            "    P479841                   P482535 0.038772    0.216792  2.193483\n",
            "    P474832                   P479327 0.038772    0.412888  2.631865\n",
            "    P501760                   P482676 0.038772    0.317431  2.542869\n",
            "    P503936                   P503814 0.038772    0.178167  2.789405\n",
            "    P503814                   P503936 0.038772    0.607018  2.789405\n",
            "    P479327                   P477157 0.038772    0.247143  2.842143\n",
            "    P477157                   P479327 0.038772    0.445876  2.842143\n",
            "    P479327                   P474832 0.038772    0.247143  2.631865\n",
            "    P482535                   P479841 0.038772    0.392290  2.193483\n",
            "    P474075                   P270594 0.038772    0.611307  2.276839\n",
            "    P270594                   P474075 0.038772    0.144407  2.276839\n",
            "    P500744                   P500633 0.038772    0.652830  2.284650\n",
            "    P476414          P423688, P270594 0.038548    0.176049  1.930052\n",
            "    P442840                   P442838 0.038548    0.242595  2.871246\n",
            "    P501254          P500633, P501760 0.038548    0.334630  4.003004\n",
            "    P505009                   P505054 0.038548    0.462366  6.549445\n",
            "    P442838                   P442839 0.038548    0.456233  6.150192\n",
            "    P270594          P423688, P476414 0.038548    0.143573  2.193908\n",
            "    P423688          P270594, P476414 0.038548    0.144659  1.278159\n",
            "    P503936          P500633, P501254 0.038548    0.177137  2.220183\n",
            "    P501254          P500633, P503936 0.038548    0.334630  2.587731\n",
            "    P500633          P501254, P503936 0.038548    0.134902  2.761158\n",
            "    P442839                   P442838 0.038548    0.519637  6.150192\n",
            "    P270594          P442840, P479841 0.038548    0.143573  2.390377\n",
            "    P479841          P270594, P442840 0.038548    0.215539  3.014841\n",
            "    P442840          P270594, P479841 0.038548    0.242595  2.460136\n",
            "    P500633          P501254, P501760 0.038548    0.134902  2.487325\n",
            "    P505054                   P505009 0.038548    0.546032  6.549445\n",
            "    P462666                   P500633 0.038548    0.573333  2.006442\n",
            "    P500633                   P462666 0.038548    0.134902  2.006442\n",
            "    P500633          P270594, P479645 0.038548    0.134902  2.417400\n",
            "    P270594          P500633, P479645 0.038548    0.143573  2.304392\n",
            "    P479645          P500633, P270594 0.038548    0.410501  2.750235\n",
            "    P501760          P500633, P501254 0.038548    0.315596  3.955592\n",
            "    P442838                   P442840 0.038548    0.456233  2.871246\n",
            "    P423688                   P501254 0.038324    0.143818  1.248477\n",
            "    P500857                   P423688 0.038324    0.460916  1.729697\n",
            "    P479841                   P442839 0.038324    0.214286  2.888649\n",
            "    P482551          P483076, P479841 0.038324    0.412048 10.751807\n",
            "    P476414          P479327, P442840 0.038324    0.175026  3.136402\n",
            "    P479841          P482551, P483076 0.038324    0.214286  2.303959\n",
            "    P483076          P482551, P479841 0.038324    0.412048 10.751807\n",
            "    P476414                   P503726 0.038324    0.175026  1.577705\n",
            "    P479841                   P483076 0.038324    0.214286  2.303959\n",
            "    P423688                   P500857 0.038324    0.143818  1.729697\n",
            "    P479327          P476414, P442840 0.038324    0.244286  3.079104\n",
            "    P501254                   P423688 0.038324    0.332685  1.248477\n",
            "    P442840          P476414, P479327 0.038324    0.241185  3.110308\n",
            "    P482551                   P479841 0.038324    0.412048  2.303959\n",
            "    P479841                   P482551 0.038324    0.214286  2.303959\n",
            "    P505024                   P500633 0.038324    0.573826  2.008164\n",
            "    P500633                   P505024 0.038324    0.134118  2.008164\n",
            "    P503936                   P504045 0.038324    0.176107  2.636879\n",
            "    P483076                   P479841 0.038324    0.412048  2.303959\n",
            "    P442839                   P479841 0.038324    0.516616  2.888649\n",
            "    P503726                   P476414 0.038324    0.345455  1.577705\n",
            "    P504045                   P503936 0.038324    0.573826  2.636879\n",
            "    P481739                   P479327 0.038100    0.354906  2.262273\n",
            "    P482535                   P479327 0.038100    0.385488  2.457208\n",
            "    P479327                   P481739 0.038100    0.242857  2.262273\n",
            "    P469538                   P479327 0.038100    0.318352  2.029267\n",
            "    P479841                   P471043 0.038100    0.213033  2.494886\n",
            "    P270594                   P479348 0.038100    0.141903  2.117632\n",
            "    P462666                   P270594 0.038100    0.566667  2.110573\n",
            "    P471043                   P479841 0.038100    0.446194  2.494886\n",
            "    P479327                   P469538 0.038100    0.242857  2.029267\n",
            "    P479327                   P482535 0.038100    0.242857  2.457208\n",
            "    P481739          P500633, P270594 0.038100    0.354906  2.377764\n",
            "    P479348                   P270594 0.038100    0.568562  2.117632\n",
            "    P270594                   P461949 0.038100    0.141903  1.873290\n",
            "    P461949                   P270594 0.038100    0.502959  1.873290\n",
            "    P270594                   P462666 0.038100    0.141903  2.110573\n",
            "    P500633          P481739, P270594 0.038100    0.133333  2.305943\n",
            "    P270594          P500633, P481739 0.038100    0.141903  2.454155\n",
            "    P500777          P270594, P476414 0.037875    0.237693  2.100174\n",
            "    P270594          P476414, P500777 0.037875    0.141068  2.264199\n",
            "    P476414          P270594, P500777 0.037875    0.172979  1.963944\n",
            "    P442839                   P500633 0.037875    0.510574  1.786809\n",
            "    P442839                   P442840 0.037875    0.510574  3.213232\n",
            "    P442840                   P442839 0.037875    0.238364  3.213232\n",
            "    P500633                   P504044 0.037875    0.132549  2.414015\n",
            "    P504044                   P500633 0.037875    0.689796  2.414015\n",
            "    P500288                   P501760 0.037875    0.459239  3.759862\n",
            "    P501760                   P500288 0.037875    0.310092  3.759862\n",
            "    P500633                   P442839 0.037875    0.132549  1.786809\n",
            "    P270594                   P503814 0.037875    0.141068  2.208587\n",
            "    P500633          P442840, P479841 0.037875    0.132549  2.206842\n",
            "    P479841          P500633, P442840 0.037875    0.211779  3.068052\n",
            "    P442840          P500633, P479841 0.037875    0.238364  2.225062\n",
            "    P481831                   P503936 0.037875    0.364224  1.673706\n",
            "    P503936                   P481831 0.037875    0.174047  1.673706\n",
            "    P503814                   P270594 0.037875    0.592982  2.208587\n",
            "    P479318                   P500777 0.037875    0.301786  1.893907\n",
            "    P500777                   P479318 0.037875    0.237693  1.893907\n",
            "    P500777                   P500857 0.037651    0.236287  2.841812\n",
            "    P500857                   P500777 0.037651    0.452830  2.841812\n",
            "    P309308                   P479327 0.037651    0.203636  1.298036\n",
            "    P442840                   P481739 0.037651    0.236953  2.207278\n",
            "    P503651                   P500633 0.037651    0.617647  2.161522\n",
            "    P500633                   P503651 0.037651    0.131765  2.161522\n",
            "    P479327                   P309308 0.037651    0.240000  1.298036\n",
            "    P481739                   P442840 0.037651    0.350731  2.207278\n",
            "    P505031          P500633, P270594 0.037427    0.370288  2.480820\n",
            "    P500777          P476414, P479841 0.037427    0.234880  2.273398\n",
            "    P503651                   P270594 0.037427    0.613971  2.286759\n",
            "    P476414                   P433520 0.037427    0.170931  1.729469\n",
            "    P500633          P270594, P505031 0.037427    0.130980  2.385447\n",
            "    P505031                   P423688 0.037427    0.370288  1.389593\n",
            "    P500633                   P501288 0.037427    0.130980  2.366132\n",
            "    P479841          P476414, P500777 0.037427    0.209273  3.358910\n",
            "    P418624                   P503936 0.037427    0.471751  2.167822\n",
            "    P423688                   P505031 0.037427    0.140454  1.389593\n",
            "    P503936                   P418624 0.037427    0.171988  2.167822\n",
            "    P501288                   P500633 0.037427    0.676113  2.366132\n",
            "    P474832                   P466123 0.037427    0.398568  3.147629\n",
            "    P466123                   P474832 0.037427    0.295575  3.147629\n",
            "    P476414          P500777, P479841 0.037427    0.170931  2.835301\n",
            "    P481830                   P500633 0.037427    0.598566  2.094747\n",
            "    P500633                   P481830 0.037427    0.130980  2.094747\n",
            "    P270594          P500633, P505031 0.037427    0.139399  2.245481\n",
            "    P270594                   P503651 0.037427    0.139399  2.286759\n",
            "    P400259                   P501254 0.037427    0.290435  2.521245\n",
            "    P500777          P270594, P479841 0.037427    0.234880  2.381901\n",
            "    P479841          P270594, P500777 0.037427    0.209273  2.376023\n",
            "    P501254                   P400259 0.037427    0.324903  2.521245\n",
            "    P433520                   P476414 0.037427    0.378685  1.729469\n",
            "    P270594          P500777, P479841 0.037427    0.139399  2.312261\n",
            "    P501760                   P479318 0.037203    0.304587  2.426907\n",
            "    P479318                   P501760 0.037203    0.296429  2.426907\n",
            "    P423688                   P433520 0.037203    0.139613  1.412594\n",
            "    P503936                   P462666 0.037203    0.170958  2.542712\n",
            "    P270594                   P504125 0.037203    0.138564  2.154264\n",
            "    P462666                   P503936 0.037203    0.553333  2.542712\n",
            "    P270594          P503726, P503936 0.037203    0.138564  2.368865\n",
            "    P504125                   P270594 0.037203    0.578397  2.154264\n",
            "    P503936          P503726, P270594 0.037203    0.170958  2.743934\n",
            "    P433520                   P423688 0.037203    0.376417  1.412594\n",
            "    P503726          P270594, P503936 0.037203    0.335354  2.691272\n",
            "    P503651                   P503936 0.037203    0.610294  2.804462\n",
            "    P503936                   P503651 0.037203    0.170958  2.804462\n",
            "    P479841          P469538, P476414 0.036979    0.206767  2.883106\n",
            "    P476414          P469538, P479841 0.036979    0.168884  3.126813\n",
            "    P482535                   P482676 0.036979    0.374150  2.997228\n",
            "    P482676                   P482535 0.036979    0.296230  2.997228\n",
            "    P482676                   P423148 0.036979    0.296230  2.794455\n",
            "    P469538          P476414, P479841 0.036979    0.308989  2.990690\n",
            "    P479841                   P309308 0.036979    0.206767  1.118296\n",
            "    P477157                   P479318 0.036979    0.425258  3.388393\n",
            "    P423148                   P482676 0.036979    0.348837  2.794455\n",
            "    P474832          P500633, P476414 0.036979    0.393795  3.398670\n",
            "    P500633          P474832, P476414 0.036979    0.129412  2.154609\n",
            "    P503726                   P479841 0.036979    0.333333  1.863826\n",
            "    P479841                   P503726 0.036979    0.206767  1.863826\n",
            "    P476414          P500633, P474832 0.036979    0.168884  3.166227\n",
            "    P479318                   P477157 0.036979    0.294643  3.388393\n",
            "    P309308                   P479841 0.036979    0.200000  1.118296\n",
            "    P469538          P500633, P270594 0.036755    0.307116  2.057586\n",
            "    P482551                   P479327 0.036755    0.395181  2.518995\n",
            "    P479327                   P482551 0.036755    0.234286  2.518995\n",
            "    P483076                   P479327 0.036755    0.395181  2.518995\n",
            "    P479327                   P483076 0.036755    0.234286  2.518995\n",
            "    P479841          P476414, P423148 0.036755    0.205514  3.151211\n",
            "    P500633          P469538, P270594 0.036755    0.128627  2.224557\n",
            "    P476414          P423148, P479841 0.036755    0.167861  3.120812\n",
            "    P423148          P476414, P479841 0.036755    0.346723  3.355918\n",
            "    P469538                   P474832 0.036755    0.307116  3.270530\n",
            "    P500288          P500633, P270594 0.036755    0.445652  2.985736\n",
            "    P479327          P482551, P483076 0.036755    0.234286  2.518995\n",
            "    P482551          P483076, P479327 0.036755    0.395181 10.751807\n",
            "    P483076          P482551, P479327 0.036755    0.395181 10.751807\n",
            "    P503936                   P471046 0.036755    0.168898  2.340444\n",
            "    P471046                   P503936 0.036755    0.509317  2.340444\n",
            "    P474832                   P469538 0.036755    0.391408  3.270530\n",
            "    P500633          P500288, P270594 0.036755    0.128627  2.562213\n",
            "    P270594          P500633, P500288 0.036755    0.136895  2.340325\n",
            "    P500633                   P475124 0.036755    0.128627  2.102329\n",
            "    P475124                   P500633 0.036755    0.600733  2.102329\n",
            "    P270594          P500633, P469538 0.036755    0.136895  2.135751\n",
            "    P501254                   P479318 0.036531    0.317121  2.526772\n",
            "    P423688                   P505009 0.036531    0.137090  1.644343\n",
            "    P505009                   P423688 0.036531    0.438172  1.644343\n",
            "    P479841                   P481732 0.036531    0.204261  2.745214\n",
            "    P481732                   P479841 0.036531    0.490964  2.745214\n",
            "    P503936 P500633, P270594, P500777 0.036531    0.167868  2.723737\n",
            "    P500633          P482551, P270594 0.036531    0.127843  2.309458\n",
            "    P500633 P270594, P503936, P500777 0.036531    0.127843  2.581159\n",
            "    P270594 P500633, P503936, P500777 0.036531    0.136060  2.508678\n",
            "    P474075                   P500633 0.036531    0.575972  2.015675\n",
            "    P482676          P500633, P500777 0.036531    0.292639  2.748960\n",
            "    P500777          P500633, P482676 0.036531    0.229255  2.787286\n",
            "    P500633          P500777, P482676 0.036531    0.127843  2.690736\n",
            "    P483076          P500633, P270594 0.036531    0.392771  2.631448\n",
            "    P500633          P270594, P483076 0.036531    0.127843  2.309458\n",
            "    P482551          P500633, P270594 0.036531    0.392771  2.631448\n",
            "    P270594          P500633, P482551 0.036531    0.136060  2.447985\n",
            "    P500777 P500633, P270594, P503936 0.036531    0.229255  2.833612\n",
            "    P482551 P500633, P270594, P483076 0.036531    0.392771 10.751807\n",
            "    P483076 P500633, P270594, P482551 0.036531    0.392771 10.751807\n",
            "    P270594 P500633, P483076, P482551 0.036531    0.136060  2.447985\n",
            "    P500633 P482551, P270594, P483076 0.036531    0.127843  2.309458\n",
            "    P270594          P500633, P483076 0.036531    0.136060  2.447985\n",
            "    P505054                   P505024 0.036531    0.517460  7.748013\n",
            "    P505024                   P505054 0.036531    0.546980  7.748013\n",
            "    P500633                   P474075 0.036531    0.127843  2.015675\n",
            "    P479318                   P501254 0.036531    0.291071  2.526772\n",
            "    P500633          P501254, P500777 0.036307    0.127059  2.624706\n",
            "    P501760          P482551, P483076 0.036307    0.297248  3.195950\n",
            "    P503936 P500633, P423688, P270594 0.036307    0.166838  2.885397\n",
            "    P270594 P500633, P423688, P503936 0.036307    0.135225  2.514065\n",
            "    P482551          P483076, P501760 0.036307    0.390361 10.751807\n",
            "    P483076          P482551, P501760 0.036307    0.390361 10.751807\n",
            "    P500777          P500633, P501254 0.036307    0.227848  2.855782\n",
            "    P501254          P500633, P500777 0.036307    0.315175  2.960655\n",
            "    P471237                   P479318 0.036307    0.246951  1.967672\n",
            "    P482551                   P501760 0.036307    0.390361  3.195950\n",
            "    P423688 P500633, P270594, P503936 0.036307    0.136249  1.684052\n",
            "    P500633 P423688, P270594, P503936 0.036307    0.127059  2.454270\n",
            "    P501760                   P482551 0.036307    0.297248  3.195950\n",
            "    P479318                   P471237 0.036307    0.289286  1.967672\n",
            "    P483076                   P501760 0.036307    0.390361  3.195950\n",
            "    P501760                   P483076 0.036307    0.297248  3.195950\n",
            "    P471043                   P503936 0.036307    0.425197  1.953891\n",
            "    P466123                   P471043 0.036307    0.286726  3.357926\n",
            "    P471043                   P466123 0.036307    0.425197  3.357926\n",
            "    P503936                   P471043 0.036307    0.166838  1.953891\n",
            "    P500633                   P504125 0.036307    0.127059  1.975388\n",
            "    P504125                   P500633 0.036307    0.564460  1.975388\n",
            "    P471237                   P466123 0.036082    0.245427  1.938220\n",
            "    P501254                   P482676 0.036082    0.313230  2.509211\n",
            "    P482676                   P501254 0.036082    0.289048  2.509211\n",
            "    P504044                   P270594 0.036082    0.657143  2.447555\n",
            "    P474075                   P479841 0.036082    0.568905  3.181018\n",
            "    P466123                   P471237 0.036082    0.284956  1.938220\n",
            "    P270594                   P504044 0.036082    0.134391  2.447555\n",
            "    P479841                   P474075 0.036082    0.201754  3.181018\n",
            "    P423148          P270594, P479841 0.035858    0.338266  3.430329\n",
            "    P479841          P270594, P423148 0.035858    0.200501  3.338196\n",
            "    P270594          P423148, P479841 0.035858    0.133556  2.483027\n",
            "    P477157                   P474832 0.035858    0.412371  4.391408\n",
            "    P471043                   P455236 0.035858    0.419948  4.548072\n",
            "    P309308                   P479318 0.035858    0.193939  1.545281\n",
            "    P455236                   P471043 0.035858    0.388350  4.548072\n",
            "    P474832                   P477157 0.035858    0.381862  4.391408\n",
            "    P479318                   P309308 0.035858    0.285714  1.545281\n",
            "    P461949                   P479841 0.035634    0.470414  2.630311\n",
            "    P500288                   P501254 0.035634    0.432065  3.750730\n",
            "    P501254                   P500288 0.035634    0.309339  3.750730\n",
            "    P423688          P500633, P482676 0.035634    0.133726  1.625844\n",
            "    P479348                   P500633 0.035634    0.531773  1.860995\n",
            "    P482676          P500633, P423688 0.035634    0.285458  2.774973\n",
            "    P503936                   P471237 0.035634    0.163749  1.113791\n",
            "    P479841                   P461949 0.035634    0.199248  2.630311\n",
            "    P471237                   P503936 0.035634    0.242378  1.113791\n",
            "    P479645          P500633, P476414 0.035634    0.379475  3.275082\n",
            "    P500633          P476414, P479645 0.035634    0.124706  2.337973\n",
            "    P500633          P423688, P482676 0.035634    0.124706  2.649703\n",
            "    P476414          P500633, P479645 0.035634    0.162743  2.612085\n",
            "    P500633                   P479348 0.035634    0.124706  1.860995\n",
            "    P503726          P500633, P503936 0.035410    0.319192  2.468344\n",
            "    P500633          P503726, P503936 0.035410    0.123922  2.118537\n",
            "    P479841                   P479348 0.035410    0.197995  2.954694\n",
            "    P479348                   P479841 0.035410    0.528428  2.954694\n",
            "    P442840                   P471043 0.035410    0.222849  2.609849\n",
            "    P423688          P476414, P479841 0.035410    0.132885  1.286186\n",
            "    P476414          P500633, P477157 0.035410    0.161720  3.207078\n",
            "    P477157          P500633, P476414 0.035410    0.407216  3.514507\n",
            "    P471043                   P442840 0.035410    0.414698  2.609849\n",
            "    P479327          P500633, P500777 0.035410    0.225714  2.120289\n",
            "    P500633          P500777, P479327 0.035410    0.123922  2.446628\n",
            "    P500857          P500633, P270594 0.035410    0.425876  2.853241\n",
            "    P503936          P500633, P503726 0.035410    0.162719  2.529796\n",
            "    P476414                   P471101 0.035410    0.161720  2.577117\n",
            "    P500633          P270594, P500857 0.035410    0.123922  2.414577\n",
            "    P270594          P500633, P500857 0.035410    0.131886  2.441815\n",
            "    P500633          P476414, P477157 0.035410    0.123922  2.185526\n",
            "    P500777          P500633, P479327 0.035410    0.222222  2.637116\n",
            "    P479841          P423688, P476414 0.035410    0.197995  3.025526\n",
            "    P476414          P423688, P479841 0.035410    0.161720  2.754170\n",
            "    P471101                   P476414 0.035410    0.564286  2.577117\n",
            "    P474832          P270594, P476414 0.035186    0.374702  3.310730\n",
            "    P270594          P474832, P476414 0.035186    0.131052  2.181914\n",
            "    P476414          P270594, P474832 0.035186    0.160696  3.172680\n",
            "    P483076                   P423688 0.035186    0.378313  1.419709\n",
            "    P505054          P505023, P505031 0.035186    0.498413  9.711430\n",
            "    P470529                   P270594 0.035186    0.379227  1.412447\n",
            "    P270594                   P470529 0.035186    0.131052  1.412447\n",
            "    P505023          P505031, P505054 0.035186    0.366822  8.266473\n",
            "    P503936          P270594, P411365 0.035186    0.161689  2.652413\n",
            "    P270594          P411365, P503936 0.035186    0.131052  2.377044\n",
            "    P411365          P270594, P503936 0.035186    0.306043  2.456049\n",
            "    P505031          P505023, P505054 0.035186    0.348115  6.872967\n",
            "    P503936                   P442838 0.035186    0.161689  1.913677\n",
            "    P442838                   P503936 0.035186    0.416446  1.913677\n",
            "    P482551          P423688, P483076 0.035186    0.378313 10.751807\n",
            "    P270594          P479327, P442840 0.035186    0.131052  2.348405\n",
            "    P442840          P270594, P479327 0.035186    0.221439  2.579789\n",
            "    P423688          P482551, P483076 0.035186    0.132044  1.419709\n",
            "    P479327          P270594, P442840 0.035186    0.224286  3.137188\n",
            "    P483076          P482551, P423688 0.035186    0.378313 10.751807\n",
            "    P482551                   P423688 0.035186    0.378313  1.419709\n",
            "    P423688                   P482551 0.035186    0.132044  1.419709\n",
            "    P423688                   P483076 0.035186    0.132044  1.419709\n",
            "    P482540                   P423688 0.034962    0.453488  1.701821\n",
            "    P423688                   P482540 0.034962    0.131203  1.701821\n",
            "    P483076                   P400259 0.034962    0.375904  2.917012\n",
            "    P471237          P500633, P479841 0.034962    0.237805  2.219844\n",
            "    P479841          P500633, P471237 0.034962    0.195489  3.367840\n",
            "    P400259                   P482551 0.034962    0.271304  2.917012\n",
            "    P479841          P500633, P423148 0.034962    0.195489  3.407307\n",
            "    P500633          P423148, P479841 0.034962    0.122353  2.274745\n",
            "    P423148          P500633, P479841 0.034962    0.329810  3.078684\n",
            "    P483076          P482551, P400259 0.034962    0.375904 10.751807\n",
            "    P479692                   P476414 0.034962    0.666667  3.044695\n",
            "    P400259          P482551, P483076 0.034962    0.271304  2.917012\n",
            "    P400259                   P483076 0.034962    0.271304  2.917012\n",
            "    P482551                   P400259 0.034962    0.375904  2.917012\n",
            "    P423148                   P500777 0.034962    0.329810  2.069776\n",
            "    P500633          P471237, P479841 0.034962    0.122353  2.405017\n",
            "    P500777                   P423148 0.034962    0.219409  2.069776\n",
            "    P482551          P483076, P400259 0.034962    0.375904 10.751807\n",
            "    P503936          P476414, P482676 0.034962    0.160659  2.342683\n",
            "    P476414          P503936, P482676 0.034962    0.159672  2.804955\n",
            "    P482676          P503936, P476414 0.034962    0.280072  3.262873\n",
            "    P501254          P500633, P476414 0.034962    0.303502  2.619392\n",
            "    P476414          P501254, P500633 0.034962    0.159672  2.001288\n",
            "    P500633                   P458219 0.034962    0.122353  1.659389\n",
            "    P458219                   P500633 0.034962    0.474164  1.659389\n",
            "    P476414                   P479692 0.034962    0.159672  3.044695\n",
            "    P500633          P501254, P476414 0.034962    0.122353  2.587388\n",
            "    P500288                   P423688 0.034738    0.421196  1.580635\n",
            "    P433520                   P503936 0.034738    0.351474  1.615115\n",
            "    P423688                   P500288 0.034738    0.130362  1.580635\n",
            "    P501254                   P503726 0.034738    0.301556  2.718272\n",
            "    P503726                   P501254 0.034738    0.313131  2.718272\n",
            "    P471237                   P474832 0.034738    0.236280  2.516190\n",
            "    P474832                   P471237 0.034738    0.369928  2.516190\n",
            "    P270594                   P479692 0.034738    0.129382  2.467110\n",
            "    P503936                   P433520 0.034738    0.159629  1.615115\n",
            "    P500777          P423688, P270594 0.034738    0.218003  2.389996\n",
            "    P270594          P423688, P500777 0.034738    0.129382  2.255093\n",
            "    P479692                   P270594 0.034738    0.662393  2.467110\n",
            "    P475124                   P270594 0.034738    0.567766  2.114666\n",
            "    P423688          P270594, P500777 0.034738    0.130362  1.480086\n",
            "    P270594                   P475124 0.034738    0.129382  2.114666\n",
            "    P504043                   P479339 0.034514    0.939024 20.742212\n",
            "    P471237          P500633, P476414 0.034514    0.234756  2.026077\n",
            "    P476414                   P500288 0.034514    0.157625  1.911208\n",
            "    P500288                   P479327 0.034514    0.418478  2.667500\n",
            "    P479327                   P500288 0.034514    0.220000  2.667500\n",
            "    P476414          P500633, P471237 0.034514    0.157625  2.715538\n",
            "    P423148                   P471237 0.034514    0.325581  2.214549\n",
            "    P479645                   P479327 0.034514    0.367542  2.342816\n",
            "    P270594          P500633, P474832 0.034514    0.128548  2.409997\n",
            "    P500633          P471237, P476414 0.034514    0.120784  2.227023\n",
            "    P479318          P500633, P503936 0.034514    0.275000  2.126603\n",
            "    P500633          P479318, P503936 0.034514    0.120784  2.578658\n",
            "    P471237                   P423148 0.034514    0.234756  2.214549\n",
            "    P504125                   P503936 0.034514    0.536585  2.465751\n",
            "    P474832          P500633, P270594 0.034514    0.367542  2.462419\n",
            "    P500633          P270594, P474832 0.034514    0.120784  2.384689\n",
            "    P503936          P500633, P479318 0.034514    0.158599  2.366791\n",
            "    P503936                   P504125 0.034514    0.158599  2.465751\n",
            "    P500288                   P476414 0.034514    0.418478  1.911208\n",
            "    P479327                   P479645 0.034514    0.220000  2.342816\n",
            "    P479339                   P504043 0.034514    0.762376 20.742212\n",
            "    P481739                   P500777 0.034514    0.321503  2.017647\n",
            "    P500777                   P481739 0.034514    0.216596  2.017647\n",
            "    P500633          P500777, P400259 0.034290    0.120000  2.490419\n",
            "    P476414                   P470529 0.034290    0.156602  1.687820\n",
            "    P270594          P500633, P471237 0.034290    0.127713  2.200211\n",
            "    P471237          P500633, P270594 0.034290    0.233232  1.562582\n",
            "    P470529                   P476414 0.034290    0.369565  1.687820\n",
            "    P500777          P500633, P400259 0.034290    0.215190  2.909628\n",
            "    P469538          P500633, P479841 0.034290    0.286517  2.674557\n",
            "    P479841          P500633, P469538 0.034290    0.191729  2.991246\n",
            "    P476414          P471237, P479841 0.034290    0.156602  3.078227\n",
            "    P500633          P469538, P479841 0.034290    0.120000  2.221743\n",
            "    P471237          P476414, P479841 0.034290    0.233232  2.257440\n",
            "    P501760                   P503668 0.034290    0.280734  3.331476\n",
            "    P482676          P500633, P479318 0.034290    0.274686  4.099158\n",
            "    P503668                   P501760 0.034290    0.406915  3.331476\n",
            "    P400259          P500633, P500777 0.034290    0.266087  2.499537\n",
            "    P500633          P479327, P501760 0.034290    0.120000  2.467465\n",
            "    P479318          P500633, P482676 0.034290    0.273214  3.321750\n",
            "    P500633          P479318, P482676 0.034290    0.120000  2.586667\n",
            "    P501760          P500633, P479327 0.034290    0.280734  3.331476\n",
            "    P479841          P471237, P476414 0.034290    0.191729  3.535108\n",
            "    P479327          P500633, P501760 0.034290    0.218571  2.614653\n",
            "    P500633          P471237, P270594 0.034290    0.120000  2.249748\n",
            "    P479645          P270594, P476414 0.034065    0.362768  3.205293\n",
            "    P423148                   P477157 0.034065    0.321353  3.695560\n",
            "    P476414 P500633, P270594, P482676 0.034065    0.155578  2.992200\n",
            "    P482676 P500633, P270594, P476414 0.034065    0.272890  3.865515\n",
            "    P476414          P270594, P479645 0.034065    0.155578  2.787913\n",
            "    P270594          P476414, P479645 0.034065    0.126878  2.378698\n",
            "    P501760                   P442840 0.034065    0.278899  1.755215\n",
            "    P442840                   P501760 0.034065    0.214386  1.755215\n",
            "    P270594 P500633, P476414, P482676 0.034065    0.126878  2.761611\n",
            "    P500633 P270594, P476414, P482676 0.034065    0.119216  2.620396\n",
            "    P411365                   P442840 0.034065    0.296296  1.864703\n",
            "    P470529                   P442840 0.034065    0.367150  2.310610\n",
            "    P442840                   P411365 0.034065    0.214386  1.864703\n",
            "    P481732                   P503936 0.034065    0.457831  2.103855\n",
            "    P505054                   P270594 0.034065    0.482540  1.797239\n",
            "    P503936                   P481732 0.034065    0.156540  2.103855\n",
            "    P501760          P500633, P476414 0.034065    0.278899  2.407056\n",
            "    P500633          P476414, P501760 0.034065    0.119216  2.620396\n",
            "    P476414          P500633, P501760 0.034065    0.155578  1.861100\n",
            "    P442840                   P470529 0.034065    0.214386  2.310610\n",
            "    P270594          P423688, P479841 0.034065    0.126878  2.160802\n",
            "    P479841          P423688, P270594 0.034065    0.190476  2.088218\n",
            "    P423688          P270594, P479841 0.034065    0.127839  1.296399\n",
            "    P270594                   P505054 0.034065    0.126878  1.797239\n",
            "    P479318                   P466123 0.034065    0.271429  2.143565\n",
            "    P466123                   P479318 0.034065    0.269027  2.143565\n",
            "    P477157                   P423148 0.034065    0.391753  3.695560\n",
            "    P479318          P270594, P503936 0.033841    0.269643  2.163932\n",
            "    P270594                   P456218 0.033841    0.126043  1.503758\n",
            "    P503936          P479318, P270594 0.033841    0.155510  2.252872\n",
            "    P505023                   P505020 0.033841    0.352804  6.173374\n",
            "    P504044                   P503936 0.033841    0.616327  2.832182\n",
            "    P503936                   P504044 0.033841    0.155510  2.832182\n",
            "    P505020                   P505023 0.033841    0.592157  6.173374\n",
            "    P481989                   P503936 0.033841    0.401596  1.845438\n",
            "    P503936                   P481989 0.033841    0.155510  1.845438\n",
            "    P470529                   P500633 0.033841    0.364734  1.276427\n",
            "    P500633                   P470529 0.033841    0.118431  1.276427\n",
            "    P270594          P479318, P503936 0.033841    0.126043  2.690936\n",
            "    P456218                   P270594 0.033841    0.403743  1.503758\n",
            "    P423688                   P503668 0.033617    0.126156  1.497101\n",
            "    P503668                   P423688 0.033617    0.398936  1.497101\n",
            "    P500633                   P480461 0.033617    0.117647  2.224327\n",
            "    P480461                   P500633 0.033617    0.635593  2.224327\n",
            "    P479645          P500633, P503936 0.033617    0.357995  2.768414\n",
            "    P500633          P501254, P479841 0.033617    0.117647  2.678271\n",
            "    P503936          P500633, P479645 0.033617    0.154480  2.479458\n",
            "    P500633          P503936, P479645 0.033617    0.117647  2.611648\n",
            "    P466123                   P503936 0.033617    0.265487  1.219981\n",
            "    P503936                   P466123 0.033617    0.154480  1.219981\n",
            "    P270594                   P503879 0.033617    0.125209  1.466355\n",
            "    P503879                   P270594 0.033617    0.393701  1.466355\n",
            "    P481989                   P423688 0.033617    0.398936  1.497101\n",
            "    P500633                   P501282 0.033617    0.117647  2.292320\n",
            "    P501282                   P500633 0.033617    0.655022  2.292320\n",
            "    P476414                   P500857 0.033617    0.153531  1.846513\n",
            "    P500857                   P476414 0.033617    0.404313  1.846513\n",
            "    P479318                   P481739 0.033617    0.267857  2.495154\n",
            "    P481739                   P479318 0.033617    0.313152  2.495154\n",
            "    P423688                   P481989 0.033617    0.126156  1.497101\n",
            "    P500288                   P479841 0.033617    0.407609  2.279135\n",
            "    P479841                   P500288 0.033617    0.187970  2.279135\n",
            "    P501254          P500633, P479841 0.033617    0.291829  2.724142\n",
            "    P479841          P500633, P501254 0.033617    0.187970  2.355960\n",
            "    P476414                   P505023 0.033617    0.153531  1.600599\n",
            "    P505023                   P476414 0.033617    0.350467  1.600599\n",
            "    P503936          P270594, P442840 0.033393    0.153450  2.146377\n",
            "    P442840          P270594, P503936 0.033393    0.210155  1.686533\n",
            "    P423688                   P466123 0.033393    0.125315  0.989659\n",
            "    P501254          P270594, P501760 0.033393    0.289883  4.093225\n",
            "    P270594          P501254, P501760 0.033393    0.124374  2.293209\n",
            "    P483679                   P500633 0.033393    0.369727  1.293900\n",
            "    P479318          P270594, P479327 0.033393    0.266071  3.099767\n",
            "    P411365                   P479327 0.033393    0.290448  1.851401\n",
            "    P479327                   P411365 0.033393    0.212857  1.851401\n",
            "    P270594          P503936, P442840 0.033393    0.124374  2.617720\n",
            "    P469538                   P500777 0.033393    0.279026  1.751076\n",
            "    P500777                   P469538 0.033393    0.209564  1.751076\n",
            "    P270594          P479318, P479327 0.033393    0.124374  2.455560\n",
            "    P479327          P479318, P270594 0.033393    0.212857  3.083664\n",
            "    P500633          P479841, P501760 0.033393    0.116863  2.701770\n",
            "    P479318                   P400259 0.033393    0.266071  2.064714\n",
            "    P400259                   P479318 0.033393    0.259130  2.064714\n",
            "    P466123                   P423688 0.033393    0.263717  0.989659\n",
            "    P501760          P500633, P479841 0.033393    0.273394  2.552063\n",
            "    P479841          P500633, P501760 0.033393    0.186717  2.233593\n",
            "    P503936 P500633, P270594, P479841 0.033393    0.153450  2.297631\n",
            "    P479841 P500633, P270594, P503936 0.033393    0.186717  2.307840\n",
            "    P500633 P270594, P503936, P479841 0.033393    0.116863  2.556086\n",
            "    P270594 P500633, P503936, P479841 0.033393    0.124374  2.466474\n",
            "    P501760          P501254, P270594 0.033393    0.273394  4.235716\n",
            "    P500633                   P483679 0.033393    0.116863  1.293900\n",
            "    P479318                   P479645 0.033393    0.266071  2.833438\n",
            "    P468684                   P309308 0.033393    0.539855  2.919798\n",
            "    P479645                   P479318 0.033393    0.355609  2.833438\n",
            "    P309308                   P468684 0.033393    0.180606  2.919798\n",
            "    P479645                   P500777 0.033169    0.353222  2.216704\n",
            "    P500777                   P479645 0.033169    0.208158  2.216704\n",
            "    P501254          P270594, P503936 0.033169    0.287938  2.310752\n",
            "    P270594          P501254, P503936 0.033169    0.123539  2.528587\n",
            "    P505054          P505009, P505023 0.033169    0.469841  9.194876\n",
            "    P505031                   P476414 0.033169    0.328160  1.498719\n",
            "    P270594          P500777, P400259 0.033169    0.123539  2.563870\n",
            "    P500777          P270594, P400259 0.033169    0.208158  2.789186\n",
            "    P503668                   P500777 0.033169    0.393617  2.470210\n",
            "    P500777                   P503668 0.033169    0.208158  2.470210\n",
            "    P476414          P270594, P477157 0.033169    0.151484  3.086403\n",
            "    P477157          P270594, P476414 0.033169    0.381443  3.370297\n",
            "    P423688          P503936, P476414 0.033169    0.124474  1.450142\n",
            "    P503936          P423688, P476414 0.033169    0.152420  2.329106\n",
            "    P481830                   P270594 0.033169    0.530466  1.975742\n",
            "    P270594                   P481830 0.033169    0.123539  1.975742\n",
            "    P476414          P481739, P270594 0.033169    0.151484  2.619854\n",
            "    P500633                   P505049 0.033169    0.116078  2.386829\n",
            "    P500633          P479318, P479327 0.033169    0.116078  2.291779\n",
            "    P479318          P500633, P479327 0.033169    0.264286  3.136284\n",
            "    P479327          P500633, P479318 0.033169    0.211429  3.155165\n",
            "    P503936          P501254, P270594 0.033169    0.152420  2.361454\n",
            "    P400259          P270594, P500777 0.033169    0.257391  2.922341\n",
            "    P270594          P476414, P477157 0.033169    0.123539  2.178783\n",
            "    P423688                   P479645 0.033169    0.124474  1.325548\n",
            "    P476414                   P505031 0.033169    0.151484  1.498719\n",
            "    P270594          P500777, P501760 0.033169    0.123539  2.335729\n",
            "    P500777          P270594, P501760 0.033169    0.208158  2.939237\n",
            "    P501760          P270594, P500777 0.033169    0.271560  3.083204\n",
            "    P505049                   P500633 0.033169    0.682028  2.386829\n",
            "    P476414          P423688, P503936 0.033169    0.151484  1.816995\n",
            "    P479645                   P423688 0.033169    0.353222  1.325548\n",
            "    P481739          P270594, P476414 0.033169    0.308977  2.730011\n",
            "    P270594          P481739, P476414 0.033169    0.123539  2.439080\n",
            "    P476414          P479841, P477157 0.033169    0.151484  3.265325\n",
            "    P477157          P476414, P479841 0.033169    0.381443  3.691974\n",
            "    P479841          P476414, P477157 0.033169    0.185464  3.270905\n",
            "    P505009          P505023, P505054 0.033169    0.397849  7.854886\n",
            "    P505023          P505009, P505054 0.033169    0.345794  8.970550\n",
            "    P500633          P423688, P501760 0.032945    0.115294  2.665504\n",
            "    P482535                   P423688 0.032945    0.333333  1.250911\n",
            "    P423688                   P482535 0.032945    0.123633  1.250911\n",
            "    P503936                   P232915 0.032945    0.151390  1.963673\n",
            "    P232915                   P503936 0.032945    0.427326  1.963673\n",
            "    P461949                   P503936 0.032945    0.434911  1.998531\n",
            "    P503936          P476414, P442840 0.032945    0.151390  1.908202\n",
            "    P476414          P503936, P442840 0.032945    0.150461  3.166770\n",
            "    P442840          P503936, P476414 0.032945    0.207334  2.415471\n",
            "    P474075                   P442840 0.032945    0.519435  3.268995\n",
            "    P442840                   P474075 0.032945    0.207334  3.268995\n",
            "    P469538                   P471237 0.032945    0.275281  1.872414\n",
            "    P471237                   P469538 0.032945    0.224085  1.872414\n",
            "    P500633          P505023, P505031 0.032945    0.115294  2.246473\n",
            "    P455236          P466123, P476414 0.032945    0.356796  6.317557\n",
            "    P476414          P466123, P455236 0.032945    0.150461  2.832722\n",
            "    P469538          P503936, P476414 0.032945    0.275281  3.207058\n",
            "    P503936          P469538, P476414 0.032945    0.151390  2.110949\n",
            "    P423688          P500633, P501760 0.032945    0.123633  1.478959\n",
            "    P501760          P500633, P423688 0.032945    0.269725  2.622030\n",
            "    P505023          P500633, P505031 0.032945    0.343458  5.532525\n",
            "    P505031          P500633, P505023 0.032945    0.325942  5.912011\n",
            "    P476414          P469538, P503936 0.032945    0.150461  3.243262\n",
            "    P466123          P455236, P476414 0.032945    0.260177  4.588576\n",
            "    P470529                   P471237 0.032945    0.355072  2.415142\n",
            "    P471237                   P470529 0.032945    0.224085  2.415142\n",
            "    P433520                   P479841 0.032945    0.333333  1.863826\n",
            "    P479841                   P433520 0.032945    0.184211  1.863826\n",
            "    P474832                   P423148 0.032945    0.350835  3.309571\n",
            "    P423148                   P474832 0.032945    0.310782  3.309571\n",
            "    P503936                   P461949 0.032945    0.151390  1.998531\n",
            "    P270594 P500633, P476414, P479327 0.032721    0.121870  2.626971\n",
            "    P500633 P270594, P476414, P479327 0.032721    0.114510  2.398792\n",
            "    P476414 P500633, P270594, P479327 0.032721    0.149437  2.899079\n",
            "    P469538                   P479318 0.032721    0.273408  2.178478\n",
            "    P479841          P474832, P476414 0.032721    0.182957  3.046104\n",
            "    P474832          P476414, P479841 0.032721    0.348449  3.372620\n",
            "    P476414          P474832, P479841 0.032721    0.149437  3.160133\n",
            "    P411365                   P479645 0.032721    0.284600  3.030756\n",
            "    P442840          P500633, P503936 0.032721    0.205924  1.592430\n",
            "    P503936          P500633, P442840 0.032721    0.150360  2.178274\n",
            "    P500633          P503936, P442840 0.032721    0.114510  2.410107\n",
            "    P479327 P500633, P270594, P476414 0.032721    0.208571  2.954431\n",
            "    P501760          P500633, P400259 0.032721    0.267890  3.622196\n",
            "    P482676                   P469538 0.032721    0.262118  2.190211\n",
            "    P400259          P500633, P501760 0.032721    0.253913  3.037426\n",
            "    P479318                   P469538 0.032721    0.260714  2.178478\n",
            "    P481989                   P479841 0.032721    0.388298  2.171159\n",
            "    P476414          P270594, P411365 0.032721    0.149437  2.451427\n",
            "    P469538                   P482676 0.032721    0.273408  2.190211\n",
            "    P455236                   P442839 0.032721    0.354369  4.777022\n",
            "    P442839                   P455236 0.032721    0.441088  4.777022\n",
            "    P479841                   P481989 0.032721    0.182957  2.171159\n",
            "    P500633          P400259, P501760 0.032721    0.114510  2.633725\n",
            "    P270594          P411365, P476414 0.032721    0.121870  2.385013\n",
            "    P411365          P270594, P476414 0.032721    0.284600  2.514628\n",
            "    P479645                   P411365 0.032721    0.348449  3.030756\n",
            "    P270594 P500633, P476414, P442840 0.032497    0.121035  2.673557\n",
            "    P482676                   P477157 0.032497    0.260323  2.993716\n",
            "    P477157                   P482676 0.032497    0.373711  2.993716\n",
            "    P476414          P500633, P455236 0.032497    0.148414  3.262173\n",
            "    P482676          P479318, P270594 0.032497    0.260323  3.771305\n",
            "    P500633          P455236, P476414 0.032497    0.113725  2.005704\n",
            "    P442840          P479318, P270594 0.032497    0.204513  2.962788\n",
            "    P270594          P479318, P442840 0.032497    0.121035  2.443703\n",
            "    P479318          P270594, P442840 0.032497    0.258929  3.621753\n",
            "    P503936                   P480461 0.032497    0.149331  2.823361\n",
            "    P480461                   P503936 0.032497    0.614407  2.823361\n",
            "    P470529                   P466123 0.032497    0.350242  2.765978\n",
            "    P466123                   P470529 0.032497    0.256637  2.765978\n",
            "    P479318          P476414, P442840 0.032497    0.258929  3.263670\n",
            "    P501254                   P442840 0.032497    0.282101  1.775367\n",
            "    P476414 P500633, P270594, P442840 0.032497    0.148414  3.278322\n",
            "    P479841                   P500857 0.032497    0.181704  2.185349\n",
            "    P442840                   P501254 0.032497    0.204513  1.775367\n",
            "    P442840          P479318, P476414 0.032497    0.204513  3.259067\n",
            "    P476414          P479318, P442840 0.032497    0.148414  2.996475\n",
            "    P500857                   P479841 0.032497    0.390836  2.185349\n",
            "    P270594          P479318, P482676 0.032497    0.121035  2.608978\n",
            "    P479318          P270594, P482676 0.032497    0.258929  3.533148\n",
            "    P500633 P270594, P476414, P442840 0.032497    0.113725  2.349274\n",
            "    P442840 P500633, P270594, P476414 0.032497    0.204513  2.896949\n",
            "    P423688          P500633, P411365 0.032497    0.121951  1.732950\n",
            "    P411365          P500633, P423688 0.032497    0.282651  2.747689\n",
            "    P500633          P423688, P411365 0.032497    0.113725  2.487466\n",
            "    P455236          P500633, P476414 0.032497    0.351942  3.037455\n",
            "    P505023          P505009, P505031 0.032273    0.336449  7.287542\n",
            "    P505031          P505009, P505023 0.032273    0.319290  6.248570\n",
            "    P500288                   P479318 0.032273    0.391304  3.117857\n",
            "    P500633                   P481366 0.032273    0.112941  2.048551\n",
            "    P500633 P503936, P476414, P479841 0.032273    0.112941  2.545169\n",
            "    P503936 P500633, P476414, P479841 0.032273    0.148301  2.329992\n",
            "    P476414 P500633, P503936, P479841 0.032273    0.147390  2.922907\n",
            "    P479841 P500633, P503936, P476414 0.032273    0.180451  3.084954\n",
            "    P500633          P270594, P477157 0.032273    0.112941  2.301112\n",
            "    P270594          P500633, P477157 0.032273    0.120200  2.383706\n",
            "    P503668                   P476414 0.032273    0.382979  1.749080\n",
            "    P479645                   P442840 0.032273    0.343675  2.162877\n",
            "    P442840                   P479645 0.032273    0.203103  2.162877\n",
            "    P477157          P500633, P270594 0.032273    0.371134  2.486486\n",
            "    P474832                   P479318 0.032273    0.343675  2.738357\n",
            "    P500633                   P500618 0.032273    0.112941  2.153605\n",
            "    P500618                   P500633 0.032273    0.615385  2.153605\n",
            "    P423148          P476414, P442840 0.032273    0.304440  3.837317\n",
            "    P477157                   P466123 0.032273    0.371134  2.930973\n",
            "    P503936          P270594, P479645 0.032273    0.148301  2.657501\n",
            "    P479645          P270594, P503936 0.032273    0.343675  2.758057\n",
            "    P479318                   P474832 0.032273    0.257143  2.738357\n",
            "    P500633          P309308, P270594 0.032273    0.112941  2.056912\n",
            "    P476414          P442840, P423148 0.032273    0.147390  3.223794\n",
            "    P442840          P476414, P423148 0.032273    0.203103  3.114245\n",
            "    P309308          P500633, P270594 0.032273    0.174545  1.169402\n",
            "    P270594          P500633, P309308 0.032273    0.120200  2.373159\n",
            "    P469538                   P455236 0.032273    0.269663  2.920476\n",
            "    P455236                   P469538 0.032273    0.349515  2.920476\n",
            "    P500633                   P503891 0.032273    0.112941  1.945728\n",
            "    P503891                   P500633 0.032273    0.555985  1.945728\n",
            "    P479318                   P500288 0.032273    0.257143  3.117857\n",
            "    P469538                   P423148 0.032273    0.269663  2.543839\n",
            "    P481366                   P500633 0.032273    0.585366  2.048551\n",
            "    P423148                   P469538 0.032273    0.304440  2.543839\n",
            "    P270594          P503936, P479645 0.032273    0.120200  2.668328\n",
            "    P466123                   P477157 0.032273    0.254867  2.930973\n",
            "    P476414                   P503668 0.032273    0.147390  1.749080\n",
            "    P505009          P505023, P505031 0.032273    0.387097  7.542471\n",
            "    P503936                   P500993 0.032048    0.147271  2.059945\n",
            "    P500993                   P503936 0.032048    0.448276  2.059945\n",
            "    P400259                   P442840 0.032048    0.248696  1.565134\n",
            "    P442840                   P400259 0.032048    0.201693  1.565134\n",
            "    P479692                   P500633 0.032048    0.611111  2.138649\n",
            "    P479318          P500633, P442840 0.032048    0.255357  3.699362\n",
            "    P442840          P500633, P479318 0.032048    0.201693  3.009873\n",
            "    P309308          P270594, P476414 0.032048    0.173333  1.531512\n",
            "    P270594          P309308, P476414 0.032048    0.119366  2.237854\n",
            "    P476414          P309308, P270594 0.032048    0.146366  2.665661\n",
            "    P476414          P500633, P481739 0.032048    0.146366  2.531345\n",
            "    P481739          P500633, P476414 0.032048    0.298539  2.576556\n",
            "    P503936                   P479692 0.032048    0.147271  2.808216\n",
            "    P479692                   P503936 0.032048    0.611111  2.808216\n",
            "    P500633          P479318, P442840 0.032048    0.112157  2.264452\n",
            "    P500633                   P479692 0.032048    0.112157  2.138649\n",
            "    P479841          P471237, P270594 0.032048    0.179198  3.359586\n",
            "    P469538                   P466123 0.032048    0.267790  2.114832\n",
            "    P466123                   P469538 0.032048    0.253097  2.114832\n",
            "    P503936          P500633, P469538 0.032048    0.147271  2.297631\n",
            "    P309308                   P483679 0.032048    0.173333  1.919140\n",
            "    P483679                   P309308 0.032048    0.354839  1.919140\n",
            "    P270594          P469538, P479841 0.032048    0.119366  2.209997\n",
            "    P479841          P469538, P270594 0.032048    0.179198  3.099153\n",
            "    P469538          P270594, P479841 0.032048    0.267790  2.715637\n",
            "    P471237          P270594, P479841 0.032048    0.217988  2.210595\n",
            "    P270594          P471237, P479841 0.032048    0.119366  2.346297\n",
            "    P469538          P500633, P503936 0.032048    0.267790  2.070849\n",
            "    P500633          P481739, P476414 0.032048    0.112157  2.214354\n",
            "    P270594                   P501288 0.032048    0.119366  2.156313\n",
            "    P505031                   P479841 0.032048    0.317073  1.772908\n",
            "    P479841                   P505031 0.032048    0.179198  1.772908\n",
            "    P471237                   P500777 0.032048    0.217988  1.368019\n",
            "    P500777                   P471237 0.032048    0.201125  1.368019\n",
            "    P501288                   P270594 0.032048    0.578947  2.156313\n",
            "    P500633          P479645, P479841 0.032048    0.112157  2.633915\n",
            "    P479645          P500633, P479841 0.032048    0.341289  3.185838\n",
            "    P479841          P500633, P479645 0.032048    0.179198  2.876192\n",
            "    P500633          P469538, P503936 0.032048    0.112157  2.417603\n",
            "    P479318                   P482535 0.032048    0.255357  2.583682\n",
            "    P482535                   P479318 0.032048    0.324263  2.583682\n",
            "    P270594                   P458219 0.031824    0.118531  1.607553\n",
            "    P471043          P500633, P476414 0.031824    0.372703  3.216640\n",
            "    P476414          P500633, P471043 0.031824    0.145343  3.413263\n",
            "    P500633          P270594, P503668 0.031824    0.111373  2.228450\n",
            "    P270594          P500633, P503668 0.031824    0.118531  2.371681\n",
            "    P503668          P500633, P270594 0.031824    0.377660  2.530206\n",
            "    P500633          P481739, P479841 0.031824    0.111373  2.366401\n",
            "    P481739          P500633, P479841 0.031824    0.296451  2.767289\n",
            "    P479841          P500633, P481739 0.031824    0.177945  3.077481\n",
            "    P442838                   P455236 0.031824    0.376658  4.079241\n",
            "    P455236                   P442838 0.031824    0.344660  4.079241\n",
            "    P500633                   P505020 0.031824    0.111373  1.948801\n",
            "    P505020                   P500633 0.031824    0.556863  1.948801\n",
            "    P466123                   P482676 0.031824    0.251327  2.013327\n",
            "    P482676                   P466123 0.031824    0.254937  2.013327\n",
            "    P500633          P471043, P476414 0.031824    0.111373  1.904001\n",
            "    P500633                   P480613 0.031824    0.111373  2.079265\n",
            "    P480613                   P500633 0.031824    0.594142  2.079265\n",
            "    P476414          P500633, P411365 0.031824    0.145343  2.065350\n",
            "    P500633          P411365, P476414 0.031824    0.111373  2.179580\n",
            "    P411365          P500633, P476414 0.031824    0.276803  2.388966\n",
            "    P505049                   P270594 0.031824    0.654378  2.437257\n",
            "    P500633          P476414, P400259 0.031824    0.111373  2.561569\n",
            "    P270594                   P500744 0.031824    0.118531  1.995792\n",
            "    P500744                   P270594 0.031824    0.535849  1.995792\n",
            "    P270594                   P505049 0.031824    0.118531  2.437257\n",
            "    P429952                   P309308 0.031824    0.359494  1.944316\n",
            "    P309308                   P429952 0.031824    0.172121  1.944316\n",
            "    P476414          P500633, P400259 0.031824    0.145343  1.965212\n",
            "    P400259          P500633, P476414 0.031824    0.246957  2.131373\n",
            "    P458219                   P270594 0.031824    0.431611  1.607553\n",
            "    P482551 P500633, P483076, P503936 0.031600    0.339759 10.751807\n",
            "    P503936                   P477157 0.031600    0.145211  1.669928\n",
            "    P477157                   P503936 0.031600    0.363402  1.669928\n",
            "    P479318                   P482551 0.031600    0.251786  2.707151\n",
            "    P500288          P500633, P503936 0.031600    0.383152  2.962955\n",
            "    P471043          P270594, P476414 0.031600    0.370079  3.269884\n",
            "    P270594          P471043, P476414 0.031600    0.117696  2.012108\n",
            "    P500633 P482551, P483076, P503936 0.031600    0.110588  2.479622\n",
            "    P483076 P500633, P503936, P482551 0.031600    0.339759 10.751807\n",
            "    P503936 P500633, P483076, P482551 0.031600    0.145211  2.612629\n",
            "    P482551          P503726, P483076 0.031600    0.339759 10.751807\n",
            "    P503726          P482551, P483076 0.031600    0.284848  3.062636\n",
            "    P469538                   P309308 0.031600    0.264045  1.428083\n",
            "    P309308                   P469538 0.031600    0.170909  1.428083\n",
            "    P503668                   P479327 0.031600    0.375000  2.390357\n",
            "    P400259          P270594, P476414 0.031600    0.245217  2.166653\n",
            "    P469538                   P411365 0.031600    0.264045  2.296625\n",
            "    P411365                   P469538 0.031600    0.274854  2.296625\n",
            "    P479318          P482551, P483076 0.031600    0.251786  2.707151\n",
            "    P482551                   P503726 0.031600    0.339759  3.062636\n",
            "    P503726                   P482551 0.031600    0.284848  3.062636\n",
            "    P500633                   P423136 0.031600    0.110588  2.108738\n",
            "    P423136                   P500633 0.031600    0.602564  2.108738\n",
            "    P483076                   P503726 0.031600    0.339759  3.062636\n",
            "    P500633          P411365, P500777 0.031600    0.110588  2.610819\n",
            "    P411365          P500633, P500777 0.031600    0.274854  2.581890\n",
            "    P500777          P500633, P411365 0.031600    0.198312  2.818055\n",
            "    P483076          P479318, P482551 0.031600    0.339759 10.751807\n",
            "    P482551          P479318, P483076 0.031600    0.339759 10.751807\n",
            "    P270594          P476414, P400259 0.031600    0.117696  2.707012\n",
            "    P476414          P270594, P400259 0.031600    0.144319  1.933793\n",
            "    P500633          P479327, P442840 0.031600    0.110588  1.981706\n",
            "    P471237                   P455236 0.031600    0.214939  2.327811\n",
            "    P455236                   P471237 0.031600    0.342233  2.327811\n",
            "    P476414          P471043, P270594 0.031600    0.144319  3.235944\n",
            "    P471237          P270594, P476414 0.031600    0.214939  1.899125\n",
            "    P483076          P482551, P503726 0.031600    0.339759 10.751807\n",
            "    P500633          P482551, P503936 0.031600    0.110588  2.479622\n",
            "    P503936          P500633, P482551 0.031600    0.145211  2.612629\n",
            "    P482551          P500633, P503936 0.031600    0.339759  2.627391\n",
            "    P500633          P483076, P503936 0.031600    0.110588  2.479622\n",
            "    P479318                   P483076 0.031600    0.251786  2.707151\n",
            "    P483076                   P479318 0.031600    0.339759  2.707151\n",
            "    P503726                   P483076 0.031600    0.284848  3.062636\n",
            "    P270594          P471237, P476414 0.031600    0.117696  2.170084\n",
            "    P476414          P471237, P270594 0.031600    0.144319  2.705685\n",
            "    P476414          P270594, P455236 0.031600    0.144319  3.037514\n",
            "    P270594          P455236, P476414 0.031600    0.117696  2.075732\n",
            "    P455236          P270594, P476414 0.031600    0.342233  3.023849\n",
            "    P481739                   P423148 0.031600    0.294363  2.776847\n",
            "    P423148                   P481739 0.031600    0.298097  2.776847\n",
            "    P270594          P479327, P501760 0.031600    0.117696  2.420093\n",
            "    P479327          P270594, P501760 0.031600    0.201429  2.844222\n",
            "    P501760          P270594, P479327 0.031600    0.258716  3.014070\n",
            "    P500633          P466123, P476414 0.031600    0.110588  1.958114\n",
            "    P466123          P500633, P476414 0.031600    0.249558  2.153821\n",
            "    P476414          P500633, P466123 0.031600    0.144319  2.824355\n",
            "    P455236          P476414, P479841 0.031600    0.342233  3.312459\n",
            "    P479327                   P503668 0.031600    0.201429  2.390357\n",
            "    P482551                   P479318 0.031600    0.339759  2.707151\n",
            "    P483076          P500633, P503936 0.031600    0.339759  2.627391\n",
            "    P503936          P500633, P483076 0.031600    0.145211  2.612629\n",
            "    P500633          P500288, P503936 0.031600    0.110588  2.638742\n",
            "    P503936          P500633, P500288 0.031600    0.145211  2.482498\n",
            "    P476414          P455236, P479841 0.031600    0.144319  3.219765\n",
            "    P479841          P455236, P476414 0.031600    0.176692  3.116200\n",
            "    P479327          P500633, P442840 0.031600    0.201429  2.918098\n",
            "    P442840          P500633, P479327 0.031600    0.198872  2.360014\n",
            "    P270594 P500633, P503936, P501760 0.031376    0.116861  2.646882\n",
            "    P500633 P270594, P503936, P501760 0.031376    0.109804  2.799686\n",
            "    P482551                   P442840 0.031376    0.337349  2.123065\n",
            "    P442840                   P482551 0.031376    0.197461  2.123065\n",
            "    P483076                   P442840 0.031376    0.337349  2.123065\n",
            "    P442840                   P483076 0.031376    0.197461  2.123065\n",
            "    P442838          P476414, P479841 0.031376    0.371353  3.594308\n",
            "    P476414          P442838, P479841 0.031376    0.143296  3.437558\n",
            "    P471043                   P442839 0.031376    0.367454  4.953414\n",
            "    P442839                   P471043 0.031376    0.422961  4.953414\n",
            "    P411365                   P479318 0.031376    0.272904  2.174464\n",
            "    P476414          P270594, P466123 0.031376    0.143296  2.816678\n",
            "    P500777                   P505031 0.031376    0.196906  1.948101\n",
            "    P505031                   P500777 0.031376    0.310421  1.948101\n",
            "    P479318                   P411365 0.031376    0.250000  2.174464\n",
            "    P442840          P482551, P483076 0.031376    0.197461  2.123065\n",
            "    P455236                   P474832 0.031376    0.339806  3.618648\n",
            "    P474832                   P455236 0.031376    0.334129  3.618648\n",
            "    P270594          P466123, P476414 0.031376    0.116861  2.069189\n",
            "    P309308                   P455236 0.031376    0.169697  1.837835\n",
            "    P455236                   P309308 0.031376    0.339806  1.837835\n",
            "    P482551          P483076, P442840 0.031376    0.337349 10.751807\n",
            "    P483076          P482551, P442840 0.031376    0.337349 10.751807\n",
            "    P466123          P270594, P476414 0.031376    0.247788  2.189363\n",
            "    P479841          P442838, P476414 0.031376    0.175439  3.248162\n",
            "    P483679                   P270594 0.031376    0.347395  1.293885\n",
            "    P270594                   P483679 0.031376    0.116861  1.293885\n",
            "    P411365                   P501760 0.031376    0.272904  2.234312\n",
            "    P501760                   P411365 0.031376    0.256881  2.234312\n",
            "    P500288                   P482676 0.031376    0.380435  3.047576\n",
            "    P482676                   P500288 0.031376    0.251346  3.047576\n",
            "    P482535                   P500777 0.031376    0.317460  1.992276\n",
            "    P500777                   P482535 0.031376    0.196906  1.992276\n",
            "    P270594          P400259, P501760 0.031376    0.116861  2.687813\n",
            "    P400259          P270594, P501760 0.031376    0.243478  3.437975\n",
            "    P501760          P270594, P400259 0.031376    0.256881  3.442048\n",
            "    P503936 P500633, P270594, P501760 0.031376    0.144181  2.737603\n",
            "    P501760 P500633, P270594, P503936 0.031376    0.256881  3.175074\n",
            "    P479318 P500633, P270594, P476414 0.031152    0.248214  3.515975\n",
            "    P270594 P500633, P479318, P476414 0.031152    0.116027  2.829023\n",
            "    P500633          P474832, P479841 0.031152    0.109020  2.305429\n",
            "    P474832          P500633, P479841 0.031152    0.331742  3.096724\n",
            "    P479841          P500633, P474832 0.031152    0.174185  3.265612\n",
            "    P442838                   P474832 0.031152    0.368700  3.926350\n",
            "    P474832                   P442838 0.031152    0.331742  3.926350\n",
            "    P503726                   P500288 0.031152    0.280808  3.404798\n",
            "    P482551                   P501254 0.031152    0.334940  2.907590\n",
            "    P501254                   P482551 0.031152    0.270428  2.907590\n",
            "    P501254                   P483076 0.031152    0.270428  2.907590\n",
            "    P470529                   P309308 0.031152    0.335749  1.815892\n",
            "    P455236                   P482676 0.031152    0.337379  2.702663\n",
            "    P469538                   P471043 0.031152    0.260300  3.048443\n",
            "    P471043                   P469538 0.031152    0.364829  3.048443\n",
            "    P500633                   P503879 0.031152    0.109020  1.276760\n",
            "    P503879                   P500633 0.031152    0.364829  1.276760\n",
            "    P309308                   P470529 0.031152    0.168485  1.815892\n",
            "    P476414          P442838, P270594 0.031152    0.142272  3.238872\n",
            "    P309308                   P471043 0.031152    0.168485  1.973174\n",
            "    P471043                   P309308 0.031152    0.364829  1.973174\n",
            "    P500288                   P503726 0.031152    0.377717  3.404798\n",
            "    P270594                   P500618 0.031152    0.116027  2.212441\n",
            "    P500618                   P270594 0.031152    0.594017  2.212441\n",
            "    P505054          P500633, P505023 0.031152    0.441270  8.003846\n",
            "    P500633          P466123, P270594 0.031152    0.109020  2.142932\n",
            "    P270594          P500633, P466123 0.031152    0.116027  2.270663\n",
            "    P466123          P500633, P270594 0.031152    0.246018  1.648245\n",
            "    P482676                   P455236 0.031152    0.249551  2.702663\n",
            "    P482676                   P400259 0.031152    0.249551  1.936517\n",
            "    P400259                   P482676 0.031152    0.241739  1.936517\n",
            "    P481739          P476414, P479841 0.031152    0.290188  2.808717\n",
            "    P476414          P481739, P479841 0.031152    0.142272  3.022947\n",
            "    P479841          P481739, P476414 0.031152    0.174185  3.439007\n",
            "    P482551          P501254, P483076 0.031152    0.334940 10.751807\n",
            "    P500777          P270594, P479327 0.031152    0.195499  2.277592\n",
            "    P270594          P500777, P479327 0.031152    0.116027  2.290757\n",
            "    P479327          P270594, P500777 0.031152    0.198571  2.254518\n",
            "    P501254          P482551, P483076 0.031152    0.270428  2.907590\n",
            "    P483076          P501254, P482551 0.031152    0.334940 10.751807\n",
            "    P500633          P505023, P505054 0.031152    0.109020  2.152414\n",
            "    P505023          P500633, P505054 0.031152    0.324766  7.626881\n",
            "    P442838          P270594, P476414 0.031152    0.368700  3.257704\n",
            "    P270594          P442838, P476414 0.031152    0.116027  2.148179\n",
            "    P500633 P479318, P270594, P476414 0.031152    0.109020  2.520443\n",
            "    P483076                   P501254 0.031152    0.334940  2.907590\n",
            "    P476414 P500633, P479318, P270594 0.031152    0.142272  3.052014\n",
            "    P500993                   P476414 0.030928    0.432602  1.975711\n",
            "    P482676                   P479645 0.030928    0.247756  2.638393\n",
            "    P501254          P270594, P476414 0.030928    0.268482  2.372216\n",
            "    P270594          P501254, P476414 0.030928    0.115192  2.435956\n",
            "    P476414          P501254, P270594 0.030928    0.141249  2.188374\n",
            "    P471046          P418624, P270594 0.030928    0.428571  9.609476\n",
            "    P479645                   P482676 0.030928    0.329356  2.638393\n",
            "    P476414                   P500993 0.030928    0.141249  1.975711\n",
            "    P270594                   P484067 0.030928    0.115192  2.304873\n",
            "    P484067                   P270594 0.030928    0.618834  2.304873\n",
            "    P476414          P500633, P309308 0.030928    0.141249  2.788725\n",
            "    P500633          P423688, P400259 0.030928    0.108235  2.246260\n",
            "    P423688          P500633, P400259 0.030928    0.116064  1.569325\n",
            "    P400259          P500633, P423688 0.030928    0.240000  2.333072\n",
            "    P500633          P400259, P479841 0.030928    0.108235  2.624706\n",
            "    P400259          P500633, P479841 0.030928    0.240000  2.240335\n",
            "    P479841          P500633, P400259 0.030928    0.172932  2.338255\n",
            "    P500633          P505023, P270594 0.030928    0.108235  2.310746\n",
            "    P505023          P500633, P270594 0.030928    0.322430  2.160184\n",
            "    P270594          P500633, P505023 0.030928    0.115192  2.089377\n",
            "    P476414          P503936, P479327 0.030928    0.141249  2.414758\n",
            "    P503936          P476414, P479327 0.030928    0.142122  1.832793\n",
            "    P479327          P503936, P476414 0.030928    0.197143  2.296740\n",
            "    P270594                   P503891 0.030928    0.115192  1.984504\n",
            "    P503891                   P270594 0.030928    0.532819  1.984504\n",
            "    P500633          P309308, P476414 0.030928    0.108235  2.029184\n",
            "    P309308          P500633, P476414 0.030928    0.167273  1.443657\n",
            "    P469538                   P442838 0.030928    0.258427  3.058624\n",
            "    P442838                   P469538 0.030928    0.366048  3.058624\n",
            "    P503936                   P455236 0.030928    0.142122  1.539190\n",
            "    P455236                   P503936 0.030928    0.334951  1.539190\n",
            "    P505031          P500633, P503936 0.030928    0.305987  2.366226\n",
            "    P500633          P503936, P505031 0.030928    0.108235  2.299742\n",
            "    P503936          P500633, P505031 0.030928    0.142122  2.289337\n",
            "    P418624          P270594, P471046 0.030928    0.389831  9.453390\n",
            "    P270594          P418624, P471046 0.030928    0.115192  2.435956\n",
            "    P482535                   P501254 0.030704    0.310658  2.696798\n",
            "    P479841                   P475124 0.030704    0.171679  2.805980\n",
            "    P500633          P479841, P477157 0.030704    0.107451  2.316166\n",
            "    P475124                   P479841 0.030704    0.501832  2.805980\n",
            "    P476414                   P505009 0.030704    0.140225  1.681948\n",
            "    P505009                   P476414 0.030704    0.368280  1.681948\n",
            "    P501254                   P482535 0.030704    0.266537  2.696798\n",
            "    P482676          P500633, P479327 0.030704    0.245961  2.918819\n",
            "    P479327          P500633, P482676 0.030704    0.195714  2.379502\n",
            "    P469538                   P442839 0.030704    0.256554  3.458445\n",
            "    P442839                   P469538 0.030704    0.413897  3.458445\n",
            "    P501254                   P481739 0.030704    0.266537  2.482856\n",
            "    P505054                   P503936 0.030704    0.434921  1.998575\n",
            "    P503936                   P505054 0.030704    0.141092  1.998575\n",
            "    P481732                   P482676 0.030704    0.412651  3.305650\n",
            "    P482676                   P481732 0.030704    0.245961  3.305650\n",
            "    P481739                   P501254 0.030704    0.286013  2.482856\n",
            "    P500633          P479327, P482676 0.030704    0.107451  2.409278\n",
            "    P479841          P500633, P477157 0.030704    0.171679  3.404589\n",
            "    P477157          P500633, P479841 0.030704    0.353093  3.296025\n",
            "    P470529                   P423688 0.030480    0.328502  1.232782\n",
            "    P423688                   P470529 0.030480    0.114382  1.232782\n",
            "    P469538          P270594, P503936 0.030480    0.254682  2.043866\n",
            "    P270594          P469538, P503936 0.030480    0.113523  2.447041\n",
            "    P270594 P500633, P503936, P400259 0.030480    0.113523  2.611018\n",
            "    P500633 P270594, P503936, P400259 0.030480    0.106667  2.478889\n",
            "    P500633 P270594, P503936, P482676 0.030480    0.106667  2.735326\n",
            "    P270594                   P482061 0.030480    0.113523  2.470915\n",
            "    P482676 P500633, P270594, P503936 0.030480    0.244165  3.017909\n",
            "    P482061                   P270594 0.030480    0.663415  2.470915\n",
            "    P270594 P500633, P503936, P482676 0.030480    0.113523  2.708757\n",
            "    P503936 P500633, P270594, P482676 0.030480    0.140062  2.693775\n",
            "    P400259 P500633, P270594, P503936 0.030480    0.236522  2.923435\n",
            "    P476414          P270594, P442839 0.030480    0.139202  3.218226\n",
            "    P482676          P479318, P476414 0.030480    0.244165  3.890946\n",
            "    P479318          P476414, P482676 0.030480    0.242857  3.541270\n",
            "    P400259          P423688, P270594 0.030480    0.236522  2.593022\n",
            "    P502326                   P500633 0.030480    0.601770  2.105959\n",
            "    P500633                   P502326 0.030480    0.106667  2.105959\n",
            "    P400259                   P503668 0.030480    0.236522  2.806809\n",
            "    P400259                   P500288 0.030480    0.236522  2.867826\n",
            "    P503668                   P400259 0.030480    0.361702  2.806809\n",
            "    P500288                   P400259 0.030480    0.369565  2.867826\n",
            "    P442839          P270594, P476414 0.030480    0.410876  3.630355\n",
            "    P476414          P479318, P482676 0.030480    0.139202  3.000569\n",
            "    P270594          P442839, P476414 0.030480    0.113523  2.312957\n",
            "    P423688          P270594, P400259 0.030480    0.114382  1.532648\n",
            "    P270594          P423688, P400259 0.030480    0.113523  2.355989\n",
            "    P505024                   P505020 0.030480    0.456376  7.985682\n",
            "    P505020                   P505024 0.030480    0.533333  7.985682\n",
            "    P503936          P469538, P270594 0.030480    0.140062  2.422309\n",
            "    P503936 P500633, P270594, P400259 0.030480    0.140062  2.879980\n",
            "    P270594          P476414, P501760 0.030255    0.112688  2.476911\n",
            "    P476414          P270594, P501760 0.030255    0.138178  1.951110\n",
            "    P501760          P270594, P476414 0.030255    0.247706  2.188646\n",
            "    P270594          P479841, P477157 0.030255    0.112688  2.429048\n",
            "    P477157          P270594, P479841 0.030255    0.347938  3.528409\n",
            "    P479841          P270594, P477157 0.030255    0.169173  3.446802\n",
            "    P500633          P500288, P500777 0.030255    0.105882  2.595863\n",
            "    P500288          P500633, P500777 0.030255    0.366848  3.446053\n",
            "    P500777          P500633, P500288 0.030255    0.189873  3.246035\n",
            "    P481739          P270594, P479841 0.030255    0.281837  2.858085\n",
            "    P270594          P481739, P479841 0.030255    0.112688  2.394348\n",
            "    P479841          P481739, P270594 0.030255    0.169173  2.925774\n",
            "    P270594          P423688, P482676 0.030255    0.112688  2.394348\n",
            "    P482676          P423688, P270594 0.030255    0.242370  2.657136\n",
            "    P500633          P418624, P471046 0.030255    0.105882  2.239086\n",
            "    P471046          P418624, P500633 0.030255    0.419255  9.897959\n",
            "    P500633          P503668, P503936 0.030255    0.105882  2.282353\n",
            "    P503668          P500633, P503936 0.030255    0.359043  2.776513\n",
            "    P503936          P500633, P503668 0.030255    0.139032  2.781885\n",
            "    P411365                   P400259 0.030255    0.263158  2.042105\n",
            "    P400259                   P411365 0.030255    0.234783  2.042105\n",
            "    P500777                   P500993 0.030255    0.189873  2.655847\n",
            "    P500993                   P500777 0.030255    0.423197  2.655847\n",
            "    P505023          P505009, P505024 0.030255    0.315421  8.135298\n",
            "    P505054          P505023, P505024 0.030255    0.428571  9.466761\n",
            "    P423688          P270594, P482676 0.030255    0.113541  1.549294\n",
            "    P418624          P500633, P471046 0.030255    0.381356  8.726206\n",
            "    P505024          P505009, P505023 0.030255    0.453020  8.865684\n",
            "    P309308                   P400259 0.030255    0.163636  1.269818\n",
            "    P400259                   P309308 0.030255    0.234783  1.269818\n",
            "    P505024          P505023, P505054 0.030255    0.453020  8.944141\n",
            "    P505023          P505054, P505024 0.030255    0.315421  8.634396\n",
            "    P505009          P505023, P505024 0.030255    0.362903  8.016209\n",
            "    P270594 P503936, P476414, P479841 0.030255    0.112688  2.539460\n",
            "    P503936 P270594, P476414, P479841 0.030255    0.139032  2.272383\n",
            "    P476414 P270594, P503936, P479841 0.030255    0.138178  3.022307\n",
            "    P479841 P270594, P503936, P476414 0.030255    0.169173  3.043748\n",
            "    P270594                   P471101 0.030255    0.112688  1.795761\n",
            "    P471101                   P270594 0.030255    0.482143  1.795761\n",
            "    P482551 P270594, P483076, P476414 0.030031    0.322892 10.751807\n",
            "    P500633          P503726, P501760 0.030031    0.105098  2.576634\n",
            "    P270594 P482551, P483076, P476414 0.030031    0.111853  2.470735\n",
            "    P476414 P482551, P270594, P483076 0.030031    0.137155  2.477666\n",
            "    P500633 P270594, P482676, P479841 0.030031    0.105098  2.619818\n",
            "    P270594 P500633, P482676, P479841 0.030031    0.111853  2.668922\n",
            "    P482676 P500633, P270594, P479841 0.030031    0.240575  3.602159\n",
            "    P500633 P270594, P476414, P423148 0.030031    0.105098  2.494401\n",
            "    P270594 P500633, P476414, P423148 0.030031    0.111853  2.742244\n",
            "    P476414 P500633, P270594, P423148 0.030031    0.137155  3.497049\n",
            "    P476414          P503936, P500777 0.030031    0.137155  1.865804\n",
            "    P471237                   P477157 0.030031    0.204268  2.349085\n",
            "    P477157                   P471237 0.030031    0.345361  2.349085\n",
            "    P500633                   P482061 0.030031    0.105098  2.287549\n",
            "    P482061                   P500633 0.030031    0.653659  2.287549\n",
            "    P503668                   P503726 0.030031    0.356383  3.212487\n",
            "    P270594                   P505024 0.030031    0.111853  1.674794\n",
            "    P505024                   P270594 0.030031    0.449664  1.674794\n",
            "    P500777          P503936, P476414 0.030031    0.188467  2.195665\n",
            "    P503936          P476414, P500777 0.030031    0.138002  2.214983\n",
            "    P482551          P270594, P476414 0.030031    0.322892  2.852955\n",
            "    P270594          P482551, P476414 0.030031    0.111853  2.470735\n",
            "    P423688                   P456218 0.030031    0.112700  1.344562\n",
            "    P503726          P500633, P501760 0.030031    0.270707  3.238324\n",
            "    P456218                   P423688 0.030031    0.358289  1.344562\n",
            "    P442838                   P471043 0.030031    0.355438  4.162632\n",
            "    P471043                   P442838 0.030031    0.351706  4.162632\n",
            "    P503726                   P503668 0.030031    0.270707  3.212487\n",
            "    P501760          P500633, P503726 0.030031    0.245872  3.822575\n",
            "    P476414          P482551, P270594 0.030031    0.137155  2.477666\n",
            "    P483076          P270594, P476414 0.030031    0.322892  2.852955\n",
            "    P270594                   P501282 0.030031    0.111853  2.179426\n",
            "    P482676          P476414, P442840 0.030031    0.240575  3.032326\n",
            "    P476414          P482676, P442840 0.030031    0.137155  3.418903\n",
            "    P442840          P476414, P482676 0.030031    0.188999  2.755921\n",
            "    P479841 P500633, P270594, P482676 0.030031    0.167920  3.229561\n",
            "    P270594                   P423136 0.030031    0.111853  2.132857\n",
            "    P501282                   P270594 0.030031    0.585153  2.179426\n",
            "    P270594          P483076, P476414 0.030031    0.111853  2.470735\n",
            "    P476414          P270594, P483076 0.030031    0.137155  2.477666\n",
            "    P483076 P482551, P270594, P476414 0.030031    0.322892 10.751807\n",
            "    P423148 P500633, P270594, P476414 0.030031    0.283298  4.012940\n",
            "    P423136                   P270594 0.030031    0.572650  2.132857\n"
          ]
        },
        {
          "output_type": "stream",
          "name": "stderr",
          "text": [
            "/usr/local/lib/python3.10/dist-packages/ipykernel/ipkernel.py:283: DeprecationWarning:\n",
            "\n",
            "`should_run_async` will not call `transform_cell` automatically in the future. Please pass the result to `transformed_cell` argument and any exception that happen during thetransform in `preprocessing_exc_tuple` in IPython 7.17 and above.\n",
            "\n"
          ]
        }
      ],
      "source": [
        "# Filter rules to include only those where antecedents have a single item\n",
        "rules_filtered = rules[rules['antecedents'].apply(len) == 1].copy()\n",
        "\n",
        "rules_display = rules_filtered[[\"antecedents\", \"consequents\", \"support\", \"confidence\", \"lift\"]].copy()\n",
        "\n",
        "# Convert frozensets to readable strings\n",
        "rules_display[\"antecedents\"] = rules_display[\"antecedents\"].apply(lambda x: ', '.join(list(x)))\n",
        "rules_display[\"consequents\"] = rules_display[\"consequents\"].apply(lambda x: ', '.join(list(x)))\n",
        "\n",
        "# Sorting by confidence\n",
        "rules_display = rules_display.sort_values(by=\"support\", ascending=False)\n",
        "print(rules_display.to_string(index=False))"
      ]
    },
    {
      "cell_type": "markdown",
      "metadata": {
        "id": "DaL2u7BLpIwZ"
      },
      "source": [
        "### Testing"
      ]
    },
    {
      "cell_type": "code",
      "execution_count": 25,
      "metadata": {
        "colab": {
          "base_uri": "https://localhost:8080/"
        },
        "id": "TcxE1wZjpIwZ",
        "outputId": "6290aeb0-92ac-40ea-f7d1-02ed454fbeab"
      },
      "outputs": [
        {
          "output_type": "stream",
          "name": "stdout",
          "text": [
            "     antecedents                consequents   support  confidence      lift\n",
            "104      P500633                    P270594  0.149260    0.522353  1.945525\n",
            "902      P500633                    P503936  0.129314    0.452549  2.079582\n",
            "622      P500633                    P476414  0.115867    0.405490  1.851891\n",
            "752      P500633                    P479841  0.107127    0.374902  2.096256\n",
            "874      P500633                    P500777  0.106455    0.372549  2.337994\n",
            "...          ...                        ...       ...         ...       ...\n",
            "2293     P500633           P503668, P503936  0.030255    0.105882  2.282353\n",
            "2281     P500633           P503726, P501760  0.030031    0.105098  2.576634\n",
            "2514     P500633  P270594, P482676, P479841  0.030031    0.105098  2.619818\n",
            "2374     P500633  P270594, P476414, P423148  0.030031    0.105098  2.494401\n",
            "802      P500633                    P482061  0.030031    0.105098  2.287549\n",
            "\n",
            "[208 rows x 5 columns]\n"
          ]
        },
        {
          "output_type": "stream",
          "name": "stderr",
          "text": [
            "/usr/local/lib/python3.10/dist-packages/ipykernel/ipkernel.py:283: DeprecationWarning:\n",
            "\n",
            "`should_run_async` will not call `transform_cell` automatically in the future. Please pass the result to `transformed_cell` argument and any exception that happen during thetransform in `preprocessing_exc_tuple` in IPython 7.17 and above.\n",
            "\n"
          ]
        }
      ],
      "source": [
        "filtered_rules = rules_display[rules_display['antecedents'].apply(lambda x: 'P500633' in x)]\n",
        "print(filtered_rules)"
      ]
    },
    {
      "cell_type": "code",
      "execution_count": 26,
      "metadata": {
        "colab": {
          "base_uri": "https://localhost:8080/"
        },
        "id": "DSAVwRBTpIwZ",
        "outputId": "930235bb-1bdc-4a11-87c1-d649884b5ee7"
      },
      "outputs": [
        {
          "output_type": "stream",
          "name": "stdout",
          "text": [
            "Items associated with 'P500633': ['P270594', 'P503936', 'P476414', 'P479841', 'P500777', 'P423688', 'P479327', 'P501760', 'P482676', 'P501254', 'P400259', 'P411365', 'P442840', 'P479318', 'P503726', 'P469538', 'P479645', 'P505031', 'P482535', 'P500288', 'P471237', 'P481739', 'P423148', 'P482551', 'P483076', 'P505023', 'P500857', 'P474832', 'P466123', 'P309308', 'P477157', 'P503668', 'P481831', 'P481989', 'P482540', 'P505009', 'P455236', 'P481732', 'P433520', 'P500993', 'P471046', 'P461949', 'P471043', 'P503814', 'P505054', 'P418624', 'P232915', 'P442838', 'P456218', 'P504045', 'P500744', 'P462666', 'P505024', 'P442839', 'P504044', 'P503651', 'P481830', 'P501288', 'P475124', 'P474075', 'P504125', 'P479348', 'P458219', 'P470529', 'P501282', 'P480461', 'P483679', 'P505049', 'P500618', 'P503891', 'P481366', 'P479692', 'P480613', 'P505020', 'P423136', 'P503879', 'P502326', 'P482061']\n"
          ]
        },
        {
          "output_type": "stream",
          "name": "stderr",
          "text": [
            "/usr/local/lib/python3.10/dist-packages/ipykernel/ipkernel.py:283: DeprecationWarning:\n",
            "\n",
            "`should_run_async` will not call `transform_cell` automatically in the future. Please pass the result to `transformed_cell` argument and any exception that happen during thetransform in `preprocessing_exc_tuple` in IPython 7.17 and above.\n",
            "\n"
          ]
        }
      ],
      "source": [
        "# Preprocess the rules DataFrame to ensure 'antecedents' and 'consequents' are sets\n",
        "def preprocess_rules(rules):\n",
        "   \"\"\"\n",
        "   Preprocess the rules DataFrame to ensure 'antecedents' and 'consequents' are sets.\n",
        "   \"\"\"\n",
        "    # Create a copy of the DataFrame to avoid modifying the original\n",
        "   rules = rules.copy()\n",
        "   rules['antecedents'] = rules['antecedents'].apply(lambda x: x.split(\", \") if isinstance(x, str) else x)\n",
        "   rules['consequents'] = rules['consequents'].apply(lambda x: x.split(\", \") if isinstance(x, str) else x)\n",
        "   return rules\n",
        "\n",
        "# Function to find items associated with an input item\n",
        "def find_associated_items(input_item, rules):\n",
        "   \"\"\"\n",
        "   Find all items associated with an input item based on association rules.\n",
        "\n",
        "   Parameters:\n",
        "      input_item (str): The item to find associations for.\n",
        "      rules (pd.DataFrame): A DataFrame of association rules with columns 'antecedents' and 'consequents'.\n",
        "\n",
        "   Returns:\n",
        "      list: A list of items associated with the input item, preserving the order of rules.\n",
        "   \"\"\"\n",
        "   # Sort rules by confidence in descending order\n",
        "   rules = rules.sort_values(by='confidence', ascending=False).reset_index(drop=True)\n",
        "\n",
        "   input_item_antecedents = [input_item]\n",
        "\n",
        "   associated_items = []\n",
        "\n",
        "   # Iterate through the rules\n",
        "   for _, rule in rules.iterrows():\n",
        "      antecedents = rule['antecedents']\n",
        "      consequents = rule['consequents']\n",
        "\n",
        "      # Check if the input item is in the antecedents\n",
        "      if input_item_antecedents == antecedents:\n",
        "         # Add consequents to the associated items if not already present\n",
        "         for item in consequents:\n",
        "               if item not in associated_items:\n",
        "                  associated_items.append(item)\n",
        "\n",
        "   return associated_items\n",
        "\n",
        "rules_df = pd.DataFrame(rules_display)\n",
        "\n",
        "# Preprocess the rules DataFrame\n",
        "rules_df = preprocess_rules(rules_df)\n",
        "\n",
        "# Input item\n",
        "input_item = 'P500633'\n",
        "\n",
        "# Find associated items\n",
        "associated_items = find_associated_items(input_item, rules_df)\n",
        "print(f\"Items associated with '{input_item}': {associated_items}\")"
      ]
    },
    {
      "cell_type": "code",
      "execution_count": 27,
      "metadata": {
        "colab": {
          "base_uri": "https://localhost:8080/"
        },
        "id": "qJVv_k3zpIwZ",
        "outputId": "303d85e4-8a5c-4e43-fc03-742050bf2733"
      },
      "outputs": [
        {
          "output_type": "stream",
          "name": "stderr",
          "text": [
            "/usr/local/lib/python3.10/dist-packages/ipykernel/ipkernel.py:283: DeprecationWarning:\n",
            "\n",
            "`should_run_async` will not call `transform_cell` automatically in the future. Please pass the result to `transformed_cell` argument and any exception that happen during thetransform in `preprocessing_exc_tuple` in IPython 7.17 and above.\n",
            "\n"
          ]
        }
      ],
      "source": [
        "rules_display.to_csv('processed_data/association_rules.csv', index=False)"
      ]
    },
    {
      "cell_type": "markdown",
      "metadata": {
        "id": "yKymTVSapIwZ"
      },
      "source": [
        "____"
      ]
    },
    {
      "cell_type": "markdown",
      "metadata": {
        "id": "gFgeBUimpIwZ"
      },
      "source": [
        "# 5. Similar Items Based on Ingredients and Highlights"
      ]
    },
    {
      "cell_type": "markdown",
      "metadata": {
        "id": "RSrr3NhCpIwZ"
      },
      "source": [
        "### Calculate similar items using ingredients\n",
        "\n",
        "To calculate similar items using ingredients we choose to embed ingredients with TF-IDF. This was chosen because TF-IDF will take into account the uniqueness of ingredients. For example water is a frequent ingredient in the list which does not tell us a lot about the product. Where as salicylic acid does not occur as often leading to higher importance. To compute the similarity between products we choose cosine similarity because TF-IDF gives results in the form of embedding."
      ]
    },
    {
      "cell_type": "markdown",
      "metadata": {
        "id": "fOF1XcBHpIwa"
      },
      "source": [
        "#### Display ingredients"
      ]
    },
    {
      "cell_type": "code",
      "execution_count": 28,
      "metadata": {
        "colab": {
          "base_uri": "https://localhost:8080/"
        },
        "id": "-FKVKIzUpIwa",
        "outputId": "56de10f9-ee40-46fc-bd27-0c8f5e2d35c4"
      },
      "outputs": [
        {
          "output_type": "stream",
          "name": "stdout",
          "text": [
            "                                        product_name  \\\n",
            "0               GENIUS Sleeping Collagen Moisturizer   \n",
            "1                       GENIUS Liquid Collagen Serum   \n",
            "2               GENIUS Liquid Collagen Lip Treatment   \n",
            "3  SUBLIME DEFENSE Ultra Lightweight UV Defense F...   \n",
            "4                   GENIUS Ultimate Anti-Aging Cream   \n",
            "\n",
            "                                         ingredients  \n",
            "0  Collagen, Water, Ethylhexyl Palmitate, Oryza S...  \n",
            "1  Collagen, Water, Propanediol, Isononyl Isonona...  \n",
            "2  Collagen, Water, Glycerin, Isononyl Isononanoa...  \n",
            "3  Octinoxate 75%, Titanium Dioxide 2%, Zinc Oxid...  \n",
            "4  Water, Caprylic/Capric Triglyceride, Hydrogena...  \n"
          ]
        },
        {
          "output_type": "stream",
          "name": "stderr",
          "text": [
            "/usr/local/lib/python3.10/dist-packages/ipykernel/ipkernel.py:283: DeprecationWarning:\n",
            "\n",
            "`should_run_async` will not call `transform_cell` automatically in the future. Please pass the result to `transformed_cell` argument and any exception that happen during thetransform in `preprocessing_exc_tuple` in IPython 7.17 and above.\n",
            "\n"
          ]
        }
      ],
      "source": [
        "df = pd.read_csv(\"processed_data/skincare.csv\")\n",
        "# Select only 'Name' and 'Ingredients' columns\n",
        "df_selected = df[['product_name', 'ingredients']]\n",
        "\n",
        "# Display the first 5 rows\n",
        "print(df_selected.head())"
      ]
    },
    {
      "cell_type": "markdown",
      "metadata": {
        "id": "e64-TFYMpIwa"
      },
      "source": [
        "#### Define functions"
      ]
    },
    {
      "cell_type": "code",
      "execution_count": 29,
      "metadata": {
        "colab": {
          "base_uri": "https://localhost:8080/"
        },
        "id": "fgTwOgjxpIwa",
        "outputId": "e597be3b-b706-49a3-a97b-1c8c330e5f1d"
      },
      "outputs": [
        {
          "output_type": "stream",
          "name": "stderr",
          "text": [
            "/usr/local/lib/python3.10/dist-packages/ipykernel/ipkernel.py:283: DeprecationWarning:\n",
            "\n",
            "`should_run_async` will not call `transform_cell` automatically in the future. Please pass the result to `transformed_cell` argument and any exception that happen during thetransform in `preprocessing_exc_tuple` in IPython 7.17 and above.\n",
            "\n"
          ]
        }
      ],
      "source": [
        "def custom_tokenizer(text):\n",
        "   return text.split(\", \")\n",
        "\n",
        "def similarity_search_ingredients(df, query):\n",
        "   \"\"\"\n",
        "   Perform a similarity search based on cosine similarity of TF-IDF vectors.\n",
        "\n",
        "   Parameters:\n",
        "   - query (str): The input query string.\n",
        "   - df (pd.DataFrame): A DataFrame containing 'id' and 'ingredients' columns.\n",
        "\n",
        "   Returns:\n",
        "   - results_df (pd.DataFrame): Rows from the original DataFrame sorted by similarity.\n",
        "   \"\"\"\n",
        "   # Initialize TfidfVectorizer with a custom tokenizer (adjust lowercase as needed)\n",
        "   vectorizer = TfidfVectorizer(tokenizer=custom_tokenizer, lowercase=False)\n",
        "\n",
        "   # Extract the 'ingredients' column\n",
        "   ingredients = df['ingredients']\n",
        "\n",
        "   # Fit and transform the ingredients\n",
        "   tfidf_matrix = vectorizer.fit_transform(ingredients)\n",
        "\n",
        "   # Transform the query into the TF-IDF space\n",
        "   query_tfidf = vectorizer.transform([query])\n",
        "\n",
        "   # Compute cosine similarity between the query and all documents\n",
        "   similarities = cosine_similarity(query_tfidf, tfidf_matrix).flatten()\n",
        "\n",
        "   # Add similarity scores to the DataFrame\n",
        "   df['similarity_score_ingredients'] = similarities\n",
        "\n",
        "   # Sort the DataFrame by similarity scores in descending order\n",
        "   results_df = df.sort_values(by='similarity_score_ingredients', ascending=False).reset_index(drop=True)\n",
        "\n",
        "   results_df['rank_ingredients'] = range(1, len(results_df) + 1)\n",
        "\n",
        "   return results_df"
      ]
    },
    {
      "cell_type": "markdown",
      "metadata": {
        "id": "4rTtx2QapIwa"
      },
      "source": [
        "### Calculate similarity using the highlights\n",
        "\n",
        "In the dataset we choose we were not provided with description but rather highlights of a product. Those are sets of words that describe the product, so therefore there was no need to use the minhashing as the length of sets is not big to begging with. To compare the sets we choose to use Jaccard Similarity because the more highlight product have in common the more similar they are."
      ]
    },
    {
      "cell_type": "markdown",
      "metadata": {
        "id": "yy3JxAFjpIwb"
      },
      "source": [
        "#### Display a few rows of highlights"
      ]
    },
    {
      "cell_type": "code",
      "execution_count": 30,
      "metadata": {
        "colab": {
          "base_uri": "https://localhost:8080/"
        },
        "id": "5kql2xUIpIwb",
        "outputId": "a16cd996-6cea-4eba-9021-b14b4f4cf087"
      },
      "outputs": [
        {
          "output_type": "stream",
          "name": "stdout",
          "text": [
            "                                        product_name  \\\n",
            "0               GENIUS Sleeping Collagen Moisturizer   \n",
            "1                       GENIUS Liquid Collagen Serum   \n",
            "2               GENIUS Liquid Collagen Lip Treatment   \n",
            "3  SUBLIME DEFENSE Ultra Lightweight UV Defense F...   \n",
            "4                   GENIUS Ultimate Anti-Aging Cream   \n",
            "\n",
            "                                          highlights  \n",
            "0  Vegan, Loss of firmness, Collagen, Hypoallerge...  \n",
            "1  Vegan, Loss of firmness, Collagen, Hypoallerge...  \n",
            "2  Vegan, Loss of firmness, Plumping, Collagen, H...  \n",
            "3  Vegan, Hypoallergenic, UV Protection, SPF, Dry...  \n",
            "4  Vegan, Collagen, Hypoallergenic, Loss of firmn...  \n"
          ]
        },
        {
          "output_type": "stream",
          "name": "stderr",
          "text": [
            "/usr/local/lib/python3.10/dist-packages/ipykernel/ipkernel.py:283: DeprecationWarning:\n",
            "\n",
            "`should_run_async` will not call `transform_cell` automatically in the future. Please pass the result to `transformed_cell` argument and any exception that happen during thetransform in `preprocessing_exc_tuple` in IPython 7.17 and above.\n",
            "\n"
          ]
        }
      ],
      "source": [
        "df_selected = df[['product_name', 'highlights']]\n",
        "\n",
        "# Display the first 5 rows\n",
        "print(df_selected.head())"
      ]
    },
    {
      "cell_type": "markdown",
      "metadata": {
        "id": "TvkYqFfIpIwb"
      },
      "source": [
        "#### Define functions"
      ]
    },
    {
      "cell_type": "code",
      "execution_count": 31,
      "metadata": {
        "colab": {
          "base_uri": "https://localhost:8080/"
        },
        "id": "nRNP1mdYpIwc",
        "outputId": "db86794b-7213-42cc-d261-d274aafdfd94"
      },
      "outputs": [
        {
          "output_type": "stream",
          "name": "stderr",
          "text": [
            "/usr/local/lib/python3.10/dist-packages/ipykernel/ipkernel.py:283: DeprecationWarning:\n",
            "\n",
            "`should_run_async` will not call `transform_cell` automatically in the future. Please pass the result to `transformed_cell` argument and any exception that happen during thetransform in `preprocessing_exc_tuple` in IPython 7.17 and above.\n",
            "\n"
          ]
        }
      ],
      "source": [
        "def jaccard_similarity(set_a, set_b):\n",
        "   \"\"\"\n",
        "   Calculate the Jaccard Similarity between two sets.\n",
        "   \"\"\"\n",
        "   intersection = len(set_a.intersection(set_b))\n",
        "   union = len(set_a.union(set_b))\n",
        "   return intersection / union if union != 0 else 0.0\n",
        "\n",
        "def similarity_search_highlights(df, token_list):\n",
        "   \"\"\"\n",
        "   Perform similarity search based on Jaccard similarity between df and a token list.\n",
        "\n",
        "   :param df: A pandas DataFrame with columns ['product_id','product_name', 'highlights'].\n",
        "   :param token_list: A list of tokens to compare against (highlights).\n",
        "   :return: A DataFrame with IDs and their Jaccard similarity scores, sorted by similarity score.\n",
        "   \"\"\"\n",
        "   # Convert the token list to a set\n",
        "   token_set = set(token_list)\n",
        "\n",
        "   # List to store the similarity scores\n",
        "   similarity_scores = []\n",
        "\n",
        "   # Iterate over the rows of the DataFrame\n",
        "   for index, row in df.iterrows():\n",
        "      product_id = row['product_id']\n",
        "      title = row['product_name']\n",
        "      # Convert the tokens for this ID to a set\n",
        "      id_token_set = set(row['highlights'].split(\", \"))\n",
        "\n",
        "      # Calculate Jaccard similarity\n",
        "      similarity_score = jaccard_similarity(id_token_set, token_set)\n",
        "\n",
        "      # Append the result as a tuple (id, score)\n",
        "      similarity_scores.append((product_id, title, similarity_score, (row['highlights'])))\n",
        "\n",
        "   # Convert the list of similarity scores to a DataFrame\n",
        "   similarity_df = pd.DataFrame(similarity_scores, columns=['product_id', 'product_name', 'similarity_score_highlights', 'highlights'])\n",
        "\n",
        "   # Sort the DataFrame by the 'similarity_score' column in descending order\n",
        "   similarity_df_sorted = similarity_df.sort_values(by='similarity_score_highlights', ascending=False).reset_index(drop=True)\n",
        "\n",
        "   similarity_df_sorted['rank_highlights'] = range(1, len(similarity_df_sorted) + 1)\n",
        "\n",
        "   return similarity_df_sorted"
      ]
    },
    {
      "cell_type": "markdown",
      "metadata": {
        "id": "qFje0fRMpIwd"
      },
      "source": [
        "### Combining similarities based on highlight and ingredients\n",
        "Jaccard similarity measure is in range [0, 1] and cosine similarity is in range [-1, 1] which means that we can not simply calculate the average or weighted sum. Due to that reason we choose to use reciprocal rank fusiona algorithm. To use it we need to rank our similarities tables which is already done in their respective functions.\n",
        "The **Reciprocal Rank Fusion (RRF)** score for a product _d_ is calculated as:\n",
        "$$\n",
        "RRF(d) = \\sum_{i=1}^{N} \\frac{1}{r_i(d) + k}\n",
        "\\text{}\n",
        "$$\n",
        "Where:\n",
        "- $r_i (d)$ is the rank of product $d$ in the $i^{th}$ ranked list.\n",
        "- $k$ is a constant (typically $k = 60$), used to prevent division by zero and to adjust the impact of higher ranks.\n",
        "- $N$ is the number of ranked lists (models or sources).\n",
        "\n",
        "The reciprocal rank is typically defined as $\\frac{1}{r_i(d)}$, where higher ranks give more weight to the document."
      ]
    },
    {
      "cell_type": "code",
      "execution_count": 32,
      "metadata": {
        "colab": {
          "base_uri": "https://localhost:8080/"
        },
        "id": "uXdk9hM3pIwd",
        "outputId": "47004d5a-b8b4-4290-960e-61107d9ee779"
      },
      "outputs": [
        {
          "output_type": "stream",
          "name": "stderr",
          "text": [
            "/usr/local/lib/python3.10/dist-packages/ipykernel/ipkernel.py:283: DeprecationWarning:\n",
            "\n",
            "`should_run_async` will not call `transform_cell` automatically in the future. Please pass the result to `transformed_cell` argument and any exception that happen during thetransform in `preprocessing_exc_tuple` in IPython 7.17 and above.\n",
            "\n"
          ]
        }
      ],
      "source": [
        "def reciprocal_rank_fusion(df_highlights, df_ingredients, k=60):\n",
        "   \"\"\"\n",
        "   Compute Reciprocal Rank Fusion (RRF) scores based on rank_highlights and rank_ingredients.\n",
        "\n",
        "   Parameters:\n",
        "   - df_highlights (pd.DataFrame): DataFrame containing 'product_id', 'rank_highlights', and other relevant columns.\n",
        "   - df_ingredients (pd.DataFrame): DataFrame containing 'product_id', 'rank_ingredients', and other relevant columns.\n",
        "   - k (int): A constant for RRF computation (default=60).\n",
        "\n",
        "   Returns:\n",
        "   - combined_df (pd.DataFrame): A new DataFrame with overall RRF scores and combined ranking.\n",
        "   \"\"\"\n",
        "   # Merge the two DataFrames on 'product_id'\n",
        "   merged_df = pd.merge(\n",
        "      df_highlights,  # Include all columns from df_highlights\n",
        "      df_ingredients[['product_id', 'rank_ingredients']],  # Include only product_id and rank_ingredients\n",
        "      on='product_id',\n",
        "      how='inner'\n",
        "   )\n",
        "\n",
        "   # Fill missing ranks with a large value (e.g., very low relevance)\n",
        "   merged_df['rank_highlights'] = merged_df['rank_highlights'].fillna(float('inf'))\n",
        "   merged_df['rank_ingredients'] = merged_df['rank_ingredients'].fillna(float('inf'))\n",
        "\n",
        "   # Compute the RRF score\n",
        "   merged_df['rrf_score'] = (\n",
        "      1 / (k + merged_df['rank_highlights']) +\n",
        "      1 / (k + merged_df['rank_ingredients'])\n",
        "   )\n",
        "\n",
        "   # Sort by the RRF score in descending order\n",
        "   merged_df = merged_df.sort_values(by='rrf_score', ascending=False).reset_index(drop=True)\n",
        "\n",
        "   # Add a new rank based on the RRF score\n",
        "   merged_df['overall_rank'] = range(1, len(merged_df) + 1)\n",
        "\n",
        "   return merged_df"
      ]
    },
    {
      "cell_type": "markdown",
      "metadata": {
        "id": "O2AHd5EcpIwl"
      },
      "source": [
        "### Run code for specific product_id"
      ]
    },
    {
      "cell_type": "code",
      "execution_count": 33,
      "metadata": {
        "colab": {
          "base_uri": "https://localhost:8080/"
        },
        "id": "U3Wc2rn7pIwl",
        "outputId": "6cc9fb6e-22de-4dc1-ce13-9fe419e06ca4"
      },
      "outputs": [
        {
          "output_type": "stream",
          "name": "stderr",
          "text": [
            "/usr/local/lib/python3.10/dist-packages/ipykernel/ipkernel.py:283: DeprecationWarning:\n",
            "\n",
            "`should_run_async` will not call `transform_cell` automatically in the future. Please pass the result to `transformed_cell` argument and any exception that happen during thetransform in `preprocessing_exc_tuple` in IPython 7.17 and above.\n",
            "\n"
          ]
        }
      ],
      "source": [
        "def get_similar_items(product_id, df, n = 5):\n",
        "   \"\"\"\n",
        "   Retrieve the top N products most similar to a given product based on highlights and ingredients.\n",
        "\n",
        "   This function takes a product ID, performs similarity searches on the product's highlights and ingredients,\n",
        "   and combines the results using a reciprocal rank fusion algorithm. It returns the top N most similar products.\n",
        "\n",
        "   Parameters:\n",
        "   ----------\n",
        "   product_id : int or str\n",
        "      The ID of the product for which similar items are being searched.\n",
        "   n : int, optional\n",
        "      The number of similar products to return. Default is 5.\n",
        "\n",
        "   Returns:\n",
        "    - merged_results (pd.DataFrame): A new DataFrame containing top n similar items\n",
        "   \"\"\"\n",
        "\n",
        "   # get the selected product\n",
        "   product = df[df['product_id'] == product_id]\n",
        "\n",
        "   # get the product highlights and ingredients\n",
        "   product_highlights =  list(product['highlights'])[0].split(\", \")\n",
        "   product_ingredients = str(product['ingredients'])\n",
        "\n",
        "   # remove the product I am searching for\n",
        "   df = df[(df['product_id'] != product_id)]\n",
        "\n",
        "   # perform similarity searches\n",
        "   highlights_similarity_results = similarity_search_highlights(df, product_highlights)\n",
        "   ingredients_similarity_results = similarity_search_ingredients(df, product_ingredients)\n",
        "\n",
        "   # combine similarity searches with reciprocal rank fusion algorithm\n",
        "   merged_results = reciprocal_rank_fusion(highlights_similarity_results, ingredients_similarity_results)\n",
        "\n",
        "   # Return only the top-n products\n",
        "   return merged_results[:n]"
      ]
    },
    {
      "cell_type": "code",
      "execution_count": 34,
      "metadata": {
        "colab": {
          "base_uri": "https://localhost:8080/"
        },
        "id": "v0oHoVI9pIwl",
        "outputId": "7b216575-cc82-4760-a1a2-1bd26642e017"
      },
      "outputs": [
        {
          "output_type": "stream",
          "name": "stderr",
          "text": [
            "/usr/local/lib/python3.10/dist-packages/ipykernel/ipkernel.py:283: DeprecationWarning:\n",
            "\n",
            "`should_run_async` will not call `transform_cell` automatically in the future. Please pass the result to `transformed_cell` argument and any exception that happen during thetransform in `preprocessing_exc_tuple` in IPython 7.17 and above.\n",
            "\n",
            "/usr/local/lib/python3.10/dist-packages/sklearn/feature_extraction/text.py:521: UserWarning:\n",
            "\n",
            "The parameter 'token_pattern' will not be used since 'tokenizer' is not None'\n",
            "\n"
          ]
        },
        {
          "output_type": "stream",
          "name": "stdout",
          "text": [
            "The most similar products to the Hyaluronic Facial Cream are: \n",
            "0                                  Peptide Moisturizer\n",
            "1    Do Not Age with Dr. Brandt Moisturizing Neck C...\n",
            "2              Needles No More Wrinkle Smoothing Cream\n",
            "3                         Eczema+ Dermatitis Face Balm\n",
            "4                          Youth Junkie Activated Mask\n",
            "Name: product_name, dtype: object\n"
          ]
        },
        {
          "output_type": "stream",
          "name": "stderr",
          "text": [
            "<ipython-input-29-27cbbccdb254>:31: SettingWithCopyWarning:\n",
            "\n",
            "\n",
            "A value is trying to be set on a copy of a slice from a DataFrame.\n",
            "Try using .loc[row_indexer,col_indexer] = value instead\n",
            "\n",
            "See the caveats in the documentation: https://pandas.pydata.org/pandas-docs/stable/user_guide/indexing.html#returning-a-view-versus-a-copy\n",
            "\n"
          ]
        }
      ],
      "source": [
        "df = pd.read_csv(\"processed_data/skincare.csv\")\n",
        "product_id = \"P442001\"\n",
        "product_name = df[df['product_id'] == product_id]['product_name'].iloc[0]\n",
        "merged = get_similar_items(product_id, df)['product_name'].head(5)\n",
        "\n",
        "print(f\"The most similar products to the {product_name} are: \")\n",
        "print(merged)"
      ]
    },
    {
      "cell_type": "markdown",
      "metadata": {
        "id": "1K19eXc1pIwl"
      },
      "source": [
        "_____"
      ]
    },
    {
      "cell_type": "markdown",
      "metadata": {
        "id": "8VU54mWUpIwl"
      },
      "source": [
        "# 6.Recommender"
      ]
    },
    {
      "cell_type": "markdown",
      "metadata": {
        "id": "ZsZqtWWBpIwl"
      },
      "source": [
        "To handle cases where a product lacks association rules—such as newly introduced items—the system calculates\n",
        "similarity scores against all other products in the database. It identifies the most similar product and\n",
        "utilizes its association rules to generate recommendations. This approach maintains consistency in the type\n",
        "of recommendations provided. Similarly, if there are insufficient association rules, the system leverages the\n",
        "\"similar items\" method by using related products as a basis to ensure a consistent and diverse output."
      ]
    },
    {
      "cell_type": "code",
      "execution_count": 35,
      "metadata": {
        "colab": {
          "base_uri": "https://localhost:8080/"
        },
        "id": "Xn2hKCrxpIwl",
        "outputId": "dfa5cf56-e406-41a7-cf49-abbf4b1b3519"
      },
      "outputs": [
        {
          "output_type": "stream",
          "name": "stderr",
          "text": [
            "/usr/local/lib/python3.10/dist-packages/ipykernel/ipkernel.py:283: DeprecationWarning:\n",
            "\n",
            "`should_run_async` will not call `transform_cell` automatically in the future. Please pass the result to `transformed_cell` argument and any exception that happen during thetransform in `preprocessing_exc_tuple` in IPython 7.17 and above.\n",
            "\n"
          ]
        }
      ],
      "source": [
        "# Recommender function\n",
        "def recommender(product_id, rules, df, n=5):\n",
        "    \"\"\"\n",
        "    Recommend products based on association rules and similarity.\n",
        "\n",
        "    Parameters:\n",
        "        product_id (str): The product ID for which recommendations are needed.\n",
        "        rules (pd.DataFrame): A DataFrame of association rules with columns 'antecedents' and 'consequents'.\n",
        "        n (int): Number of recommendations to return.\n",
        "\n",
        "    Returns:\n",
        "        list: Recommended products.\n",
        "    \"\"\"\n",
        "\n",
        "    # Step 1: Find associated items\n",
        "    associated_items = find_associated_items(product_id, rules)\n",
        "\n",
        "    # no rule for chosen item\n",
        "    if len(associated_items) == 0:\n",
        "        # find the most similar antecedents to the product_id\n",
        "\n",
        "        # get all the single antecedents in the rules\n",
        "        antecedents = [\n",
        "            list(item)[0]\n",
        "            for item in rules[\"antecedents\"]\n",
        "            if len(item) == 1\n",
        "        ]\n",
        "\n",
        "        # filter skincare so it searches for the similar items only among the antecedents and product_id\n",
        "        antecedents.append(product_id)\n",
        "        df_antecedents = df[df['product_id'].isin(antecedents)]\n",
        "\n",
        "        # the most similar antecedents to a product_id\n",
        "        the_most_similar_product_id = get_similar_items(product_id, df_antecedents, n = 1)['product_id'].iloc[0]\n",
        "\n",
        "        associated_items = find_associated_items(the_most_similar_product_id, rules)\n",
        "\n",
        "    # get the top n associated items\n",
        "    if len(associated_items) >= n:\n",
        "        return associated_items[:n]\n",
        "\n",
        "    # if there are not enough  associated items get the similar items to the product_id as well\n",
        "    else:\n",
        "        number_of_similar_items = n - len(associated_items)\n",
        "\n",
        "        # for each of the consequents find similar items and combine them in one dataframe\n",
        "        similar_items_dataframes = []\n",
        "        for i in associated_items:\n",
        "            # get the top number_of_similar_items\n",
        "            similar_items = get_similar_items(product_id, df)\n",
        "            similar_items_dataframes.append(similar_items)\n",
        "\n",
        "        all_similar_items = pd.concat(similar_items_dataframes, axis=0)\n",
        "\n",
        "        # order is by similarity_score_highlights\n",
        "        all_similar_items = all_similar_items.sort_values(by='rrf_score', ascending=False).reset_index(drop=True)\n",
        "\n",
        "        # take only the top number_of_similar_items\n",
        "        similar_products = list(all_similar_items['product_id'])[:number_of_similar_items]\n",
        "\n",
        "        return associated_items + similar_products"
      ]
    },
    {
      "cell_type": "markdown",
      "metadata": {
        "id": "TT-ioa8KpIwl"
      },
      "source": [
        "### Load data"
      ]
    },
    {
      "cell_type": "code",
      "execution_count": 36,
      "metadata": {
        "colab": {
          "base_uri": "https://localhost:8080/"
        },
        "id": "xYVsQJLtpIwm",
        "outputId": "a2ee0ec6-57a0-4372-dda6-686571397696"
      },
      "outputs": [
        {
          "output_type": "stream",
          "name": "stderr",
          "text": [
            "/usr/local/lib/python3.10/dist-packages/ipykernel/ipkernel.py:283: DeprecationWarning:\n",
            "\n",
            "`should_run_async` will not call `transform_cell` automatically in the future. Please pass the result to `transformed_cell` argument and any exception that happen during thetransform in `preprocessing_exc_tuple` in IPython 7.17 and above.\n",
            "\n"
          ]
        }
      ],
      "source": [
        "association_rules = pd.read_csv('processed_data/association_rules.csv')\n",
        "association_rules = preprocess_rules(association_rules)\n",
        "skincare_df = pd.read_csv(\"processed_data/skincare.csv\")"
      ]
    },
    {
      "cell_type": "markdown",
      "metadata": {
        "id": "ZMtBNVDCpIwm"
      },
      "source": [
        "### Example of usage"
      ]
    },
    {
      "cell_type": "code",
      "execution_count": 37,
      "metadata": {
        "colab": {
          "base_uri": "https://localhost:8080/"
        },
        "id": "goiB6wPbpIwm",
        "outputId": "15cf6e1e-f03a-4a0f-dc1a-f86346f20662"
      },
      "outputs": [
        {
          "output_type": "stream",
          "name": "stdout",
          "text": [
            "The most similar products to the Sun Drops SPF 50 are: \n",
            "0    Daily Dose Hydra-Ceramide Boost + SPF 40 Sunsc...\n",
            "1              Refreshing Water Sunscreen Stick SPF 50\n",
            "2       PLAY Mineral Mist SPF 30 with Marigold Extract\n",
            "3                           Targeted Wrinkle Corrector\n",
            "4                      Sex Dust   Adaptogens For Fire*\n",
            "Name: product_name, dtype: object\n"
          ]
        },
        {
          "output_type": "stream",
          "name": "stderr",
          "text": [
            "/usr/local/lib/python3.10/dist-packages/ipykernel/ipkernel.py:283: DeprecationWarning:\n",
            "\n",
            "`should_run_async` will not call `transform_cell` automatically in the future. Please pass the result to `transformed_cell` argument and any exception that happen during thetransform in `preprocessing_exc_tuple` in IPython 7.17 and above.\n",
            "\n",
            "/usr/local/lib/python3.10/dist-packages/sklearn/feature_extraction/text.py:521: UserWarning:\n",
            "\n",
            "The parameter 'token_pattern' will not be used since 'tokenizer' is not None'\n",
            "\n",
            "<ipython-input-29-27cbbccdb254>:31: SettingWithCopyWarning:\n",
            "\n",
            "\n",
            "A value is trying to be set on a copy of a slice from a DataFrame.\n",
            "Try using .loc[row_indexer,col_indexer] = value instead\n",
            "\n",
            "See the caveats in the documentation: https://pandas.pydata.org/pandas-docs/stable/user_guide/indexing.html#returning-a-view-versus-a-copy\n",
            "\n"
          ]
        }
      ],
      "source": [
        "random_product_id = skincare_df['product_id'].sample(n=1).iloc[0]\n",
        "\n",
        "product_name = skincare_df[skincare_df['product_id'] == random_product_id]['product_name'].iloc[0]\n",
        "merged = get_similar_items(random_product_id, skincare_df)['product_name'].head(5)\n",
        "\n",
        "print(f\"The most similar products to the {product_name} are: \")\n",
        "print(merged)"
      ]
    }
  ],
  "metadata": {
    "accelerator": "GPU",
    "colab": {
      "gpuType": "T4",
      "provenance": []
    },
    "kernelspec": {
      "display_name": "Python 3",
      "name": "python3"
    },
    "language_info": {
      "codemirror_mode": {
        "name": "ipython",
        "version": 3
      },
      "file_extension": ".py",
      "mimetype": "text/x-python",
      "name": "python",
      "nbconvert_exporter": "python",
      "pygments_lexer": "ipython3",
      "version": "3.11.3"
    },
    "widgets": {
      "application/vnd.jupyter.widget-state+json": {
        "01cbf63a33f24c73971b7b53d1b9b365": {
          "model_module": "@jupyter-widgets/controls",
          "model_module_version": "1.5.0",
          "model_name": "DescriptionStyleModel",
          "state": {
            "_model_module": "@jupyter-widgets/controls",
            "_model_module_version": "1.5.0",
            "_model_name": "DescriptionStyleModel",
            "_view_count": null,
            "_view_module": "@jupyter-widgets/base",
            "_view_module_version": "1.2.0",
            "_view_name": "StyleView",
            "description_width": ""
          }
        },
        "02eada3f1277458493317b451e4db113": {
          "model_module": "@jupyter-widgets/base",
          "model_module_version": "1.2.0",
          "model_name": "LayoutModel",
          "state": {
            "_model_module": "@jupyter-widgets/base",
            "_model_module_version": "1.2.0",
            "_model_name": "LayoutModel",
            "_view_count": null,
            "_view_module": "@jupyter-widgets/base",
            "_view_module_version": "1.2.0",
            "_view_name": "LayoutView",
            "align_content": null,
            "align_items": null,
            "align_self": null,
            "border": null,
            "bottom": null,
            "display": null,
            "flex": null,
            "flex_flow": null,
            "grid_area": null,
            "grid_auto_columns": null,
            "grid_auto_flow": null,
            "grid_auto_rows": null,
            "grid_column": null,
            "grid_gap": null,
            "grid_row": null,
            "grid_template_areas": null,
            "grid_template_columns": null,
            "grid_template_rows": null,
            "height": null,
            "justify_content": null,
            "justify_items": null,
            "left": null,
            "margin": null,
            "max_height": null,
            "max_width": null,
            "min_height": null,
            "min_width": null,
            "object_fit": null,
            "object_position": null,
            "order": null,
            "overflow": null,
            "overflow_x": null,
            "overflow_y": null,
            "padding": null,
            "right": null,
            "top": null,
            "visibility": null,
            "width": null
          }
        },
        "04165a343278495da4b5e8c9724c71d4": {
          "model_module": "@jupyter-widgets/controls",
          "model_module_version": "1.5.0",
          "model_name": "HTMLModel",
          "state": {
            "_dom_classes": [],
            "_model_module": "@jupyter-widgets/controls",
            "_model_module_version": "1.5.0",
            "_model_name": "HTMLModel",
            "_view_count": null,
            "_view_module": "@jupyter-widgets/controls",
            "_view_module_version": "1.5.0",
            "_view_name": "HTMLView",
            "description": "",
            "description_tooltip": null,
            "layout": "IPY_MODEL_0cb6cf092a684c81a854f8c0f5513b5f",
            "placeholder": "​",
            "style": "IPY_MODEL_234ea676633c406e82259afff4478f7b",
            "value": " 1.09k/1.09k [00:00&lt;00:00, 61.2kB/s]"
          }
        },
        "0cb6cf092a684c81a854f8c0f5513b5f": {
          "model_module": "@jupyter-widgets/base",
          "model_module_version": "1.2.0",
          "model_name": "LayoutModel",
          "state": {
            "_model_module": "@jupyter-widgets/base",
            "_model_module_version": "1.2.0",
            "_model_name": "LayoutModel",
            "_view_count": null,
            "_view_module": "@jupyter-widgets/base",
            "_view_module_version": "1.2.0",
            "_view_name": "LayoutView",
            "align_content": null,
            "align_items": null,
            "align_self": null,
            "border": null,
            "bottom": null,
            "display": null,
            "flex": null,
            "flex_flow": null,
            "grid_area": null,
            "grid_auto_columns": null,
            "grid_auto_flow": null,
            "grid_auto_rows": null,
            "grid_column": null,
            "grid_gap": null,
            "grid_row": null,
            "grid_template_areas": null,
            "grid_template_columns": null,
            "grid_template_rows": null,
            "height": null,
            "justify_content": null,
            "justify_items": null,
            "left": null,
            "margin": null,
            "max_height": null,
            "max_width": null,
            "min_height": null,
            "min_width": null,
            "object_fit": null,
            "object_position": null,
            "order": null,
            "overflow": null,
            "overflow_x": null,
            "overflow_y": null,
            "padding": null,
            "right": null,
            "top": null,
            "visibility": null,
            "width": null
          }
        },
        "0d874b593bee457aa956c21599a0d821": {
          "model_module": "@jupyter-widgets/controls",
          "model_module_version": "1.5.0",
          "model_name": "HTMLModel",
          "state": {
            "_dom_classes": [],
            "_model_module": "@jupyter-widgets/controls",
            "_model_module_version": "1.5.0",
            "_model_name": "HTMLModel",
            "_view_count": null,
            "_view_module": "@jupyter-widgets/controls",
            "_view_module_version": "1.5.0",
            "_view_name": "HTMLView",
            "description": "",
            "description_tooltip": null,
            "layout": "IPY_MODEL_163f32aa19cf420cb7cc99f94e9202f9",
            "placeholder": "​",
            "style": "IPY_MODEL_6cd18d4b9ed14078b5b8ae666e36bfb9",
            "value": "model.safetensors: 100%"
          }
        },
        "163f32aa19cf420cb7cc99f94e9202f9": {
          "model_module": "@jupyter-widgets/base",
          "model_module_version": "1.2.0",
          "model_name": "LayoutModel",
          "state": {
            "_model_module": "@jupyter-widgets/base",
            "_model_module_version": "1.2.0",
            "_model_name": "LayoutModel",
            "_view_count": null,
            "_view_module": "@jupyter-widgets/base",
            "_view_module_version": "1.2.0",
            "_view_name": "LayoutView",
            "align_content": null,
            "align_items": null,
            "align_self": null,
            "border": null,
            "bottom": null,
            "display": null,
            "flex": null,
            "flex_flow": null,
            "grid_area": null,
            "grid_auto_columns": null,
            "grid_auto_flow": null,
            "grid_auto_rows": null,
            "grid_column": null,
            "grid_gap": null,
            "grid_row": null,
            "grid_template_areas": null,
            "grid_template_columns": null,
            "grid_template_rows": null,
            "height": null,
            "justify_content": null,
            "justify_items": null,
            "left": null,
            "margin": null,
            "max_height": null,
            "max_width": null,
            "min_height": null,
            "min_width": null,
            "object_fit": null,
            "object_position": null,
            "order": null,
            "overflow": null,
            "overflow_x": null,
            "overflow_y": null,
            "padding": null,
            "right": null,
            "top": null,
            "visibility": null,
            "width": null
          }
        },
        "1acc647dc00a4e40b124f7c7dd5601c3": {
          "model_module": "@jupyter-widgets/controls",
          "model_module_version": "1.5.0",
          "model_name": "ProgressStyleModel",
          "state": {
            "_model_module": "@jupyter-widgets/controls",
            "_model_module_version": "1.5.0",
            "_model_name": "ProgressStyleModel",
            "_view_count": null,
            "_view_module": "@jupyter-widgets/base",
            "_view_module_version": "1.2.0",
            "_view_name": "StyleView",
            "bar_color": null,
            "description_width": ""
          }
        },
        "234ea676633c406e82259afff4478f7b": {
          "model_module": "@jupyter-widgets/controls",
          "model_module_version": "1.5.0",
          "model_name": "DescriptionStyleModel",
          "state": {
            "_model_module": "@jupyter-widgets/controls",
            "_model_module_version": "1.5.0",
            "_model_name": "DescriptionStyleModel",
            "_view_count": null,
            "_view_module": "@jupyter-widgets/base",
            "_view_module_version": "1.2.0",
            "_view_name": "StyleView",
            "description_width": ""
          }
        },
        "2530ad5e51954ba89a0a8f2444c4b4a1": {
          "model_module": "@jupyter-widgets/controls",
          "model_module_version": "1.5.0",
          "model_name": "FloatProgressModel",
          "state": {
            "_dom_classes": [],
            "_model_module": "@jupyter-widgets/controls",
            "_model_module_version": "1.5.0",
            "_model_name": "FloatProgressModel",
            "_view_count": null,
            "_view_module": "@jupyter-widgets/controls",
            "_view_module_version": "1.5.0",
            "_view_name": "ProgressView",
            "bar_style": "success",
            "description": "",
            "description_tooltip": null,
            "layout": "IPY_MODEL_f588d6dba673473d9a6a9b8bdc497229",
            "max": 1998,
            "min": 0,
            "orientation": "horizontal",
            "style": "IPY_MODEL_1acc647dc00a4e40b124f7c7dd5601c3",
            "value": 1998
          }
        },
        "277c0224f7c243b58dccb319cb4a1650": {
          "model_module": "@jupyter-widgets/controls",
          "model_module_version": "1.5.0",
          "model_name": "ProgressStyleModel",
          "state": {
            "_model_module": "@jupyter-widgets/controls",
            "_model_module_version": "1.5.0",
            "_model_name": "ProgressStyleModel",
            "_view_count": null,
            "_view_module": "@jupyter-widgets/base",
            "_view_module_version": "1.2.0",
            "_view_name": "StyleView",
            "bar_color": null,
            "description_width": ""
          }
        },
        "280f29f782a3478e9c5323499399267a": {
          "model_module": "@jupyter-widgets/base",
          "model_module_version": "1.2.0",
          "model_name": "LayoutModel",
          "state": {
            "_model_module": "@jupyter-widgets/base",
            "_model_module_version": "1.2.0",
            "_model_name": "LayoutModel",
            "_view_count": null,
            "_view_module": "@jupyter-widgets/base",
            "_view_module_version": "1.2.0",
            "_view_name": "LayoutView",
            "align_content": null,
            "align_items": null,
            "align_self": null,
            "border": null,
            "bottom": null,
            "display": null,
            "flex": null,
            "flex_flow": null,
            "grid_area": null,
            "grid_auto_columns": null,
            "grid_auto_flow": null,
            "grid_auto_rows": null,
            "grid_column": null,
            "grid_gap": null,
            "grid_row": null,
            "grid_template_areas": null,
            "grid_template_columns": null,
            "grid_template_rows": null,
            "height": null,
            "justify_content": null,
            "justify_items": null,
            "left": null,
            "margin": null,
            "max_height": null,
            "max_width": null,
            "min_height": null,
            "min_width": null,
            "object_fit": null,
            "object_position": null,
            "order": null,
            "overflow": null,
            "overflow_x": null,
            "overflow_y": null,
            "padding": null,
            "right": null,
            "top": null,
            "visibility": null,
            "width": null
          }
        },
        "2a23a6c2210c4086b06c25c76f7bc133": {
          "model_module": "@jupyter-widgets/controls",
          "model_module_version": "1.5.0",
          "model_name": "HBoxModel",
          "state": {
            "_dom_classes": [],
            "_model_module": "@jupyter-widgets/controls",
            "_model_module_version": "1.5.0",
            "_model_name": "HBoxModel",
            "_view_count": null,
            "_view_module": "@jupyter-widgets/controls",
            "_view_module_version": "1.5.0",
            "_view_name": "HBoxView",
            "box_style": "",
            "children": [
              "IPY_MODEL_a3fed1c8c0584186a23dca7b8a4d8f8c",
              "IPY_MODEL_dafbec6438fc4402beadd7e1ed324884",
              "IPY_MODEL_61e2d4e883e04072a939de9adb8f658c"
            ],
            "layout": "IPY_MODEL_b29e32768dff4675ada5e72ffa1717b7"
          }
        },
        "33d146aa5ad940358fa6e1715c97c160": {
          "model_module": "@jupyter-widgets/controls",
          "model_module_version": "1.5.0",
          "model_name": "DescriptionStyleModel",
          "state": {
            "_model_module": "@jupyter-widgets/controls",
            "_model_module_version": "1.5.0",
            "_model_name": "DescriptionStyleModel",
            "_view_count": null,
            "_view_module": "@jupyter-widgets/base",
            "_view_module_version": "1.2.0",
            "_view_name": "StyleView",
            "description_width": ""
          }
        },
        "36750e981842402496fd91d4cda52be0": {
          "model_module": "@jupyter-widgets/controls",
          "model_module_version": "1.5.0",
          "model_name": "FloatProgressModel",
          "state": {
            "_dom_classes": [],
            "_model_module": "@jupyter-widgets/controls",
            "_model_module_version": "1.5.0",
            "_model_name": "FloatProgressModel",
            "_view_count": null,
            "_view_module": "@jupyter-widgets/controls",
            "_view_module_version": "1.5.0",
            "_view_name": "ProgressView",
            "bar_style": "success",
            "description": "",
            "description_tooltip": null,
            "layout": "IPY_MODEL_280f29f782a3478e9c5323499399267a",
            "max": 1114822968,
            "min": 0,
            "orientation": "horizontal",
            "style": "IPY_MODEL_6df5f2dc95ba46139c9935de0dea8991",
            "value": 1114822968
          }
        },
        "3ce010f399864dafaf136fc1c04f50a5": {
          "model_module": "@jupyter-widgets/controls",
          "model_module_version": "1.5.0",
          "model_name": "HBoxModel",
          "state": {
            "_dom_classes": [],
            "_model_module": "@jupyter-widgets/controls",
            "_model_module_version": "1.5.0",
            "_model_name": "HBoxModel",
            "_view_count": null,
            "_view_module": "@jupyter-widgets/controls",
            "_view_module_version": "1.5.0",
            "_view_name": "HBoxView",
            "box_style": "",
            "children": [
              "IPY_MODEL_0d874b593bee457aa956c21599a0d821",
              "IPY_MODEL_e2ca9d984883414fa8915ceea1ba58ef",
              "IPY_MODEL_506c569f12b34b83be6ad879af5098a2"
            ],
            "layout": "IPY_MODEL_5a11dfa54d8c4c198bdd4f11b12c4a65"
          }
        },
        "3da5c46e6fc74ae3ab63b5b15328db7a": {
          "model_module": "@jupyter-widgets/controls",
          "model_module_version": "1.5.0",
          "model_name": "HTMLModel",
          "state": {
            "_dom_classes": [],
            "_model_module": "@jupyter-widgets/controls",
            "_model_module_version": "1.5.0",
            "_model_name": "HTMLModel",
            "_view_count": null,
            "_view_module": "@jupyter-widgets/controls",
            "_view_module_version": "1.5.0",
            "_view_name": "HTMLView",
            "description": "",
            "description_tooltip": null,
            "layout": "IPY_MODEL_55e708448d7340189f04760e3ac4bfdf",
            "placeholder": "​",
            "style": "IPY_MODEL_843590c4500f494b9832db13deb11d85",
            "value": "spiece.model: 100%"
          }
        },
        "401901dca8564cb08ff7a8151968ab7a": {
          "model_module": "@jupyter-widgets/base",
          "model_module_version": "1.2.0",
          "model_name": "LayoutModel",
          "state": {
            "_model_module": "@jupyter-widgets/base",
            "_model_module_version": "1.2.0",
            "_model_name": "LayoutModel",
            "_view_count": null,
            "_view_module": "@jupyter-widgets/base",
            "_view_module_version": "1.2.0",
            "_view_name": "LayoutView",
            "align_content": null,
            "align_items": null,
            "align_self": null,
            "border": null,
            "bottom": null,
            "display": null,
            "flex": null,
            "flex_flow": null,
            "grid_area": null,
            "grid_auto_columns": null,
            "grid_auto_flow": null,
            "grid_auto_rows": null,
            "grid_column": null,
            "grid_gap": null,
            "grid_row": null,
            "grid_template_areas": null,
            "grid_template_columns": null,
            "grid_template_rows": null,
            "height": null,
            "justify_content": null,
            "justify_items": null,
            "left": null,
            "margin": null,
            "max_height": null,
            "max_width": null,
            "min_height": null,
            "min_width": null,
            "object_fit": null,
            "object_position": null,
            "order": null,
            "overflow": null,
            "overflow_x": null,
            "overflow_y": null,
            "padding": null,
            "right": null,
            "top": null,
            "visibility": null,
            "width": null
          }
        },
        "41b42d348c114d479b85b4601e5759a0": {
          "model_module": "@jupyter-widgets/controls",
          "model_module_version": "1.5.0",
          "model_name": "ProgressStyleModel",
          "state": {
            "_model_module": "@jupyter-widgets/controls",
            "_model_module_version": "1.5.0",
            "_model_name": "ProgressStyleModel",
            "_view_count": null,
            "_view_module": "@jupyter-widgets/base",
            "_view_module_version": "1.2.0",
            "_view_name": "StyleView",
            "bar_color": null,
            "description_width": ""
          }
        },
        "46ff89995439432bb6eca3662c623968": {
          "model_module": "@jupyter-widgets/controls",
          "model_module_version": "1.5.0",
          "model_name": "DescriptionStyleModel",
          "state": {
            "_model_module": "@jupyter-widgets/controls",
            "_model_module_version": "1.5.0",
            "_model_name": "DescriptionStyleModel",
            "_view_count": null,
            "_view_module": "@jupyter-widgets/base",
            "_view_module_version": "1.2.0",
            "_view_name": "StyleView",
            "description_width": ""
          }
        },
        "4a927e2ed61a46668457ef3d6fd729a9": {
          "model_module": "@jupyter-widgets/base",
          "model_module_version": "1.2.0",
          "model_name": "LayoutModel",
          "state": {
            "_model_module": "@jupyter-widgets/base",
            "_model_module_version": "1.2.0",
            "_model_name": "LayoutModel",
            "_view_count": null,
            "_view_module": "@jupyter-widgets/base",
            "_view_module_version": "1.2.0",
            "_view_name": "LayoutView",
            "align_content": null,
            "align_items": null,
            "align_self": null,
            "border": null,
            "bottom": null,
            "display": null,
            "flex": null,
            "flex_flow": null,
            "grid_area": null,
            "grid_auto_columns": null,
            "grid_auto_flow": null,
            "grid_auto_rows": null,
            "grid_column": null,
            "grid_gap": null,
            "grid_row": null,
            "grid_template_areas": null,
            "grid_template_columns": null,
            "grid_template_rows": null,
            "height": null,
            "justify_content": null,
            "justify_items": null,
            "left": null,
            "margin": null,
            "max_height": null,
            "max_width": null,
            "min_height": null,
            "min_width": null,
            "object_fit": null,
            "object_position": null,
            "order": null,
            "overflow": null,
            "overflow_x": null,
            "overflow_y": null,
            "padding": null,
            "right": null,
            "top": null,
            "visibility": null,
            "width": null
          }
        },
        "4b36efb6c1904aa4bbdd62254014d2b7": {
          "model_module": "@jupyter-widgets/base",
          "model_module_version": "1.2.0",
          "model_name": "LayoutModel",
          "state": {
            "_model_module": "@jupyter-widgets/base",
            "_model_module_version": "1.2.0",
            "_model_name": "LayoutModel",
            "_view_count": null,
            "_view_module": "@jupyter-widgets/base",
            "_view_module_version": "1.2.0",
            "_view_name": "LayoutView",
            "align_content": null,
            "align_items": null,
            "align_self": null,
            "border": null,
            "bottom": null,
            "display": null,
            "flex": null,
            "flex_flow": null,
            "grid_area": null,
            "grid_auto_columns": null,
            "grid_auto_flow": null,
            "grid_auto_rows": null,
            "grid_column": null,
            "grid_gap": null,
            "grid_row": null,
            "grid_template_areas": null,
            "grid_template_columns": null,
            "grid_template_rows": null,
            "height": null,
            "justify_content": null,
            "justify_items": null,
            "left": null,
            "margin": null,
            "max_height": null,
            "max_width": null,
            "min_height": null,
            "min_width": null,
            "object_fit": null,
            "object_position": null,
            "order": null,
            "overflow": null,
            "overflow_x": null,
            "overflow_y": null,
            "padding": null,
            "right": null,
            "top": null,
            "visibility": null,
            "width": null
          }
        },
        "4b41ec15226c44ef84de679bb305a605": {
          "model_module": "@jupyter-widgets/base",
          "model_module_version": "1.2.0",
          "model_name": "LayoutModel",
          "state": {
            "_model_module": "@jupyter-widgets/base",
            "_model_module_version": "1.2.0",
            "_model_name": "LayoutModel",
            "_view_count": null,
            "_view_module": "@jupyter-widgets/base",
            "_view_module_version": "1.2.0",
            "_view_name": "LayoutView",
            "align_content": null,
            "align_items": null,
            "align_self": null,
            "border": null,
            "bottom": null,
            "display": null,
            "flex": null,
            "flex_flow": null,
            "grid_area": null,
            "grid_auto_columns": null,
            "grid_auto_flow": null,
            "grid_auto_rows": null,
            "grid_column": null,
            "grid_gap": null,
            "grid_row": null,
            "grid_template_areas": null,
            "grid_template_columns": null,
            "grid_template_rows": null,
            "height": null,
            "justify_content": null,
            "justify_items": null,
            "left": null,
            "margin": null,
            "max_height": null,
            "max_width": null,
            "min_height": null,
            "min_width": null,
            "object_fit": null,
            "object_position": null,
            "order": null,
            "overflow": null,
            "overflow_x": null,
            "overflow_y": null,
            "padding": null,
            "right": null,
            "top": null,
            "visibility": null,
            "width": null
          }
        },
        "4c105c0c34094815beb24ce22ebe0c13": {
          "model_module": "@jupyter-widgets/base",
          "model_module_version": "1.2.0",
          "model_name": "LayoutModel",
          "state": {
            "_model_module": "@jupyter-widgets/base",
            "_model_module_version": "1.2.0",
            "_model_name": "LayoutModel",
            "_view_count": null,
            "_view_module": "@jupyter-widgets/base",
            "_view_module_version": "1.2.0",
            "_view_name": "LayoutView",
            "align_content": null,
            "align_items": null,
            "align_self": null,
            "border": null,
            "bottom": null,
            "display": null,
            "flex": null,
            "flex_flow": null,
            "grid_area": null,
            "grid_auto_columns": null,
            "grid_auto_flow": null,
            "grid_auto_rows": null,
            "grid_column": null,
            "grid_gap": null,
            "grid_row": null,
            "grid_template_areas": null,
            "grid_template_columns": null,
            "grid_template_rows": null,
            "height": null,
            "justify_content": null,
            "justify_items": null,
            "left": null,
            "margin": null,
            "max_height": null,
            "max_width": null,
            "min_height": null,
            "min_width": null,
            "object_fit": null,
            "object_position": null,
            "order": null,
            "overflow": null,
            "overflow_x": null,
            "overflow_y": null,
            "padding": null,
            "right": null,
            "top": null,
            "visibility": null,
            "width": null
          }
        },
        "4fc9dc64a72c48a0a6f09359286070cc": {
          "model_module": "@jupyter-widgets/controls",
          "model_module_version": "1.5.0",
          "model_name": "HTMLModel",
          "state": {
            "_dom_classes": [],
            "_model_module": "@jupyter-widgets/controls",
            "_model_module_version": "1.5.0",
            "_model_name": "HTMLModel",
            "_view_count": null,
            "_view_module": "@jupyter-widgets/controls",
            "_view_module_version": "1.5.0",
            "_view_name": "HTMLView",
            "description": "",
            "description_tooltip": null,
            "layout": "IPY_MODEL_8f793ac20f3749bdb45e720ddb2ce2ec",
            "placeholder": "​",
            "style": "IPY_MODEL_a25c1d6b69394267a81cb899d04e9334",
            "value": "tokenizer_config.json: 100%"
          }
        },
        "506c569f12b34b83be6ad879af5098a2": {
          "model_module": "@jupyter-widgets/controls",
          "model_module_version": "1.5.0",
          "model_name": "HTMLModel",
          "state": {
            "_dom_classes": [],
            "_model_module": "@jupyter-widgets/controls",
            "_model_module_version": "1.5.0",
            "_model_name": "HTMLModel",
            "_view_count": null,
            "_view_module": "@jupyter-widgets/controls",
            "_view_module_version": "1.5.0",
            "_view_name": "HTMLView",
            "description": "",
            "description_tooltip": null,
            "layout": "IPY_MODEL_564a4f0db510429bbdcf858949c1369f",
            "placeholder": "​",
            "style": "IPY_MODEL_46ff89995439432bb6eca3662c623968",
            "value": " 469M/469M [00:21&lt;00:00, 23.7MB/s]"
          }
        },
        "55e708448d7340189f04760e3ac4bfdf": {
          "model_module": "@jupyter-widgets/base",
          "model_module_version": "1.2.0",
          "model_name": "LayoutModel",
          "state": {
            "_model_module": "@jupyter-widgets/base",
            "_model_module_version": "1.2.0",
            "_model_name": "LayoutModel",
            "_view_count": null,
            "_view_module": "@jupyter-widgets/base",
            "_view_module_version": "1.2.0",
            "_view_name": "LayoutView",
            "align_content": null,
            "align_items": null,
            "align_self": null,
            "border": null,
            "bottom": null,
            "display": null,
            "flex": null,
            "flex_flow": null,
            "grid_area": null,
            "grid_auto_columns": null,
            "grid_auto_flow": null,
            "grid_auto_rows": null,
            "grid_column": null,
            "grid_gap": null,
            "grid_row": null,
            "grid_template_areas": null,
            "grid_template_columns": null,
            "grid_template_rows": null,
            "height": null,
            "justify_content": null,
            "justify_items": null,
            "left": null,
            "margin": null,
            "max_height": null,
            "max_width": null,
            "min_height": null,
            "min_width": null,
            "object_fit": null,
            "object_position": null,
            "order": null,
            "overflow": null,
            "overflow_x": null,
            "overflow_y": null,
            "padding": null,
            "right": null,
            "top": null,
            "visibility": null,
            "width": null
          }
        },
        "564a4f0db510429bbdcf858949c1369f": {
          "model_module": "@jupyter-widgets/base",
          "model_module_version": "1.2.0",
          "model_name": "LayoutModel",
          "state": {
            "_model_module": "@jupyter-widgets/base",
            "_model_module_version": "1.2.0",
            "_model_name": "LayoutModel",
            "_view_count": null,
            "_view_module": "@jupyter-widgets/base",
            "_view_module_version": "1.2.0",
            "_view_name": "LayoutView",
            "align_content": null,
            "align_items": null,
            "align_self": null,
            "border": null,
            "bottom": null,
            "display": null,
            "flex": null,
            "flex_flow": null,
            "grid_area": null,
            "grid_auto_columns": null,
            "grid_auto_flow": null,
            "grid_auto_rows": null,
            "grid_column": null,
            "grid_gap": null,
            "grid_row": null,
            "grid_template_areas": null,
            "grid_template_columns": null,
            "grid_template_rows": null,
            "height": null,
            "justify_content": null,
            "justify_items": null,
            "left": null,
            "margin": null,
            "max_height": null,
            "max_width": null,
            "min_height": null,
            "min_width": null,
            "object_fit": null,
            "object_position": null,
            "order": null,
            "overflow": null,
            "overflow_x": null,
            "overflow_y": null,
            "padding": null,
            "right": null,
            "top": null,
            "visibility": null,
            "width": null
          }
        },
        "59901663a76740d69802822600cf58b2": {
          "model_module": "@jupyter-widgets/controls",
          "model_module_version": "1.5.0",
          "model_name": "ProgressStyleModel",
          "state": {
            "_model_module": "@jupyter-widgets/controls",
            "_model_module_version": "1.5.0",
            "_model_name": "ProgressStyleModel",
            "_view_count": null,
            "_view_module": "@jupyter-widgets/base",
            "_view_module_version": "1.2.0",
            "_view_name": "StyleView",
            "bar_color": null,
            "description_width": ""
          }
        },
        "5a11dfa54d8c4c198bdd4f11b12c4a65": {
          "model_module": "@jupyter-widgets/base",
          "model_module_version": "1.2.0",
          "model_name": "LayoutModel",
          "state": {
            "_model_module": "@jupyter-widgets/base",
            "_model_module_version": "1.2.0",
            "_model_name": "LayoutModel",
            "_view_count": null,
            "_view_module": "@jupyter-widgets/base",
            "_view_module_version": "1.2.0",
            "_view_name": "LayoutView",
            "align_content": null,
            "align_items": null,
            "align_self": null,
            "border": null,
            "bottom": null,
            "display": null,
            "flex": null,
            "flex_flow": null,
            "grid_area": null,
            "grid_auto_columns": null,
            "grid_auto_flow": null,
            "grid_auto_rows": null,
            "grid_column": null,
            "grid_gap": null,
            "grid_row": null,
            "grid_template_areas": null,
            "grid_template_columns": null,
            "grid_template_rows": null,
            "height": null,
            "justify_content": null,
            "justify_items": null,
            "left": null,
            "margin": null,
            "max_height": null,
            "max_width": null,
            "min_height": null,
            "min_width": null,
            "object_fit": null,
            "object_position": null,
            "order": null,
            "overflow": null,
            "overflow_x": null,
            "overflow_y": null,
            "padding": null,
            "right": null,
            "top": null,
            "visibility": null,
            "width": null
          }
        },
        "61e2d4e883e04072a939de9adb8f658c": {
          "model_module": "@jupyter-widgets/controls",
          "model_module_version": "1.5.0",
          "model_name": "HTMLModel",
          "state": {
            "_dom_classes": [],
            "_model_module": "@jupyter-widgets/controls",
            "_model_module_version": "1.5.0",
            "_model_name": "HTMLModel",
            "_view_count": null,
            "_view_module": "@jupyter-widgets/controls",
            "_view_module_version": "1.5.0",
            "_view_name": "HTMLView",
            "description": "",
            "description_tooltip": null,
            "layout": "IPY_MODEL_90b92d48b97446eea8481a5011b68304",
            "placeholder": "​",
            "style": "IPY_MODEL_6a6f4666e5c945b7a8d4e1e31686bedd",
            "value": " 346/346 [00:00&lt;00:00, 24.2kB/s]"
          }
        },
        "6a6f4666e5c945b7a8d4e1e31686bedd": {
          "model_module": "@jupyter-widgets/controls",
          "model_module_version": "1.5.0",
          "model_name": "DescriptionStyleModel",
          "state": {
            "_model_module": "@jupyter-widgets/controls",
            "_model_module_version": "1.5.0",
            "_model_name": "DescriptionStyleModel",
            "_view_count": null,
            "_view_module": "@jupyter-widgets/base",
            "_view_module_version": "1.2.0",
            "_view_name": "StyleView",
            "description_width": ""
          }
        },
        "6cd18d4b9ed14078b5b8ae666e36bfb9": {
          "model_module": "@jupyter-widgets/controls",
          "model_module_version": "1.5.0",
          "model_name": "DescriptionStyleModel",
          "state": {
            "_model_module": "@jupyter-widgets/controls",
            "_model_module_version": "1.5.0",
            "_model_name": "DescriptionStyleModel",
            "_view_count": null,
            "_view_module": "@jupyter-widgets/base",
            "_view_module_version": "1.2.0",
            "_view_name": "StyleView",
            "description_width": ""
          }
        },
        "6df5f2dc95ba46139c9935de0dea8991": {
          "model_module": "@jupyter-widgets/controls",
          "model_module_version": "1.5.0",
          "model_name": "ProgressStyleModel",
          "state": {
            "_model_module": "@jupyter-widgets/controls",
            "_model_module_version": "1.5.0",
            "_model_name": "ProgressStyleModel",
            "_view_count": null,
            "_view_module": "@jupyter-widgets/base",
            "_view_module_version": "1.2.0",
            "_view_name": "StyleView",
            "bar_color": null,
            "description_width": ""
          }
        },
        "713d35162940490ca2efc436b60947b3": {
          "model_module": "@jupyter-widgets/controls",
          "model_module_version": "1.5.0",
          "model_name": "HBoxModel",
          "state": {
            "_dom_classes": [],
            "_model_module": "@jupyter-widgets/controls",
            "_model_module_version": "1.5.0",
            "_model_name": "HBoxModel",
            "_view_count": null,
            "_view_module": "@jupyter-widgets/controls",
            "_view_module_version": "1.5.0",
            "_view_name": "HBoxView",
            "box_style": "",
            "children": [
              "IPY_MODEL_4fc9dc64a72c48a0a6f09359286070cc",
              "IPY_MODEL_2530ad5e51954ba89a0a8f2444c4b4a1",
              "IPY_MODEL_bd654cd92beb4d9498fc12698d17546a"
            ],
            "layout": "IPY_MODEL_4c105c0c34094815beb24ce22ebe0c13"
          }
        },
        "7a852f5efe1a498f9256654ccc790d0e": {
          "model_module": "@jupyter-widgets/base",
          "model_module_version": "1.2.0",
          "model_name": "LayoutModel",
          "state": {
            "_model_module": "@jupyter-widgets/base",
            "_model_module_version": "1.2.0",
            "_model_name": "LayoutModel",
            "_view_count": null,
            "_view_module": "@jupyter-widgets/base",
            "_view_module_version": "1.2.0",
            "_view_name": "LayoutView",
            "align_content": null,
            "align_items": null,
            "align_self": null,
            "border": null,
            "bottom": null,
            "display": null,
            "flex": null,
            "flex_flow": null,
            "grid_area": null,
            "grid_auto_columns": null,
            "grid_auto_flow": null,
            "grid_auto_rows": null,
            "grid_column": null,
            "grid_gap": null,
            "grid_row": null,
            "grid_template_areas": null,
            "grid_template_columns": null,
            "grid_template_rows": null,
            "height": null,
            "justify_content": null,
            "justify_items": null,
            "left": null,
            "margin": null,
            "max_height": null,
            "max_width": null,
            "min_height": null,
            "min_width": null,
            "object_fit": null,
            "object_position": null,
            "order": null,
            "overflow": null,
            "overflow_x": null,
            "overflow_y": null,
            "padding": null,
            "right": null,
            "top": null,
            "visibility": null,
            "width": null
          }
        },
        "843590c4500f494b9832db13deb11d85": {
          "model_module": "@jupyter-widgets/controls",
          "model_module_version": "1.5.0",
          "model_name": "DescriptionStyleModel",
          "state": {
            "_model_module": "@jupyter-widgets/controls",
            "_model_module_version": "1.5.0",
            "_model_name": "DescriptionStyleModel",
            "_view_count": null,
            "_view_module": "@jupyter-widgets/base",
            "_view_module_version": "1.2.0",
            "_view_name": "StyleView",
            "description_width": ""
          }
        },
        "86a8f2cb2b2e45a9ad99393a6fd645e4": {
          "model_module": "@jupyter-widgets/base",
          "model_module_version": "1.2.0",
          "model_name": "LayoutModel",
          "state": {
            "_model_module": "@jupyter-widgets/base",
            "_model_module_version": "1.2.0",
            "_model_name": "LayoutModel",
            "_view_count": null,
            "_view_module": "@jupyter-widgets/base",
            "_view_module_version": "1.2.0",
            "_view_name": "LayoutView",
            "align_content": null,
            "align_items": null,
            "align_self": null,
            "border": null,
            "bottom": null,
            "display": null,
            "flex": null,
            "flex_flow": null,
            "grid_area": null,
            "grid_auto_columns": null,
            "grid_auto_flow": null,
            "grid_auto_rows": null,
            "grid_column": null,
            "grid_gap": null,
            "grid_row": null,
            "grid_template_areas": null,
            "grid_template_columns": null,
            "grid_template_rows": null,
            "height": null,
            "justify_content": null,
            "justify_items": null,
            "left": null,
            "margin": null,
            "max_height": null,
            "max_width": null,
            "min_height": null,
            "min_width": null,
            "object_fit": null,
            "object_position": null,
            "order": null,
            "overflow": null,
            "overflow_x": null,
            "overflow_y": null,
            "padding": null,
            "right": null,
            "top": null,
            "visibility": null,
            "width": null
          }
        },
        "8753951bfe0b4cf2afc4756c18c7544e": {
          "model_module": "@jupyter-widgets/controls",
          "model_module_version": "1.5.0",
          "model_name": "HBoxModel",
          "state": {
            "_dom_classes": [],
            "_model_module": "@jupyter-widgets/controls",
            "_model_module_version": "1.5.0",
            "_model_name": "HBoxModel",
            "_view_count": null,
            "_view_module": "@jupyter-widgets/controls",
            "_view_module_version": "1.5.0",
            "_view_name": "HBoxView",
            "box_style": "",
            "children": [
              "IPY_MODEL_eb2970dedb6944b39aafcc7292cd9854",
              "IPY_MODEL_fd5c9e500f2341ec97a534f66f505af9",
              "IPY_MODEL_04165a343278495da4b5e8c9724c71d4"
            ],
            "layout": "IPY_MODEL_947706a57835457285f53dd3d65d6d6e"
          }
        },
        "8cc1c836a43846b792a21efe6c045204": {
          "model_module": "@jupyter-widgets/base",
          "model_module_version": "1.2.0",
          "model_name": "LayoutModel",
          "state": {
            "_model_module": "@jupyter-widgets/base",
            "_model_module_version": "1.2.0",
            "_model_name": "LayoutModel",
            "_view_count": null,
            "_view_module": "@jupyter-widgets/base",
            "_view_module_version": "1.2.0",
            "_view_name": "LayoutView",
            "align_content": null,
            "align_items": null,
            "align_self": null,
            "border": null,
            "bottom": null,
            "display": null,
            "flex": null,
            "flex_flow": null,
            "grid_area": null,
            "grid_auto_columns": null,
            "grid_auto_flow": null,
            "grid_auto_rows": null,
            "grid_column": null,
            "grid_gap": null,
            "grid_row": null,
            "grid_template_areas": null,
            "grid_template_columns": null,
            "grid_template_rows": null,
            "height": null,
            "justify_content": null,
            "justify_items": null,
            "left": null,
            "margin": null,
            "max_height": null,
            "max_width": null,
            "min_height": null,
            "min_width": null,
            "object_fit": null,
            "object_position": null,
            "order": null,
            "overflow": null,
            "overflow_x": null,
            "overflow_y": null,
            "padding": null,
            "right": null,
            "top": null,
            "visibility": null,
            "width": null
          }
        },
        "8f793ac20f3749bdb45e720ddb2ce2ec": {
          "model_module": "@jupyter-widgets/base",
          "model_module_version": "1.2.0",
          "model_name": "LayoutModel",
          "state": {
            "_model_module": "@jupyter-widgets/base",
            "_model_module_version": "1.2.0",
            "_model_name": "LayoutModel",
            "_view_count": null,
            "_view_module": "@jupyter-widgets/base",
            "_view_module_version": "1.2.0",
            "_view_name": "LayoutView",
            "align_content": null,
            "align_items": null,
            "align_self": null,
            "border": null,
            "bottom": null,
            "display": null,
            "flex": null,
            "flex_flow": null,
            "grid_area": null,
            "grid_auto_columns": null,
            "grid_auto_flow": null,
            "grid_auto_rows": null,
            "grid_column": null,
            "grid_gap": null,
            "grid_row": null,
            "grid_template_areas": null,
            "grid_template_columns": null,
            "grid_template_rows": null,
            "height": null,
            "justify_content": null,
            "justify_items": null,
            "left": null,
            "margin": null,
            "max_height": null,
            "max_width": null,
            "min_height": null,
            "min_width": null,
            "object_fit": null,
            "object_position": null,
            "order": null,
            "overflow": null,
            "overflow_x": null,
            "overflow_y": null,
            "padding": null,
            "right": null,
            "top": null,
            "visibility": null,
            "width": null
          }
        },
        "90b92d48b97446eea8481a5011b68304": {
          "model_module": "@jupyter-widgets/base",
          "model_module_version": "1.2.0",
          "model_name": "LayoutModel",
          "state": {
            "_model_module": "@jupyter-widgets/base",
            "_model_module_version": "1.2.0",
            "_model_name": "LayoutModel",
            "_view_count": null,
            "_view_module": "@jupyter-widgets/base",
            "_view_module_version": "1.2.0",
            "_view_name": "LayoutView",
            "align_content": null,
            "align_items": null,
            "align_self": null,
            "border": null,
            "bottom": null,
            "display": null,
            "flex": null,
            "flex_flow": null,
            "grid_area": null,
            "grid_auto_columns": null,
            "grid_auto_flow": null,
            "grid_auto_rows": null,
            "grid_column": null,
            "grid_gap": null,
            "grid_row": null,
            "grid_template_areas": null,
            "grid_template_columns": null,
            "grid_template_rows": null,
            "height": null,
            "justify_content": null,
            "justify_items": null,
            "left": null,
            "margin": null,
            "max_height": null,
            "max_width": null,
            "min_height": null,
            "min_width": null,
            "object_fit": null,
            "object_position": null,
            "order": null,
            "overflow": null,
            "overflow_x": null,
            "overflow_y": null,
            "padding": null,
            "right": null,
            "top": null,
            "visibility": null,
            "width": null
          }
        },
        "932e2420250e47139fe974a61fd96332": {
          "model_module": "@jupyter-widgets/base",
          "model_module_version": "1.2.0",
          "model_name": "LayoutModel",
          "state": {
            "_model_module": "@jupyter-widgets/base",
            "_model_module_version": "1.2.0",
            "_model_name": "LayoutModel",
            "_view_count": null,
            "_view_module": "@jupyter-widgets/base",
            "_view_module_version": "1.2.0",
            "_view_name": "LayoutView",
            "align_content": null,
            "align_items": null,
            "align_self": null,
            "border": null,
            "bottom": null,
            "display": null,
            "flex": null,
            "flex_flow": null,
            "grid_area": null,
            "grid_auto_columns": null,
            "grid_auto_flow": null,
            "grid_auto_rows": null,
            "grid_column": null,
            "grid_gap": null,
            "grid_row": null,
            "grid_template_areas": null,
            "grid_template_columns": null,
            "grid_template_rows": null,
            "height": null,
            "justify_content": null,
            "justify_items": null,
            "left": null,
            "margin": null,
            "max_height": null,
            "max_width": null,
            "min_height": null,
            "min_width": null,
            "object_fit": null,
            "object_position": null,
            "order": null,
            "overflow": null,
            "overflow_x": null,
            "overflow_y": null,
            "padding": null,
            "right": null,
            "top": null,
            "visibility": null,
            "width": null
          }
        },
        "93ec8d2709234ed8a547554aa72b4eaa": {
          "model_module": "@jupyter-widgets/controls",
          "model_module_version": "1.5.0",
          "model_name": "FloatProgressModel",
          "state": {
            "_dom_classes": [],
            "_model_module": "@jupyter-widgets/controls",
            "_model_module_version": "1.5.0",
            "_model_name": "FloatProgressModel",
            "_view_count": null,
            "_view_module": "@jupyter-widgets/controls",
            "_view_module_version": "1.5.0",
            "_view_name": "ProgressView",
            "bar_style": "success",
            "description": "",
            "description_tooltip": null,
            "layout": "IPY_MODEL_86a8f2cb2b2e45a9ad99393a6fd645e4",
            "max": 798011,
            "min": 0,
            "orientation": "horizontal",
            "style": "IPY_MODEL_277c0224f7c243b58dccb319cb4a1650",
            "value": 798011
          }
        },
        "947706a57835457285f53dd3d65d6d6e": {
          "model_module": "@jupyter-widgets/base",
          "model_module_version": "1.2.0",
          "model_name": "LayoutModel",
          "state": {
            "_model_module": "@jupyter-widgets/base",
            "_model_module_version": "1.2.0",
            "_model_name": "LayoutModel",
            "_view_count": null,
            "_view_module": "@jupyter-widgets/base",
            "_view_module_version": "1.2.0",
            "_view_name": "LayoutView",
            "align_content": null,
            "align_items": null,
            "align_self": null,
            "border": null,
            "bottom": null,
            "display": null,
            "flex": null,
            "flex_flow": null,
            "grid_area": null,
            "grid_auto_columns": null,
            "grid_auto_flow": null,
            "grid_auto_rows": null,
            "grid_column": null,
            "grid_gap": null,
            "grid_row": null,
            "grid_template_areas": null,
            "grid_template_columns": null,
            "grid_template_rows": null,
            "height": null,
            "justify_content": null,
            "justify_items": null,
            "left": null,
            "margin": null,
            "max_height": null,
            "max_width": null,
            "min_height": null,
            "min_width": null,
            "object_fit": null,
            "object_position": null,
            "order": null,
            "overflow": null,
            "overflow_x": null,
            "overflow_y": null,
            "padding": null,
            "right": null,
            "top": null,
            "visibility": null,
            "width": null
          }
        },
        "9ccecbcd8a46432c9329d8f9dad98afc": {
          "model_module": "@jupyter-widgets/controls",
          "model_module_version": "1.5.0",
          "model_name": "HTMLModel",
          "state": {
            "_dom_classes": [],
            "_model_module": "@jupyter-widgets/controls",
            "_model_module_version": "1.5.0",
            "_model_name": "HTMLModel",
            "_view_count": null,
            "_view_module": "@jupyter-widgets/controls",
            "_view_module_version": "1.5.0",
            "_view_name": "HTMLView",
            "description": "",
            "description_tooltip": null,
            "layout": "IPY_MODEL_4b36efb6c1904aa4bbdd62254014d2b7",
            "placeholder": "​",
            "style": "IPY_MODEL_da33efaffbe34ac7a2beea1073f9f9e0",
            "value": " 798k/798k [00:00&lt;00:00, 20.0MB/s]"
          }
        },
        "a14be4e90cf344da8046e54b630d2994": {
          "model_module": "@jupyter-widgets/controls",
          "model_module_version": "1.5.0",
          "model_name": "ProgressStyleModel",
          "state": {
            "_model_module": "@jupyter-widgets/controls",
            "_model_module_version": "1.5.0",
            "_model_name": "ProgressStyleModel",
            "_view_count": null,
            "_view_module": "@jupyter-widgets/base",
            "_view_module_version": "1.2.0",
            "_view_name": "StyleView",
            "bar_color": null,
            "description_width": ""
          }
        },
        "a16e91f26a244ca289783b5f5f71357a": {
          "model_module": "@jupyter-widgets/base",
          "model_module_version": "1.2.0",
          "model_name": "LayoutModel",
          "state": {
            "_model_module": "@jupyter-widgets/base",
            "_model_module_version": "1.2.0",
            "_model_name": "LayoutModel",
            "_view_count": null,
            "_view_module": "@jupyter-widgets/base",
            "_view_module_version": "1.2.0",
            "_view_name": "LayoutView",
            "align_content": null,
            "align_items": null,
            "align_self": null,
            "border": null,
            "bottom": null,
            "display": null,
            "flex": null,
            "flex_flow": null,
            "grid_area": null,
            "grid_auto_columns": null,
            "grid_auto_flow": null,
            "grid_auto_rows": null,
            "grid_column": null,
            "grid_gap": null,
            "grid_row": null,
            "grid_template_areas": null,
            "grid_template_columns": null,
            "grid_template_rows": null,
            "height": null,
            "justify_content": null,
            "justify_items": null,
            "left": null,
            "margin": null,
            "max_height": null,
            "max_width": null,
            "min_height": null,
            "min_width": null,
            "object_fit": null,
            "object_position": null,
            "order": null,
            "overflow": null,
            "overflow_x": null,
            "overflow_y": null,
            "padding": null,
            "right": null,
            "top": null,
            "visibility": null,
            "width": null
          }
        },
        "a25c1d6b69394267a81cb899d04e9334": {
          "model_module": "@jupyter-widgets/controls",
          "model_module_version": "1.5.0",
          "model_name": "DescriptionStyleModel",
          "state": {
            "_model_module": "@jupyter-widgets/controls",
            "_model_module_version": "1.5.0",
            "_model_name": "DescriptionStyleModel",
            "_view_count": null,
            "_view_module": "@jupyter-widgets/base",
            "_view_module_version": "1.2.0",
            "_view_name": "StyleView",
            "description_width": ""
          }
        },
        "a3fed1c8c0584186a23dca7b8a4d8f8c": {
          "model_module": "@jupyter-widgets/controls",
          "model_module_version": "1.5.0",
          "model_name": "HTMLModel",
          "state": {
            "_dom_classes": [],
            "_model_module": "@jupyter-widgets/controls",
            "_model_module_version": "1.5.0",
            "_model_name": "HTMLModel",
            "_view_count": null,
            "_view_module": "@jupyter-widgets/controls",
            "_view_module_version": "1.5.0",
            "_view_name": "HTMLView",
            "description": "",
            "description_tooltip": null,
            "layout": "IPY_MODEL_a89e9cd56f7f4cbcac2eba4f47eb88f2",
            "placeholder": "​",
            "style": "IPY_MODEL_01cbf63a33f24c73971b7b53d1b9b365",
            "value": "special_tokens_map.json: 100%"
          }
        },
        "a89e9cd56f7f4cbcac2eba4f47eb88f2": {
          "model_module": "@jupyter-widgets/base",
          "model_module_version": "1.2.0",
          "model_name": "LayoutModel",
          "state": {
            "_model_module": "@jupyter-widgets/base",
            "_model_module_version": "1.2.0",
            "_model_name": "LayoutModel",
            "_view_count": null,
            "_view_module": "@jupyter-widgets/base",
            "_view_module_version": "1.2.0",
            "_view_name": "LayoutView",
            "align_content": null,
            "align_items": null,
            "align_self": null,
            "border": null,
            "bottom": null,
            "display": null,
            "flex": null,
            "flex_flow": null,
            "grid_area": null,
            "grid_auto_columns": null,
            "grid_auto_flow": null,
            "grid_auto_rows": null,
            "grid_column": null,
            "grid_gap": null,
            "grid_row": null,
            "grid_template_areas": null,
            "grid_template_columns": null,
            "grid_template_rows": null,
            "height": null,
            "justify_content": null,
            "justify_items": null,
            "left": null,
            "margin": null,
            "max_height": null,
            "max_width": null,
            "min_height": null,
            "min_width": null,
            "object_fit": null,
            "object_position": null,
            "order": null,
            "overflow": null,
            "overflow_x": null,
            "overflow_y": null,
            "padding": null,
            "right": null,
            "top": null,
            "visibility": null,
            "width": null
          }
        },
        "adbf47ce455149c89e43244210fd9f60": {
          "model_module": "@jupyter-widgets/controls",
          "model_module_version": "1.5.0",
          "model_name": "HBoxModel",
          "state": {
            "_dom_classes": [],
            "_model_module": "@jupyter-widgets/controls",
            "_model_module_version": "1.5.0",
            "_model_name": "HBoxModel",
            "_view_count": null,
            "_view_module": "@jupyter-widgets/controls",
            "_view_module_version": "1.5.0",
            "_view_name": "HBoxView",
            "box_style": "",
            "children": [
              "IPY_MODEL_c4318d970d7d47eb998c966b3cf3731e",
              "IPY_MODEL_36750e981842402496fd91d4cda52be0",
              "IPY_MODEL_af2076f4eaef4788b60c3a4e7152d18f"
            ],
            "layout": "IPY_MODEL_401901dca8564cb08ff7a8151968ab7a"
          }
        },
        "af2076f4eaef4788b60c3a4e7152d18f": {
          "model_module": "@jupyter-widgets/controls",
          "model_module_version": "1.5.0",
          "model_name": "HTMLModel",
          "state": {
            "_dom_classes": [],
            "_model_module": "@jupyter-widgets/controls",
            "_model_module_version": "1.5.0",
            "_model_name": "HTMLModel",
            "_view_count": null,
            "_view_module": "@jupyter-widgets/controls",
            "_view_module_version": "1.5.0",
            "_view_name": "HTMLView",
            "description": "",
            "description_tooltip": null,
            "layout": "IPY_MODEL_932e2420250e47139fe974a61fd96332",
            "placeholder": "​",
            "style": "IPY_MODEL_33d146aa5ad940358fa6e1715c97c160",
            "value": " 1.11G/1.11G [00:45&lt;00:00, 24.0MB/s]"
          }
        },
        "b29e32768dff4675ada5e72ffa1717b7": {
          "model_module": "@jupyter-widgets/base",
          "model_module_version": "1.2.0",
          "model_name": "LayoutModel",
          "state": {
            "_model_module": "@jupyter-widgets/base",
            "_model_module_version": "1.2.0",
            "_model_name": "LayoutModel",
            "_view_count": null,
            "_view_module": "@jupyter-widgets/base",
            "_view_module_version": "1.2.0",
            "_view_name": "LayoutView",
            "align_content": null,
            "align_items": null,
            "align_self": null,
            "border": null,
            "bottom": null,
            "display": null,
            "flex": null,
            "flex_flow": null,
            "grid_area": null,
            "grid_auto_columns": null,
            "grid_auto_flow": null,
            "grid_auto_rows": null,
            "grid_column": null,
            "grid_gap": null,
            "grid_row": null,
            "grid_template_areas": null,
            "grid_template_columns": null,
            "grid_template_rows": null,
            "height": null,
            "justify_content": null,
            "justify_items": null,
            "left": null,
            "margin": null,
            "max_height": null,
            "max_width": null,
            "min_height": null,
            "min_width": null,
            "object_fit": null,
            "object_position": null,
            "order": null,
            "overflow": null,
            "overflow_x": null,
            "overflow_y": null,
            "padding": null,
            "right": null,
            "top": null,
            "visibility": null,
            "width": null
          }
        },
        "b67a96265e5645b8a9f1cde80b739f3c": {
          "model_module": "@jupyter-widgets/base",
          "model_module_version": "1.2.0",
          "model_name": "LayoutModel",
          "state": {
            "_model_module": "@jupyter-widgets/base",
            "_model_module_version": "1.2.0",
            "_model_name": "LayoutModel",
            "_view_count": null,
            "_view_module": "@jupyter-widgets/base",
            "_view_module_version": "1.2.0",
            "_view_name": "LayoutView",
            "align_content": null,
            "align_items": null,
            "align_self": null,
            "border": null,
            "bottom": null,
            "display": null,
            "flex": null,
            "flex_flow": null,
            "grid_area": null,
            "grid_auto_columns": null,
            "grid_auto_flow": null,
            "grid_auto_rows": null,
            "grid_column": null,
            "grid_gap": null,
            "grid_row": null,
            "grid_template_areas": null,
            "grid_template_columns": null,
            "grid_template_rows": null,
            "height": null,
            "justify_content": null,
            "justify_items": null,
            "left": null,
            "margin": null,
            "max_height": null,
            "max_width": null,
            "min_height": null,
            "min_width": null,
            "object_fit": null,
            "object_position": null,
            "order": null,
            "overflow": null,
            "overflow_x": null,
            "overflow_y": null,
            "padding": null,
            "right": null,
            "top": null,
            "visibility": null,
            "width": null
          }
        },
        "bd654cd92beb4d9498fc12698d17546a": {
          "model_module": "@jupyter-widgets/controls",
          "model_module_version": "1.5.0",
          "model_name": "HTMLModel",
          "state": {
            "_dom_classes": [],
            "_model_module": "@jupyter-widgets/controls",
            "_model_module_version": "1.5.0",
            "_model_name": "HTMLModel",
            "_view_count": null,
            "_view_module": "@jupyter-widgets/controls",
            "_view_module_version": "1.5.0",
            "_view_name": "HTMLView",
            "description": "",
            "description_tooltip": null,
            "layout": "IPY_MODEL_02eada3f1277458493317b451e4db113",
            "placeholder": "​",
            "style": "IPY_MODEL_fe481732e38d468b9d9a6b2b5cddb3e8",
            "value": " 2.00k/2.00k [00:00&lt;00:00, 73.0kB/s]"
          }
        },
        "c4318d970d7d47eb998c966b3cf3731e": {
          "model_module": "@jupyter-widgets/controls",
          "model_module_version": "1.5.0",
          "model_name": "HTMLModel",
          "state": {
            "_dom_classes": [],
            "_model_module": "@jupyter-widgets/controls",
            "_model_module_version": "1.5.0",
            "_model_name": "HTMLModel",
            "_view_count": null,
            "_view_module": "@jupyter-widgets/controls",
            "_view_module_version": "1.5.0",
            "_view_name": "HTMLView",
            "description": "",
            "description_tooltip": null,
            "layout": "IPY_MODEL_b67a96265e5645b8a9f1cde80b739f3c",
            "placeholder": "​",
            "style": "IPY_MODEL_e7d399c8433741eba83daca7e34a595f",
            "value": "tf_model.h5: 100%"
          }
        },
        "c4b751ca28f6430bb6837276a822d7ce": {
          "model_module": "@jupyter-widgets/controls",
          "model_module_version": "1.5.0",
          "model_name": "HBoxModel",
          "state": {
            "_dom_classes": [],
            "_model_module": "@jupyter-widgets/controls",
            "_model_module_version": "1.5.0",
            "_model_name": "HBoxModel",
            "_view_count": null,
            "_view_module": "@jupyter-widgets/controls",
            "_view_module_version": "1.5.0",
            "_view_name": "HBoxView",
            "box_style": "",
            "children": [
              "IPY_MODEL_3da5c46e6fc74ae3ab63b5b15328db7a",
              "IPY_MODEL_93ec8d2709234ed8a547554aa72b4eaa",
              "IPY_MODEL_9ccecbcd8a46432c9329d8f9dad98afc"
            ],
            "layout": "IPY_MODEL_4b41ec15226c44ef84de679bb305a605"
          }
        },
        "da33efaffbe34ac7a2beea1073f9f9e0": {
          "model_module": "@jupyter-widgets/controls",
          "model_module_version": "1.5.0",
          "model_name": "DescriptionStyleModel",
          "state": {
            "_model_module": "@jupyter-widgets/controls",
            "_model_module_version": "1.5.0",
            "_model_name": "DescriptionStyleModel",
            "_view_count": null,
            "_view_module": "@jupyter-widgets/base",
            "_view_module_version": "1.2.0",
            "_view_name": "StyleView",
            "description_width": ""
          }
        },
        "dafbec6438fc4402beadd7e1ed324884": {
          "model_module": "@jupyter-widgets/controls",
          "model_module_version": "1.5.0",
          "model_name": "FloatProgressModel",
          "state": {
            "_dom_classes": [],
            "_model_module": "@jupyter-widgets/controls",
            "_model_module_version": "1.5.0",
            "_model_name": "FloatProgressModel",
            "_view_count": null,
            "_view_module": "@jupyter-widgets/controls",
            "_view_module_version": "1.5.0",
            "_view_name": "ProgressView",
            "bar_style": "success",
            "description": "",
            "description_tooltip": null,
            "layout": "IPY_MODEL_a16e91f26a244ca289783b5f5f71357a",
            "max": 346,
            "min": 0,
            "orientation": "horizontal",
            "style": "IPY_MODEL_59901663a76740d69802822600cf58b2",
            "value": 346
          }
        },
        "e2ca9d984883414fa8915ceea1ba58ef": {
          "model_module": "@jupyter-widgets/controls",
          "model_module_version": "1.5.0",
          "model_name": "FloatProgressModel",
          "state": {
            "_dom_classes": [],
            "_model_module": "@jupyter-widgets/controls",
            "_model_module_version": "1.5.0",
            "_model_name": "FloatProgressModel",
            "_view_count": null,
            "_view_module": "@jupyter-widgets/controls",
            "_view_module_version": "1.5.0",
            "_view_name": "ProgressView",
            "bar_style": "success",
            "description": "",
            "description_tooltip": null,
            "layout": "IPY_MODEL_8cc1c836a43846b792a21efe6c045204",
            "max": 469264592,
            "min": 0,
            "orientation": "horizontal",
            "style": "IPY_MODEL_41b42d348c114d479b85b4601e5759a0",
            "value": 469264592
          }
        },
        "e7d399c8433741eba83daca7e34a595f": {
          "model_module": "@jupyter-widgets/controls",
          "model_module_version": "1.5.0",
          "model_name": "DescriptionStyleModel",
          "state": {
            "_model_module": "@jupyter-widgets/controls",
            "_model_module_version": "1.5.0",
            "_model_name": "DescriptionStyleModel",
            "_view_count": null,
            "_view_module": "@jupyter-widgets/base",
            "_view_module_version": "1.2.0",
            "_view_name": "StyleView",
            "description_width": ""
          }
        },
        "eb2970dedb6944b39aafcc7292cd9854": {
          "model_module": "@jupyter-widgets/controls",
          "model_module_version": "1.5.0",
          "model_name": "HTMLModel",
          "state": {
            "_dom_classes": [],
            "_model_module": "@jupyter-widgets/controls",
            "_model_module_version": "1.5.0",
            "_model_name": "HTMLModel",
            "_view_count": null,
            "_view_module": "@jupyter-widgets/controls",
            "_view_module_version": "1.5.0",
            "_view_name": "HTMLView",
            "description": "",
            "description_tooltip": null,
            "layout": "IPY_MODEL_4a927e2ed61a46668457ef3d6fd729a9",
            "placeholder": "​",
            "style": "IPY_MODEL_f74b5e15fc444dd9bbb1742a9ab9bfc1",
            "value": "config.json: 100%"
          }
        },
        "f588d6dba673473d9a6a9b8bdc497229": {
          "model_module": "@jupyter-widgets/base",
          "model_module_version": "1.2.0",
          "model_name": "LayoutModel",
          "state": {
            "_model_module": "@jupyter-widgets/base",
            "_model_module_version": "1.2.0",
            "_model_name": "LayoutModel",
            "_view_count": null,
            "_view_module": "@jupyter-widgets/base",
            "_view_module_version": "1.2.0",
            "_view_name": "LayoutView",
            "align_content": null,
            "align_items": null,
            "align_self": null,
            "border": null,
            "bottom": null,
            "display": null,
            "flex": null,
            "flex_flow": null,
            "grid_area": null,
            "grid_auto_columns": null,
            "grid_auto_flow": null,
            "grid_auto_rows": null,
            "grid_column": null,
            "grid_gap": null,
            "grid_row": null,
            "grid_template_areas": null,
            "grid_template_columns": null,
            "grid_template_rows": null,
            "height": null,
            "justify_content": null,
            "justify_items": null,
            "left": null,
            "margin": null,
            "max_height": null,
            "max_width": null,
            "min_height": null,
            "min_width": null,
            "object_fit": null,
            "object_position": null,
            "order": null,
            "overflow": null,
            "overflow_x": null,
            "overflow_y": null,
            "padding": null,
            "right": null,
            "top": null,
            "visibility": null,
            "width": null
          }
        },
        "f74b5e15fc444dd9bbb1742a9ab9bfc1": {
          "model_module": "@jupyter-widgets/controls",
          "model_module_version": "1.5.0",
          "model_name": "DescriptionStyleModel",
          "state": {
            "_model_module": "@jupyter-widgets/controls",
            "_model_module_version": "1.5.0",
            "_model_name": "DescriptionStyleModel",
            "_view_count": null,
            "_view_module": "@jupyter-widgets/base",
            "_view_module_version": "1.2.0",
            "_view_name": "StyleView",
            "description_width": ""
          }
        },
        "fd5c9e500f2341ec97a534f66f505af9": {
          "model_module": "@jupyter-widgets/controls",
          "model_module_version": "1.5.0",
          "model_name": "FloatProgressModel",
          "state": {
            "_dom_classes": [],
            "_model_module": "@jupyter-widgets/controls",
            "_model_module_version": "1.5.0",
            "_model_name": "FloatProgressModel",
            "_view_count": null,
            "_view_module": "@jupyter-widgets/controls",
            "_view_module_version": "1.5.0",
            "_view_name": "ProgressView",
            "bar_style": "success",
            "description": "",
            "description_tooltip": null,
            "layout": "IPY_MODEL_7a852f5efe1a498f9256654ccc790d0e",
            "max": 1094,
            "min": 0,
            "orientation": "horizontal",
            "style": "IPY_MODEL_a14be4e90cf344da8046e54b630d2994",
            "value": 1094
          }
        },
        "fe481732e38d468b9d9a6b2b5cddb3e8": {
          "model_module": "@jupyter-widgets/controls",
          "model_module_version": "1.5.0",
          "model_name": "DescriptionStyleModel",
          "state": {
            "_model_module": "@jupyter-widgets/controls",
            "_model_module_version": "1.5.0",
            "_model_name": "DescriptionStyleModel",
            "_view_count": null,
            "_view_module": "@jupyter-widgets/base",
            "_view_module_version": "1.2.0",
            "_view_name": "StyleView",
            "description_width": ""
          }
        }
      }
    }
  },
  "nbformat": 4,
  "nbformat_minor": 0
}